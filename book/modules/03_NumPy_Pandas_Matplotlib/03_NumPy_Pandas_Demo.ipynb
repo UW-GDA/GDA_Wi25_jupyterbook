{
 "cells": [
  {
   "cell_type": "markdown",
   "metadata": {},
   "source": [
    "# Demo: NumPy, Pandas\n",
    "UW Geospatial Data Analysis  \n",
    "CEE467/CEWA567  \n",
    "David Shean"
   ]
  },
  {
   "cell_type": "markdown",
   "metadata": {},
   "source": [
    "## Introduction\n",
    "This is a quick demo of some key functionality for these core Python packages, emphasizing topics that will help with lab exercises this week and later in the quarter. It is by no means complete! \n",
    "\n",
    "Please consult the reading assignment and lists of other excellent, more complete online resources."
   ]
  },
  {
   "cell_type": "markdown",
   "metadata": {},
   "source": [
    "## NumPy\n",
    "> NumPy is the fundamental package for scientific computing in Python. It is a Python library that provides a *multidimensional array object*, various derived objects (such as masked arrays and matrices), and an assortment of routines for fast operations on arrays, including mathematical, logical, shape manipulation, sorting, selecting, I/O, discrete Fourier transforms, basic linear algebra, basic statistical operations, random simulation and much more."
   ]
  },
  {
   "cell_type": "markdown",
   "metadata": {},
   "source": [
    "## Pandas\n",
    "> pandas is a fast, powerful, flexible and easy to use open source data analysis and manipulation tool,\n",
    "built on top of the Python programming language. \n",
    "\n",
    "> pandas is a Python package providing fast, flexible, and expressive data structures designed to make working with “relational” or “labeled” data both easy and intuitive. It aims to be the fundamental high-level building block for doing practical, real-world data analysis in Python. Additionally, it has the broader goal of becoming the most powerful and flexible open source data analysis/manipulation tool available in any language. It is already well on its way toward this goal."
   ]
  },
  {
   "cell_type": "markdown",
   "metadata": {},
   "source": [
    "## Matplotlib\n",
    ">Matplotlib is a comprehensive library for creating static, animated, and interactive visualizations in Python.\n",
    "\n",
    ">Matplotlib is a Python 2D plotting library which produces publication quality figures in a variety of hardcopy formats and interactive environments across platforms. Matplotlib can be used in Python scripts, the Python and IPython shells, the Jupyter notebook, web application servers, and four graphical user interface toolkits.\n",
    "\n",
    ">Matplotlib tries to make easy things easy and hard things possible. You can generate plots, histograms, power spectra, bar charts, errorcharts, scatterplots, etc., with just a few lines of code. For examples, see the sample plots and thumbnail gallery.\n",
    "\n",
    ">For simple plotting the pyplot module provides a MATLAB-like interface, particularly when combined with IPython. For the power user, you have full control of line styles, font properties, axes properties, etc, via an object oriented interface or via a set of functions familiar to MATLAB users."
   ]
  },
  {
   "cell_type": "markdown",
   "metadata": {},
   "source": [
    "## Import necessary modules\n",
    "* Use shorthand, so you don't have to type out full module name each time\n",
    "* Note different structure for matplotlib package"
   ]
  },
  {
   "cell_type": "code",
   "execution_count": 1,
   "metadata": {},
   "outputs": [],
   "source": [
    "import numpy as np\n",
    "import pandas as pd\n",
    "import matplotlib.pyplot as plt"
   ]
  },
  {
   "cell_type": "markdown",
   "metadata": {},
   "source": [
    "## NumPy 1D array"
   ]
  },
  {
   "cell_type": "code",
   "execution_count": 2,
   "metadata": {},
   "outputs": [
    {
     "data": {
      "text/plain": [
       "array([3, 9, 4, 6, 5, 4, 4, 3, 9, 1])"
      ]
     },
     "execution_count": 2,
     "metadata": {},
     "output_type": "execute_result"
    }
   ],
   "source": [
    "#Create 1D array of random integers\n",
    "#Note parenthesis and brackets\n",
    "a = np.random.randint(0,10,10)\n",
    "a"
   ]
  },
  {
   "cell_type": "code",
   "execution_count": 3,
   "metadata": {},
   "outputs": [
    {
     "data": {
      "text/plain": [
       "numpy.ndarray"
      ]
     },
     "execution_count": 3,
     "metadata": {},
     "output_type": "execute_result"
    }
   ],
   "source": [
    "type(a)"
   ]
  },
  {
   "cell_type": "code",
   "execution_count": 4,
   "metadata": {},
   "outputs": [],
   "source": [
    "#np.ndarray?"
   ]
  },
  {
   "cell_type": "markdown",
   "metadata": {},
   "source": [
    "## Constructing an array"
   ]
  },
  {
   "cell_type": "code",
   "execution_count": 5,
   "metadata": {},
   "outputs": [],
   "source": [
    "#np.array?"
   ]
  },
  {
   "cell_type": "code",
   "execution_count": 6,
   "metadata": {},
   "outputs": [
    {
     "ename": "TypeError",
     "evalue": "array() takes from 1 to 2 positional arguments but 3 were given",
     "output_type": "error",
     "traceback": [
      "\u001b[0;31m---------------------------------------------------------------------------\u001b[0m",
      "\u001b[0;31mTypeError\u001b[0m                                 Traceback (most recent call last)",
      "\u001b[0;32m/tmp/ipykernel_512/449188611.py\u001b[0m in \u001b[0;36m<module>\u001b[0;34m\u001b[0m\n\u001b[0;32m----> 1\u001b[0;31m \u001b[0mnp\u001b[0m\u001b[0;34m.\u001b[0m\u001b[0marray\u001b[0m\u001b[0;34m(\u001b[0m\u001b[0;36m0\u001b[0m\u001b[0;34m,\u001b[0m \u001b[0;36m1\u001b[0m\u001b[0;34m,\u001b[0m \u001b[0;36m2\u001b[0m\u001b[0;34m)\u001b[0m\u001b[0;34m\u001b[0m\u001b[0;34m\u001b[0m\u001b[0m\n\u001b[0m",
      "\u001b[0;31mTypeError\u001b[0m: array() takes from 1 to 2 positional arguments but 3 were given"
     ]
    }
   ],
   "source": [
    "np.array(0, 1, 2)"
   ]
  },
  {
   "cell_type": "code",
   "execution_count": 7,
   "metadata": {},
   "outputs": [
    {
     "data": {
      "text/plain": [
       "array([0, 1, 2])"
      ]
     },
     "execution_count": 7,
     "metadata": {},
     "output_type": "execute_result"
    }
   ],
   "source": [
    "#Pass in an array-like object - need brackets around the numbers\n",
    "np.array([0, 1, 2])"
   ]
  },
  {
   "cell_type": "code",
   "execution_count": 8,
   "metadata": {},
   "outputs": [
    {
     "data": {
      "text/plain": [
       "array([0, 1, 2])"
      ]
     },
     "execution_count": 8,
     "metadata": {},
     "output_type": "execute_result"
    }
   ],
   "source": [
    "mylist = [0, 1, 2]\n",
    "np.array(mylist)"
   ]
  },
  {
   "cell_type": "markdown",
   "metadata": {},
   "source": [
    "## Array properties and datatypes"
   ]
  },
  {
   "cell_type": "code",
   "execution_count": 9,
   "metadata": {},
   "outputs": [
    {
     "data": {
      "text/plain": [
       "array([3, 9, 4, 6, 5, 4, 4, 3, 9, 1])"
      ]
     },
     "execution_count": 9,
     "metadata": {},
     "output_type": "execute_result"
    }
   ],
   "source": [
    "a"
   ]
  },
  {
   "cell_type": "code",
   "execution_count": 10,
   "metadata": {},
   "outputs": [
    {
     "data": {
      "text/plain": [
       "(10,)"
      ]
     },
     "execution_count": 10,
     "metadata": {},
     "output_type": "execute_result"
    }
   ],
   "source": [
    "a.shape"
   ]
  },
  {
   "cell_type": "code",
   "execution_count": 11,
   "metadata": {},
   "outputs": [
    {
     "data": {
      "text/plain": [
       "10"
      ]
     },
     "execution_count": 11,
     "metadata": {},
     "output_type": "execute_result"
    }
   ],
   "source": [
    "a.size"
   ]
  },
  {
   "cell_type": "code",
   "execution_count": 12,
   "metadata": {},
   "outputs": [
    {
     "data": {
      "text/plain": [
       "dtype('int64')"
      ]
     },
     "execution_count": 12,
     "metadata": {},
     "output_type": "execute_result"
    }
   ],
   "source": [
    "a.dtype"
   ]
  },
  {
   "cell_type": "markdown",
   "metadata": {},
   "source": [
    "### What is 'int64'?\n",
    "* Signed integer represented by 64 bits\n",
    "* Each bit can be 0 or 1\n",
    "* 0 = 0000000000000000000000000000000000000000000000000000000000000000\n",
    "* 1 = 0000000000000000000000000000000000000000000000000000000000000001\n",
    "* 2 = 0000000000000000000000000000000000000000000000000000000000000010\n",
    "* ...\n",
    "* https://numpy.org/doc/stable/user/basics.types.html"
   ]
  },
  {
   "cell_type": "code",
   "execution_count": 13,
   "metadata": {},
   "outputs": [
    {
     "data": {
      "text/plain": [
       "18446744073709551616"
      ]
     },
     "execution_count": 13,
     "metadata": {},
     "output_type": "execute_result"
    }
   ],
   "source": [
    "#Possible unique combinations of 64 bits\n",
    "range = 2**64\n",
    "range"
   ]
  },
  {
   "cell_type": "code",
   "execution_count": 14,
   "metadata": {},
   "outputs": [
    {
     "name": "stdout",
     "output_type": "stream",
     "text": [
      "1.84e+19\n"
     ]
    }
   ],
   "source": [
    "print(f\"{range:.2e}\")"
   ]
  },
  {
   "cell_type": "code",
   "execution_count": 15,
   "metadata": {},
   "outputs": [
    {
     "data": {
      "text/plain": [
       "9223372036854775808"
      ]
     },
     "execution_count": 15,
     "metadata": {},
     "output_type": "execute_result"
    }
   ],
   "source": [
    "mm = int((2**64)/2)\n",
    "mm"
   ]
  },
  {
   "cell_type": "code",
   "execution_count": 16,
   "metadata": {},
   "outputs": [
    {
     "data": {
      "text/plain": [
       "'A 64-bit signed integer can store values between -9223372036854775808 and +9223372036854775808'"
      ]
     },
     "execution_count": 16,
     "metadata": {},
     "output_type": "execute_result"
    }
   ],
   "source": [
    "f'A 64-bit signed integer can store values between -{mm} and +{mm}'"
   ]
  },
  {
   "cell_type": "code",
   "execution_count": 17,
   "metadata": {},
   "outputs": [
    {
     "data": {
      "text/plain": [
       "array([3, 9, 4, 6, 5, 4, 4, 3, 9, 1])"
      ]
     },
     "execution_count": 17,
     "metadata": {},
     "output_type": "execute_result"
    }
   ],
   "source": [
    "# Overkill for our single integer values\n",
    "a"
   ]
  },
  {
   "cell_type": "code",
   "execution_count": 18,
   "metadata": {},
   "outputs": [
    {
     "data": {
      "text/plain": [
       "8"
      ]
     },
     "execution_count": 18,
     "metadata": {},
     "output_type": "execute_result"
    }
   ],
   "source": [
    "#Number of bytes (8 bits each) for each element in the array\n",
    "a.itemsize"
   ]
  },
  {
   "cell_type": "code",
   "execution_count": 19,
   "metadata": {},
   "outputs": [
    {
     "data": {
      "text/plain": [
       "80"
      ]
     },
     "execution_count": 19,
     "metadata": {},
     "output_type": "execute_result"
    }
   ],
   "source": [
    "#Total number of bytes for 10 elements\n",
    "a.nbytes"
   ]
  },
  {
   "cell_type": "code",
   "execution_count": 20,
   "metadata": {},
   "outputs": [
    {
     "data": {
      "text/plain": [
       "array([3, 9, 4, 6, 5, 4, 4, 3, 9, 1], dtype=uint8)"
      ]
     },
     "execution_count": 20,
     "metadata": {},
     "output_type": "execute_result"
    }
   ],
   "source": [
    "# Recast to 8-bit unsigned integer (valid range: 0-255)\n",
    "b = a.astype('uint8')\n",
    "b"
   ]
  },
  {
   "cell_type": "code",
   "execution_count": 21,
   "metadata": {},
   "outputs": [
    {
     "data": {
      "text/plain": [
       "dtype('uint8')"
      ]
     },
     "execution_count": 21,
     "metadata": {},
     "output_type": "execute_result"
    }
   ],
   "source": [
    "b.dtype"
   ]
  },
  {
   "cell_type": "code",
   "execution_count": 22,
   "metadata": {},
   "outputs": [
    {
     "data": {
      "text/plain": [
       "256"
      ]
     },
     "execution_count": 22,
     "metadata": {},
     "output_type": "execute_result"
    }
   ],
   "source": [
    "2**8"
   ]
  },
  {
   "cell_type": "code",
   "execution_count": 23,
   "metadata": {},
   "outputs": [
    {
     "data": {
      "text/plain": [
       "array([3, 9, 4, 6, 5, 4, 4, 3, 9, 1], dtype=uint8)"
      ]
     },
     "execution_count": 23,
     "metadata": {},
     "output_type": "execute_result"
    }
   ],
   "source": [
    "b"
   ]
  },
  {
   "cell_type": "code",
   "execution_count": 24,
   "metadata": {},
   "outputs": [
    {
     "data": {
      "text/plain": [
       "10"
      ]
     },
     "execution_count": 24,
     "metadata": {},
     "output_type": "execute_result"
    }
   ],
   "source": [
    "b.nbytes"
   ]
  },
  {
   "cell_type": "code",
   "execution_count": 25,
   "metadata": {},
   "outputs": [
    {
     "data": {
      "text/plain": [
       "array([255,   9,   4,   6,   5,   4,   4,   3,   9,   1], dtype=uint8)"
      ]
     },
     "execution_count": 25,
     "metadata": {},
     "output_type": "execute_result"
    }
   ],
   "source": [
    "#Assign value within valid range\n",
    "b[0] = 255\n",
    "b"
   ]
  },
  {
   "cell_type": "code",
   "execution_count": 26,
   "metadata": {},
   "outputs": [
    {
     "data": {
      "text/plain": [
       "array([1, 9, 4, 6, 5, 4, 4, 3, 9, 1], dtype=uint8)"
      ]
     },
     "execution_count": 26,
     "metadata": {},
     "output_type": "execute_result"
    }
   ],
   "source": [
    "#Assign value outside of valid range - overlflow!\n",
    "# https://en.wikipedia.org/wiki/Integer_overflow\n",
    "b[0] = 257\n",
    "b"
   ]
  },
  {
   "cell_type": "markdown",
   "metadata": {},
   "source": [
    "## 2D arrays"
   ]
  },
  {
   "cell_type": "code",
   "execution_count": 27,
   "metadata": {},
   "outputs": [],
   "source": [
    "a2 = np.random.random((10,10))"
   ]
  },
  {
   "cell_type": "code",
   "execution_count": 28,
   "metadata": {},
   "outputs": [
    {
     "data": {
      "text/plain": [
       "array([[0.52652326, 0.14231249, 0.07566598, 0.59790843, 0.70154418,\n",
       "        0.52064036, 0.00837979, 0.11927175, 0.13957386, 0.2459467 ],\n",
       "       [0.6461288 , 0.15507331, 0.90511239, 0.80794971, 0.53618462,\n",
       "        0.5585833 , 0.37523991, 0.13770533, 0.22708269, 0.79929664],\n",
       "       [0.32809269, 0.08102169, 0.80168028, 0.2397003 , 0.33923008,\n",
       "        0.6039445 , 0.06581277, 0.43881912, 0.13918295, 0.81991938],\n",
       "       [0.54214022, 0.12926722, 0.67341643, 0.97417468, 0.0349868 ,\n",
       "        0.87610442, 0.24762983, 0.0228108 , 0.5683135 , 0.51484197],\n",
       "       [0.66986602, 0.12030778, 0.43275939, 0.0487702 , 0.08680747,\n",
       "        0.77752797, 0.42610501, 0.58918494, 0.24729525, 0.59084971],\n",
       "       [0.85876637, 0.89397025, 0.96531165, 0.59977053, 0.00839696,\n",
       "        0.93101856, 0.87715167, 0.79625335, 0.83850491, 0.10052971],\n",
       "       [0.67171947, 0.35401307, 0.74514409, 0.16502892, 0.30921615,\n",
       "        0.81304308, 0.074765  , 0.08685205, 0.31914575, 0.23735222],\n",
       "       [0.47789035, 0.74734751, 0.26285763, 0.59484722, 0.7155864 ,\n",
       "        0.59474681, 0.47150914, 0.03452718, 0.72332275, 0.47028776],\n",
       "       [0.02877749, 0.83078924, 0.31289166, 0.30402027, 0.12422959,\n",
       "        0.5741902 , 0.45545665, 0.8212274 , 0.76181614, 0.108464  ],\n",
       "       [0.96086507, 0.83894286, 0.84632944, 0.26903294, 0.14547441,\n",
       "        0.75889114, 0.28676771, 0.36896895, 0.37812949, 0.78041529]])"
      ]
     },
     "execution_count": 28,
     "metadata": {},
     "output_type": "execute_result"
    }
   ],
   "source": [
    "a2"
   ]
  },
  {
   "cell_type": "code",
   "execution_count": 29,
   "metadata": {},
   "outputs": [
    {
     "data": {
      "text/plain": [
       "(10, 10)"
      ]
     },
     "execution_count": 29,
     "metadata": {},
     "output_type": "execute_result"
    }
   ],
   "source": [
    "a2.shape"
   ]
  },
  {
   "cell_type": "code",
   "execution_count": 30,
   "metadata": {},
   "outputs": [
    {
     "data": {
      "text/plain": [
       "100"
      ]
     },
     "execution_count": 30,
     "metadata": {},
     "output_type": "execute_result"
    }
   ],
   "source": [
    "a2.size"
   ]
  },
  {
   "cell_type": "code",
   "execution_count": 31,
   "metadata": {},
   "outputs": [
    {
     "data": {
      "text/plain": [
       "dtype('float64')"
      ]
     },
     "execution_count": 31,
     "metadata": {},
     "output_type": "execute_result"
    }
   ],
   "source": [
    "a2.dtype"
   ]
  },
  {
   "cell_type": "code",
   "execution_count": 32,
   "metadata": {},
   "outputs": [
    {
     "data": {
      "text/plain": [
       "array([0.52652326, 0.14231249, 0.07566598, 0.59790843, 0.70154418,\n",
       "       0.52064036, 0.00837979, 0.11927175, 0.13957386, 0.2459467 ])"
      ]
     },
     "execution_count": 32,
     "metadata": {},
     "output_type": "execute_result"
    }
   ],
   "source": [
    "#Get first element along first axis\n",
    "#Question is this first row or col?\n",
    "a2[0]"
   ]
  },
  {
   "cell_type": "code",
   "execution_count": 33,
   "metadata": {},
   "outputs": [
    {
     "data": {
      "text/plain": [
       "array([0.52652326, 0.6461288 , 0.32809269, 0.54214022, 0.66986602,\n",
       "       0.85876637, 0.67171947, 0.47789035, 0.02877749, 0.96086507])"
      ]
     },
     "execution_count": 33,
     "metadata": {},
     "output_type": "execute_result"
    }
   ],
   "source": [
    "#Get first element along second axis\n",
    "a2[:,0]"
   ]
  },
  {
   "cell_type": "code",
   "execution_count": 34,
   "metadata": {},
   "outputs": [
    {
     "data": {
      "text/plain": [
       "0.5265232608453788"
      ]
     },
     "execution_count": 34,
     "metadata": {},
     "output_type": "execute_result"
    }
   ],
   "source": [
    "#Get first element along both axes\n",
    "a2[0,0]"
   ]
  },
  {
   "cell_type": "code",
   "execution_count": 35,
   "metadata": {},
   "outputs": [
    {
     "data": {
      "text/plain": [
       "array([[0.52652326, 0.14231249, 0.07566598, 0.59790843, 0.70154418,\n",
       "        0.52064036, 0.00837979, 0.11927175, 0.13957386, 0.2459467 ],\n",
       "       [0.6461288 , 0.15507331, 0.90511239, 0.80794971, 0.53618462,\n",
       "        0.5585833 , 0.37523991, 0.13770533, 0.22708269, 0.79929664],\n",
       "       [0.32809269, 0.08102169, 0.80168028, 0.2397003 , 0.33923008,\n",
       "        0.6039445 , 0.06581277, 0.43881912, 0.13918295, 0.81991938]])"
      ]
     },
     "execution_count": 35,
     "metadata": {},
     "output_type": "execute_result"
    }
   ],
   "source": [
    "#Get slice along first axis - first 3 rows\n",
    "a2[0:3]"
   ]
  },
  {
   "cell_type": "code",
   "execution_count": 36,
   "metadata": {},
   "outputs": [
    {
     "data": {
      "text/plain": [
       "array([[0.52652326, 0.14231249, 0.07566598],\n",
       "       [0.6461288 , 0.15507331, 0.90511239],\n",
       "       [0.32809269, 0.08102169, 0.80168028],\n",
       "       [0.54214022, 0.12926722, 0.67341643],\n",
       "       [0.66986602, 0.12030778, 0.43275939],\n",
       "       [0.85876637, 0.89397025, 0.96531165],\n",
       "       [0.67171947, 0.35401307, 0.74514409],\n",
       "       [0.47789035, 0.74734751, 0.26285763],\n",
       "       [0.02877749, 0.83078924, 0.31289166],\n",
       "       [0.96086507, 0.83894286, 0.84632944]])"
      ]
     },
     "execution_count": 36,
     "metadata": {},
     "output_type": "execute_result"
    }
   ],
   "source": [
    "#Slice along second axis - first 3 cols\n",
    "a2[:,0:3]"
   ]
  },
  {
   "cell_type": "code",
   "execution_count": 37,
   "metadata": {},
   "outputs": [
    {
     "data": {
      "text/plain": [
       "array([[0.52652326, 0.14231249, 0.07566598],\n",
       "       [0.6461288 , 0.15507331, 0.90511239],\n",
       "       [0.32809269, 0.08102169, 0.80168028]])"
      ]
     },
     "execution_count": 37,
     "metadata": {},
     "output_type": "execute_result"
    }
   ],
   "source": [
    "a2[0:3,0:3]"
   ]
  },
  {
   "cell_type": "markdown",
   "metadata": {},
   "source": [
    "## ufunc\n",
    "* Efficiently perform operation element-by-element in \"vectorized\" fashion (different than GIS vector dataset)\n",
    "* **Do not loop over arrays** (unless absolutely necessary)\n",
    "* https://numpy.org/doc/stable/reference/ufuncs.html"
   ]
  },
  {
   "cell_type": "code",
   "execution_count": 38,
   "metadata": {},
   "outputs": [
    {
     "data": {
      "text/plain": [
       "array([[5.26523261, 1.42312486, 0.75665984, 5.97908434, 7.01544181,\n",
       "        5.20640363, 0.08379791, 1.19271753, 1.39573862, 2.459467  ],\n",
       "       [6.46128797, 1.55073312, 9.05112389, 8.07949708, 5.36184615,\n",
       "        5.58583304, 3.75239908, 1.37705329, 2.27082693, 7.99296637],\n",
       "       [3.28092688, 0.8102169 , 8.01680285, 2.39700296, 3.39230084,\n",
       "        6.03944497, 0.65812771, 4.38819125, 1.3918295 , 8.19919379],\n",
       "       [5.42140219, 1.2926722 , 6.73416434, 9.74174681, 0.34986796,\n",
       "        8.76104416, 2.47629829, 0.228108  , 5.68313498, 5.14841969],\n",
       "       [6.69866023, 1.2030778 , 4.3275939 , 0.48770196, 0.86807469,\n",
       "        7.77527967, 4.26105014, 5.89184939, 2.47295249, 5.90849707],\n",
       "       [8.58766372, 8.93970246, 9.65311645, 5.99770527, 0.08396962,\n",
       "        9.31018559, 8.77151667, 7.96253349, 8.38504906, 1.00529706],\n",
       "       [6.7171947 , 3.54013069, 7.45144089, 1.65028921, 3.09216152,\n",
       "        8.13043078, 0.74765   , 0.86852048, 3.1914575 , 2.3735222 ],\n",
       "       [4.77890351, 7.47347509, 2.62857634, 5.94847221, 7.15586397,\n",
       "        5.94746812, 4.71509138, 0.34527179, 7.23322755, 4.70287758],\n",
       "       [0.28777487, 8.30789238, 3.1289166 , 3.04020265, 1.24229588,\n",
       "        5.741902  , 4.5545665 , 8.21227395, 7.61816135, 1.08463997],\n",
       "       [9.60865071, 8.38942857, 8.46329441, 2.69032942, 1.45474407,\n",
       "        7.58891143, 2.86767713, 3.6896895 , 3.78129487, 7.80415291]])"
      ]
     },
     "execution_count": 38,
     "metadata": {},
     "output_type": "execute_result"
    }
   ],
   "source": [
    "a2 * 10"
   ]
  },
  {
   "cell_type": "code",
   "execution_count": 39,
   "metadata": {},
   "outputs": [],
   "source": [
    "# Don't do this!\n",
    "#for n, i in enumerate(a2):\n",
    "#    a2[n] = i + 10"
   ]
  },
  {
   "cell_type": "code",
   "execution_count": 40,
   "metadata": {},
   "outputs": [
    {
     "data": {
      "text/plain": [
       "array([[2.77226744e-01, 2.02528438e-02, 5.72534107e-03, 3.57494495e-01,\n",
       "        4.92164238e-01, 2.71066388e-01, 7.02209035e-05, 1.42257512e-02,\n",
       "        1.94808630e-02, 6.04897792e-02],\n",
       "       [4.17482422e-01, 2.40477320e-02, 8.19228437e-01, 6.52782731e-01,\n",
       "        2.87493942e-01, 3.12015307e-01, 1.40804989e-01, 1.89627575e-02,\n",
       "        5.15665493e-02, 6.38875114e-01],\n",
       "       [1.07644812e-01, 6.56451420e-03, 6.42691279e-01, 5.74562317e-02,\n",
       "        1.15077050e-01, 3.64748955e-01, 4.33132086e-03, 1.92562224e-01,\n",
       "        1.93718936e-02, 6.72267787e-01],\n",
       "       [2.93916017e-01, 1.67100142e-02, 4.53489693e-01, 9.49016309e-01,\n",
       "        1.22407590e-03, 7.67558948e-01, 6.13205320e-02, 5.20332575e-04,\n",
       "        3.22980232e-01, 2.65062253e-01],\n",
       "       [4.48720489e-01, 1.44739619e-02, 1.87280690e-01, 2.37853201e-03,\n",
       "        7.53553662e-03, 6.04549740e-01, 1.81565483e-01, 3.47138893e-01,\n",
       "        6.11549402e-02, 3.49103376e-01],\n",
       "       [7.37479681e-01, 7.99182800e-01, 9.31826572e-01, 3.59724685e-01,\n",
       "        7.05089649e-05, 8.66795558e-01, 7.69395047e-01, 6.34019395e-01,\n",
       "        7.03090478e-01, 1.01062218e-02],\n",
       "       [4.51207047e-01, 1.25325253e-01, 5.55239714e-01, 2.72345449e-02,\n",
       "        9.56146285e-02, 6.61039047e-01, 5.58980528e-03, 7.54327828e-03,\n",
       "        1.01854010e-01, 5.63360766e-02],\n",
       "       [2.28379187e-01, 5.58528300e-01, 6.90941356e-02, 3.53843216e-01,\n",
       "        5.12063892e-01, 3.53723770e-01, 2.22320868e-01, 1.19212608e-03,\n",
       "        5.23195808e-01, 2.21170575e-01],\n",
       "       [8.28143736e-04, 6.90210757e-01, 9.79011906e-02, 9.24283216e-02,\n",
       "        1.54329906e-02, 3.29694386e-01, 2.07440760e-01, 6.74414434e-01,\n",
       "        5.80363824e-01, 1.17644387e-02],\n",
       "       [9.23261684e-01, 7.03825118e-01, 7.16273522e-01, 7.23787240e-02,\n",
       "        2.11628030e-02, 5.75915767e-01, 8.22357214e-02, 1.36138086e-01,\n",
       "        1.42981909e-01, 6.09048026e-01]])"
      ]
     },
     "execution_count": 40,
     "metadata": {},
     "output_type": "execute_result"
    }
   ],
   "source": [
    "#np.power(a2, 2)\n",
    "a2**2"
   ]
  },
  {
   "cell_type": "code",
   "execution_count": 41,
   "metadata": {},
   "outputs": [
    {
     "data": {
      "text/plain": [
       "array([[0.72561923, 0.37724327, 0.27507451, 0.77324539, 0.83758234,\n",
       "        0.72155413, 0.0915412 , 0.34535743, 0.37359585, 0.49593014],\n",
       "       [0.80382137, 0.39379349, 0.95137395, 0.89886023, 0.73224628,\n",
       "        0.74738431, 0.61256829, 0.37108669, 0.47653194, 0.89403391],\n",
       "       [0.57279376, 0.28464309, 0.89536601, 0.48959197, 0.58243462,\n",
       "        0.77713866, 0.25654   , 0.66243424, 0.37307231, 0.905494  ],\n",
       "       [0.73630172, 0.35953751, 0.82061954, 0.98700288, 0.18704758,\n",
       "        0.9360045 , 0.49762418, 0.15103245, 0.7538657 , 0.71752489],\n",
       "       [0.81845343, 0.34685412, 0.6578445 , 0.22083975, 0.29463107,\n",
       "        0.88177546, 0.6527672 , 0.76758383, 0.49728789, 0.76866749],\n",
       "       [0.92669648, 0.9455    , 0.98250275, 0.77444853, 0.09163494,\n",
       "        0.96489303, 0.93656375, 0.89233029, 0.91569914, 0.3170642 ],\n",
       "       [0.81958494, 0.59498997, 0.86321729, 0.40623752, 0.55607207,\n",
       "        0.90168901, 0.27343189, 0.29470672, 0.56492986, 0.48718808],\n",
       "       [0.69129614, 0.86449263, 0.51269643, 0.77126339, 0.8459234 ,\n",
       "        0.7711983 , 0.68666523, 0.1858149 , 0.85048384, 0.6857753 ],\n",
       "       [0.16963928, 0.91147641, 0.5593672 , 0.55138033, 0.35246218,\n",
       "        0.75775339, 0.67487528, 0.90621598, 0.87282079, 0.32933873],\n",
       "       [0.98023725, 0.91593824, 0.91996165, 0.51868386, 0.38141107,\n",
       "        0.87114358, 0.53550697, 0.60742814, 0.61492234, 0.88341117]])"
      ]
     },
     "execution_count": 41,
     "metadata": {},
     "output_type": "execute_result"
    }
   ],
   "source": [
    "#a2**0.5\n",
    "np.sqrt(a2)"
   ]
  },
  {
   "cell_type": "markdown",
   "metadata": {},
   "source": [
    "## Built-in functions\n",
    "* Operate over entire array, specified axes, or slice\n",
    "* Very fast/efficient"
   ]
  },
  {
   "cell_type": "code",
   "execution_count": 42,
   "metadata": {},
   "outputs": [
    {
     "data": {
      "text/plain": [
       "0.46351243272781467"
      ]
     },
     "execution_count": 42,
     "metadata": {},
     "output_type": "execute_result"
    }
   ],
   "source": [
    "a2.mean()"
   ]
  },
  {
   "cell_type": "code",
   "execution_count": 43,
   "metadata": {},
   "outputs": [
    {
     "data": {
      "text/plain": [
       "0.2922564296409726"
      ]
     },
     "execution_count": 43,
     "metadata": {},
     "output_type": "execute_result"
    }
   ],
   "source": [
    "a2.std()"
   ]
  },
  {
   "cell_type": "code",
   "execution_count": 44,
   "metadata": {},
   "outputs": [
    {
     "data": {
      "text/plain": [
       "0.008379791373509304"
      ]
     },
     "execution_count": 44,
     "metadata": {},
     "output_type": "execute_result"
    }
   ],
   "source": [
    "a2.min()"
   ]
  },
  {
   "cell_type": "code",
   "execution_count": 45,
   "metadata": {},
   "outputs": [
    {
     "data": {
      "text/plain": [
       "array([[0.52652326, 0.14231249, 0.07566598, 0.59790843, 0.70154418,\n",
       "        0.52064036, 0.00837979, 0.11927175, 0.13957386, 0.2459467 ],\n",
       "       [0.6461288 , 0.15507331, 0.90511239, 0.80794971, 0.53618462,\n",
       "        0.5585833 , 0.37523991, 0.13770533, 0.22708269, 0.79929664],\n",
       "       [0.32809269, 0.08102169, 0.80168028, 0.2397003 , 0.33923008,\n",
       "        0.6039445 , 0.06581277, 0.43881912, 0.13918295, 0.81991938],\n",
       "       [0.54214022, 0.12926722, 0.67341643, 0.97417468, 0.0349868 ,\n",
       "        0.87610442, 0.24762983, 0.0228108 , 0.5683135 , 0.51484197],\n",
       "       [0.66986602, 0.12030778, 0.43275939, 0.0487702 , 0.08680747,\n",
       "        0.77752797, 0.42610501, 0.58918494, 0.24729525, 0.59084971],\n",
       "       [0.85876637, 0.89397025, 0.96531165, 0.59977053, 0.00839696,\n",
       "        0.93101856, 0.87715167, 0.79625335, 0.83850491, 0.10052971],\n",
       "       [0.67171947, 0.35401307, 0.74514409, 0.16502892, 0.30921615,\n",
       "        0.81304308, 0.074765  , 0.08685205, 0.31914575, 0.23735222],\n",
       "       [0.47789035, 0.74734751, 0.26285763, 0.59484722, 0.7155864 ,\n",
       "        0.59474681, 0.47150914, 0.03452718, 0.72332275, 0.47028776],\n",
       "       [0.02877749, 0.83078924, 0.31289166, 0.30402027, 0.12422959,\n",
       "        0.5741902 , 0.45545665, 0.8212274 , 0.76181614, 0.108464  ],\n",
       "       [0.96086507, 0.83894286, 0.84632944, 0.26903294, 0.14547441,\n",
       "        0.75889114, 0.28676771, 0.36896895, 0.37812949, 0.78041529]])"
      ]
     },
     "execution_count": 45,
     "metadata": {},
     "output_type": "execute_result"
    }
   ],
   "source": [
    "a2"
   ]
  },
  {
   "cell_type": "markdown",
   "metadata": {},
   "source": [
    "### Note on axis order\n",
    "* When indexing, first axis (0) will extract rows, second axis (1) will extract cols\n",
    "* When aggregating (e.g., computing mean along an axis), you are specifing the dimension of the array that will be collapsed, not the dimension that will be returned\n",
    "    * So axis=0 will aggregate values across all rows for each column in a 2D array"
   ]
  },
  {
   "cell_type": "code",
   "execution_count": 46,
   "metadata": {},
   "outputs": [
    {
     "data": {
      "text/plain": [
       "array([[0.52652326, 0.14231249, 0.07566598],\n",
       "       [0.6461288 , 0.15507331, 0.90511239],\n",
       "       [0.32809269, 0.08102169, 0.80168028]])"
      ]
     },
     "execution_count": 46,
     "metadata": {},
     "output_type": "execute_result"
    }
   ],
   "source": [
    "a2[0:3,0:3]"
   ]
  },
  {
   "cell_type": "code",
   "execution_count": 47,
   "metadata": {},
   "outputs": [
    {
     "data": {
      "text/plain": [
       "array([0.32809269, 0.08102169, 0.07566598])"
      ]
     },
     "execution_count": 47,
     "metadata": {},
     "output_type": "execute_result"
    }
   ],
   "source": [
    "a2[0:3,0:3].min(axis=0)"
   ]
  },
  {
   "cell_type": "code",
   "execution_count": 48,
   "metadata": {},
   "outputs": [
    {
     "data": {
      "text/plain": [
       "array([0.07566598, 0.15507331, 0.08102169])"
      ]
     },
     "execution_count": 48,
     "metadata": {},
     "output_type": "execute_result"
    }
   ],
   "source": [
    "a2[0:3,0:3].min(axis=1)"
   ]
  },
  {
   "cell_type": "markdown",
   "metadata": {},
   "source": [
    "## Basic array plotting and visualization"
   ]
  },
  {
   "cell_type": "code",
   "execution_count": 49,
   "metadata": {},
   "outputs": [
    {
     "data": {
      "text/plain": [
       "array([3, 9, 4, 6, 5, 4, 4, 3, 9, 1])"
      ]
     },
     "execution_count": 49,
     "metadata": {},
     "output_type": "execute_result"
    }
   ],
   "source": [
    "a"
   ]
  },
  {
   "cell_type": "code",
   "execution_count": 50,
   "metadata": {},
   "outputs": [
    {
     "data": {
      "text/plain": [
       "[<matplotlib.lines.Line2D at 0x7f7d7cd5f160>]"
      ]
     },
     "execution_count": 50,
     "metadata": {},
     "output_type": "execute_result"
    },
    {
     "data": {
      "image/png": "[encoded data removed]",
      "text/plain": [
       "<Figure size 432x288 with 1 Axes>"
      ]
     },
     "metadata": {
      "needs_background": "light"
     },
     "output_type": "display_data"
    }
   ],
   "source": [
    "plt.plot(a)"
   ]
  },
  {
   "cell_type": "code",
   "execution_count": 51,
   "metadata": {},
   "outputs": [
    {
     "data": {
      "text/plain": [
       "array([[0.52652326, 0.14231249, 0.07566598, 0.59790843, 0.70154418,\n",
       "        0.52064036, 0.00837979, 0.11927175, 0.13957386, 0.2459467 ],\n",
       "       [0.6461288 , 0.15507331, 0.90511239, 0.80794971, 0.53618462,\n",
       "        0.5585833 , 0.37523991, 0.13770533, 0.22708269, 0.79929664],\n",
       "       [0.32809269, 0.08102169, 0.80168028, 0.2397003 , 0.33923008,\n",
       "        0.6039445 , 0.06581277, 0.43881912, 0.13918295, 0.81991938],\n",
       "       [0.54214022, 0.12926722, 0.67341643, 0.97417468, 0.0349868 ,\n",
       "        0.87610442, 0.24762983, 0.0228108 , 0.5683135 , 0.51484197],\n",
       "       [0.66986602, 0.12030778, 0.43275939, 0.0487702 , 0.08680747,\n",
       "        0.77752797, 0.42610501, 0.58918494, 0.24729525, 0.59084971],\n",
       "       [0.85876637, 0.89397025, 0.96531165, 0.59977053, 0.00839696,\n",
       "        0.93101856, 0.87715167, 0.79625335, 0.83850491, 0.10052971],\n",
       "       [0.67171947, 0.35401307, 0.74514409, 0.16502892, 0.30921615,\n",
       "        0.81304308, 0.074765  , 0.08685205, 0.31914575, 0.23735222],\n",
       "       [0.47789035, 0.74734751, 0.26285763, 0.59484722, 0.7155864 ,\n",
       "        0.59474681, 0.47150914, 0.03452718, 0.72332275, 0.47028776],\n",
       "       [0.02877749, 0.83078924, 0.31289166, 0.30402027, 0.12422959,\n",
       "        0.5741902 , 0.45545665, 0.8212274 , 0.76181614, 0.108464  ],\n",
       "       [0.96086507, 0.83894286, 0.84632944, 0.26903294, 0.14547441,\n",
       "        0.75889114, 0.28676771, 0.36896895, 0.37812949, 0.78041529]])"
      ]
     },
     "execution_count": 51,
     "metadata": {},
     "output_type": "execute_result"
    }
   ],
   "source": [
    "a2"
   ]
  },
  {
   "cell_type": "code",
   "execution_count": 52,
   "metadata": {},
   "outputs": [
    {
     "data": {
      "text/plain": [
       "[<matplotlib.lines.Line2D at 0x7f7d7cbd3f10>,\n",
       " <matplotlib.lines.Line2D at 0x7f7d7cbd3f70>,\n",
       " <matplotlib.lines.Line2D at 0x7f7d7cb610d0>,\n",
       " <matplotlib.lines.Line2D at 0x7f7d7cb611f0>,\n",
       " <matplotlib.lines.Line2D at 0x7f7d7cb61310>,\n",
       " <matplotlib.lines.Line2D at 0x7f7d7cb61430>,\n",
       " <matplotlib.lines.Line2D at 0x7f7d7cb61550>,\n",
       " <matplotlib.lines.Line2D at 0x7f7d7cb61670>,\n",
       " <matplotlib.lines.Line2D at 0x7f7d7cb61790>,\n",
       " <matplotlib.lines.Line2D at 0x7f7d7cb618b0>]"
      ]
     },
     "execution_count": 52,
     "metadata": {},
     "output_type": "execute_result"
    },
    {
     "data": {
      "image/png": "[encoded data removed]",
      "text/plain": [
       "<Figure size 432x288 with 1 Axes>"
      ]
     },
     "metadata": {
      "needs_background": "light"
     },
     "output_type": "display_data"
    }
   ],
   "source": [
    "plt.plot(a2)"
   ]
  },
  {
   "cell_type": "code",
   "execution_count": 53,
   "metadata": {},
   "outputs": [
    {
     "data": {
      "text/plain": [
       "[<matplotlib.lines.Line2D at 0x7f7d7cb5dd60>]"
      ]
     },
     "execution_count": 53,
     "metadata": {},
     "output_type": "execute_result"
    },
    {
     "data": {
      "image/png": "[encoded data removed]",
      "text/plain": [
       "<Figure size 432x288 with 1 Axes>"
      ]
     },
     "metadata": {
      "needs_background": "light"
     },
     "output_type": "display_data"
    }
   ],
   "source": [
    "plt.plot(a2[0])"
   ]
  },
  {
   "cell_type": "code",
   "execution_count": 54,
   "metadata": {},
   "outputs": [
    {
     "data": {
      "text/plain": [
       "<matplotlib.colorbar.Colorbar at 0x7f7d7c27b4f0>"
      ]
     },
     "execution_count": 54,
     "metadata": {},
     "output_type": "execute_result"
    },
    {
     "data": {
      "image/png": "[encoded data removed]",
      "text/plain": [
       "<Figure size 432x288 with 2 Axes>"
      ]
     },
     "metadata": {
      "needs_background": "light"
     },
     "output_type": "display_data"
    }
   ],
   "source": [
    "#2D array visualization\n",
    "plt.imshow(a2, cmap='gray')\n",
    "plt.colorbar()"
   ]
  },
  {
   "cell_type": "code",
   "execution_count": 55,
   "metadata": {},
   "outputs": [
    {
     "data": {
      "text/plain": [
       "(array([18., 14., 11.,  9., 15.,  7., 17.,  9.]),\n",
       " array([0.00837979, 0.12910415, 0.24982851, 0.37055287, 0.49127724,\n",
       "        0.6120016 , 0.73272596, 0.85345032, 0.97417468]),\n",
       " <BarContainer object of 8 artists>)"
      ]
     },
     "execution_count": 55,
     "metadata": {},
     "output_type": "execute_result"
    },
    {
     "data": {
      "image/png": "[encoded data removed]",
      "text/plain": [
       "<Figure size 432x288 with 1 Axes>"
      ]
     },
     "metadata": {
      "needs_background": "light"
     },
     "output_type": "display_data"
    }
   ],
   "source": [
    "plt.hist(a2.ravel(), bins='auto')"
   ]
  },
  {
   "cell_type": "markdown",
   "metadata": {},
   "source": [
    "## Boolean arrays and fancy indexing"
   ]
  },
  {
   "cell_type": "code",
   "execution_count": 56,
   "metadata": {},
   "outputs": [
    {
     "data": {
      "text/plain": [
       "array([[0.52652326, 0.14231249, 0.07566598, 0.59790843, 0.70154418,\n",
       "        0.52064036, 0.00837979, 0.11927175, 0.13957386, 0.2459467 ],\n",
       "       [0.6461288 , 0.15507331, 0.90511239, 0.80794971, 0.53618462,\n",
       "        0.5585833 , 0.37523991, 0.13770533, 0.22708269, 0.79929664],\n",
       "       [0.32809269, 0.08102169, 0.80168028, 0.2397003 , 0.33923008,\n",
       "        0.6039445 , 0.06581277, 0.43881912, 0.13918295, 0.81991938],\n",
       "       [0.54214022, 0.12926722, 0.67341643, 0.97417468, 0.0349868 ,\n",
       "        0.87610442, 0.24762983, 0.0228108 , 0.5683135 , 0.51484197],\n",
       "       [0.66986602, 0.12030778, 0.43275939, 0.0487702 , 0.08680747,\n",
       "        0.77752797, 0.42610501, 0.58918494, 0.24729525, 0.59084971],\n",
       "       [0.85876637, 0.89397025, 0.96531165, 0.59977053, 0.00839696,\n",
       "        0.93101856, 0.87715167, 0.79625335, 0.83850491, 0.10052971],\n",
       "       [0.67171947, 0.35401307, 0.74514409, 0.16502892, 0.30921615,\n",
       "        0.81304308, 0.074765  , 0.08685205, 0.31914575, 0.23735222],\n",
       "       [0.47789035, 0.74734751, 0.26285763, 0.59484722, 0.7155864 ,\n",
       "        0.59474681, 0.47150914, 0.03452718, 0.72332275, 0.47028776],\n",
       "       [0.02877749, 0.83078924, 0.31289166, 0.30402027, 0.12422959,\n",
       "        0.5741902 , 0.45545665, 0.8212274 , 0.76181614, 0.108464  ],\n",
       "       [0.96086507, 0.83894286, 0.84632944, 0.26903294, 0.14547441,\n",
       "        0.75889114, 0.28676771, 0.36896895, 0.37812949, 0.78041529]])"
      ]
     },
     "execution_count": 56,
     "metadata": {},
     "output_type": "execute_result"
    }
   ],
   "source": [
    "a2"
   ]
  },
  {
   "cell_type": "code",
   "execution_count": 57,
   "metadata": {},
   "outputs": [
    {
     "data": {
      "text/plain": [
       "array([[ True, False, False,  True,  True,  True, False, False, False,\n",
       "        False],\n",
       "       [ True, False,  True,  True,  True,  True, False, False, False,\n",
       "         True],\n",
       "       [False, False,  True, False, False,  True, False, False, False,\n",
       "         True],\n",
       "       [ True, False,  True,  True, False,  True, False, False,  True,\n",
       "         True],\n",
       "       [ True, False, False, False, False,  True, False,  True, False,\n",
       "         True],\n",
       "       [ True,  True,  True,  True, False,  True,  True,  True,  True,\n",
       "        False],\n",
       "       [ True, False,  True, False, False,  True, False, False, False,\n",
       "        False],\n",
       "       [False,  True, False,  True,  True,  True, False, False,  True,\n",
       "        False],\n",
       "       [False,  True, False, False, False,  True, False,  True,  True,\n",
       "        False],\n",
       "       [ True,  True,  True, False, False,  True, False, False, False,\n",
       "         True]])"
      ]
     },
     "execution_count": 57,
     "metadata": {},
     "output_type": "execute_result"
    }
   ],
   "source": [
    "a2 > 0.5"
   ]
  },
  {
   "cell_type": "code",
   "execution_count": 58,
   "metadata": {},
   "outputs": [],
   "source": [
    "idx = (a2 > 0.5)"
   ]
  },
  {
   "cell_type": "code",
   "execution_count": 59,
   "metadata": {},
   "outputs": [
    {
     "data": {
      "text/plain": [
       "array([[ True, False, False,  True,  True,  True, False, False, False,\n",
       "        False],\n",
       "       [ True, False,  True,  True,  True,  True, False, False, False,\n",
       "         True],\n",
       "       [False, False,  True, False, False,  True, False, False, False,\n",
       "         True],\n",
       "       [ True, False,  True,  True, False,  True, False, False,  True,\n",
       "         True],\n",
       "       [ True, False, False, False, False,  True, False,  True, False,\n",
       "         True],\n",
       "       [ True,  True,  True,  True, False,  True,  True,  True,  True,\n",
       "        False],\n",
       "       [ True, False,  True, False, False,  True, False, False, False,\n",
       "        False],\n",
       "       [False,  True, False,  True,  True,  True, False, False,  True,\n",
       "        False],\n",
       "       [False,  True, False, False, False,  True, False,  True,  True,\n",
       "        False],\n",
       "       [ True,  True,  True, False, False,  True, False, False, False,\n",
       "         True]])"
      ]
     },
     "execution_count": 59,
     "metadata": {},
     "output_type": "execute_result"
    }
   ],
   "source": [
    "idx"
   ]
  },
  {
   "cell_type": "code",
   "execution_count": 60,
   "metadata": {},
   "outputs": [
    {
     "data": {
      "text/plain": [
       "<matplotlib.colorbar.Colorbar at 0x7f7d7c13b910>"
      ]
     },
     "execution_count": 60,
     "metadata": {},
     "output_type": "execute_result"
    },
    {
     "data": {
      "image/png": "[encoded data removed]",
      "text/plain": [
       "<Figure size 432x288 with 2 Axes>"
      ]
     },
     "metadata": {
      "needs_background": "light"
     },
     "output_type": "display_data"
    }
   ],
   "source": [
    "# Quick visualization, True = yellow (1)\n",
    "plt.imshow(idx)\n",
    "plt.colorbar()"
   ]
  },
  {
   "cell_type": "code",
   "execution_count": 61,
   "metadata": {},
   "outputs": [
    {
     "data": {
      "text/plain": [
       "array([0.52652326, 0.59790843, 0.70154418, 0.52064036, 0.6461288 ,\n",
       "       0.90511239, 0.80794971, 0.53618462, 0.5585833 , 0.79929664,\n",
       "       0.80168028, 0.6039445 , 0.81991938, 0.54214022, 0.67341643,\n",
       "       0.97417468, 0.87610442, 0.5683135 , 0.51484197, 0.66986602,\n",
       "       0.77752797, 0.58918494, 0.59084971, 0.85876637, 0.89397025,\n",
       "       0.96531165, 0.59977053, 0.93101856, 0.87715167, 0.79625335,\n",
       "       0.83850491, 0.67171947, 0.74514409, 0.81304308, 0.74734751,\n",
       "       0.59484722, 0.7155864 , 0.59474681, 0.72332275, 0.83078924,\n",
       "       0.5741902 , 0.8212274 , 0.76181614, 0.96086507, 0.83894286,\n",
       "       0.84632944, 0.75889114, 0.78041529])"
      ]
     },
     "execution_count": 61,
     "metadata": {},
     "output_type": "execute_result"
    }
   ],
   "source": [
    "# Return only elements where condition is True\n",
    "a2[idx]"
   ]
  },
  {
   "cell_type": "code",
   "execution_count": 62,
   "metadata": {},
   "outputs": [
    {
     "data": {
      "text/plain": [
       "(10, 10)"
      ]
     },
     "execution_count": 62,
     "metadata": {},
     "output_type": "execute_result"
    }
   ],
   "source": [
    "# Original shape\n",
    "a2.shape"
   ]
  },
  {
   "cell_type": "code",
   "execution_count": 63,
   "metadata": {},
   "outputs": [
    {
     "data": {
      "text/plain": [
       "(48,)"
      ]
     },
     "execution_count": 63,
     "metadata": {},
     "output_type": "execute_result"
    }
   ],
   "source": [
    "# Selected shape\n",
    "a2[idx].shape\n",
    "#idx.nonzero()[0].size"
   ]
  },
  {
   "cell_type": "code",
   "execution_count": 64,
   "metadata": {},
   "outputs": [],
   "source": [
    "#Can also be used for assignment\n",
    "#a2[idx] = 0"
   ]
  },
  {
   "cell_type": "code",
   "execution_count": 65,
   "metadata": {},
   "outputs": [],
   "source": [
    "### Bitwise operators, combining boolean arrays"
   ]
  },
  {
   "cell_type": "code",
   "execution_count": 66,
   "metadata": {},
   "outputs": [
    {
     "data": {
      "text/plain": [
       "array([[ True, False, False,  True,  True,  True, False, False, False,\n",
       "        False],\n",
       "       [ True, False,  True,  True,  True,  True, False, False, False,\n",
       "         True],\n",
       "       [False, False,  True, False, False,  True, False, False, False,\n",
       "         True],\n",
       "       [ True, False,  True,  True, False,  True, False, False,  True,\n",
       "         True],\n",
       "       [ True, False, False, False, False,  True, False,  True, False,\n",
       "         True],\n",
       "       [ True,  True,  True,  True, False,  True,  True,  True,  True,\n",
       "        False],\n",
       "       [ True, False,  True, False, False,  True, False, False, False,\n",
       "        False],\n",
       "       [False,  True, False,  True,  True,  True, False, False,  True,\n",
       "        False],\n",
       "       [False,  True, False, False, False,  True, False,  True,  True,\n",
       "        False],\n",
       "       [ True,  True,  True, False, False,  True, False, False, False,\n",
       "         True]])"
      ]
     },
     "execution_count": 66,
     "metadata": {},
     "output_type": "execute_result"
    }
   ],
   "source": [
    "(a2 > 0.5)"
   ]
  },
  {
   "cell_type": "code",
   "execution_count": 67,
   "metadata": {},
   "outputs": [
    {
     "data": {
      "text/plain": [
       "array([[ True,  True,  True,  True, False,  True,  True,  True,  True,\n",
       "         True],\n",
       "       [ True,  True, False, False,  True,  True,  True,  True,  True,\n",
       "        False],\n",
       "       [ True,  True, False,  True,  True,  True,  True,  True,  True,\n",
       "        False],\n",
       "       [ True,  True,  True, False,  True, False,  True,  True,  True,\n",
       "         True],\n",
       "       [ True,  True,  True,  True,  True, False,  True,  True,  True,\n",
       "         True],\n",
       "       [False, False, False,  True,  True, False, False, False, False,\n",
       "         True],\n",
       "       [ True,  True, False,  True,  True, False,  True,  True,  True,\n",
       "         True],\n",
       "       [ True, False,  True,  True, False,  True,  True,  True, False,\n",
       "         True],\n",
       "       [ True, False,  True,  True,  True,  True,  True, False, False,\n",
       "         True],\n",
       "       [False, False, False,  True,  True, False,  True,  True,  True,\n",
       "        False]])"
      ]
     },
     "execution_count": 67,
     "metadata": {},
     "output_type": "execute_result"
    }
   ],
   "source": [
    "(a2 < 0.7)"
   ]
  },
  {
   "cell_type": "code",
   "execution_count": 112,
   "metadata": {},
   "outputs": [],
   "source": [
    "#Bitwise and - True if both are True\n",
    "idx = (a2 > 0.5) & (a2 < 0.7)\n",
    "#Bitwise or - True if either is True\n",
    "#idx = (a < 0.5) | (a > 0.9)"
   ]
  },
  {
   "cell_type": "code",
   "execution_count": 69,
   "metadata": {},
   "outputs": [
    {
     "data": {
      "text/plain": [
       "array([[ True, False, False,  True, False,  True, False, False, False,\n",
       "        False],\n",
       "       [ True, False, False, False,  True,  True, False, False, False,\n",
       "        False],\n",
       "       [False, False, False, False, False,  True, False, False, False,\n",
       "        False],\n",
       "       [ True, False,  True, False, False, False, False, False,  True,\n",
       "         True],\n",
       "       [ True, False, False, False, False, False, False,  True, False,\n",
       "         True],\n",
       "       [False, False, False,  True, False, False, False, False, False,\n",
       "        False],\n",
       "       [ True, False, False, False, False, False, False, False, False,\n",
       "        False],\n",
       "       [False, False, False,  True, False,  True, False, False, False,\n",
       "        False],\n",
       "       [False, False, False, False, False,  True, False, False, False,\n",
       "        False],\n",
       "       [False, False, False, False, False, False, False, False, False,\n",
       "        False]])"
      ]
     },
     "execution_count": 69,
     "metadata": {},
     "output_type": "execute_result"
    }
   ],
   "source": [
    "idx"
   ]
  },
  {
   "cell_type": "code",
   "execution_count": 70,
   "metadata": {},
   "outputs": [
    {
     "data": {
      "text/plain": [
       "<matplotlib.image.AxesImage at 0x7f7d7c0c5700>"
      ]
     },
     "execution_count": 70,
     "metadata": {},
     "output_type": "execute_result"
    },
    {
     "data": {
      "image/png": "[encoded data removed]",
      "text/plain": [
       "<Figure size 432x288 with 1 Axes>"
      ]
     },
     "metadata": {
      "needs_background": "light"
     },
     "output_type": "display_data"
    }
   ],
   "source": [
    "plt.imshow(idx)"
   ]
  },
  {
   "cell_type": "code",
   "execution_count": 71,
   "metadata": {},
   "outputs": [
    {
     "data": {
      "text/plain": [
       "array([0.52652326, 0.59790843, 0.52064036, 0.6461288 , 0.53618462,\n",
       "       0.5585833 , 0.6039445 , 0.54214022, 0.67341643, 0.5683135 ,\n",
       "       0.51484197, 0.66986602, 0.58918494, 0.59084971, 0.59977053,\n",
       "       0.67171947, 0.59484722, 0.59474681, 0.5741902 ])"
      ]
     },
     "execution_count": 71,
     "metadata": {},
     "output_type": "execute_result"
    }
   ],
   "source": [
    "a2[idx]"
   ]
  },
  {
   "cell_type": "code",
   "execution_count": 72,
   "metadata": {},
   "outputs": [
    {
     "data": {
      "text/plain": [
       "(19,)"
      ]
     },
     "execution_count": 72,
     "metadata": {},
     "output_type": "execute_result"
    }
   ],
   "source": [
    "a2[idx].shape"
   ]
  },
  {
   "cell_type": "code",
   "execution_count": 73,
   "metadata": {},
   "outputs": [
    {
     "data": {
      "text/plain": [
       "array([[False,  True,  True, False,  True, False,  True,  True,  True,\n",
       "         True],\n",
       "       [False,  True,  True,  True, False, False,  True,  True,  True,\n",
       "         True],\n",
       "       [ True,  True,  True,  True,  True, False,  True,  True,  True,\n",
       "         True],\n",
       "       [False,  True, False,  True,  True,  True,  True,  True, False,\n",
       "        False],\n",
       "       [False,  True,  True,  True,  True,  True,  True, False,  True,\n",
       "        False],\n",
       "       [ True,  True,  True, False,  True,  True,  True,  True,  True,\n",
       "         True],\n",
       "       [False,  True,  True,  True,  True,  True,  True,  True,  True,\n",
       "         True],\n",
       "       [ True,  True,  True, False,  True, False,  True,  True,  True,\n",
       "         True],\n",
       "       [ True,  True,  True,  True,  True, False,  True,  True,  True,\n",
       "         True],\n",
       "       [ True,  True,  True,  True,  True,  True,  True,  True,  True,\n",
       "         True]])"
      ]
     },
     "execution_count": 73,
     "metadata": {},
     "output_type": "execute_result"
    }
   ],
   "source": [
    "#Invert the boolean array\n",
    "~idx"
   ]
  },
  {
   "cell_type": "code",
   "execution_count": 74,
   "metadata": {},
   "outputs": [
    {
     "data": {
      "text/plain": [
       "<matplotlib.image.AxesImage at 0x7f7d7c0b99a0>"
      ]
     },
     "execution_count": 74,
     "metadata": {},
     "output_type": "execute_result"
    },
    {
     "data": {
      "image/png": "[encoded data removed]",
      "text/plain": [
       "<Figure size 432x288 with 1 Axes>"
      ]
     },
     "metadata": {
      "needs_background": "light"
     },
     "output_type": "display_data"
    }
   ],
   "source": [
    "plt.imshow(idx)"
   ]
  },
  {
   "cell_type": "code",
   "execution_count": 75,
   "metadata": {},
   "outputs": [
    {
     "data": {
      "text/plain": [
       "<matplotlib.image.AxesImage at 0x7f7d7c0fdbe0>"
      ]
     },
     "execution_count": 75,
     "metadata": {},
     "output_type": "execute_result"
    },
    {
     "data": {
      "image/png": "[encoded data removed]",
      "text/plain": [
       "<Figure size 432x288 with 1 Axes>"
      ]
     },
     "metadata": {
      "needs_background": "light"
     },
     "output_type": "display_data"
    }
   ],
   "source": [
    "plt.imshow(~idx)"
   ]
  },
  {
   "cell_type": "code",
   "execution_count": 76,
   "metadata": {},
   "outputs": [
    {
     "data": {
      "text/plain": [
       "(81,)"
      ]
     },
     "execution_count": 76,
     "metadata": {},
     "output_type": "execute_result"
    }
   ],
   "source": [
    "a2[~idx].shape"
   ]
  },
  {
   "cell_type": "markdown",
   "metadata": {},
   "source": [
    "### Masked array"
   ]
  },
  {
   "cell_type": "code",
   "execution_count": 77,
   "metadata": {},
   "outputs": [
    {
     "data": {
      "text/plain": [
       "array([[0.52652326, 0.14231249, 0.07566598, 0.59790843, 0.70154418,\n",
       "        0.52064036, 0.00837979, 0.11927175, 0.13957386, 0.2459467 ],\n",
       "       [0.6461288 , 0.15507331, 0.90511239, 0.80794971, 0.53618462,\n",
       "        0.5585833 , 0.37523991, 0.13770533, 0.22708269, 0.79929664],\n",
       "       [0.32809269, 0.08102169, 0.80168028, 0.2397003 , 0.33923008,\n",
       "        0.6039445 , 0.06581277, 0.43881912, 0.13918295, 0.81991938],\n",
       "       [0.54214022, 0.12926722, 0.67341643, 0.97417468, 0.0349868 ,\n",
       "        0.87610442, 0.24762983, 0.0228108 , 0.5683135 , 0.51484197],\n",
       "       [0.66986602, 0.12030778, 0.43275939, 0.0487702 , 0.08680747,\n",
       "        0.77752797, 0.42610501, 0.58918494, 0.24729525, 0.59084971],\n",
       "       [0.85876637, 0.89397025, 0.96531165, 0.59977053, 0.00839696,\n",
       "        0.93101856, 0.87715167, 0.79625335, 0.83850491, 0.10052971],\n",
       "       [0.67171947, 0.35401307, 0.74514409, 0.16502892, 0.30921615,\n",
       "        0.81304308, 0.074765  , 0.08685205, 0.31914575, 0.23735222],\n",
       "       [0.47789035, 0.74734751, 0.26285763, 0.59484722, 0.7155864 ,\n",
       "        0.59474681, 0.47150914, 0.03452718, 0.72332275, 0.47028776],\n",
       "       [0.02877749, 0.83078924, 0.31289166, 0.30402027, 0.12422959,\n",
       "        0.5741902 , 0.45545665, 0.8212274 , 0.76181614, 0.108464  ],\n",
       "       [0.96086507, 0.83894286, 0.84632944, 0.26903294, 0.14547441,\n",
       "        0.75889114, 0.28676771, 0.36896895, 0.37812949, 0.78041529]])"
      ]
     },
     "execution_count": 77,
     "metadata": {},
     "output_type": "execute_result"
    }
   ],
   "source": [
    "a2"
   ]
  },
  {
   "cell_type": "code",
   "execution_count": 78,
   "metadata": {},
   "outputs": [
    {
     "data": {
      "text/plain": [
       "array([[ True, False, False,  True, False,  True, False, False, False,\n",
       "        False],\n",
       "       [ True, False, False, False,  True,  True, False, False, False,\n",
       "        False],\n",
       "       [False, False, False, False, False,  True, False, False, False,\n",
       "        False],\n",
       "       [ True, False,  True, False, False, False, False, False,  True,\n",
       "         True],\n",
       "       [ True, False, False, False, False, False, False,  True, False,\n",
       "         True],\n",
       "       [False, False, False,  True, False, False, False, False, False,\n",
       "        False],\n",
       "       [ True, False, False, False, False, False, False, False, False,\n",
       "        False],\n",
       "       [False, False, False,  True, False,  True, False, False, False,\n",
       "        False],\n",
       "       [False, False, False, False, False,  True, False, False, False,\n",
       "        False],\n",
       "       [False, False, False, False, False, False, False, False, False,\n",
       "        False]])"
      ]
     },
     "execution_count": 78,
     "metadata": {},
     "output_type": "execute_result"
    }
   ],
   "source": [
    "idx"
   ]
  },
  {
   "cell_type": "code",
   "execution_count": 113,
   "metadata": {},
   "outputs": [],
   "source": [
    "#np.ma.array"
   ]
  },
  {
   "cell_type": "code",
   "execution_count": 80,
   "metadata": {},
   "outputs": [],
   "source": [
    "ma = np.ma.array(a2, mask=~idx)"
   ]
  },
  {
   "cell_type": "code",
   "execution_count": 81,
   "metadata": {},
   "outputs": [
    {
     "data": {
      "text/plain": [
       "masked_array(\n",
       "  data=[[0.5265232608453788, --, --, 0.5979084337784969, --,\n",
       "         0.5206403629685025, --, --, --, --],\n",
       "        [0.6461287968711238, --, --, --, 0.5361846154058071,\n",
       "         0.558583303937883, --, --, --, --],\n",
       "        [--, --, --, --, --, 0.6039444969658847, --, --, --, --],\n",
       "        [0.5421402189101205, --, 0.6734164335026674, --, --, --, --, --,\n",
       "         0.5683134980882404, 0.5148419689595748],\n",
       "        [0.6698660228152108, --, --, --, --, --, --, 0.5891849393173709,\n",
       "         --, 0.5908497065541548],\n",
       "        [--, --, --, 0.5997705271856745, --, --, --, --, --, --],\n",
       "        [0.6717194703376138, --, --, --, --, --, --, --, --, --],\n",
       "        [--, --, --, 0.5948472205118084, --, 0.594746811681392, --, --,\n",
       "         --, --],\n",
       "        [--, --, --, --, --, 0.5741901997787556, --, --, --, --],\n",
       "        [--, --, --, --, --, --, --, --, --, --]],\n",
       "  mask=[[False,  True,  True, False,  True, False,  True,  True,  True,\n",
       "          True],\n",
       "        [False,  True,  True,  True, False, False,  True,  True,  True,\n",
       "          True],\n",
       "        [ True,  True,  True,  True,  True, False,  True,  True,  True,\n",
       "          True],\n",
       "        [False,  True, False,  True,  True,  True,  True,  True, False,\n",
       "         False],\n",
       "        [False,  True,  True,  True,  True,  True,  True, False,  True,\n",
       "         False],\n",
       "        [ True,  True,  True, False,  True,  True,  True,  True,  True,\n",
       "          True],\n",
       "        [False,  True,  True,  True,  True,  True,  True,  True,  True,\n",
       "          True],\n",
       "        [ True,  True,  True, False,  True, False,  True,  True,  True,\n",
       "          True],\n",
       "        [ True,  True,  True,  True,  True, False,  True,  True,  True,\n",
       "          True],\n",
       "        [ True,  True,  True,  True,  True,  True,  True,  True,  True,\n",
       "          True]],\n",
       "  fill_value=1e+20)"
      ]
     },
     "execution_count": 81,
     "metadata": {},
     "output_type": "execute_result"
    }
   ],
   "source": [
    "ma"
   ]
  },
  {
   "cell_type": "code",
   "execution_count": 82,
   "metadata": {},
   "outputs": [
    {
     "data": {
      "text/plain": [
       "0.46351243272781467"
      ]
     },
     "execution_count": 82,
     "metadata": {},
     "output_type": "execute_result"
    }
   ],
   "source": [
    "a2.mean()"
   ]
  },
  {
   "cell_type": "code",
   "execution_count": 83,
   "metadata": {},
   "outputs": [
    {
     "data": {
      "text/plain": [
       "0.5880947520218769"
      ]
     },
     "execution_count": 83,
     "metadata": {},
     "output_type": "execute_result"
    }
   ],
   "source": [
    "ma.mean()"
   ]
  },
  {
   "cell_type": "code",
   "execution_count": 84,
   "metadata": {},
   "outputs": [
    {
     "data": {
      "text/plain": [
       "<matplotlib.image.AxesImage at 0x7f7d7c1bceb0>"
      ]
     },
     "execution_count": 84,
     "metadata": {},
     "output_type": "execute_result"
    },
    {
     "data": {
      "image/png": "[encoded data removed]",
      "text/plain": [
       "<Figure size 432x288 with 1 Axes>"
      ]
     },
     "metadata": {
      "needs_background": "light"
     },
     "output_type": "display_data"
    }
   ],
   "source": [
    "plt.imshow(ma)"
   ]
  },
  {
   "cell_type": "markdown",
   "metadata": {},
   "source": [
    "### Masked array vs. np.nan\n",
    "* We will come back to this in Lab05\n",
    "* Useful for representing nodata in raster datasets\n",
    "* Useful for dynamically masking outliers for calculations without removing values or creating new arrays\n",
    "* np.nan is float32 or float64, so if your original array is int8, much more efficient to use additional 1-bit mask than cast everything as float32"
   ]
  },
  {
   "cell_type": "markdown",
   "metadata": {},
   "source": [
    "## Pandas!"
   ]
  },
  {
   "cell_type": "code",
   "execution_count": 85,
   "metadata": {
    "tags": []
   },
   "outputs": [],
   "source": [
    "#pd.DataFrame?"
   ]
  },
  {
   "cell_type": "code",
   "execution_count": 86,
   "metadata": {},
   "outputs": [],
   "source": [
    "df = pd.DataFrame(a2)"
   ]
  },
  {
   "cell_type": "code",
   "execution_count": 87,
   "metadata": {},
   "outputs": [
    {
     "data": {
      "text/html": [
       "<div>\n",
       "<style scoped>\n",
       "    .dataframe tbody tr th:only-of-type {\n",
       "        vertical-align: middle;\n",
       "    }\n",
       "\n",
       "    .dataframe tbody tr th {\n",
       "        vertical-align: top;\n",
       "    }\n",
       "\n",
       "    .dataframe thead th {\n",
       "        text-align: right;\n",
       "    }\n",
       "</style>\n",
       "<table border=\"1\" class=\"dataframe\">\n",
       "  <thead>\n",
       "    <tr style=\"text-align: right;\">\n",
       "      <th></th>\n",
       "      <th>0</th>\n",
       "      <th>1</th>\n",
       "      <th>2</th>\n",
       "      <th>3</th>\n",
       "      <th>4</th>\n",
       "      <th>5</th>\n",
       "      <th>6</th>\n",
       "      <th>7</th>\n",
       "      <th>8</th>\n",
       "      <th>9</th>\n",
       "    </tr>\n",
       "  </thead>\n",
       "  <tbody>\n",
       "    <tr>\n",
       "      <th>0</th>\n",
       "      <td>0.526523</td>\n",
       "      <td>0.142312</td>\n",
       "      <td>0.075666</td>\n",
       "      <td>0.597908</td>\n",
       "      <td>0.701544</td>\n",
       "      <td>0.520640</td>\n",
       "      <td>0.008380</td>\n",
       "      <td>0.119272</td>\n",
       "      <td>0.139574</td>\n",
       "      <td>0.245947</td>\n",
       "    </tr>\n",
       "    <tr>\n",
       "      <th>1</th>\n",
       "      <td>0.646129</td>\n",
       "      <td>0.155073</td>\n",
       "      <td>0.905112</td>\n",
       "      <td>0.807950</td>\n",
       "      <td>0.536185</td>\n",
       "      <td>0.558583</td>\n",
       "      <td>0.375240</td>\n",
       "      <td>0.137705</td>\n",
       "      <td>0.227083</td>\n",
       "      <td>0.799297</td>\n",
       "    </tr>\n",
       "    <tr>\n",
       "      <th>2</th>\n",
       "      <td>0.328093</td>\n",
       "      <td>0.081022</td>\n",
       "      <td>0.801680</td>\n",
       "      <td>0.239700</td>\n",
       "      <td>0.339230</td>\n",
       "      <td>0.603944</td>\n",
       "      <td>0.065813</td>\n",
       "      <td>0.438819</td>\n",
       "      <td>0.139183</td>\n",
       "      <td>0.819919</td>\n",
       "    </tr>\n",
       "    <tr>\n",
       "      <th>3</th>\n",
       "      <td>0.542140</td>\n",
       "      <td>0.129267</td>\n",
       "      <td>0.673416</td>\n",
       "      <td>0.974175</td>\n",
       "      <td>0.034987</td>\n",
       "      <td>0.876104</td>\n",
       "      <td>0.247630</td>\n",
       "      <td>0.022811</td>\n",
       "      <td>0.568313</td>\n",
       "      <td>0.514842</td>\n",
       "    </tr>\n",
       "    <tr>\n",
       "      <th>4</th>\n",
       "      <td>0.669866</td>\n",
       "      <td>0.120308</td>\n",
       "      <td>0.432759</td>\n",
       "      <td>0.048770</td>\n",
       "      <td>0.086807</td>\n",
       "      <td>0.777528</td>\n",
       "      <td>0.426105</td>\n",
       "      <td>0.589185</td>\n",
       "      <td>0.247295</td>\n",
       "      <td>0.590850</td>\n",
       "    </tr>\n",
       "    <tr>\n",
       "      <th>5</th>\n",
       "      <td>0.858766</td>\n",
       "      <td>0.893970</td>\n",
       "      <td>0.965312</td>\n",
       "      <td>0.599771</td>\n",
       "      <td>0.008397</td>\n",
       "      <td>0.931019</td>\n",
       "      <td>0.877152</td>\n",
       "      <td>0.796253</td>\n",
       "      <td>0.838505</td>\n",
       "      <td>0.100530</td>\n",
       "    </tr>\n",
       "    <tr>\n",
       "      <th>6</th>\n",
       "      <td>0.671719</td>\n",
       "      <td>0.354013</td>\n",
       "      <td>0.745144</td>\n",
       "      <td>0.165029</td>\n",
       "      <td>0.309216</td>\n",
       "      <td>0.813043</td>\n",
       "      <td>0.074765</td>\n",
       "      <td>0.086852</td>\n",
       "      <td>0.319146</td>\n",
       "      <td>0.237352</td>\n",
       "    </tr>\n",
       "    <tr>\n",
       "      <th>7</th>\n",
       "      <td>0.477890</td>\n",
       "      <td>0.747348</td>\n",
       "      <td>0.262858</td>\n",
       "      <td>0.594847</td>\n",
       "      <td>0.715586</td>\n",
       "      <td>0.594747</td>\n",
       "      <td>0.471509</td>\n",
       "      <td>0.034527</td>\n",
       "      <td>0.723323</td>\n",
       "      <td>0.470288</td>\n",
       "    </tr>\n",
       "    <tr>\n",
       "      <th>8</th>\n",
       "      <td>0.028777</td>\n",
       "      <td>0.830789</td>\n",
       "      <td>0.312892</td>\n",
       "      <td>0.304020</td>\n",
       "      <td>0.124230</td>\n",
       "      <td>0.574190</td>\n",
       "      <td>0.455457</td>\n",
       "      <td>0.821227</td>\n",
       "      <td>0.761816</td>\n",
       "      <td>0.108464</td>\n",
       "    </tr>\n",
       "    <tr>\n",
       "      <th>9</th>\n",
       "      <td>0.960865</td>\n",
       "      <td>0.838943</td>\n",
       "      <td>0.846329</td>\n",
       "      <td>0.269033</td>\n",
       "      <td>0.145474</td>\n",
       "      <td>0.758891</td>\n",
       "      <td>0.286768</td>\n",
       "      <td>0.368969</td>\n",
       "      <td>0.378129</td>\n",
       "      <td>0.780415</td>\n",
       "    </tr>\n",
       "  </tbody>\n",
       "</table>\n",
       "</div>"
      ],
      "text/plain": [
       "          0         1         2         3         4         5         6  \\\n",
       "0  0.526523  0.142312  0.075666  0.597908  0.701544  0.520640  0.008380   \n",
       "1  0.646129  0.155073  0.905112  0.807950  0.536185  0.558583  0.375240   \n",
       "2  0.328093  0.081022  0.801680  0.239700  0.339230  0.603944  0.065813   \n",
       "3  0.542140  0.129267  0.673416  0.974175  0.034987  0.876104  0.247630   \n",
       "4  0.669866  0.120308  0.432759  0.048770  0.086807  0.777528  0.426105   \n",
       "5  0.858766  0.893970  0.965312  0.599771  0.008397  0.931019  0.877152   \n",
       "6  0.671719  0.354013  0.745144  0.165029  0.309216  0.813043  0.074765   \n",
       "7  0.477890  0.747348  0.262858  0.594847  0.715586  0.594747  0.471509   \n",
       "8  0.028777  0.830789  0.312892  0.304020  0.124230  0.574190  0.455457   \n",
       "9  0.960865  0.838943  0.846329  0.269033  0.145474  0.758891  0.286768   \n",
       "\n",
       "          7         8         9  \n",
       "0  0.119272  0.139574  0.245947  \n",
       "1  0.137705  0.227083  0.799297  \n",
       "2  0.438819  0.139183  0.819919  \n",
       "3  0.022811  0.568313  0.514842  \n",
       "4  0.589185  0.247295  0.590850  \n",
       "5  0.796253  0.838505  0.100530  \n",
       "6  0.086852  0.319146  0.237352  \n",
       "7  0.034527  0.723323  0.470288  \n",
       "8  0.821227  0.761816  0.108464  \n",
       "9  0.368969  0.378129  0.780415  "
      ]
     },
     "execution_count": 87,
     "metadata": {},
     "output_type": "execute_result"
    }
   ],
   "source": [
    "df"
   ]
  },
  {
   "cell_type": "code",
   "execution_count": 88,
   "metadata": {},
   "outputs": [],
   "source": [
    "df.index = ['a','b','c','d','e','f','g','h','i','j']"
   ]
  },
  {
   "cell_type": "code",
   "execution_count": 89,
   "metadata": {},
   "outputs": [
    {
     "data": {
      "text/html": [
       "<div>\n",
       "<style scoped>\n",
       "    .dataframe tbody tr th:only-of-type {\n",
       "        vertical-align: middle;\n",
       "    }\n",
       "\n",
       "    .dataframe tbody tr th {\n",
       "        vertical-align: top;\n",
       "    }\n",
       "\n",
       "    .dataframe thead th {\n",
       "        text-align: right;\n",
       "    }\n",
       "</style>\n",
       "<table border=\"1\" class=\"dataframe\">\n",
       "  <thead>\n",
       "    <tr style=\"text-align: right;\">\n",
       "      <th></th>\n",
       "      <th>0</th>\n",
       "      <th>1</th>\n",
       "      <th>2</th>\n",
       "      <th>3</th>\n",
       "      <th>4</th>\n",
       "      <th>5</th>\n",
       "      <th>6</th>\n",
       "      <th>7</th>\n",
       "      <th>8</th>\n",
       "      <th>9</th>\n",
       "    </tr>\n",
       "  </thead>\n",
       "  <tbody>\n",
       "    <tr>\n",
       "      <th>a</th>\n",
       "      <td>0.526523</td>\n",
       "      <td>0.142312</td>\n",
       "      <td>0.075666</td>\n",
       "      <td>0.597908</td>\n",
       "      <td>0.701544</td>\n",
       "      <td>0.520640</td>\n",
       "      <td>0.008380</td>\n",
       "      <td>0.119272</td>\n",
       "      <td>0.139574</td>\n",
       "      <td>0.245947</td>\n",
       "    </tr>\n",
       "    <tr>\n",
       "      <th>b</th>\n",
       "      <td>0.646129</td>\n",
       "      <td>0.155073</td>\n",
       "      <td>0.905112</td>\n",
       "      <td>0.807950</td>\n",
       "      <td>0.536185</td>\n",
       "      <td>0.558583</td>\n",
       "      <td>0.375240</td>\n",
       "      <td>0.137705</td>\n",
       "      <td>0.227083</td>\n",
       "      <td>0.799297</td>\n",
       "    </tr>\n",
       "    <tr>\n",
       "      <th>c</th>\n",
       "      <td>0.328093</td>\n",
       "      <td>0.081022</td>\n",
       "      <td>0.801680</td>\n",
       "      <td>0.239700</td>\n",
       "      <td>0.339230</td>\n",
       "      <td>0.603944</td>\n",
       "      <td>0.065813</td>\n",
       "      <td>0.438819</td>\n",
       "      <td>0.139183</td>\n",
       "      <td>0.819919</td>\n",
       "    </tr>\n",
       "    <tr>\n",
       "      <th>d</th>\n",
       "      <td>0.542140</td>\n",
       "      <td>0.129267</td>\n",
       "      <td>0.673416</td>\n",
       "      <td>0.974175</td>\n",
       "      <td>0.034987</td>\n",
       "      <td>0.876104</td>\n",
       "      <td>0.247630</td>\n",
       "      <td>0.022811</td>\n",
       "      <td>0.568313</td>\n",
       "      <td>0.514842</td>\n",
       "    </tr>\n",
       "    <tr>\n",
       "      <th>e</th>\n",
       "      <td>0.669866</td>\n",
       "      <td>0.120308</td>\n",
       "      <td>0.432759</td>\n",
       "      <td>0.048770</td>\n",
       "      <td>0.086807</td>\n",
       "      <td>0.777528</td>\n",
       "      <td>0.426105</td>\n",
       "      <td>0.589185</td>\n",
       "      <td>0.247295</td>\n",
       "      <td>0.590850</td>\n",
       "    </tr>\n",
       "    <tr>\n",
       "      <th>f</th>\n",
       "      <td>0.858766</td>\n",
       "      <td>0.893970</td>\n",
       "      <td>0.965312</td>\n",
       "      <td>0.599771</td>\n",
       "      <td>0.008397</td>\n",
       "      <td>0.931019</td>\n",
       "      <td>0.877152</td>\n",
       "      <td>0.796253</td>\n",
       "      <td>0.838505</td>\n",
       "      <td>0.100530</td>\n",
       "    </tr>\n",
       "    <tr>\n",
       "      <th>g</th>\n",
       "      <td>0.671719</td>\n",
       "      <td>0.354013</td>\n",
       "      <td>0.745144</td>\n",
       "      <td>0.165029</td>\n",
       "      <td>0.309216</td>\n",
       "      <td>0.813043</td>\n",
       "      <td>0.074765</td>\n",
       "      <td>0.086852</td>\n",
       "      <td>0.319146</td>\n",
       "      <td>0.237352</td>\n",
       "    </tr>\n",
       "    <tr>\n",
       "      <th>h</th>\n",
       "      <td>0.477890</td>\n",
       "      <td>0.747348</td>\n",
       "      <td>0.262858</td>\n",
       "      <td>0.594847</td>\n",
       "      <td>0.715586</td>\n",
       "      <td>0.594747</td>\n",
       "      <td>0.471509</td>\n",
       "      <td>0.034527</td>\n",
       "      <td>0.723323</td>\n",
       "      <td>0.470288</td>\n",
       "    </tr>\n",
       "    <tr>\n",
       "      <th>i</th>\n",
       "      <td>0.028777</td>\n",
       "      <td>0.830789</td>\n",
       "      <td>0.312892</td>\n",
       "      <td>0.304020</td>\n",
       "      <td>0.124230</td>\n",
       "      <td>0.574190</td>\n",
       "      <td>0.455457</td>\n",
       "      <td>0.821227</td>\n",
       "      <td>0.761816</td>\n",
       "      <td>0.108464</td>\n",
       "    </tr>\n",
       "    <tr>\n",
       "      <th>j</th>\n",
       "      <td>0.960865</td>\n",
       "      <td>0.838943</td>\n",
       "      <td>0.846329</td>\n",
       "      <td>0.269033</td>\n",
       "      <td>0.145474</td>\n",
       "      <td>0.758891</td>\n",
       "      <td>0.286768</td>\n",
       "      <td>0.368969</td>\n",
       "      <td>0.378129</td>\n",
       "      <td>0.780415</td>\n",
       "    </tr>\n",
       "  </tbody>\n",
       "</table>\n",
       "</div>"
      ],
      "text/plain": [
       "          0         1         2         3         4         5         6  \\\n",
       "a  0.526523  0.142312  0.075666  0.597908  0.701544  0.520640  0.008380   \n",
       "b  0.646129  0.155073  0.905112  0.807950  0.536185  0.558583  0.375240   \n",
       "c  0.328093  0.081022  0.801680  0.239700  0.339230  0.603944  0.065813   \n",
       "d  0.542140  0.129267  0.673416  0.974175  0.034987  0.876104  0.247630   \n",
       "e  0.669866  0.120308  0.432759  0.048770  0.086807  0.777528  0.426105   \n",
       "f  0.858766  0.893970  0.965312  0.599771  0.008397  0.931019  0.877152   \n",
       "g  0.671719  0.354013  0.745144  0.165029  0.309216  0.813043  0.074765   \n",
       "h  0.477890  0.747348  0.262858  0.594847  0.715586  0.594747  0.471509   \n",
       "i  0.028777  0.830789  0.312892  0.304020  0.124230  0.574190  0.455457   \n",
       "j  0.960865  0.838943  0.846329  0.269033  0.145474  0.758891  0.286768   \n",
       "\n",
       "          7         8         9  \n",
       "a  0.119272  0.139574  0.245947  \n",
       "b  0.137705  0.227083  0.799297  \n",
       "c  0.438819  0.139183  0.819919  \n",
       "d  0.022811  0.568313  0.514842  \n",
       "e  0.589185  0.247295  0.590850  \n",
       "f  0.796253  0.838505  0.100530  \n",
       "g  0.086852  0.319146  0.237352  \n",
       "h  0.034527  0.723323  0.470288  \n",
       "i  0.821227  0.761816  0.108464  \n",
       "j  0.368969  0.378129  0.780415  "
      ]
     },
     "execution_count": 89,
     "metadata": {},
     "output_type": "execute_result"
    }
   ],
   "source": [
    "df"
   ]
  },
  {
   "cell_type": "code",
   "execution_count": 90,
   "metadata": {},
   "outputs": [
    {
     "data": {
      "text/plain": [
       "array([[0.52652326, 0.14231249, 0.07566598, 0.59790843, 0.70154418,\n",
       "        0.52064036, 0.00837979, 0.11927175, 0.13957386, 0.2459467 ],\n",
       "       [0.6461288 , 0.15507331, 0.90511239, 0.80794971, 0.53618462,\n",
       "        0.5585833 , 0.37523991, 0.13770533, 0.22708269, 0.79929664],\n",
       "       [0.32809269, 0.08102169, 0.80168028, 0.2397003 , 0.33923008,\n",
       "        0.6039445 , 0.06581277, 0.43881912, 0.13918295, 0.81991938],\n",
       "       [0.54214022, 0.12926722, 0.67341643, 0.97417468, 0.0349868 ,\n",
       "        0.87610442, 0.24762983, 0.0228108 , 0.5683135 , 0.51484197],\n",
       "       [0.66986602, 0.12030778, 0.43275939, 0.0487702 , 0.08680747,\n",
       "        0.77752797, 0.42610501, 0.58918494, 0.24729525, 0.59084971],\n",
       "       [0.85876637, 0.89397025, 0.96531165, 0.59977053, 0.00839696,\n",
       "        0.93101856, 0.87715167, 0.79625335, 0.83850491, 0.10052971],\n",
       "       [0.67171947, 0.35401307, 0.74514409, 0.16502892, 0.30921615,\n",
       "        0.81304308, 0.074765  , 0.08685205, 0.31914575, 0.23735222],\n",
       "       [0.47789035, 0.74734751, 0.26285763, 0.59484722, 0.7155864 ,\n",
       "        0.59474681, 0.47150914, 0.03452718, 0.72332275, 0.47028776],\n",
       "       [0.02877749, 0.83078924, 0.31289166, 0.30402027, 0.12422959,\n",
       "        0.5741902 , 0.45545665, 0.8212274 , 0.76181614, 0.108464  ],\n",
       "       [0.96086507, 0.83894286, 0.84632944, 0.26903294, 0.14547441,\n",
       "        0.75889114, 0.28676771, 0.36896895, 0.37812949, 0.78041529]])"
      ]
     },
     "execution_count": 90,
     "metadata": {},
     "output_type": "execute_result"
    }
   ],
   "source": [
    "# Still just NumPy array under the hood\n",
    "df.values"
   ]
  },
  {
   "cell_type": "code",
   "execution_count": 91,
   "metadata": {},
   "outputs": [
    {
     "data": {
      "text/plain": [
       "array(['a', 'b', 'c', 'd', 'e', 'f', 'g', 'h', 'i', 'j'], dtype=object)"
      ]
     },
     "execution_count": 91,
     "metadata": {},
     "output_type": "execute_result"
    }
   ],
   "source": [
    "df.index.values"
   ]
  },
  {
   "cell_type": "code",
   "execution_count": 92,
   "metadata": {},
   "outputs": [
    {
     "data": {
      "text/plain": [
       "0    0.571077\n",
       "1    0.429305\n",
       "2    0.602117\n",
       "3    0.460120\n",
       "4    0.300166\n",
       "5    0.700869\n",
       "6    0.328882\n",
       "7    0.341562\n",
       "8    0.434237\n",
       "9    0.466790\n",
       "dtype: float64"
      ]
     },
     "execution_count": 92,
     "metadata": {},
     "output_type": "execute_result"
    }
   ],
   "source": [
    "# Mean of each column\n",
    "df.mean()"
   ]
  },
  {
   "cell_type": "code",
   "execution_count": 93,
   "metadata": {},
   "outputs": [
    {
     "data": {
      "text/plain": [
       "a    0.307777\n",
       "b    0.514836\n",
       "c    0.385740\n",
       "d    0.458369\n",
       "e    0.398947\n",
       "f    0.686967\n",
       "g    0.377628\n",
       "h    0.509292\n",
       "i    0.432186\n",
       "j    0.563382\n",
       "dtype: float64"
      ]
     },
     "execution_count": 93,
     "metadata": {},
     "output_type": "execute_result"
    }
   ],
   "source": [
    "# Mean of each row\n",
    "df.mean(axis=1)"
   ]
  },
  {
   "cell_type": "markdown",
   "metadata": {},
   "source": [
    "### Reading files with Pandas\n",
    "Most of the time, you will read in tabular data and let Pandas do the work"
   ]
  },
  {
   "cell_type": "code",
   "execution_count": 94,
   "metadata": {},
   "outputs": [],
   "source": [
    "# Relative path to csv from Lab01\n",
    "csv_fn = '../01_Shell_Github/data/GLAH14_tllz_conus_lulcfilt_demfilt.csv'"
   ]
  },
  {
   "cell_type": "code",
   "execution_count": 95,
   "metadata": {},
   "outputs": [
    {
     "name": "stdout",
     "output_type": "stream",
     "text": [
      "decyear,ordinal,lat,lon,glas_z,dem_z,dem_z_std,lulc\n",
      "2003.13957078,731266.9433448168,44.157897,-105.356562,1398.51,1400.52,0.33,31\n",
      "2003.13957081,731266.9433462636,44.150175,-105.358116,1387.11,1384.64,0.43,31\n",
      "2003.13957081,731266.9433465529,44.148632,-105.358427,1392.83,1383.49,0.28,31\n",
      "2003.13957081,731266.9433468423,44.147087,-105.358738,1384.24,1382.85,0.84,31\n"
     ]
    }
   ],
   "source": [
    "# Quick check using shell `head` command\n",
    "!head -n 5 $csv_fn"
   ]
  },
  {
   "cell_type": "code",
   "execution_count": 96,
   "metadata": {},
   "outputs": [
    {
     "data": {
      "text/html": [
       "<div>\n",
       "<style scoped>\n",
       "    .dataframe tbody tr th:only-of-type {\n",
       "        vertical-align: middle;\n",
       "    }\n",
       "\n",
       "    .dataframe tbody tr th {\n",
       "        vertical-align: top;\n",
       "    }\n",
       "\n",
       "    .dataframe thead th {\n",
       "        text-align: right;\n",
       "    }\n",
       "</style>\n",
       "<table border=\"1\" class=\"dataframe\">\n",
       "  <thead>\n",
       "    <tr style=\"text-align: right;\">\n",
       "      <th></th>\n",
       "      <th>decyear</th>\n",
       "      <th>ordinal</th>\n",
       "      <th>lat</th>\n",
       "      <th>lon</th>\n",
       "      <th>glas_z</th>\n",
       "      <th>dem_z</th>\n",
       "      <th>dem_z_std</th>\n",
       "      <th>lulc</th>\n",
       "    </tr>\n",
       "  </thead>\n",
       "  <tbody>\n",
       "    <tr>\n",
       "      <th>0</th>\n",
       "      <td>2003.139571</td>\n",
       "      <td>731266.943345</td>\n",
       "      <td>44.157897</td>\n",
       "      <td>-105.356562</td>\n",
       "      <td>1398.51</td>\n",
       "      <td>1400.52</td>\n",
       "      <td>0.33</td>\n",
       "      <td>31</td>\n",
       "    </tr>\n",
       "    <tr>\n",
       "      <th>1</th>\n",
       "      <td>2003.139571</td>\n",
       "      <td>731266.943346</td>\n",
       "      <td>44.150175</td>\n",
       "      <td>-105.358116</td>\n",
       "      <td>1387.11</td>\n",
       "      <td>1384.64</td>\n",
       "      <td>0.43</td>\n",
       "      <td>31</td>\n",
       "    </tr>\n",
       "    <tr>\n",
       "      <th>2</th>\n",
       "      <td>2003.139571</td>\n",
       "      <td>731266.943347</td>\n",
       "      <td>44.148632</td>\n",
       "      <td>-105.358427</td>\n",
       "      <td>1392.83</td>\n",
       "      <td>1383.49</td>\n",
       "      <td>0.28</td>\n",
       "      <td>31</td>\n",
       "    </tr>\n",
       "    <tr>\n",
       "      <th>3</th>\n",
       "      <td>2003.139571</td>\n",
       "      <td>731266.943347</td>\n",
       "      <td>44.147087</td>\n",
       "      <td>-105.358738</td>\n",
       "      <td>1384.24</td>\n",
       "      <td>1382.85</td>\n",
       "      <td>0.84</td>\n",
       "      <td>31</td>\n",
       "    </tr>\n",
       "    <tr>\n",
       "      <th>4</th>\n",
       "      <td>2003.139571</td>\n",
       "      <td>731266.943347</td>\n",
       "      <td>44.145542</td>\n",
       "      <td>-105.359048</td>\n",
       "      <td>1369.21</td>\n",
       "      <td>1380.24</td>\n",
       "      <td>1.73</td>\n",
       "      <td>31</td>\n",
       "    </tr>\n",
       "    <tr>\n",
       "      <th>...</th>\n",
       "      <td>...</td>\n",
       "      <td>...</td>\n",
       "      <td>...</td>\n",
       "      <td>...</td>\n",
       "      <td>...</td>\n",
       "      <td>...</td>\n",
       "      <td>...</td>\n",
       "      <td>...</td>\n",
       "    </tr>\n",
       "    <tr>\n",
       "      <th>65231</th>\n",
       "      <td>2009.775995</td>\n",
       "      <td>733691.238340</td>\n",
       "      <td>37.896222</td>\n",
       "      <td>-117.044399</td>\n",
       "      <td>1556.16</td>\n",
       "      <td>1556.43</td>\n",
       "      <td>0.00</td>\n",
       "      <td>31</td>\n",
       "    </tr>\n",
       "    <tr>\n",
       "      <th>65232</th>\n",
       "      <td>2009.775995</td>\n",
       "      <td>733691.238340</td>\n",
       "      <td>37.897769</td>\n",
       "      <td>-117.044675</td>\n",
       "      <td>1556.02</td>\n",
       "      <td>1556.43</td>\n",
       "      <td>0.00</td>\n",
       "      <td>31</td>\n",
       "    </tr>\n",
       "    <tr>\n",
       "      <th>65233</th>\n",
       "      <td>2009.775995</td>\n",
       "      <td>733691.238340</td>\n",
       "      <td>37.899319</td>\n",
       "      <td>-117.044952</td>\n",
       "      <td>1556.19</td>\n",
       "      <td>1556.44</td>\n",
       "      <td>0.00</td>\n",
       "      <td>31</td>\n",
       "    </tr>\n",
       "    <tr>\n",
       "      <th>65234</th>\n",
       "      <td>2009.775995</td>\n",
       "      <td>733691.238340</td>\n",
       "      <td>37.900869</td>\n",
       "      <td>-117.045230</td>\n",
       "      <td>1556.18</td>\n",
       "      <td>1556.44</td>\n",
       "      <td>0.00</td>\n",
       "      <td>31</td>\n",
       "    </tr>\n",
       "    <tr>\n",
       "      <th>65235</th>\n",
       "      <td>2009.775995</td>\n",
       "      <td>733691.238341</td>\n",
       "      <td>37.902420</td>\n",
       "      <td>-117.045508</td>\n",
       "      <td>1556.32</td>\n",
       "      <td>1556.44</td>\n",
       "      <td>0.00</td>\n",
       "      <td>31</td>\n",
       "    </tr>\n",
       "  </tbody>\n",
       "</table>\n",
       "<p>65236 rows × 8 columns</p>\n",
       "</div>"
      ],
      "text/plain": [
       "           decyear        ordinal        lat         lon   glas_z    dem_z  \\\n",
       "0      2003.139571  731266.943345  44.157897 -105.356562  1398.51  1400.52   \n",
       "1      2003.139571  731266.943346  44.150175 -105.358116  1387.11  1384.64   \n",
       "2      2003.139571  731266.943347  44.148632 -105.358427  1392.83  1383.49   \n",
       "3      2003.139571  731266.943347  44.147087 -105.358738  1384.24  1382.85   \n",
       "4      2003.139571  731266.943347  44.145542 -105.359048  1369.21  1380.24   \n",
       "...            ...            ...        ...         ...      ...      ...   \n",
       "65231  2009.775995  733691.238340  37.896222 -117.044399  1556.16  1556.43   \n",
       "65232  2009.775995  733691.238340  37.897769 -117.044675  1556.02  1556.43   \n",
       "65233  2009.775995  733691.238340  37.899319 -117.044952  1556.19  1556.44   \n",
       "65234  2009.775995  733691.238340  37.900869 -117.045230  1556.18  1556.44   \n",
       "65235  2009.775995  733691.238341  37.902420 -117.045508  1556.32  1556.44   \n",
       "\n",
       "       dem_z_std  lulc  \n",
       "0           0.33    31  \n",
       "1           0.43    31  \n",
       "2           0.28    31  \n",
       "3           0.84    31  \n",
       "4           1.73    31  \n",
       "...          ...   ...  \n",
       "65231       0.00    31  \n",
       "65232       0.00    31  \n",
       "65233       0.00    31  \n",
       "65234       0.00    31  \n",
       "65235       0.00    31  \n",
       "\n",
       "[65236 rows x 8 columns]"
      ]
     },
     "execution_count": 96,
     "metadata": {},
     "output_type": "execute_result"
    }
   ],
   "source": [
    "pd.read_csv(csv_fn)"
   ]
  },
  {
   "cell_type": "code",
   "execution_count": 97,
   "metadata": {},
   "outputs": [
    {
     "data": {
      "text/html": [
       "<div>\n",
       "<style scoped>\n",
       "    .dataframe tbody tr th:only-of-type {\n",
       "        vertical-align: middle;\n",
       "    }\n",
       "\n",
       "    .dataframe tbody tr th {\n",
       "        vertical-align: top;\n",
       "    }\n",
       "\n",
       "    .dataframe thead th {\n",
       "        text-align: right;\n",
       "    }\n",
       "</style>\n",
       "<table border=\"1\" class=\"dataframe\">\n",
       "  <thead>\n",
       "    <tr style=\"text-align: right;\">\n",
       "      <th></th>\n",
       "      <th>decyear</th>\n",
       "      <th>ordinal</th>\n",
       "      <th>lat</th>\n",
       "      <th>lon</th>\n",
       "      <th>glas_z</th>\n",
       "      <th>dem_z</th>\n",
       "      <th>dem_z_std</th>\n",
       "      <th>lulc</th>\n",
       "    </tr>\n",
       "  </thead>\n",
       "  <tbody>\n",
       "    <tr>\n",
       "      <th>0</th>\n",
       "      <td>2003.139571</td>\n",
       "      <td>731266.943345</td>\n",
       "      <td>44.157897</td>\n",
       "      <td>-105.356562</td>\n",
       "      <td>1398.51</td>\n",
       "      <td>1400.52</td>\n",
       "      <td>0.33</td>\n",
       "      <td>31</td>\n",
       "    </tr>\n",
       "    <tr>\n",
       "      <th>1</th>\n",
       "      <td>2003.139571</td>\n",
       "      <td>731266.943346</td>\n",
       "      <td>44.150175</td>\n",
       "      <td>-105.358116</td>\n",
       "      <td>1387.11</td>\n",
       "      <td>1384.64</td>\n",
       "      <td>0.43</td>\n",
       "      <td>31</td>\n",
       "    </tr>\n",
       "    <tr>\n",
       "      <th>2</th>\n",
       "      <td>2003.139571</td>\n",
       "      <td>731266.943347</td>\n",
       "      <td>44.148632</td>\n",
       "      <td>-105.358427</td>\n",
       "      <td>1392.83</td>\n",
       "      <td>1383.49</td>\n",
       "      <td>0.28</td>\n",
       "      <td>31</td>\n",
       "    </tr>\n",
       "    <tr>\n",
       "      <th>3</th>\n",
       "      <td>2003.139571</td>\n",
       "      <td>731266.943347</td>\n",
       "      <td>44.147087</td>\n",
       "      <td>-105.358738</td>\n",
       "      <td>1384.24</td>\n",
       "      <td>1382.85</td>\n",
       "      <td>0.84</td>\n",
       "      <td>31</td>\n",
       "    </tr>\n",
       "    <tr>\n",
       "      <th>4</th>\n",
       "      <td>2003.139571</td>\n",
       "      <td>731266.943347</td>\n",
       "      <td>44.145542</td>\n",
       "      <td>-105.359048</td>\n",
       "      <td>1369.21</td>\n",
       "      <td>1380.24</td>\n",
       "      <td>1.73</td>\n",
       "      <td>31</td>\n",
       "    </tr>\n",
       "    <tr>\n",
       "      <th>...</th>\n",
       "      <td>...</td>\n",
       "      <td>...</td>\n",
       "      <td>...</td>\n",
       "      <td>...</td>\n",
       "      <td>...</td>\n",
       "      <td>...</td>\n",
       "      <td>...</td>\n",
       "      <td>...</td>\n",
       "    </tr>\n",
       "    <tr>\n",
       "      <th>65231</th>\n",
       "      <td>2009.775995</td>\n",
       "      <td>733691.238340</td>\n",
       "      <td>37.896222</td>\n",
       "      <td>-117.044399</td>\n",
       "      <td>1556.16</td>\n",
       "      <td>1556.43</td>\n",
       "      <td>0.00</td>\n",
       "      <td>31</td>\n",
       "    </tr>\n",
       "    <tr>\n",
       "      <th>65232</th>\n",
       "      <td>2009.775995</td>\n",
       "      <td>733691.238340</td>\n",
       "      <td>37.897769</td>\n",
       "      <td>-117.044675</td>\n",
       "      <td>1556.02</td>\n",
       "      <td>1556.43</td>\n",
       "      <td>0.00</td>\n",
       "      <td>31</td>\n",
       "    </tr>\n",
       "    <tr>\n",
       "      <th>65233</th>\n",
       "      <td>2009.775995</td>\n",
       "      <td>733691.238340</td>\n",
       "      <td>37.899319</td>\n",
       "      <td>-117.044952</td>\n",
       "      <td>1556.19</td>\n",
       "      <td>1556.44</td>\n",
       "      <td>0.00</td>\n",
       "      <td>31</td>\n",
       "    </tr>\n",
       "    <tr>\n",
       "      <th>65234</th>\n",
       "      <td>2009.775995</td>\n",
       "      <td>733691.238340</td>\n",
       "      <td>37.900869</td>\n",
       "      <td>-117.045230</td>\n",
       "      <td>1556.18</td>\n",
       "      <td>1556.44</td>\n",
       "      <td>0.00</td>\n",
       "      <td>31</td>\n",
       "    </tr>\n",
       "    <tr>\n",
       "      <th>65235</th>\n",
       "      <td>2009.775995</td>\n",
       "      <td>733691.238341</td>\n",
       "      <td>37.902420</td>\n",
       "      <td>-117.045508</td>\n",
       "      <td>1556.32</td>\n",
       "      <td>1556.44</td>\n",
       "      <td>0.00</td>\n",
       "      <td>31</td>\n",
       "    </tr>\n",
       "  </tbody>\n",
       "</table>\n",
       "<p>65236 rows × 8 columns</p>\n",
       "</div>"
      ],
      "text/plain": [
       "           decyear        ordinal        lat         lon   glas_z    dem_z  \\\n",
       "0      2003.139571  731266.943345  44.157897 -105.356562  1398.51  1400.52   \n",
       "1      2003.139571  731266.943346  44.150175 -105.358116  1387.11  1384.64   \n",
       "2      2003.139571  731266.943347  44.148632 -105.358427  1392.83  1383.49   \n",
       "3      2003.139571  731266.943347  44.147087 -105.358738  1384.24  1382.85   \n",
       "4      2003.139571  731266.943347  44.145542 -105.359048  1369.21  1380.24   \n",
       "...            ...            ...        ...         ...      ...      ...   \n",
       "65231  2009.775995  733691.238340  37.896222 -117.044399  1556.16  1556.43   \n",
       "65232  2009.775995  733691.238340  37.897769 -117.044675  1556.02  1556.43   \n",
       "65233  2009.775995  733691.238340  37.899319 -117.044952  1556.19  1556.44   \n",
       "65234  2009.775995  733691.238340  37.900869 -117.045230  1556.18  1556.44   \n",
       "65235  2009.775995  733691.238341  37.902420 -117.045508  1556.32  1556.44   \n",
       "\n",
       "       dem_z_std  lulc  \n",
       "0           0.33    31  \n",
       "1           0.43    31  \n",
       "2           0.28    31  \n",
       "3           0.84    31  \n",
       "4           1.73    31  \n",
       "...          ...   ...  \n",
       "65231       0.00    31  \n",
       "65232       0.00    31  \n",
       "65233       0.00    31  \n",
       "65234       0.00    31  \n",
       "65235       0.00    31  \n",
       "\n",
       "[65236 rows x 8 columns]"
      ]
     },
     "execution_count": 97,
     "metadata": {},
     "output_type": "execute_result"
    }
   ],
   "source": [
    "# Store output as a new Pandas DataFrame\n",
    "glas_df = pd.read_csv(csv_fn)\n",
    "glas_df"
   ]
  },
  {
   "cell_type": "code",
   "execution_count": 98,
   "metadata": {},
   "outputs": [
    {
     "data": {
      "text/plain": [
       "pandas.core.frame.DataFrame"
      ]
     },
     "execution_count": 98,
     "metadata": {},
     "output_type": "execute_result"
    }
   ],
   "source": [
    "type(glas_df)"
   ]
  },
  {
   "cell_type": "code",
   "execution_count": 99,
   "metadata": {},
   "outputs": [
    {
     "data": {
      "text/html": [
       "<div>\n",
       "<style scoped>\n",
       "    .dataframe tbody tr th:only-of-type {\n",
       "        vertical-align: middle;\n",
       "    }\n",
       "\n",
       "    .dataframe tbody tr th {\n",
       "        vertical-align: top;\n",
       "    }\n",
       "\n",
       "    .dataframe thead th {\n",
       "        text-align: right;\n",
       "    }\n",
       "</style>\n",
       "<table border=\"1\" class=\"dataframe\">\n",
       "  <thead>\n",
       "    <tr style=\"text-align: right;\">\n",
       "      <th></th>\n",
       "      <th>decyear</th>\n",
       "      <th>ordinal</th>\n",
       "      <th>lat</th>\n",
       "      <th>lon</th>\n",
       "      <th>glas_z</th>\n",
       "      <th>dem_z</th>\n",
       "      <th>dem_z_std</th>\n",
       "      <th>lulc</th>\n",
       "    </tr>\n",
       "  </thead>\n",
       "  <tbody>\n",
       "    <tr>\n",
       "      <th>1</th>\n",
       "      <td>2003.139571</td>\n",
       "      <td>731266.943345</td>\n",
       "      <td>44.157897</td>\n",
       "      <td>-105.356562</td>\n",
       "      <td>1398.51</td>\n",
       "      <td>1400.52</td>\n",
       "      <td>0.33</td>\n",
       "      <td>31</td>\n",
       "    </tr>\n",
       "    <tr>\n",
       "      <th>11</th>\n",
       "      <td>2003.139571</td>\n",
       "      <td>731266.943346</td>\n",
       "      <td>44.150175</td>\n",
       "      <td>-105.358116</td>\n",
       "      <td>1387.11</td>\n",
       "      <td>1384.64</td>\n",
       "      <td>0.43</td>\n",
       "      <td>31</td>\n",
       "    </tr>\n",
       "    <tr>\n",
       "      <th>21</th>\n",
       "      <td>2003.139571</td>\n",
       "      <td>731266.943347</td>\n",
       "      <td>44.148632</td>\n",
       "      <td>-105.358427</td>\n",
       "      <td>1392.83</td>\n",
       "      <td>1383.49</td>\n",
       "      <td>0.28</td>\n",
       "      <td>31</td>\n",
       "    </tr>\n",
       "    <tr>\n",
       "      <th>31</th>\n",
       "      <td>2003.139571</td>\n",
       "      <td>731266.943347</td>\n",
       "      <td>44.147087</td>\n",
       "      <td>-105.358738</td>\n",
       "      <td>1384.24</td>\n",
       "      <td>1382.85</td>\n",
       "      <td>0.84</td>\n",
       "      <td>31</td>\n",
       "    </tr>\n",
       "    <tr>\n",
       "      <th>41</th>\n",
       "      <td>2003.139571</td>\n",
       "      <td>731266.943347</td>\n",
       "      <td>44.145542</td>\n",
       "      <td>-105.359048</td>\n",
       "      <td>1369.21</td>\n",
       "      <td>1380.24</td>\n",
       "      <td>1.73</td>\n",
       "      <td>31</td>\n",
       "    </tr>\n",
       "    <tr>\n",
       "      <th>...</th>\n",
       "      <td>...</td>\n",
       "      <td>...</td>\n",
       "      <td>...</td>\n",
       "      <td>...</td>\n",
       "      <td>...</td>\n",
       "      <td>...</td>\n",
       "      <td>...</td>\n",
       "      <td>...</td>\n",
       "    </tr>\n",
       "    <tr>\n",
       "      <th>652311</th>\n",
       "      <td>2009.775995</td>\n",
       "      <td>733691.238340</td>\n",
       "      <td>37.896222</td>\n",
       "      <td>-117.044399</td>\n",
       "      <td>1556.16</td>\n",
       "      <td>1556.43</td>\n",
       "      <td>0.00</td>\n",
       "      <td>31</td>\n",
       "    </tr>\n",
       "    <tr>\n",
       "      <th>652321</th>\n",
       "      <td>2009.775995</td>\n",
       "      <td>733691.238340</td>\n",
       "      <td>37.897769</td>\n",
       "      <td>-117.044675</td>\n",
       "      <td>1556.02</td>\n",
       "      <td>1556.43</td>\n",
       "      <td>0.00</td>\n",
       "      <td>31</td>\n",
       "    </tr>\n",
       "    <tr>\n",
       "      <th>652331</th>\n",
       "      <td>2009.775995</td>\n",
       "      <td>733691.238340</td>\n",
       "      <td>37.899319</td>\n",
       "      <td>-117.044952</td>\n",
       "      <td>1556.19</td>\n",
       "      <td>1556.44</td>\n",
       "      <td>0.00</td>\n",
       "      <td>31</td>\n",
       "    </tr>\n",
       "    <tr>\n",
       "      <th>652341</th>\n",
       "      <td>2009.775995</td>\n",
       "      <td>733691.238340</td>\n",
       "      <td>37.900869</td>\n",
       "      <td>-117.045230</td>\n",
       "      <td>1556.18</td>\n",
       "      <td>1556.44</td>\n",
       "      <td>0.00</td>\n",
       "      <td>31</td>\n",
       "    </tr>\n",
       "    <tr>\n",
       "      <th>652351</th>\n",
       "      <td>2009.775995</td>\n",
       "      <td>733691.238341</td>\n",
       "      <td>37.902420</td>\n",
       "      <td>-117.045508</td>\n",
       "      <td>1556.32</td>\n",
       "      <td>1556.44</td>\n",
       "      <td>0.00</td>\n",
       "      <td>31</td>\n",
       "    </tr>\n",
       "  </tbody>\n",
       "</table>\n",
       "<p>65236 rows × 8 columns</p>\n",
       "</div>"
      ],
      "text/plain": [
       "            decyear        ordinal        lat         lon   glas_z    dem_z  \\\n",
       "1       2003.139571  731266.943345  44.157897 -105.356562  1398.51  1400.52   \n",
       "11      2003.139571  731266.943346  44.150175 -105.358116  1387.11  1384.64   \n",
       "21      2003.139571  731266.943347  44.148632 -105.358427  1392.83  1383.49   \n",
       "31      2003.139571  731266.943347  44.147087 -105.358738  1384.24  1382.85   \n",
       "41      2003.139571  731266.943347  44.145542 -105.359048  1369.21  1380.24   \n",
       "...             ...            ...        ...         ...      ...      ...   \n",
       "652311  2009.775995  733691.238340  37.896222 -117.044399  1556.16  1556.43   \n",
       "652321  2009.775995  733691.238340  37.897769 -117.044675  1556.02  1556.43   \n",
       "652331  2009.775995  733691.238340  37.899319 -117.044952  1556.19  1556.44   \n",
       "652341  2009.775995  733691.238340  37.900869 -117.045230  1556.18  1556.44   \n",
       "652351  2009.775995  733691.238341  37.902420 -117.045508  1556.32  1556.44   \n",
       "\n",
       "        dem_z_std  lulc  \n",
       "1            0.33    31  \n",
       "11           0.43    31  \n",
       "21           0.28    31  \n",
       "31           0.84    31  \n",
       "41           1.73    31  \n",
       "...           ...   ...  \n",
       "652311       0.00    31  \n",
       "652321       0.00    31  \n",
       "652331       0.00    31  \n",
       "652341       0.00    31  \n",
       "652351       0.00    31  \n",
       "\n",
       "[65236 rows x 8 columns]"
      ]
     },
     "execution_count": 99,
     "metadata": {},
     "output_type": "execute_result"
    }
   ],
   "source": [
    "# For demonstration purpuoses - multiply index to illustrate difference between loc and iloc\n",
    "glas_df.set_index(glas_df.index*10+1, inplace=True)\n",
    "glas_df"
   ]
  },
  {
   "cell_type": "code",
   "execution_count": 100,
   "metadata": {},
   "outputs": [
    {
     "data": {
      "text/html": [
       "<div>\n",
       "<style scoped>\n",
       "    .dataframe tbody tr th:only-of-type {\n",
       "        vertical-align: middle;\n",
       "    }\n",
       "\n",
       "    .dataframe tbody tr th {\n",
       "        vertical-align: top;\n",
       "    }\n",
       "\n",
       "    .dataframe thead th {\n",
       "        text-align: right;\n",
       "    }\n",
       "</style>\n",
       "<table border=\"1\" class=\"dataframe\">\n",
       "  <thead>\n",
       "    <tr style=\"text-align: right;\">\n",
       "      <th></th>\n",
       "      <th>decyear</th>\n",
       "      <th>ordinal</th>\n",
       "      <th>lat</th>\n",
       "      <th>lon</th>\n",
       "      <th>glas_z</th>\n",
       "      <th>dem_z</th>\n",
       "      <th>dem_z_std</th>\n",
       "      <th>lulc</th>\n",
       "    </tr>\n",
       "  </thead>\n",
       "  <tbody>\n",
       "    <tr>\n",
       "      <th>count</th>\n",
       "      <td>65236.000000</td>\n",
       "      <td>65236.000000</td>\n",
       "      <td>65236.000000</td>\n",
       "      <td>65236.000000</td>\n",
       "      <td>65236.000000</td>\n",
       "      <td>65236.000000</td>\n",
       "      <td>65236.000000</td>\n",
       "      <td>65236.000000</td>\n",
       "    </tr>\n",
       "    <tr>\n",
       "      <th>mean</th>\n",
       "      <td>2005.945322</td>\n",
       "      <td>732291.890372</td>\n",
       "      <td>40.946798</td>\n",
       "      <td>-115.040612</td>\n",
       "      <td>1791.494167</td>\n",
       "      <td>1792.260964</td>\n",
       "      <td>5.504748</td>\n",
       "      <td>30.339444</td>\n",
       "    </tr>\n",
       "    <tr>\n",
       "      <th>std</th>\n",
       "      <td>1.729573</td>\n",
       "      <td>631.766682</td>\n",
       "      <td>3.590476</td>\n",
       "      <td>5.465065</td>\n",
       "      <td>1037.183482</td>\n",
       "      <td>1037.925371</td>\n",
       "      <td>7.518558</td>\n",
       "      <td>3.480576</td>\n",
       "    </tr>\n",
       "    <tr>\n",
       "      <th>min</th>\n",
       "      <td>2003.139571</td>\n",
       "      <td>731266.943345</td>\n",
       "      <td>34.999455</td>\n",
       "      <td>-124.482406</td>\n",
       "      <td>-115.550000</td>\n",
       "      <td>-114.570000</td>\n",
       "      <td>0.000000</td>\n",
       "      <td>12.000000</td>\n",
       "    </tr>\n",
       "    <tr>\n",
       "      <th>25%</th>\n",
       "      <td>2004.444817</td>\n",
       "      <td>731743.803182</td>\n",
       "      <td>38.101451</td>\n",
       "      <td>-119.257599</td>\n",
       "      <td>1166.970000</td>\n",
       "      <td>1168.240000</td>\n",
       "      <td>0.070000</td>\n",
       "      <td>31.000000</td>\n",
       "    </tr>\n",
       "    <tr>\n",
       "      <th>50%</th>\n",
       "      <td>2005.846896</td>\n",
       "      <td>732256.116938</td>\n",
       "      <td>39.884541</td>\n",
       "      <td>-115.686241</td>\n",
       "      <td>1555.730000</td>\n",
       "      <td>1556.380000</td>\n",
       "      <td>1.350000</td>\n",
       "      <td>31.000000</td>\n",
       "    </tr>\n",
       "    <tr>\n",
       "      <th>75%</th>\n",
       "      <td>2007.223249</td>\n",
       "      <td>732758.486046</td>\n",
       "      <td>43.453565</td>\n",
       "      <td>-109.816475</td>\n",
       "      <td>2399.355000</td>\n",
       "      <td>2400.072500</td>\n",
       "      <td>9.530000</td>\n",
       "      <td>31.000000</td>\n",
       "    </tr>\n",
       "    <tr>\n",
       "      <th>max</th>\n",
       "      <td>2009.775995</td>\n",
       "      <td>733691.238341</td>\n",
       "      <td>48.999727</td>\n",
       "      <td>-104.052336</td>\n",
       "      <td>4340.310000</td>\n",
       "      <td>4252.940000</td>\n",
       "      <td>49.900000</td>\n",
       "      <td>31.000000</td>\n",
       "    </tr>\n",
       "  </tbody>\n",
       "</table>\n",
       "</div>"
      ],
      "text/plain": [
       "            decyear        ordinal           lat           lon        glas_z  \\\n",
       "count  65236.000000   65236.000000  65236.000000  65236.000000  65236.000000   \n",
       "mean    2005.945322  732291.890372     40.946798   -115.040612   1791.494167   \n",
       "std        1.729573     631.766682      3.590476      5.465065   1037.183482   \n",
       "min     2003.139571  731266.943345     34.999455   -124.482406   -115.550000   \n",
       "25%     2004.444817  731743.803182     38.101451   -119.257599   1166.970000   \n",
       "50%     2005.846896  732256.116938     39.884541   -115.686241   1555.730000   \n",
       "75%     2007.223249  732758.486046     43.453565   -109.816475   2399.355000   \n",
       "max     2009.775995  733691.238341     48.999727   -104.052336   4340.310000   \n",
       "\n",
       "              dem_z     dem_z_std          lulc  \n",
       "count  65236.000000  65236.000000  65236.000000  \n",
       "mean    1792.260964      5.504748     30.339444  \n",
       "std     1037.925371      7.518558      3.480576  \n",
       "min     -114.570000      0.000000     12.000000  \n",
       "25%     1168.240000      0.070000     31.000000  \n",
       "50%     1556.380000      1.350000     31.000000  \n",
       "75%     2400.072500      9.530000     31.000000  \n",
       "max     4252.940000     49.900000     31.000000  "
      ]
     },
     "execution_count": 100,
     "metadata": {},
     "output_type": "execute_result"
    }
   ],
   "source": [
    "# Awesome descriptive statistics for each column\n",
    "glas_df.describe()"
   ]
  },
  {
   "cell_type": "markdown",
   "metadata": {},
   "source": [
    "### Indexing and selecting\n",
    "* https://pandas.pydata.org/pandas-docs/stable/user_guide/indexing.html#different-choices-for-indexing"
   ]
  },
  {
   "cell_type": "code",
   "execution_count": 101,
   "metadata": {},
   "outputs": [
    {
     "data": {
      "text/plain": [
       "decyear        2003.139571\n",
       "ordinal      731266.943347\n",
       "lat              44.148632\n",
       "lon            -105.358427\n",
       "glas_z         1392.830000\n",
       "dem_z          1383.490000\n",
       "dem_z_std         0.280000\n",
       "lulc             31.000000\n",
       "Name: 21, dtype: float64"
      ]
     },
     "execution_count": 101,
     "metadata": {},
     "output_type": "execute_result"
    }
   ],
   "source": [
    "# Integer indexing like NumPy\n",
    "glas_df.iloc[2]"
   ]
  },
  {
   "cell_type": "code",
   "execution_count": 102,
   "metadata": {},
   "outputs": [
    {
     "data": {
      "text/html": [
       "<div>\n",
       "<style scoped>\n",
       "    .dataframe tbody tr th:only-of-type {\n",
       "        vertical-align: middle;\n",
       "    }\n",
       "\n",
       "    .dataframe tbody tr th {\n",
       "        vertical-align: top;\n",
       "    }\n",
       "\n",
       "    .dataframe thead th {\n",
       "        text-align: right;\n",
       "    }\n",
       "</style>\n",
       "<table border=\"1\" class=\"dataframe\">\n",
       "  <thead>\n",
       "    <tr style=\"text-align: right;\">\n",
       "      <th></th>\n",
       "      <th>decyear</th>\n",
       "      <th>ordinal</th>\n",
       "      <th>lat</th>\n",
       "      <th>lon</th>\n",
       "      <th>glas_z</th>\n",
       "      <th>dem_z</th>\n",
       "      <th>dem_z_std</th>\n",
       "      <th>lulc</th>\n",
       "    </tr>\n",
       "  </thead>\n",
       "  <tbody>\n",
       "    <tr>\n",
       "      <th>1</th>\n",
       "      <td>2003.139571</td>\n",
       "      <td>731266.943345</td>\n",
       "      <td>44.157897</td>\n",
       "      <td>-105.356562</td>\n",
       "      <td>1398.51</td>\n",
       "      <td>1400.52</td>\n",
       "      <td>0.33</td>\n",
       "      <td>31</td>\n",
       "    </tr>\n",
       "    <tr>\n",
       "      <th>11</th>\n",
       "      <td>2003.139571</td>\n",
       "      <td>731266.943346</td>\n",
       "      <td>44.150175</td>\n",
       "      <td>-105.358116</td>\n",
       "      <td>1387.11</td>\n",
       "      <td>1384.64</td>\n",
       "      <td>0.43</td>\n",
       "      <td>31</td>\n",
       "    </tr>\n",
       "    <tr>\n",
       "      <th>21</th>\n",
       "      <td>2003.139571</td>\n",
       "      <td>731266.943347</td>\n",
       "      <td>44.148632</td>\n",
       "      <td>-105.358427</td>\n",
       "      <td>1392.83</td>\n",
       "      <td>1383.49</td>\n",
       "      <td>0.28</td>\n",
       "      <td>31</td>\n",
       "    </tr>\n",
       "  </tbody>\n",
       "</table>\n",
       "</div>"
      ],
      "text/plain": [
       "        decyear        ordinal        lat         lon   glas_z    dem_z  \\\n",
       "1   2003.139571  731266.943345  44.157897 -105.356562  1398.51  1400.52   \n",
       "11  2003.139571  731266.943346  44.150175 -105.358116  1387.11  1384.64   \n",
       "21  2003.139571  731266.943347  44.148632 -105.358427  1392.83  1383.49   \n",
       "\n",
       "    dem_z_std  lulc  \n",
       "1        0.33    31  \n",
       "11       0.43    31  \n",
       "21       0.28    31  "
      ]
     },
     "execution_count": 102,
     "metadata": {},
     "output_type": "execute_result"
    }
   ],
   "source": [
    "glas_df.iloc[0:3]"
   ]
  },
  {
   "cell_type": "code",
   "execution_count": 103,
   "metadata": {},
   "outputs": [
    {
     "data": {
      "text/plain": [
       "decyear        2003.139571\n",
       "ordinal      731266.943347\n",
       "lat              44.148632\n",
       "lon            -105.358427\n",
       "glas_z         1392.830000\n",
       "dem_z          1383.490000\n",
       "dem_z_std         0.280000\n",
       "lulc             31.000000\n",
       "Name: 21, dtype: float64"
      ]
     },
     "execution_count": 103,
     "metadata": {},
     "output_type": "execute_result"
    }
   ],
   "source": [
    "glas_df.loc[21]"
   ]
  },
  {
   "cell_type": "code",
   "execution_count": 104,
   "metadata": {},
   "outputs": [
    {
     "data": {
      "text/html": [
       "<div>\n",
       "<style scoped>\n",
       "    .dataframe tbody tr th:only-of-type {\n",
       "        vertical-align: middle;\n",
       "    }\n",
       "\n",
       "    .dataframe tbody tr th {\n",
       "        vertical-align: top;\n",
       "    }\n",
       "\n",
       "    .dataframe thead th {\n",
       "        text-align: right;\n",
       "    }\n",
       "</style>\n",
       "<table border=\"1\" class=\"dataframe\">\n",
       "  <thead>\n",
       "    <tr style=\"text-align: right;\">\n",
       "      <th></th>\n",
       "      <th>decyear</th>\n",
       "      <th>ordinal</th>\n",
       "      <th>lat</th>\n",
       "      <th>lon</th>\n",
       "      <th>glas_z</th>\n",
       "      <th>dem_z</th>\n",
       "      <th>dem_z_std</th>\n",
       "      <th>lulc</th>\n",
       "    </tr>\n",
       "  </thead>\n",
       "  <tbody>\n",
       "    <tr>\n",
       "      <th>1</th>\n",
       "      <td>2003.139571</td>\n",
       "      <td>731266.943345</td>\n",
       "      <td>44.157897</td>\n",
       "      <td>-105.356562</td>\n",
       "      <td>1398.51</td>\n",
       "      <td>1400.52</td>\n",
       "      <td>0.33</td>\n",
       "      <td>31</td>\n",
       "    </tr>\n",
       "    <tr>\n",
       "      <th>11</th>\n",
       "      <td>2003.139571</td>\n",
       "      <td>731266.943346</td>\n",
       "      <td>44.150175</td>\n",
       "      <td>-105.358116</td>\n",
       "      <td>1387.11</td>\n",
       "      <td>1384.64</td>\n",
       "      <td>0.43</td>\n",
       "      <td>31</td>\n",
       "    </tr>\n",
       "  </tbody>\n",
       "</table>\n",
       "</div>"
      ],
      "text/plain": [
       "        decyear        ordinal        lat         lon   glas_z    dem_z  \\\n",
       "1   2003.139571  731266.943345  44.157897 -105.356562  1398.51  1400.52   \n",
       "11  2003.139571  731266.943346  44.150175 -105.358116  1387.11  1384.64   \n",
       "\n",
       "    dem_z_std  lulc  \n",
       "1        0.33    31  \n",
       "11       0.43    31  "
      ]
     },
     "execution_count": 104,
     "metadata": {},
     "output_type": "execute_result"
    }
   ],
   "source": [
    "# Get labeled indices between 0 and 20\n",
    "glas_df.loc[0:20]"
   ]
  },
  {
   "cell_type": "code",
   "execution_count": 105,
   "metadata": {},
   "outputs": [
    {
     "data": {
      "text/html": [
       "<div>\n",
       "<style scoped>\n",
       "    .dataframe tbody tr th:only-of-type {\n",
       "        vertical-align: middle;\n",
       "    }\n",
       "\n",
       "    .dataframe tbody tr th {\n",
       "        vertical-align: top;\n",
       "    }\n",
       "\n",
       "    .dataframe thead th {\n",
       "        text-align: right;\n",
       "    }\n",
       "</style>\n",
       "<table border=\"1\" class=\"dataframe\">\n",
       "  <thead>\n",
       "    <tr style=\"text-align: right;\">\n",
       "      <th></th>\n",
       "      <th>decyear</th>\n",
       "      <th>ordinal</th>\n",
       "      <th>lat</th>\n",
       "      <th>lon</th>\n",
       "      <th>glas_z</th>\n",
       "      <th>dem_z</th>\n",
       "      <th>dem_z_std</th>\n",
       "      <th>lulc</th>\n",
       "    </tr>\n",
       "  </thead>\n",
       "  <tbody>\n",
       "    <tr>\n",
       "      <th>1</th>\n",
       "      <td>2003.139571</td>\n",
       "      <td>731266.943345</td>\n",
       "      <td>44.157897</td>\n",
       "      <td>-105.356562</td>\n",
       "      <td>1398.51</td>\n",
       "      <td>1400.52</td>\n",
       "      <td>0.33</td>\n",
       "      <td>31</td>\n",
       "    </tr>\n",
       "    <tr>\n",
       "      <th>11</th>\n",
       "      <td>2003.139571</td>\n",
       "      <td>731266.943346</td>\n",
       "      <td>44.150175</td>\n",
       "      <td>-105.358116</td>\n",
       "      <td>1387.11</td>\n",
       "      <td>1384.64</td>\n",
       "      <td>0.43</td>\n",
       "      <td>31</td>\n",
       "    </tr>\n",
       "    <tr>\n",
       "      <th>21</th>\n",
       "      <td>2003.139571</td>\n",
       "      <td>731266.943347</td>\n",
       "      <td>44.148632</td>\n",
       "      <td>-105.358427</td>\n",
       "      <td>1392.83</td>\n",
       "      <td>1383.49</td>\n",
       "      <td>0.28</td>\n",
       "      <td>31</td>\n",
       "    </tr>\n",
       "    <tr>\n",
       "      <th>31</th>\n",
       "      <td>2003.139571</td>\n",
       "      <td>731266.943347</td>\n",
       "      <td>44.147087</td>\n",
       "      <td>-105.358738</td>\n",
       "      <td>1384.24</td>\n",
       "      <td>1382.85</td>\n",
       "      <td>0.84</td>\n",
       "      <td>31</td>\n",
       "    </tr>\n",
       "    <tr>\n",
       "      <th>41</th>\n",
       "      <td>2003.139571</td>\n",
       "      <td>731266.943347</td>\n",
       "      <td>44.145542</td>\n",
       "      <td>-105.359048</td>\n",
       "      <td>1369.21</td>\n",
       "      <td>1380.24</td>\n",
       "      <td>1.73</td>\n",
       "      <td>31</td>\n",
       "    </tr>\n",
       "    <tr>\n",
       "      <th>51</th>\n",
       "      <td>2003.139571</td>\n",
       "      <td>731266.943347</td>\n",
       "      <td>44.143996</td>\n",
       "      <td>-105.359359</td>\n",
       "      <td>1366.60</td>\n",
       "      <td>1375.23</td>\n",
       "      <td>1.60</td>\n",
       "      <td>31</td>\n",
       "    </tr>\n",
       "    <tr>\n",
       "      <th>61</th>\n",
       "      <td>2003.139571</td>\n",
       "      <td>731266.943351</td>\n",
       "      <td>44.126969</td>\n",
       "      <td>-105.362876</td>\n",
       "      <td>1355.14</td>\n",
       "      <td>1379.38</td>\n",
       "      <td>2.17</td>\n",
       "      <td>31</td>\n",
       "    </tr>\n",
       "    <tr>\n",
       "      <th>71</th>\n",
       "      <td>2003.139571</td>\n",
       "      <td>731266.943360</td>\n",
       "      <td>44.074358</td>\n",
       "      <td>-105.373549</td>\n",
       "      <td>1369.53</td>\n",
       "      <td>1391.71</td>\n",
       "      <td>2.88</td>\n",
       "      <td>31</td>\n",
       "    </tr>\n",
       "    <tr>\n",
       "      <th>81</th>\n",
       "      <td>2003.139571</td>\n",
       "      <td>731266.943361</td>\n",
       "      <td>44.072806</td>\n",
       "      <td>-105.373864</td>\n",
       "      <td>1380.02</td>\n",
       "      <td>1387.79</td>\n",
       "      <td>0.45</td>\n",
       "      <td>31</td>\n",
       "    </tr>\n",
       "    <tr>\n",
       "      <th>91</th>\n",
       "      <td>2003.139571</td>\n",
       "      <td>731266.943361</td>\n",
       "      <td>44.071256</td>\n",
       "      <td>-105.374177</td>\n",
       "      <td>1391.47</td>\n",
       "      <td>1396.90</td>\n",
       "      <td>1.56</td>\n",
       "      <td>31</td>\n",
       "    </tr>\n",
       "    <tr>\n",
       "      <th>101</th>\n",
       "      <td>2003.139571</td>\n",
       "      <td>731266.943362</td>\n",
       "      <td>44.063515</td>\n",
       "      <td>-105.375712</td>\n",
       "      <td>1388.58</td>\n",
       "      <td>1408.54</td>\n",
       "      <td>0.24</td>\n",
       "      <td>31</td>\n",
       "    </tr>\n",
       "    <tr>\n",
       "      <th>111</th>\n",
       "      <td>2003.139571</td>\n",
       "      <td>731266.943363</td>\n",
       "      <td>44.061967</td>\n",
       "      <td>-105.376015</td>\n",
       "      <td>1372.55</td>\n",
       "      <td>1406.21</td>\n",
       "      <td>0.17</td>\n",
       "      <td>31</td>\n",
       "    </tr>\n",
       "    <tr>\n",
       "      <th>121</th>\n",
       "      <td>2003.139571</td>\n",
       "      <td>731266.943364</td>\n",
       "      <td>44.057328</td>\n",
       "      <td>-105.376934</td>\n",
       "      <td>1402.38</td>\n",
       "      <td>1406.23</td>\n",
       "      <td>0.33</td>\n",
       "      <td>31</td>\n",
       "    </tr>\n",
       "    <tr>\n",
       "      <th>131</th>\n",
       "      <td>2003.139571</td>\n",
       "      <td>731266.943364</td>\n",
       "      <td>44.055780</td>\n",
       "      <td>-105.377243</td>\n",
       "      <td>1401.82</td>\n",
       "      <td>1405.75</td>\n",
       "      <td>0.35</td>\n",
       "      <td>31</td>\n",
       "    </tr>\n",
       "    <tr>\n",
       "      <th>141</th>\n",
       "      <td>2003.139571</td>\n",
       "      <td>731266.943364</td>\n",
       "      <td>44.054231</td>\n",
       "      <td>-105.377553</td>\n",
       "      <td>1399.31</td>\n",
       "      <td>1406.05</td>\n",
       "      <td>0.68</td>\n",
       "      <td>31</td>\n",
       "    </tr>\n",
       "    <tr>\n",
       "      <th>151</th>\n",
       "      <td>2003.139571</td>\n",
       "      <td>731266.943366</td>\n",
       "      <td>44.046487</td>\n",
       "      <td>-105.379115</td>\n",
       "      <td>1394.22</td>\n",
       "      <td>1398.14</td>\n",
       "      <td>0.27</td>\n",
       "      <td>31</td>\n",
       "    </tr>\n",
       "    <tr>\n",
       "      <th>161</th>\n",
       "      <td>2003.139571</td>\n",
       "      <td>731266.943366</td>\n",
       "      <td>44.044941</td>\n",
       "      <td>-105.379430</td>\n",
       "      <td>1394.94</td>\n",
       "      <td>1400.58</td>\n",
       "      <td>0.17</td>\n",
       "      <td>31</td>\n",
       "    </tr>\n",
       "    <tr>\n",
       "      <th>171</th>\n",
       "      <td>2003.139571</td>\n",
       "      <td>731266.943367</td>\n",
       "      <td>44.041850</td>\n",
       "      <td>-105.380064</td>\n",
       "      <td>1386.00</td>\n",
       "      <td>1389.69</td>\n",
       "      <td>0.57</td>\n",
       "      <td>31</td>\n",
       "    </tr>\n",
       "    <tr>\n",
       "      <th>181</th>\n",
       "      <td>2003.139571</td>\n",
       "      <td>731266.943424</td>\n",
       "      <td>43.737000</td>\n",
       "      <td>-105.441568</td>\n",
       "      <td>1496.53</td>\n",
       "      <td>1498.16</td>\n",
       "      <td>1.52</td>\n",
       "      <td>31</td>\n",
       "    </tr>\n",
       "    <tr>\n",
       "      <th>191</th>\n",
       "      <td>2003.139571</td>\n",
       "      <td>731266.943429</td>\n",
       "      <td>43.706060</td>\n",
       "      <td>-105.447754</td>\n",
       "      <td>1459.99</td>\n",
       "      <td>1460.90</td>\n",
       "      <td>0.08</td>\n",
       "      <td>31</td>\n",
       "    </tr>\n",
       "  </tbody>\n",
       "</table>\n",
       "</div>"
      ],
      "text/plain": [
       "         decyear        ordinal        lat         lon   glas_z    dem_z  \\\n",
       "1    2003.139571  731266.943345  44.157897 -105.356562  1398.51  1400.52   \n",
       "11   2003.139571  731266.943346  44.150175 -105.358116  1387.11  1384.64   \n",
       "21   2003.139571  731266.943347  44.148632 -105.358427  1392.83  1383.49   \n",
       "31   2003.139571  731266.943347  44.147087 -105.358738  1384.24  1382.85   \n",
       "41   2003.139571  731266.943347  44.145542 -105.359048  1369.21  1380.24   \n",
       "51   2003.139571  731266.943347  44.143996 -105.359359  1366.60  1375.23   \n",
       "61   2003.139571  731266.943351  44.126969 -105.362876  1355.14  1379.38   \n",
       "71   2003.139571  731266.943360  44.074358 -105.373549  1369.53  1391.71   \n",
       "81   2003.139571  731266.943361  44.072806 -105.373864  1380.02  1387.79   \n",
       "91   2003.139571  731266.943361  44.071256 -105.374177  1391.47  1396.90   \n",
       "101  2003.139571  731266.943362  44.063515 -105.375712  1388.58  1408.54   \n",
       "111  2003.139571  731266.943363  44.061967 -105.376015  1372.55  1406.21   \n",
       "121  2003.139571  731266.943364  44.057328 -105.376934  1402.38  1406.23   \n",
       "131  2003.139571  731266.943364  44.055780 -105.377243  1401.82  1405.75   \n",
       "141  2003.139571  731266.943364  44.054231 -105.377553  1399.31  1406.05   \n",
       "151  2003.139571  731266.943366  44.046487 -105.379115  1394.22  1398.14   \n",
       "161  2003.139571  731266.943366  44.044941 -105.379430  1394.94  1400.58   \n",
       "171  2003.139571  731266.943367  44.041850 -105.380064  1386.00  1389.69   \n",
       "181  2003.139571  731266.943424  43.737000 -105.441568  1496.53  1498.16   \n",
       "191  2003.139571  731266.943429  43.706060 -105.447754  1459.99  1460.90   \n",
       "\n",
       "     dem_z_std  lulc  \n",
       "1         0.33    31  \n",
       "11        0.43    31  \n",
       "21        0.28    31  \n",
       "31        0.84    31  \n",
       "41        1.73    31  \n",
       "51        1.60    31  \n",
       "61        2.17    31  \n",
       "71        2.88    31  \n",
       "81        0.45    31  \n",
       "91        1.56    31  \n",
       "101       0.24    31  \n",
       "111       0.17    31  \n",
       "121       0.33    31  \n",
       "131       0.35    31  \n",
       "141       0.68    31  \n",
       "151       0.27    31  \n",
       "161       0.17    31  \n",
       "171       0.57    31  \n",
       "181       1.52    31  \n",
       "191       0.08    31  "
      ]
     },
     "execution_count": 105,
     "metadata": {},
     "output_type": "execute_result"
    }
   ],
   "source": [
    "# Get integer indices between 0 and 20\n",
    "glas_df.iloc[0:20]"
   ]
  },
  {
   "cell_type": "markdown",
   "metadata": {},
   "source": [
    "### Selecting columns"
   ]
  },
  {
   "cell_type": "code",
   "execution_count": 106,
   "metadata": {},
   "outputs": [
    {
     "data": {
      "text/plain": [
       "Index(['decyear', 'ordinal', 'lat', 'lon', 'glas_z', 'dem_z', 'dem_z_std',\n",
       "       'lulc'],\n",
       "      dtype='object')"
      ]
     },
     "execution_count": 106,
     "metadata": {},
     "output_type": "execute_result"
    }
   ],
   "source": [
    "glas_df.columns"
   ]
  },
  {
   "cell_type": "code",
   "execution_count": 107,
   "metadata": {},
   "outputs": [
    {
     "data": {
      "text/plain": [
       "1         1398.51\n",
       "11        1387.11\n",
       "21        1392.83\n",
       "31        1384.24\n",
       "41        1369.21\n",
       "           ...   \n",
       "652311    1556.16\n",
       "652321    1556.02\n",
       "652331    1556.19\n",
       "652341    1556.18\n",
       "652351    1556.32\n",
       "Name: glas_z, Length: 65236, dtype: float64"
      ]
     },
     "execution_count": 107,
     "metadata": {},
     "output_type": "execute_result"
    }
   ],
   "source": [
    "glas_df['glas_z']"
   ]
  },
  {
   "cell_type": "code",
   "execution_count": 108,
   "metadata": {},
   "outputs": [
    {
     "data": {
      "text/plain": [
       "1         1398.51\n",
       "11        1387.11\n",
       "21        1392.83\n",
       "31        1384.24\n",
       "41        1369.21\n",
       "           ...   \n",
       "652311    1556.16\n",
       "652321    1556.02\n",
       "652331    1556.19\n",
       "652341    1556.18\n",
       "652351    1556.32\n",
       "Name: glas_z, Length: 65236, dtype: float64"
      ]
     },
     "execution_count": 108,
     "metadata": {},
     "output_type": "execute_result"
    }
   ],
   "source": [
    "glas_df.glas_z"
   ]
  },
  {
   "cell_type": "code",
   "execution_count": 109,
   "metadata": {},
   "outputs": [
    {
     "data": {
      "text/plain": [
       "1         1398.51\n",
       "11        1387.11\n",
       "21        1392.83\n",
       "31        1384.24\n",
       "41        1369.21\n",
       "           ...   \n",
       "652311    1556.16\n",
       "652321    1556.02\n",
       "652331    1556.19\n",
       "652341    1556.18\n",
       "652351    1556.32\n",
       "Name: glas_z, Length: 65236, dtype: float64"
      ]
     },
     "execution_count": 109,
     "metadata": {},
     "output_type": "execute_result"
    }
   ],
   "source": [
    "glas_df.iloc[:,4]"
   ]
  },
  {
   "cell_type": "code",
   "execution_count": 110,
   "metadata": {},
   "outputs": [
    {
     "data": {
      "text/plain": [
       "1         1398.51\n",
       "11        1387.11\n",
       "21        1392.83\n",
       "31        1384.24\n",
       "41        1369.21\n",
       "           ...   \n",
       "652311    1556.16\n",
       "652321    1556.02\n",
       "652331    1556.19\n",
       "652341    1556.18\n",
       "652351    1556.32\n",
       "Name: glas_z, Length: 65236, dtype: float64"
      ]
     },
     "execution_count": 110,
     "metadata": {},
     "output_type": "execute_result"
    }
   ],
   "source": [
    "glas_df.loc[:,'glas_z']"
   ]
  },
  {
   "cell_type": "code",
   "execution_count": 111,
   "metadata": {},
   "outputs": [
    {
     "ename": "KeyError",
     "evalue": "('glas_z', 'dem_z')",
     "output_type": "error",
     "traceback": [
      "\u001b[0;31m---------------------------------------------------------------------------\u001b[0m",
      "\u001b[0;31mKeyError\u001b[0m                                  Traceback (most recent call last)",
      "\u001b[0;32m/srv/conda/envs/notebook/lib/python3.9/site-packages/pandas/core/indexes/base.py\u001b[0m in \u001b[0;36mget_loc\u001b[0;34m(self, key, method, tolerance)\u001b[0m\n\u001b[1;32m   3360\u001b[0m             \u001b[0;32mtry\u001b[0m\u001b[0;34m:\u001b[0m\u001b[0;34m\u001b[0m\u001b[0;34m\u001b[0m\u001b[0m\n\u001b[0;32m-> 3361\u001b[0;31m                 \u001b[0;32mreturn\u001b[0m \u001b[0mself\u001b[0m\u001b[0;34m.\u001b[0m\u001b[0m_engine\u001b[0m\u001b[0;34m.\u001b[0m\u001b[0mget_loc\u001b[0m\u001b[0;34m(\u001b[0m\u001b[0mcasted_key\u001b[0m\u001b[0;34m)\u001b[0m\u001b[0;34m\u001b[0m\u001b[0;34m\u001b[0m\u001b[0m\n\u001b[0m\u001b[1;32m   3362\u001b[0m             \u001b[0;32mexcept\u001b[0m \u001b[0mKeyError\u001b[0m \u001b[0;32mas\u001b[0m \u001b[0merr\u001b[0m\u001b[0;34m:\u001b[0m\u001b[0;34m\u001b[0m\u001b[0;34m\u001b[0m\u001b[0m\n",
      "\u001b[0;32m/srv/conda/envs/notebook/lib/python3.9/site-packages/pandas/_libs/index.pyx\u001b[0m in \u001b[0;36mpandas._libs.index.IndexEngine.get_loc\u001b[0;34m()\u001b[0m\n",
      "\u001b[0;32m/srv/conda/envs/notebook/lib/python3.9/site-packages/pandas/_libs/index.pyx\u001b[0m in \u001b[0;36mpandas._libs.index.IndexEngine.get_loc\u001b[0;34m()\u001b[0m\n",
      "\u001b[0;32mpandas/_libs/hashtable_class_helper.pxi\u001b[0m in \u001b[0;36mpandas._libs.hashtable.PyObjectHashTable.get_item\u001b[0;34m()\u001b[0m\n",
      "\u001b[0;32mpandas/_libs/hashtable_class_helper.pxi\u001b[0m in \u001b[0;36mpandas._libs.hashtable.PyObjectHashTable.get_item\u001b[0;34m()\u001b[0m\n",
      "\u001b[0;31mKeyError\u001b[0m: ('glas_z', 'dem_z')",
      "\nThe above exception was the direct cause of the following exception:\n",
      "\u001b[0;31mKeyError\u001b[0m                                  Traceback (most recent call last)",
      "\u001b[0;32m/tmp/ipykernel_512/2880611682.py\u001b[0m in \u001b[0;36m<module>\u001b[0;34m\u001b[0m\n\u001b[1;32m      1\u001b[0m \u001b[0;31m#Multiple columns\u001b[0m\u001b[0;34m\u001b[0m\u001b[0;34m\u001b[0m\u001b[0m\n\u001b[0;32m----> 2\u001b[0;31m \u001b[0mglas_df\u001b[0m\u001b[0;34m[\u001b[0m\u001b[0;34m'glas_z'\u001b[0m\u001b[0;34m,\u001b[0m \u001b[0;34m'dem_z'\u001b[0m\u001b[0;34m]\u001b[0m\u001b[0;34m\u001b[0m\u001b[0;34m\u001b[0m\u001b[0m\n\u001b[0m",
      "\u001b[0;32m/srv/conda/envs/notebook/lib/python3.9/site-packages/pandas/core/frame.py\u001b[0m in \u001b[0;36m__getitem__\u001b[0;34m(self, key)\u001b[0m\n\u001b[1;32m   3456\u001b[0m             \u001b[0;32mif\u001b[0m \u001b[0mself\u001b[0m\u001b[0;34m.\u001b[0m\u001b[0mcolumns\u001b[0m\u001b[0;34m.\u001b[0m\u001b[0mnlevels\u001b[0m \u001b[0;34m>\u001b[0m \u001b[0;36m1\u001b[0m\u001b[0;34m:\u001b[0m\u001b[0;34m\u001b[0m\u001b[0;34m\u001b[0m\u001b[0m\n\u001b[1;32m   3457\u001b[0m                 \u001b[0;32mreturn\u001b[0m \u001b[0mself\u001b[0m\u001b[0;34m.\u001b[0m\u001b[0m_getitem_multilevel\u001b[0m\u001b[0;34m(\u001b[0m\u001b[0mkey\u001b[0m\u001b[0;34m)\u001b[0m\u001b[0;34m\u001b[0m\u001b[0;34m\u001b[0m\u001b[0m\n\u001b[0;32m-> 3458\u001b[0;31m             \u001b[0mindexer\u001b[0m \u001b[0;34m=\u001b[0m \u001b[0mself\u001b[0m\u001b[0;34m.\u001b[0m\u001b[0mcolumns\u001b[0m\u001b[0;34m.\u001b[0m\u001b[0mget_loc\u001b[0m\u001b[0;34m(\u001b[0m\u001b[0mkey\u001b[0m\u001b[0;34m)\u001b[0m\u001b[0;34m\u001b[0m\u001b[0;34m\u001b[0m\u001b[0m\n\u001b[0m\u001b[1;32m   3459\u001b[0m             \u001b[0;32mif\u001b[0m \u001b[0mis_integer\u001b[0m\u001b[0;34m(\u001b[0m\u001b[0mindexer\u001b[0m\u001b[0;34m)\u001b[0m\u001b[0;34m:\u001b[0m\u001b[0;34m\u001b[0m\u001b[0;34m\u001b[0m\u001b[0m\n\u001b[1;32m   3460\u001b[0m                 \u001b[0mindexer\u001b[0m \u001b[0;34m=\u001b[0m \u001b[0;34m[\u001b[0m\u001b[0mindexer\u001b[0m\u001b[0;34m]\u001b[0m\u001b[0;34m\u001b[0m\u001b[0;34m\u001b[0m\u001b[0m\n",
      "\u001b[0;32m/srv/conda/envs/notebook/lib/python3.9/site-packages/pandas/core/indexes/base.py\u001b[0m in \u001b[0;36mget_loc\u001b[0;34m(self, key, method, tolerance)\u001b[0m\n\u001b[1;32m   3361\u001b[0m                 \u001b[0;32mreturn\u001b[0m \u001b[0mself\u001b[0m\u001b[0;34m.\u001b[0m\u001b[0m_engine\u001b[0m\u001b[0;34m.\u001b[0m\u001b[0mget_loc\u001b[0m\u001b[0;34m(\u001b[0m\u001b[0mcasted_key\u001b[0m\u001b[0;34m)\u001b[0m\u001b[0;34m\u001b[0m\u001b[0;34m\u001b[0m\u001b[0m\n\u001b[1;32m   3362\u001b[0m             \u001b[0;32mexcept\u001b[0m \u001b[0mKeyError\u001b[0m \u001b[0;32mas\u001b[0m \u001b[0merr\u001b[0m\u001b[0;34m:\u001b[0m\u001b[0;34m\u001b[0m\u001b[0;34m\u001b[0m\u001b[0m\n\u001b[0;32m-> 3363\u001b[0;31m                 \u001b[0;32mraise\u001b[0m \u001b[0mKeyError\u001b[0m\u001b[0;34m(\u001b[0m\u001b[0mkey\u001b[0m\u001b[0;34m)\u001b[0m \u001b[0;32mfrom\u001b[0m \u001b[0merr\u001b[0m\u001b[0;34m\u001b[0m\u001b[0;34m\u001b[0m\u001b[0m\n\u001b[0m\u001b[1;32m   3364\u001b[0m \u001b[0;34m\u001b[0m\u001b[0m\n\u001b[1;32m   3365\u001b[0m         \u001b[0;32mif\u001b[0m \u001b[0mis_scalar\u001b[0m\u001b[0;34m(\u001b[0m\u001b[0mkey\u001b[0m\u001b[0;34m)\u001b[0m \u001b[0;32mand\u001b[0m \u001b[0misna\u001b[0m\u001b[0;34m(\u001b[0m\u001b[0mkey\u001b[0m\u001b[0;34m)\u001b[0m \u001b[0;32mand\u001b[0m \u001b[0;32mnot\u001b[0m \u001b[0mself\u001b[0m\u001b[0;34m.\u001b[0m\u001b[0mhasnans\u001b[0m\u001b[0;34m:\u001b[0m\u001b[0;34m\u001b[0m\u001b[0;34m\u001b[0m\u001b[0m\n",
      "\u001b[0;31mKeyError\u001b[0m: ('glas_z', 'dem_z')"
     ]
    }
   ],
   "source": [
    "#Multiple columns\n",
    "glas_df['glas_z', 'dem_z']"
   ]
  },
  {
   "cell_type": "code",
   "execution_count": 114,
   "metadata": {},
   "outputs": [
    {
     "data": {
      "text/html": [
       "<div>\n",
       "<style scoped>\n",
       "    .dataframe tbody tr th:only-of-type {\n",
       "        vertical-align: middle;\n",
       "    }\n",
       "\n",
       "    .dataframe tbody tr th {\n",
       "        vertical-align: top;\n",
       "    }\n",
       "\n",
       "    .dataframe thead th {\n",
       "        text-align: right;\n",
       "    }\n",
       "</style>\n",
       "<table border=\"1\" class=\"dataframe\">\n",
       "  <thead>\n",
       "    <tr style=\"text-align: right;\">\n",
       "      <th></th>\n",
       "      <th>glas_z</th>\n",
       "      <th>dem_z</th>\n",
       "    </tr>\n",
       "  </thead>\n",
       "  <tbody>\n",
       "    <tr>\n",
       "      <th>1</th>\n",
       "      <td>1398.51</td>\n",
       "      <td>1400.52</td>\n",
       "    </tr>\n",
       "    <tr>\n",
       "      <th>11</th>\n",
       "      <td>1387.11</td>\n",
       "      <td>1384.64</td>\n",
       "    </tr>\n",
       "    <tr>\n",
       "      <th>21</th>\n",
       "      <td>1392.83</td>\n",
       "      <td>1383.49</td>\n",
       "    </tr>\n",
       "    <tr>\n",
       "      <th>31</th>\n",
       "      <td>1384.24</td>\n",
       "      <td>1382.85</td>\n",
       "    </tr>\n",
       "    <tr>\n",
       "      <th>41</th>\n",
       "      <td>1369.21</td>\n",
       "      <td>1380.24</td>\n",
       "    </tr>\n",
       "    <tr>\n",
       "      <th>...</th>\n",
       "      <td>...</td>\n",
       "      <td>...</td>\n",
       "    </tr>\n",
       "    <tr>\n",
       "      <th>652311</th>\n",
       "      <td>1556.16</td>\n",
       "      <td>1556.43</td>\n",
       "    </tr>\n",
       "    <tr>\n",
       "      <th>652321</th>\n",
       "      <td>1556.02</td>\n",
       "      <td>1556.43</td>\n",
       "    </tr>\n",
       "    <tr>\n",
       "      <th>652331</th>\n",
       "      <td>1556.19</td>\n",
       "      <td>1556.44</td>\n",
       "    </tr>\n",
       "    <tr>\n",
       "      <th>652341</th>\n",
       "      <td>1556.18</td>\n",
       "      <td>1556.44</td>\n",
       "    </tr>\n",
       "    <tr>\n",
       "      <th>652351</th>\n",
       "      <td>1556.32</td>\n",
       "      <td>1556.44</td>\n",
       "    </tr>\n",
       "  </tbody>\n",
       "</table>\n",
       "<p>65236 rows × 2 columns</p>\n",
       "</div>"
      ],
      "text/plain": [
       "         glas_z    dem_z\n",
       "1       1398.51  1400.52\n",
       "11      1387.11  1384.64\n",
       "21      1392.83  1383.49\n",
       "31      1384.24  1382.85\n",
       "41      1369.21  1380.24\n",
       "...         ...      ...\n",
       "652311  1556.16  1556.43\n",
       "652321  1556.02  1556.43\n",
       "652331  1556.19  1556.44\n",
       "652341  1556.18  1556.44\n",
       "652351  1556.32  1556.44\n",
       "\n",
       "[65236 rows x 2 columns]"
      ]
     },
     "execution_count": 114,
     "metadata": {},
     "output_type": "execute_result"
    }
   ],
   "source": [
    "# Need to pass in a list of column names\n",
    "glas_df[['glas_z', 'dem_z']]"
   ]
  },
  {
   "cell_type": "code",
   "execution_count": 115,
   "metadata": {},
   "outputs": [
    {
     "data": {
      "text/html": [
       "<div>\n",
       "<style scoped>\n",
       "    .dataframe tbody tr th:only-of-type {\n",
       "        vertical-align: middle;\n",
       "    }\n",
       "\n",
       "    .dataframe tbody tr th {\n",
       "        vertical-align: top;\n",
       "    }\n",
       "\n",
       "    .dataframe thead th {\n",
       "        text-align: right;\n",
       "    }\n",
       "</style>\n",
       "<table border=\"1\" class=\"dataframe\">\n",
       "  <thead>\n",
       "    <tr style=\"text-align: right;\">\n",
       "      <th></th>\n",
       "      <th>glas_z</th>\n",
       "      <th>dem_z</th>\n",
       "    </tr>\n",
       "  </thead>\n",
       "  <tbody>\n",
       "    <tr>\n",
       "      <th>1</th>\n",
       "      <td>1398.51</td>\n",
       "      <td>1400.52</td>\n",
       "    </tr>\n",
       "    <tr>\n",
       "      <th>11</th>\n",
       "      <td>1387.11</td>\n",
       "      <td>1384.64</td>\n",
       "    </tr>\n",
       "    <tr>\n",
       "      <th>21</th>\n",
       "      <td>1392.83</td>\n",
       "      <td>1383.49</td>\n",
       "    </tr>\n",
       "    <tr>\n",
       "      <th>31</th>\n",
       "      <td>1384.24</td>\n",
       "      <td>1382.85</td>\n",
       "    </tr>\n",
       "    <tr>\n",
       "      <th>41</th>\n",
       "      <td>1369.21</td>\n",
       "      <td>1380.24</td>\n",
       "    </tr>\n",
       "    <tr>\n",
       "      <th>...</th>\n",
       "      <td>...</td>\n",
       "      <td>...</td>\n",
       "    </tr>\n",
       "    <tr>\n",
       "      <th>652311</th>\n",
       "      <td>1556.16</td>\n",
       "      <td>1556.43</td>\n",
       "    </tr>\n",
       "    <tr>\n",
       "      <th>652321</th>\n",
       "      <td>1556.02</td>\n",
       "      <td>1556.43</td>\n",
       "    </tr>\n",
       "    <tr>\n",
       "      <th>652331</th>\n",
       "      <td>1556.19</td>\n",
       "      <td>1556.44</td>\n",
       "    </tr>\n",
       "    <tr>\n",
       "      <th>652341</th>\n",
       "      <td>1556.18</td>\n",
       "      <td>1556.44</td>\n",
       "    </tr>\n",
       "    <tr>\n",
       "      <th>652351</th>\n",
       "      <td>1556.32</td>\n",
       "      <td>1556.44</td>\n",
       "    </tr>\n",
       "  </tbody>\n",
       "</table>\n",
       "<p>65236 rows × 2 columns</p>\n",
       "</div>"
      ],
      "text/plain": [
       "         glas_z    dem_z\n",
       "1       1398.51  1400.52\n",
       "11      1387.11  1384.64\n",
       "21      1392.83  1383.49\n",
       "31      1384.24  1382.85\n",
       "41      1369.21  1380.24\n",
       "...         ...      ...\n",
       "652311  1556.16  1556.43\n",
       "652321  1556.02  1556.43\n",
       "652331  1556.19  1556.44\n",
       "652341  1556.18  1556.44\n",
       "652351  1556.32  1556.44\n",
       "\n",
       "[65236 rows x 2 columns]"
      ]
     },
     "execution_count": 115,
     "metadata": {},
     "output_type": "execute_result"
    }
   ],
   "source": [
    "glas_df.loc[:,['glas_z', 'dem_z']]"
   ]
  },
  {
   "cell_type": "markdown",
   "metadata": {},
   "source": [
    "### Boolean indexing"
   ]
  },
  {
   "cell_type": "code",
   "execution_count": 116,
   "metadata": {},
   "outputs": [
    {
     "data": {
      "text/plain": [
       "1         31\n",
       "11        31\n",
       "21        31\n",
       "31        31\n",
       "41        31\n",
       "          ..\n",
       "652311    31\n",
       "652321    31\n",
       "652331    31\n",
       "652341    31\n",
       "652351    31\n",
       "Name: lulc, Length: 65236, dtype: int64"
      ]
     },
     "execution_count": 116,
     "metadata": {},
     "output_type": "execute_result"
    }
   ],
   "source": [
    "glas_df['lulc']"
   ]
  },
  {
   "cell_type": "code",
   "execution_count": 117,
   "metadata": {},
   "outputs": [
    {
     "data": {
      "text/plain": [
       "31    62968\n",
       "12     2268\n",
       "Name: lulc, dtype: int64"
      ]
     },
     "execution_count": 117,
     "metadata": {},
     "output_type": "execute_result"
    }
   ],
   "source": [
    "glas_df['lulc'].value_counts()"
   ]
  },
  {
   "cell_type": "code",
   "execution_count": 118,
   "metadata": {},
   "outputs": [
    {
     "data": {
      "text/plain": [
       "1         False\n",
       "11        False\n",
       "21        False\n",
       "31        False\n",
       "41        False\n",
       "          ...  \n",
       "652311    False\n",
       "652321    False\n",
       "652331    False\n",
       "652341    False\n",
       "652351    False\n",
       "Name: lulc, Length: 65236, dtype: bool"
      ]
     },
     "execution_count": 118,
     "metadata": {},
     "output_type": "execute_result"
    }
   ],
   "source": [
    "glas_df['lulc'] == 12"
   ]
  },
  {
   "cell_type": "code",
   "execution_count": 119,
   "metadata": {},
   "outputs": [],
   "source": [
    "# Boolean Series (index and single column) will be True for records with 'lulc' == 12\n",
    "idx2 = glas_df['lulc'] == 12"
   ]
  },
  {
   "cell_type": "code",
   "execution_count": 120,
   "metadata": {},
   "outputs": [
    {
     "data": {
      "text/plain": [
       "pandas.core.series.Series"
      ]
     },
     "execution_count": 120,
     "metadata": {},
     "output_type": "execute_result"
    }
   ],
   "source": [
    "type(idx2)"
   ]
  },
  {
   "cell_type": "code",
   "execution_count": 121,
   "metadata": {},
   "outputs": [
    {
     "data": {
      "text/plain": [
       "(65236,)"
      ]
     },
     "execution_count": 121,
     "metadata": {},
     "output_type": "execute_result"
    }
   ],
   "source": [
    "idx2.shape"
   ]
  },
  {
   "cell_type": "code",
   "execution_count": 122,
   "metadata": {},
   "outputs": [
    {
     "data": {
      "text/plain": [
       "(65236, 8)"
      ]
     },
     "execution_count": 122,
     "metadata": {},
     "output_type": "execute_result"
    }
   ],
   "source": [
    "glas_df.shape"
   ]
  },
  {
   "cell_type": "code",
   "execution_count": 123,
   "metadata": {},
   "outputs": [
    {
     "data": {
      "text/html": [
       "<div>\n",
       "<style scoped>\n",
       "    .dataframe tbody tr th:only-of-type {\n",
       "        vertical-align: middle;\n",
       "    }\n",
       "\n",
       "    .dataframe tbody tr th {\n",
       "        vertical-align: top;\n",
       "    }\n",
       "\n",
       "    .dataframe thead th {\n",
       "        text-align: right;\n",
       "    }\n",
       "</style>\n",
       "<table border=\"1\" class=\"dataframe\">\n",
       "  <thead>\n",
       "    <tr style=\"text-align: right;\">\n",
       "      <th></th>\n",
       "      <th>decyear</th>\n",
       "      <th>ordinal</th>\n",
       "      <th>lat</th>\n",
       "      <th>lon</th>\n",
       "      <th>glas_z</th>\n",
       "      <th>dem_z</th>\n",
       "      <th>dem_z_std</th>\n",
       "      <th>lulc</th>\n",
       "    </tr>\n",
       "  </thead>\n",
       "  <tbody>\n",
       "    <tr>\n",
       "      <th>231</th>\n",
       "      <td>2003.139573</td>\n",
       "      <td>731266.944184</td>\n",
       "      <td>39.669291</td>\n",
       "      <td>-106.225142</td>\n",
       "      <td>3505.12</td>\n",
       "      <td>3508.25</td>\n",
       "      <td>5.74</td>\n",
       "      <td>12</td>\n",
       "    </tr>\n",
       "    <tr>\n",
       "      <th>301</th>\n",
       "      <td>2003.139573</td>\n",
       "      <td>731266.944316</td>\n",
       "      <td>38.961190</td>\n",
       "      <td>-106.355153</td>\n",
       "      <td>4046.47</td>\n",
       "      <td>4047.25</td>\n",
       "      <td>7.14</td>\n",
       "      <td>12</td>\n",
       "    </tr>\n",
       "    <tr>\n",
       "      <th>4891</th>\n",
       "      <td>2003.147846</td>\n",
       "      <td>731269.963718</td>\n",
       "      <td>48.587233</td>\n",
       "      <td>-113.484046</td>\n",
       "      <td>2135.76</td>\n",
       "      <td>2123.37</td>\n",
       "      <td>1.18</td>\n",
       "      <td>12</td>\n",
       "    </tr>\n",
       "    <tr>\n",
       "      <th>4921</th>\n",
       "      <td>2003.147846</td>\n",
       "      <td>731269.963811</td>\n",
       "      <td>48.091352</td>\n",
       "      <td>-113.595790</td>\n",
       "      <td>1632.52</td>\n",
       "      <td>1615.77</td>\n",
       "      <td>11.43</td>\n",
       "      <td>12</td>\n",
       "    </tr>\n",
       "    <tr>\n",
       "      <th>7561</th>\n",
       "      <td>2003.157366</td>\n",
       "      <td>731273.438572</td>\n",
       "      <td>43.897412</td>\n",
       "      <td>-114.457131</td>\n",
       "      <td>2886.39</td>\n",
       "      <td>2889.82</td>\n",
       "      <td>20.31</td>\n",
       "      <td>12</td>\n",
       "    </tr>\n",
       "    <tr>\n",
       "      <th>...</th>\n",
       "      <td>...</td>\n",
       "      <td>...</td>\n",
       "      <td>...</td>\n",
       "      <td>...</td>\n",
       "      <td>...</td>\n",
       "      <td>...</td>\n",
       "      <td>...</td>\n",
       "      <td>...</td>\n",
       "    </tr>\n",
       "    <tr>\n",
       "      <th>647241</th>\n",
       "      <td>2009.764964</td>\n",
       "      <td>733687.211708</td>\n",
       "      <td>40.689722</td>\n",
       "      <td>-105.918309</td>\n",
       "      <td>3267.33</td>\n",
       "      <td>3267.62</td>\n",
       "      <td>1.83</td>\n",
       "      <td>12</td>\n",
       "    </tr>\n",
       "    <tr>\n",
       "      <th>647251</th>\n",
       "      <td>2009.764964</td>\n",
       "      <td>733687.211709</td>\n",
       "      <td>40.694371</td>\n",
       "      <td>-105.919164</td>\n",
       "      <td>3235.77</td>\n",
       "      <td>3238.94</td>\n",
       "      <td>3.78</td>\n",
       "      <td>12</td>\n",
       "    </tr>\n",
       "    <tr>\n",
       "      <th>649831</th>\n",
       "      <td>2009.771998</td>\n",
       "      <td>733689.779258</td>\n",
       "      <td>47.910365</td>\n",
       "      <td>-123.628017</td>\n",
       "      <td>1671.86</td>\n",
       "      <td>1711.73</td>\n",
       "      <td>8.44</td>\n",
       "      <td>12</td>\n",
       "    </tr>\n",
       "    <tr>\n",
       "      <th>649841</th>\n",
       "      <td>2009.771998</td>\n",
       "      <td>733689.779258</td>\n",
       "      <td>47.908820</td>\n",
       "      <td>-123.628357</td>\n",
       "      <td>1737.70</td>\n",
       "      <td>1776.17</td>\n",
       "      <td>7.70</td>\n",
       "      <td>12</td>\n",
       "    </tr>\n",
       "    <tr>\n",
       "      <th>649851</th>\n",
       "      <td>2009.771998</td>\n",
       "      <td>733689.779258</td>\n",
       "      <td>47.907275</td>\n",
       "      <td>-123.628697</td>\n",
       "      <td>1782.52</td>\n",
       "      <td>1828.93</td>\n",
       "      <td>4.41</td>\n",
       "      <td>12</td>\n",
       "    </tr>\n",
       "  </tbody>\n",
       "</table>\n",
       "<p>2268 rows × 8 columns</p>\n",
       "</div>"
      ],
      "text/plain": [
       "            decyear        ordinal        lat         lon   glas_z    dem_z  \\\n",
       "231     2003.139573  731266.944184  39.669291 -106.225142  3505.12  3508.25   \n",
       "301     2003.139573  731266.944316  38.961190 -106.355153  4046.47  4047.25   \n",
       "4891    2003.147846  731269.963718  48.587233 -113.484046  2135.76  2123.37   \n",
       "4921    2003.147846  731269.963811  48.091352 -113.595790  1632.52  1615.77   \n",
       "7561    2003.157366  731273.438572  43.897412 -114.457131  2886.39  2889.82   \n",
       "...             ...            ...        ...         ...      ...      ...   \n",
       "647241  2009.764964  733687.211708  40.689722 -105.918309  3267.33  3267.62   \n",
       "647251  2009.764964  733687.211709  40.694371 -105.919164  3235.77  3238.94   \n",
       "649831  2009.771998  733689.779258  47.910365 -123.628017  1671.86  1711.73   \n",
       "649841  2009.771998  733689.779258  47.908820 -123.628357  1737.70  1776.17   \n",
       "649851  2009.771998  733689.779258  47.907275 -123.628697  1782.52  1828.93   \n",
       "\n",
       "        dem_z_std  lulc  \n",
       "231          5.74    12  \n",
       "301          7.14    12  \n",
       "4891         1.18    12  \n",
       "4921        11.43    12  \n",
       "7561        20.31    12  \n",
       "...           ...   ...  \n",
       "647241       1.83    12  \n",
       "647251       3.78    12  \n",
       "649831       8.44    12  \n",
       "649841       7.70    12  \n",
       "649851       4.41    12  \n",
       "\n",
       "[2268 rows x 8 columns]"
      ]
     },
     "execution_count": 123,
     "metadata": {},
     "output_type": "execute_result"
    }
   ],
   "source": [
    "# Use to select corresponding rows, returns a new DataFrame with all columns\n",
    "glas_df[idx2]"
   ]
  },
  {
   "cell_type": "code",
   "execution_count": 124,
   "metadata": {},
   "outputs": [
    {
     "data": {
      "text/plain": [
       "(2268, 8)"
      ]
     },
     "execution_count": 124,
     "metadata": {},
     "output_type": "execute_result"
    }
   ],
   "source": [
    "glas_df[idx2].shape"
   ]
  },
  {
   "cell_type": "code",
   "execution_count": 125,
   "metadata": {},
   "outputs": [
    {
     "data": {
      "text/plain": [
       "decyear        2006.008627\n",
       "ordinal      732315.035881\n",
       "lat              43.065223\n",
       "lon            -112.936499\n",
       "glas_z         2918.746261\n",
       "dem_z          2920.785754\n",
       "dem_z_std         9.719951\n",
       "lulc             12.000000\n",
       "dtype: float64"
      ]
     },
     "execution_count": 125,
     "metadata": {},
     "output_type": "execute_result"
    }
   ],
   "source": [
    "glas_df[idx2].mean()"
   ]
  },
  {
   "cell_type": "markdown",
   "metadata": {},
   "source": [
    "### Groupby\n",
    "* Let's consider statistics for groups of rows that share the same column attribute"
   ]
  },
  {
   "cell_type": "code",
   "execution_count": 126,
   "metadata": {},
   "outputs": [
    {
     "data": {
      "text/plain": [
       "<pandas.core.groupby.generic.DataFrameGroupBy object at 0x7f7d7c2b2a90>"
      ]
     },
     "execution_count": 126,
     "metadata": {},
     "output_type": "execute_result"
    }
   ],
   "source": [
    "glas_df.groupby('lulc')"
   ]
  },
  {
   "cell_type": "code",
   "execution_count": 127,
   "metadata": {},
   "outputs": [
    {
     "data": {
      "text/html": [
       "<div>\n",
       "<style scoped>\n",
       "    .dataframe tbody tr th:only-of-type {\n",
       "        vertical-align: middle;\n",
       "    }\n",
       "\n",
       "    .dataframe tbody tr th {\n",
       "        vertical-align: top;\n",
       "    }\n",
       "\n",
       "    .dataframe thead th {\n",
       "        text-align: right;\n",
       "    }\n",
       "</style>\n",
       "<table border=\"1\" class=\"dataframe\">\n",
       "  <thead>\n",
       "    <tr style=\"text-align: right;\">\n",
       "      <th></th>\n",
       "      <th>decyear</th>\n",
       "      <th>ordinal</th>\n",
       "      <th>lat</th>\n",
       "      <th>lon</th>\n",
       "      <th>glas_z</th>\n",
       "      <th>dem_z</th>\n",
       "      <th>dem_z_std</th>\n",
       "    </tr>\n",
       "    <tr>\n",
       "      <th>lulc</th>\n",
       "      <th></th>\n",
       "      <th></th>\n",
       "      <th></th>\n",
       "      <th></th>\n",
       "      <th></th>\n",
       "      <th></th>\n",
       "      <th></th>\n",
       "    </tr>\n",
       "  </thead>\n",
       "  <tbody>\n",
       "    <tr>\n",
       "      <th>12</th>\n",
       "      <td>2268</td>\n",
       "      <td>2268</td>\n",
       "      <td>2268</td>\n",
       "      <td>2268</td>\n",
       "      <td>2268</td>\n",
       "      <td>2268</td>\n",
       "      <td>2268</td>\n",
       "    </tr>\n",
       "    <tr>\n",
       "      <th>31</th>\n",
       "      <td>62968</td>\n",
       "      <td>62968</td>\n",
       "      <td>62968</td>\n",
       "      <td>62968</td>\n",
       "      <td>62968</td>\n",
       "      <td>62968</td>\n",
       "      <td>62968</td>\n",
       "    </tr>\n",
       "  </tbody>\n",
       "</table>\n",
       "</div>"
      ],
      "text/plain": [
       "      decyear  ordinal    lat    lon  glas_z  dem_z  dem_z_std\n",
       "lulc                                                          \n",
       "12       2268     2268   2268   2268    2268   2268       2268\n",
       "31      62968    62968  62968  62968   62968  62968      62968"
      ]
     },
     "execution_count": 127,
     "metadata": {},
     "output_type": "execute_result"
    }
   ],
   "source": [
    "glas_df.groupby('lulc').count()"
   ]
  },
  {
   "cell_type": "code",
   "execution_count": 128,
   "metadata": {},
   "outputs": [
    {
     "data": {
      "text/html": [
       "<div>\n",
       "<style scoped>\n",
       "    .dataframe tbody tr th:only-of-type {\n",
       "        vertical-align: middle;\n",
       "    }\n",
       "\n",
       "    .dataframe tbody tr th {\n",
       "        vertical-align: top;\n",
       "    }\n",
       "\n",
       "    .dataframe thead th {\n",
       "        text-align: right;\n",
       "    }\n",
       "</style>\n",
       "<table border=\"1\" class=\"dataframe\">\n",
       "  <thead>\n",
       "    <tr style=\"text-align: right;\">\n",
       "      <th></th>\n",
       "      <th>decyear</th>\n",
       "      <th>ordinal</th>\n",
       "      <th>lat</th>\n",
       "      <th>lon</th>\n",
       "      <th>glas_z</th>\n",
       "      <th>dem_z</th>\n",
       "      <th>dem_z_std</th>\n",
       "    </tr>\n",
       "    <tr>\n",
       "      <th>lulc</th>\n",
       "      <th></th>\n",
       "      <th></th>\n",
       "      <th></th>\n",
       "      <th></th>\n",
       "      <th></th>\n",
       "      <th></th>\n",
       "      <th></th>\n",
       "    </tr>\n",
       "  </thead>\n",
       "  <tbody>\n",
       "    <tr>\n",
       "      <th>12</th>\n",
       "      <td>2006.008627</td>\n",
       "      <td>732315.035881</td>\n",
       "      <td>43.065223</td>\n",
       "      <td>-112.936499</td>\n",
       "      <td>2918.746261</td>\n",
       "      <td>2920.785754</td>\n",
       "      <td>9.719951</td>\n",
       "    </tr>\n",
       "    <tr>\n",
       "      <th>31</th>\n",
       "      <td>2005.943042</td>\n",
       "      <td>732291.056710</td>\n",
       "      <td>40.870496</td>\n",
       "      <td>-115.116398</td>\n",
       "      <td>1750.892469</td>\n",
       "      <td>1751.613426</td>\n",
       "      <td>5.352924</td>\n",
       "    </tr>\n",
       "  </tbody>\n",
       "</table>\n",
       "</div>"
      ],
      "text/plain": [
       "          decyear        ordinal        lat         lon       glas_z  \\\n",
       "lulc                                                                   \n",
       "12    2006.008627  732315.035881  43.065223 -112.936499  2918.746261   \n",
       "31    2005.943042  732291.056710  40.870496 -115.116398  1750.892469   \n",
       "\n",
       "            dem_z  dem_z_std  \n",
       "lulc                          \n",
       "12    2920.785754   9.719951  \n",
       "31    1751.613426   5.352924  "
      ]
     },
     "execution_count": 128,
     "metadata": {},
     "output_type": "execute_result"
    }
   ],
   "source": [
    "glas_df.groupby('lulc').mean()"
   ]
  },
  {
   "cell_type": "code",
   "execution_count": 129,
   "metadata": {},
   "outputs": [
    {
     "data": {
      "text/html": [
       "<div>\n",
       "<style scoped>\n",
       "    .dataframe tbody tr th:only-of-type {\n",
       "        vertical-align: middle;\n",
       "    }\n",
       "\n",
       "    .dataframe tbody tr th {\n",
       "        vertical-align: top;\n",
       "    }\n",
       "\n",
       "    .dataframe thead tr th {\n",
       "        text-align: left;\n",
       "    }\n",
       "\n",
       "    .dataframe thead tr:last-of-type th {\n",
       "        text-align: right;\n",
       "    }\n",
       "</style>\n",
       "<table border=\"1\" class=\"dataframe\">\n",
       "  <thead>\n",
       "    <tr>\n",
       "      <th></th>\n",
       "      <th colspan=\"2\" halign=\"left\">decyear</th>\n",
       "      <th colspan=\"2\" halign=\"left\">ordinal</th>\n",
       "      <th colspan=\"2\" halign=\"left\">lat</th>\n",
       "      <th colspan=\"2\" halign=\"left\">lon</th>\n",
       "      <th colspan=\"2\" halign=\"left\">glas_z</th>\n",
       "      <th colspan=\"2\" halign=\"left\">dem_z</th>\n",
       "      <th colspan=\"2\" halign=\"left\">dem_z_std</th>\n",
       "    </tr>\n",
       "    <tr>\n",
       "      <th></th>\n",
       "      <th>mean</th>\n",
       "      <th>std</th>\n",
       "      <th>mean</th>\n",
       "      <th>std</th>\n",
       "      <th>mean</th>\n",
       "      <th>std</th>\n",
       "      <th>mean</th>\n",
       "      <th>std</th>\n",
       "      <th>mean</th>\n",
       "      <th>std</th>\n",
       "      <th>mean</th>\n",
       "      <th>std</th>\n",
       "      <th>mean</th>\n",
       "      <th>std</th>\n",
       "    </tr>\n",
       "    <tr>\n",
       "      <th>lulc</th>\n",
       "      <th></th>\n",
       "      <th></th>\n",
       "      <th></th>\n",
       "      <th></th>\n",
       "      <th></th>\n",
       "      <th></th>\n",
       "      <th></th>\n",
       "      <th></th>\n",
       "      <th></th>\n",
       "      <th></th>\n",
       "      <th></th>\n",
       "      <th></th>\n",
       "      <th></th>\n",
       "      <th></th>\n",
       "    </tr>\n",
       "  </thead>\n",
       "  <tbody>\n",
       "    <tr>\n",
       "      <th>12</th>\n",
       "      <td>2006.008627</td>\n",
       "      <td>1.498488</td>\n",
       "      <td>732315.035881</td>\n",
       "      <td>547.316709</td>\n",
       "      <td>43.065223</td>\n",
       "      <td>3.569772</td>\n",
       "      <td>-112.936499</td>\n",
       "      <td>7.610318</td>\n",
       "      <td>2918.746261</td>\n",
       "      <td>772.429857</td>\n",
       "      <td>2920.785754</td>\n",
       "      <td>769.897983</td>\n",
       "      <td>9.719951</td>\n",
       "      <td>5.805685</td>\n",
       "    </tr>\n",
       "    <tr>\n",
       "      <th>31</th>\n",
       "      <td>2005.943042</td>\n",
       "      <td>1.737290</td>\n",
       "      <td>732291.056710</td>\n",
       "      <td>634.586821</td>\n",
       "      <td>40.870496</td>\n",
       "      <td>3.567855</td>\n",
       "      <td>-115.116398</td>\n",
       "      <td>5.356521</td>\n",
       "      <td>1750.892469</td>\n",
       "      <td>1022.544938</td>\n",
       "      <td>1751.613426</td>\n",
       "      <td>1023.340882</td>\n",
       "      <td>5.352924</td>\n",
       "      <td>7.529161</td>\n",
       "    </tr>\n",
       "  </tbody>\n",
       "</table>\n",
       "</div>"
      ],
      "text/plain": [
       "          decyear                  ordinal                    lat            \\\n",
       "             mean       std           mean         std       mean       std   \n",
       "lulc                                                                          \n",
       "12    2006.008627  1.498488  732315.035881  547.316709  43.065223  3.569772   \n",
       "31    2005.943042  1.737290  732291.056710  634.586821  40.870496  3.567855   \n",
       "\n",
       "             lon                 glas_z                     dem_z  \\\n",
       "            mean       std         mean          std         mean   \n",
       "lulc                                                                \n",
       "12   -112.936499  7.610318  2918.746261   772.429857  2920.785754   \n",
       "31   -115.116398  5.356521  1750.892469  1022.544938  1751.613426   \n",
       "\n",
       "                  dem_z_std            \n",
       "              std      mean       std  \n",
       "lulc                                   \n",
       "12     769.897983  9.719951  5.805685  \n",
       "31    1023.340882  5.352924  7.529161  "
      ]
     },
     "execution_count": 129,
     "metadata": {},
     "output_type": "execute_result"
    }
   ],
   "source": [
    "glas_df.groupby('lulc').agg(['mean', 'std'])"
   ]
  },
  {
   "cell_type": "code",
   "execution_count": 130,
   "metadata": {},
   "outputs": [],
   "source": [
    "import seaborn as sns\n",
    "planets = sns.load_dataset('planets')"
   ]
  },
  {
   "cell_type": "code",
   "execution_count": 131,
   "metadata": {},
   "outputs": [
    {
     "data": {
      "text/html": [
       "<div>\n",
       "<style scoped>\n",
       "    .dataframe tbody tr th:only-of-type {\n",
       "        vertical-align: middle;\n",
       "    }\n",
       "\n",
       "    .dataframe tbody tr th {\n",
       "        vertical-align: top;\n",
       "    }\n",
       "\n",
       "    .dataframe thead th {\n",
       "        text-align: right;\n",
       "    }\n",
       "</style>\n",
       "<table border=\"1\" class=\"dataframe\">\n",
       "  <thead>\n",
       "    <tr style=\"text-align: right;\">\n",
       "      <th></th>\n",
       "      <th>method</th>\n",
       "      <th>number</th>\n",
       "      <th>orbital_period</th>\n",
       "      <th>mass</th>\n",
       "      <th>distance</th>\n",
       "      <th>year</th>\n",
       "    </tr>\n",
       "  </thead>\n",
       "  <tbody>\n",
       "    <tr>\n",
       "      <th>0</th>\n",
       "      <td>Radial Velocity</td>\n",
       "      <td>1</td>\n",
       "      <td>269.300000</td>\n",
       "      <td>7.10</td>\n",
       "      <td>77.40</td>\n",
       "      <td>2006</td>\n",
       "    </tr>\n",
       "    <tr>\n",
       "      <th>1</th>\n",
       "      <td>Radial Velocity</td>\n",
       "      <td>1</td>\n",
       "      <td>874.774000</td>\n",
       "      <td>2.21</td>\n",
       "      <td>56.95</td>\n",
       "      <td>2008</td>\n",
       "    </tr>\n",
       "    <tr>\n",
       "      <th>2</th>\n",
       "      <td>Radial Velocity</td>\n",
       "      <td>1</td>\n",
       "      <td>763.000000</td>\n",
       "      <td>2.60</td>\n",
       "      <td>19.84</td>\n",
       "      <td>2011</td>\n",
       "    </tr>\n",
       "    <tr>\n",
       "      <th>3</th>\n",
       "      <td>Radial Velocity</td>\n",
       "      <td>1</td>\n",
       "      <td>326.030000</td>\n",
       "      <td>19.40</td>\n",
       "      <td>110.62</td>\n",
       "      <td>2007</td>\n",
       "    </tr>\n",
       "    <tr>\n",
       "      <th>4</th>\n",
       "      <td>Radial Velocity</td>\n",
       "      <td>1</td>\n",
       "      <td>516.220000</td>\n",
       "      <td>10.50</td>\n",
       "      <td>119.47</td>\n",
       "      <td>2009</td>\n",
       "    </tr>\n",
       "    <tr>\n",
       "      <th>...</th>\n",
       "      <td>...</td>\n",
       "      <td>...</td>\n",
       "      <td>...</td>\n",
       "      <td>...</td>\n",
       "      <td>...</td>\n",
       "      <td>...</td>\n",
       "    </tr>\n",
       "    <tr>\n",
       "      <th>1030</th>\n",
       "      <td>Transit</td>\n",
       "      <td>1</td>\n",
       "      <td>3.941507</td>\n",
       "      <td>NaN</td>\n",
       "      <td>172.00</td>\n",
       "      <td>2006</td>\n",
       "    </tr>\n",
       "    <tr>\n",
       "      <th>1031</th>\n",
       "      <td>Transit</td>\n",
       "      <td>1</td>\n",
       "      <td>2.615864</td>\n",
       "      <td>NaN</td>\n",
       "      <td>148.00</td>\n",
       "      <td>2007</td>\n",
       "    </tr>\n",
       "    <tr>\n",
       "      <th>1032</th>\n",
       "      <td>Transit</td>\n",
       "      <td>1</td>\n",
       "      <td>3.191524</td>\n",
       "      <td>NaN</td>\n",
       "      <td>174.00</td>\n",
       "      <td>2007</td>\n",
       "    </tr>\n",
       "    <tr>\n",
       "      <th>1033</th>\n",
       "      <td>Transit</td>\n",
       "      <td>1</td>\n",
       "      <td>4.125083</td>\n",
       "      <td>NaN</td>\n",
       "      <td>293.00</td>\n",
       "      <td>2008</td>\n",
       "    </tr>\n",
       "    <tr>\n",
       "      <th>1034</th>\n",
       "      <td>Transit</td>\n",
       "      <td>1</td>\n",
       "      <td>4.187757</td>\n",
       "      <td>NaN</td>\n",
       "      <td>260.00</td>\n",
       "      <td>2008</td>\n",
       "    </tr>\n",
       "  </tbody>\n",
       "</table>\n",
       "<p>1035 rows × 6 columns</p>\n",
       "</div>"
      ],
      "text/plain": [
       "               method  number  orbital_period   mass  distance  year\n",
       "0     Radial Velocity       1      269.300000   7.10     77.40  2006\n",
       "1     Radial Velocity       1      874.774000   2.21     56.95  2008\n",
       "2     Radial Velocity       1      763.000000   2.60     19.84  2011\n",
       "3     Radial Velocity       1      326.030000  19.40    110.62  2007\n",
       "4     Radial Velocity       1      516.220000  10.50    119.47  2009\n",
       "...               ...     ...             ...    ...       ...   ...\n",
       "1030          Transit       1        3.941507    NaN    172.00  2006\n",
       "1031          Transit       1        2.615864    NaN    148.00  2007\n",
       "1032          Transit       1        3.191524    NaN    174.00  2007\n",
       "1033          Transit       1        4.125083    NaN    293.00  2008\n",
       "1034          Transit       1        4.187757    NaN    260.00  2008\n",
       "\n",
       "[1035 rows x 6 columns]"
      ]
     },
     "execution_count": 131,
     "metadata": {},
     "output_type": "execute_result"
    }
   ],
   "source": [
    "planets"
   ]
  },
  {
   "cell_type": "code",
   "execution_count": 132,
   "metadata": {},
   "outputs": [
    {
     "data": {
      "text/plain": [
       "method\n",
       "Astrometry                         631.180000\n",
       "Eclipse Timing Variations         4343.500000\n",
       "Imaging                          27500.000000\n",
       "Microlensing                      3300.000000\n",
       "Orbital Brightness Modulation        0.342887\n",
       "Pulsar Timing                       66.541900\n",
       "Pulsation Timing Variations       1170.000000\n",
       "Radial Velocity                    360.200000\n",
       "Transit                              5.714932\n",
       "Transit Timing Variations           57.011000\n",
       "Name: orbital_period, dtype: float64"
      ]
     },
     "execution_count": 132,
     "metadata": {},
     "output_type": "execute_result"
    }
   ],
   "source": [
    "planets.groupby('method')['orbital_period'].median()"
   ]
  }
 ],
 "metadata": {
  "kernelspec": {
   "display_name": "Python 3 (ipykernel)",
   "language": "python",
   "name": "python3"
  },
  "language_info": {
   "codemirror_mode": {
    "name": "ipython",
    "version": 3
   },
   "file_extension": ".py",
   "mimetype": "text/x-python",
   "name": "python",
   "nbconvert_exporter": "python",
   "pygments_lexer": "ipython3",
   "version": "3.9.7"
  }
 },
 "nbformat": 4,
 "nbformat_minor": 4
}
