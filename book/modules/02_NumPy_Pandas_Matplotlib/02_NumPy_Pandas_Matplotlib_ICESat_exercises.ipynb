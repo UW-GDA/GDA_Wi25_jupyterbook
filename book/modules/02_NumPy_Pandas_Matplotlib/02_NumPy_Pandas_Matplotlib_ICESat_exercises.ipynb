{
 "cells": [
  {
   "cell_type": "markdown",
   "metadata": {},
   "source": [
    "# Lab02 Exercises (20 pts)\n",
    "UW Geospatial Data Analysis  \n",
    "CEE467/CEWA567  \n",
    "David Shean\n",
    "\n",
    "modified by Eric Gagliano, Quinn Brencher\n",
    "\n",
    "## Introduction \n",
    "\n",
    "### Objectives\n",
    "1. Solidify basic skills with NumPy, Pandas, and Matplotlib\n",
    "2. Learn basic data manipulation, exploration, and visualizatioin with a relatively small, clean point dataset (65K points)\n",
    "3. Learn a bit more about the ICESat mission, the GLAS instrument, and satellite laser altimetry\n",
    "4. Explore outlier removal and grouping\n",
    "\n",
    "### Instructions  \n",
    "- For each question or task below, write some code in the empty cell and execute to preserve your output \n",
    "- If you are in the graduate section of the class, please complete the challenge questions\n",
    "- Work together, consult resources we've discussed, post on slack!"
   ]
  },
  {
   "cell_type": "markdown",
   "metadata": {},
   "source": [
    "### Background: ICESat GLAS\n",
    "The NASA Ice Cloud and land Elevation Satellite ([ICESat](https://icesat.gsfc.nasa.gov/icesat/)) was a NASA mission carrying the Geosciences Laser Altimeter System (GLAS) instrument: a space laser, pointed down at the Earth (and unsuspecting Earthlings).  \n",
    "\n",
    "It measured surface elevations by precisely tracking laser pulses emitted from the spacecraft at a rate of 40 Hz (a new pulse every 0.025 seconds).  These pulses traveled through the atmosphere, reflected off the surface, back up through the atmosphere, and into space, where some small fraction of that original energy was received by a telescope on the spacecraft.  The instrument electronics precisely recorded the time when these intrepid photons left the instrument and when they returned.  The position and orientation of the spacecraft was precisely known, so the two-way traveltime (and assumptions about the speed of light and propagation through the atmosphere) allowed for precise forward determination of the spot on the Earth's surface (or cloud tops, as was often the case) where the reflection occurred.  The laser spot size varied during the mission, but was ~70 m in diameter. \n",
    "\n",
    "ICESat collected billions of measurements from 2003 to 2009, and was operating in a \"repeat-track\" mode that sacrificed spatial coverage for more observations along the same ground tracks over time.  One primary science focus involved elevation change over the Earth's ice sheets.  It allowed for early measurements of full Antarctic and Greenland ice sheet elevation change, which offered a detailed look at spatial distribution and rates of mass loss, and total ice sheet contributions to sea level rise.  \n",
    "\n",
    "There were problems with the lasers during the mission, so it operated in short campaigns lasting only a few months to prolong the full mission lifetime.  While the primary measurements focused on the polar regions, many measurements were also collected over lower latitudes, to meet other important science objectives (e.g., estimating biomass in the Earth's forests, observing sea surface height/thickness over time). "
   ]
  },
  {
   "cell_type": "markdown",
   "metadata": {},
   "source": [
    "### Background: Sample GLAS dataset for CONUS\n",
    "A few years ago, I (David) wanted to evaluate ICESat coverage of the Continental United States (CONUS).  The primary application was to extract a set of accurate control points to co-register a large set of high-resolution digital elevation modoels (DEMs) derived from satellite stereo imagery.  I wrote some Python/shell scripts to download, filter, and process all of the [GLAH14 L2 Global Land Surface Altimetry Data](https://nsidc.org/data/GLAH14/versions/34) granules in parallel ([https://github.com/dshean/icesat_tools](https://github.com/dshean/icesat_tools)).\n",
    "\n",
    "The high-level workflow is here: https://github.com/dshean/icesat_tools/blob/master/glas_proc.py#L24.  These tools processed each HDF5 (H5) file and wrote out csv files containing “good” points. These csv files were concatenated to prepare the single input csv (`GLAH14_tllz_conus_lulcfilt_demfilt.csv`) that we will use for this tutorial.  \n",
    "\n",
    "The csv contains ICESat GLAS shots that passed the following filters:\n",
    "* Within some buffer (~110 km) of mapped glacier polygons from the [Randolph Glacier Inventory (RGI)](https://www.glims.org/RGI/)\n",
    "* Returns from exposed bare ground (landcover class 31) or snow/ice (12) according to a 30-m Land-use/Land-cover dataset (2011 NLCD, https://www.mrlc.gov/data?f%5B0%5D=category%3Aland%20cover)\n",
    "* Elevation values within some threshold (200 m) of elevations sampled from an external reference DEM (void-filled 1/3-arcsec [30-m] SRTM-GL1, https://lpdaac.usgs.gov/products/srtmgl1v003/), used to remove spurious points and returns from clouds.\n",
    "* Various other ICESat-specific quality flags (see comments in `glas_proc.py` for details)\n",
    "\n",
    "The final file contains a relatively small subset (~65K) of the total shots in the original GLAH14 data granules from the full mission timeline (2003-2009).  The remaining points should represent returns from the Earth's surface with reasonably high quality, and can be used for subsequent analysis."
   ]
  },
  {
   "cell_type": "markdown",
   "metadata": {},
   "source": [
    "## Part 0: Imports, matplotlib backend\n",
    "Let's use this dataset to explore some of the NumPy and Pandas functionality, and practice some basic plotting with Matplotlib.\n",
    "\n",
    "I've provided instructions and hints, but you will need to fill in the code to generate the output results and plots."
   ]
  },
  {
   "cell_type": "markdown",
   "metadata": {},
   "source": [
    "### Import necessary modules"
   ]
  },
  {
   "cell_type": "code",
   "execution_count": 1,
   "metadata": {},
   "outputs": [],
   "source": [
    "#Use shorter names (np, pd, plt) instead of full (numpy, pandas, matplotlib.pylot) for convenience\n",
    "import numpy as np\n",
    "import pandas as pd\n",
    "import matplotlib.pyplot as plt"
   ]
  },
  {
   "cell_type": "markdown",
   "metadata": {},
   "source": [
    "### Matplotlib backend selection"
   ]
  },
  {
   "cell_type": "code",
   "execution_count": 2,
   "metadata": {},
   "outputs": [],
   "source": [
    "#Use matplotlib inline to render/embed figures in the notebook for upload to github\n",
    "%matplotlib inline\n",
    "#Use matplotlib widget enable interactive plotting (zoom/pan) in Jupyter lab\n",
    "#%matplotlib widget"
   ]
  },
  {
   "cell_type": "markdown",
   "metadata": {},
   "source": [
    "### Define a path to the GLAS data csv"
   ]
  },
  {
   "cell_type": "code",
   "execution_count": 3,
   "metadata": {},
   "outputs": [],
   "source": []
  },
  {
   "cell_type": "markdown",
   "metadata": {},
   "source": [
    "## Do a quick check of file contents\n",
    "* Use iPython functionality to run the head shell command on the your filename variable"
   ]
  },
  {
   "cell_type": "code",
   "execution_count": 4,
   "metadata": {},
   "outputs": [
    {
     "name": "stdout",
     "output_type": "stream",
     "text": [
      "decyear,ordinal,lat,lon,glas_z,dem_z,dem_z_std,lulc\n",
      "2003.13957078,731266.9433448168,44.157897,-105.356562,1398.51,1400.52,0.33,31\n",
      "2003.13957081,731266.9433462636,44.150175,-105.358116,1387.11,1384.64,0.43,31\n",
      "2003.13957081,731266.9433465529,44.148632,-105.358427,1392.83,1383.49,0.28,31\n",
      "2003.13957081,731266.9433468423,44.147087,-105.358738,1384.24,1382.85,0.84,31\n",
      "2003.13957081,731266.9433471316,44.145542,-105.359048,1369.21,1380.24,1.73,31\n",
      "2003.13957081,731266.9433474210,44.143996,-105.359359,1366.60,1375.23,1.60,31\n",
      "2003.13957081,731266.9433506038,44.126969,-105.362876,1355.14,1379.38,2.17,31\n",
      "2003.13957084,731266.9433604418,44.074358,-105.373549,1369.53,1391.71,2.88,31\n",
      "2003.13957084,731266.9433607311,44.072806,-105.373864,1380.02,1387.79,0.45,31\n"
     ]
    }
   ],
   "source": [
    "!head $glas_fn"
   ]
  },
  {
   "cell_type": "markdown",
   "metadata": {},
   "source": [
    "## Part 1: NumPy (5pts)"
   ]
  },
  {
   "cell_type": "markdown",
   "metadata": {},
   "source": [
    "### Load the file\n",
    "* NumPy has some convenience functions for loading text files: `loadtxt` and `genfromtxt`\n",
    "* Use `loadtxt` here (simpler), but make sure you properly set the delimiter and handle the first row (see the `skiprows` option)\n",
    "    * Use iPython `?` to look up reference on arguments for `np.loadtxt`\n",
    "* Store the NumPy array as variable called `glas_np`"
   ]
  },
  {
   "cell_type": "code",
   "execution_count": 5,
   "metadata": {
    "tags": [
     "hide_content"
    ]
   },
   "outputs": [],
   "source": []
  },
  {
   "cell_type": "markdown",
   "metadata": {},
   "source": [
    "What are some advantages of reading our data into a Numpy array, rather than a simple list (or list of lists)?"
   ]
  },
  {
   "cell_type": "code",
   "execution_count": null,
   "metadata": {},
   "outputs": [],
   "source": [
    "# - built in properties like shape, dtype, size, \n",
    "# - improved indexing, including fancy indexing\n",
    "# - ufuncs and built-in functions\n",
    "# - others\n",
    "# 2/4 for full credit"
   ]
  },
  {
   "cell_type": "markdown",
   "metadata": {},
   "source": [
    "### Do a quick check to make sure your array looks good"
   ]
  },
  {
   "cell_type": "code",
   "execution_count": 6,
   "metadata": {
    "tags": []
   },
   "outputs": [
    {
     "data": {
      "text/plain": [
       "array([[2.00313957e+03, 7.31266943e+05, 4.41578970e+01, ...,\n",
       "        1.40052000e+03, 3.30000000e-01, 3.10000000e+01],\n",
       "       [2.00313957e+03, 7.31266943e+05, 4.41501750e+01, ...,\n",
       "        1.38464000e+03, 4.30000000e-01, 3.10000000e+01],\n",
       "       [2.00313957e+03, 7.31266943e+05, 4.41486320e+01, ...,\n",
       "        1.38349000e+03, 2.80000000e-01, 3.10000000e+01],\n",
       "       ...,\n",
       "       [2.00977600e+03, 7.33691238e+05, 3.78993190e+01, ...,\n",
       "        1.55644000e+03, 0.00000000e+00, 3.10000000e+01],\n",
       "       [2.00977600e+03, 7.33691238e+05, 3.79008690e+01, ...,\n",
       "        1.55644000e+03, 0.00000000e+00, 3.10000000e+01],\n",
       "       [2.00977600e+03, 7.33691238e+05, 3.79024200e+01, ...,\n",
       "        1.55644000e+03, 0.00000000e+00, 3.10000000e+01]])"
      ]
     },
     "execution_count": 6,
     "metadata": {},
     "output_type": "execute_result"
    }
   ],
   "source": [
    "glas_np"
   ]
  },
  {
   "cell_type": "markdown",
   "metadata": {},
   "source": [
    "### How many rows and columns are in your array?"
   ]
  },
  {
   "cell_type": "code",
   "execution_count": 7,
   "metadata": {
    "tags": [
     "hide_content"
    ]
   },
   "outputs": [
    {
     "data": {
      "text/plain": [
       "(65236, 8)"
      ]
     },
     "execution_count": 7,
     "metadata": {},
     "output_type": "execute_result"
    }
   ],
   "source": []
  },
  {
   "cell_type": "markdown",
   "metadata": {},
   "source": [
    "### What is the datatype of your array?"
   ]
  },
  {
   "cell_type": "code",
   "execution_count": 8,
   "metadata": {
    "tags": [
     "hide_content"
    ]
   },
   "outputs": [
    {
     "data": {
      "text/plain": [
       "dtype('float64')"
      ]
     },
     "execution_count": 8,
     "metadata": {},
     "output_type": "execute_result"
    }
   ],
   "source": []
  },
  {
   "cell_type": "markdown",
   "metadata": {},
   "source": [
    "Note that a NumPy array typically has a single datatype, while a Pandas DataFrame can contain multiple data types (e.g., `string`, `float64`)"
   ]
  },
  {
   "cell_type": "markdown",
   "metadata": {},
   "source": [
    "### Examine the first 3 rows\n",
    "* Use slicing here"
   ]
  },
  {
   "cell_type": "code",
   "execution_count": 9,
   "metadata": {
    "tags": [
     "hide_content",
     "hide_output"
    ]
   },
   "outputs": [
    {
     "data": {
      "text/plain": [
       "array([[ 2.00313957e+03,  7.31266943e+05,  4.41578970e+01,\n",
       "        -1.05356562e+02,  1.39851000e+03,  1.40052000e+03,\n",
       "         3.30000000e-01,  3.10000000e+01],\n",
       "       [ 2.00313957e+03,  7.31266943e+05,  4.41501750e+01,\n",
       "        -1.05358116e+02,  1.38711000e+03,  1.38464000e+03,\n",
       "         4.30000000e-01,  3.10000000e+01],\n",
       "       [ 2.00313957e+03,  7.31266943e+05,  4.41486320e+01,\n",
       "        -1.05358427e+02,  1.39283000e+03,  1.38349000e+03,\n",
       "         2.80000000e-01,  3.10000000e+01]])"
      ]
     },
     "execution_count": 9,
     "metadata": {},
     "output_type": "execute_result"
    }
   ],
   "source": []
  },
  {
   "cell_type": "markdown",
   "metadata": {},
   "source": [
    "### Examine the column with glas_z values\n",
    "* You will need to figure out which column number corresponds to these values (can do this manually from header), then slice the array to return all rows, but only that column"
   ]
  },
  {
   "cell_type": "code",
   "execution_count": 10,
   "metadata": {
    "tags": [
     "hide_content",
     "hide_output"
    ]
   },
   "outputs": [
    {
     "data": {
      "text/plain": [
       "array([1398.51, 1387.11, 1392.83, ..., 1556.19, 1556.18, 1556.32])"
      ]
     },
     "execution_count": 10,
     "metadata": {},
     "output_type": "execute_result"
    }
   ],
   "source": []
  },
  {
   "cell_type": "markdown",
   "metadata": {},
   "source": [
    "### Compute the mean and standard deviation of the glas_z values"
   ]
  },
  {
   "cell_type": "code",
   "execution_count": 11,
   "metadata": {
    "tags": [
     "hide_content",
     "hide_output"
    ]
   },
   "outputs": [
    {
     "name": "stdout",
     "output_type": "stream",
     "text": [
      "1791.4941674842112\n",
      "1037.1755321331423\n"
     ]
    }
   ],
   "source": []
  },
  {
   "cell_type": "markdown",
   "metadata": {},
   "source": [
    "### Use print formatting to create a formatted string with these values\n",
    "* Should be `'GLAS z: mean +/- std meters'` using your `mean` and `std` values, both formatted with 2 decimal places (cm-precision)\n",
    "    * For example: 'GLAS z: 1234.56 +/- 12.34 meters'"
   ]
  },
  {
   "cell_type": "code",
   "execution_count": 12,
   "metadata": {
    "tags": [
     "hide_content",
     "hide_output"
    ]
   },
   "outputs": [
    {
     "name": "stdout",
     "output_type": "stream",
     "text": [
      "GLAS z: 1791.49 +/- 1037.18 meters\n"
     ]
    }
   ],
   "source": []
  },
  {
   "cell_type": "markdown",
   "metadata": {},
   "source": [
    "### Create a simple scatter plot of the `glas_z` values using Matplotlib\n",
    "* Careful about correclty defining your x and y with values for latitude and longitude - easy to mix these up\n",
    "* Use point color to represent the elevation\n",
    "* You should see points that roughly outline the western United States\n",
    "    * Does this look familiar?? \n",
    "* Label the x axis, y axis, and add a descriptive title"
   ]
  },
  {
   "cell_type": "code",
   "execution_count": null,
   "metadata": {
    "tags": [
     "hide_content"
    ]
   },
   "outputs": [],
   "source": []
  },
  {
   "cell_type": "markdown",
   "metadata": {},
   "source": [
    "![](./imgs/glas_z_elevation_scatter.png)"
   ]
  },
  {
   "cell_type": "markdown",
   "metadata": {},
   "source": [
    "## Use conditionals and fancy indexing to extract points from 2005\n",
    "* Design a \"filter\" to isolate the points from 2005\n",
    "    * Can use boolean indexing\n",
    "    * Can then extract values from original array using the boolean index\n",
    "* Store these points in a new NumPy array"
   ]
  },
  {
   "cell_type": "code",
   "execution_count": 13,
   "metadata": {
    "tags": [
     "hide_content"
    ]
   },
   "outputs": [],
   "source": []
  },
  {
   "cell_type": "markdown",
   "metadata": {
    "tags": []
   },
   "source": [
    "### How many points were acquired in 2005?"
   ]
  },
  {
   "cell_type": "code",
   "execution_count": 14,
   "metadata": {
    "tags": [
     "hide_content"
    ]
   },
   "outputs": [
    {
     "data": {
      "text/plain": [
       "13122"
      ]
     },
     "execution_count": 14,
     "metadata": {},
     "output_type": "execute_result"
    }
   ],
   "source": []
  },
  {
   "cell_type": "markdown",
   "metadata": {},
   "source": [
    "## Part 2: Pandas (5 pts)\n",
    "\n",
    "A significant portion of the Python data science ecosystem is based on Pandas and/or Pandas data models.\n",
    "\n",
    ">pandas is a Python package providing fast, flexible, and expressive data structures designed to make working with \"relational\" or \"labeled\" data both easy and intuitive. It aims to be the fundamental high-level building block for doing practical, real world data analysis in Python. Additionally, it has the broader goal of becoming the most powerful and flexible open source data analysis / manipulation tool available in any language. It is already well on its way towards this goal.\n",
    "\n",
    "https://github.com/pandas-dev/pandas#main-features\n",
    "\n",
    "If you are working with tabular data, especially time series data, please use pandas.\n",
    "* A better way to deal with tabular data, built on top of NumPy arrays\n",
    "* With NumPy, we had to remember which column number (e.g., 3, 4) represented each variable (lat, lon, glas_z, etc)\n",
    "* Pandas allows you to store data with different types, and then reference using more meaningful labels\n",
    "    * NumPy: `glas_np[:,4]`\n",
    "    * Pandas: `glas_df['glas_z']`\n",
    "* A good \"10-minute\" reference with examples: https://pandas.pydata.org/pandas-docs/stable/getting_started/10min.html"
   ]
  },
  {
   "cell_type": "markdown",
   "metadata": {},
   "source": [
    "### Load the csv file with Pandas\n",
    "* Note that pandas has excellent readers for most common file formats: https://pandas.pydata.org/pandas-docs/stable/reference/io.html\n",
    "* Store as a DataFrame called `glas_df`"
   ]
  },
  {
   "cell_type": "code",
   "execution_count": 15,
   "metadata": {
    "tags": [
     "hide_content"
    ]
   },
   "outputs": [],
   "source": []
  },
  {
   "cell_type": "markdown",
   "metadata": {},
   "source": [
    "We already loaded these same data using Numpy. What are some advantages of loading these data as a pandas DataFrame rather than a Numpy array? \n",
    "\n",
    "Is a pandas DataFrame appropriate for all shapes and size of data? "
   ]
  },
  {
   "cell_type": "code",
   "execution_count": null,
   "metadata": {},
   "outputs": [],
   "source": [
    "# - I/O improvements, e.g., It's easier to read in tabular data with Pandas \n",
    "# - Labels! \n",
    "# - expanded indexing possibilities\n",
    "# - better nodata handling\n",
    "# - others\n",
    "# 2/5 for full credit\n",
    "\n",
    "# - Pandas is great for tabular data, but not ideal for datasets with greater than two dimensions. \n",
    "# - Pandas may not be ideal for datasets too large to fit in memory\n",
    "# 1/2 for full credit"
   ]
  },
  {
   "cell_type": "markdown",
   "metadata": {},
   "source": [
    "### That was easy! Let's inspect the DataFrame"
   ]
  },
  {
   "cell_type": "code",
   "execution_count": 16,
   "metadata": {
    "tags": []
   },
   "outputs": [
    {
     "data": {
      "text/html": [
       "<div>\n",
       "<style scoped>\n",
       "    .dataframe tbody tr th:only-of-type {\n",
       "        vertical-align: middle;\n",
       "    }\n",
       "\n",
       "    .dataframe tbody tr th {\n",
       "        vertical-align: top;\n",
       "    }\n",
       "\n",
       "    .dataframe thead th {\n",
       "        text-align: right;\n",
       "    }\n",
       "</style>\n",
       "<table border=\"1\" class=\"dataframe\">\n",
       "  <thead>\n",
       "    <tr style=\"text-align: right;\">\n",
       "      <th></th>\n",
       "      <th>decyear</th>\n",
       "      <th>ordinal</th>\n",
       "      <th>lat</th>\n",
       "      <th>lon</th>\n",
       "      <th>glas_z</th>\n",
       "      <th>dem_z</th>\n",
       "      <th>dem_z_std</th>\n",
       "      <th>lulc</th>\n",
       "    </tr>\n",
       "  </thead>\n",
       "  <tbody>\n",
       "    <tr>\n",
       "      <th>0</th>\n",
       "      <td>2003.139571</td>\n",
       "      <td>731266.943345</td>\n",
       "      <td>44.157897</td>\n",
       "      <td>-105.356562</td>\n",
       "      <td>1398.51</td>\n",
       "      <td>1400.52</td>\n",
       "      <td>0.33</td>\n",
       "      <td>31</td>\n",
       "    </tr>\n",
       "    <tr>\n",
       "      <th>1</th>\n",
       "      <td>2003.139571</td>\n",
       "      <td>731266.943346</td>\n",
       "      <td>44.150175</td>\n",
       "      <td>-105.358116</td>\n",
       "      <td>1387.11</td>\n",
       "      <td>1384.64</td>\n",
       "      <td>0.43</td>\n",
       "      <td>31</td>\n",
       "    </tr>\n",
       "    <tr>\n",
       "      <th>2</th>\n",
       "      <td>2003.139571</td>\n",
       "      <td>731266.943347</td>\n",
       "      <td>44.148632</td>\n",
       "      <td>-105.358427</td>\n",
       "      <td>1392.83</td>\n",
       "      <td>1383.49</td>\n",
       "      <td>0.28</td>\n",
       "      <td>31</td>\n",
       "    </tr>\n",
       "    <tr>\n",
       "      <th>3</th>\n",
       "      <td>2003.139571</td>\n",
       "      <td>731266.943347</td>\n",
       "      <td>44.147087</td>\n",
       "      <td>-105.358738</td>\n",
       "      <td>1384.24</td>\n",
       "      <td>1382.85</td>\n",
       "      <td>0.84</td>\n",
       "      <td>31</td>\n",
       "    </tr>\n",
       "    <tr>\n",
       "      <th>4</th>\n",
       "      <td>2003.139571</td>\n",
       "      <td>731266.943347</td>\n",
       "      <td>44.145542</td>\n",
       "      <td>-105.359048</td>\n",
       "      <td>1369.21</td>\n",
       "      <td>1380.24</td>\n",
       "      <td>1.73</td>\n",
       "      <td>31</td>\n",
       "    </tr>\n",
       "    <tr>\n",
       "      <th>...</th>\n",
       "      <td>...</td>\n",
       "      <td>...</td>\n",
       "      <td>...</td>\n",
       "      <td>...</td>\n",
       "      <td>...</td>\n",
       "      <td>...</td>\n",
       "      <td>...</td>\n",
       "      <td>...</td>\n",
       "    </tr>\n",
       "    <tr>\n",
       "      <th>65231</th>\n",
       "      <td>2009.775995</td>\n",
       "      <td>733691.238340</td>\n",
       "      <td>37.896222</td>\n",
       "      <td>-117.044399</td>\n",
       "      <td>1556.16</td>\n",
       "      <td>1556.43</td>\n",
       "      <td>0.00</td>\n",
       "      <td>31</td>\n",
       "    </tr>\n",
       "    <tr>\n",
       "      <th>65232</th>\n",
       "      <td>2009.775995</td>\n",
       "      <td>733691.238340</td>\n",
       "      <td>37.897769</td>\n",
       "      <td>-117.044675</td>\n",
       "      <td>1556.02</td>\n",
       "      <td>1556.43</td>\n",
       "      <td>0.00</td>\n",
       "      <td>31</td>\n",
       "    </tr>\n",
       "    <tr>\n",
       "      <th>65233</th>\n",
       "      <td>2009.775995</td>\n",
       "      <td>733691.238340</td>\n",
       "      <td>37.899319</td>\n",
       "      <td>-117.044952</td>\n",
       "      <td>1556.19</td>\n",
       "      <td>1556.44</td>\n",
       "      <td>0.00</td>\n",
       "      <td>31</td>\n",
       "    </tr>\n",
       "    <tr>\n",
       "      <th>65234</th>\n",
       "      <td>2009.775995</td>\n",
       "      <td>733691.238340</td>\n",
       "      <td>37.900869</td>\n",
       "      <td>-117.045230</td>\n",
       "      <td>1556.18</td>\n",
       "      <td>1556.44</td>\n",
       "      <td>0.00</td>\n",
       "      <td>31</td>\n",
       "    </tr>\n",
       "    <tr>\n",
       "      <th>65235</th>\n",
       "      <td>2009.775995</td>\n",
       "      <td>733691.238341</td>\n",
       "      <td>37.902420</td>\n",
       "      <td>-117.045508</td>\n",
       "      <td>1556.32</td>\n",
       "      <td>1556.44</td>\n",
       "      <td>0.00</td>\n",
       "      <td>31</td>\n",
       "    </tr>\n",
       "  </tbody>\n",
       "</table>\n",
       "<p>65236 rows × 8 columns</p>\n",
       "</div>"
      ],
      "text/plain": [
       "           decyear        ordinal        lat         lon   glas_z    dem_z  \\\n",
       "0      2003.139571  731266.943345  44.157897 -105.356562  1398.51  1400.52   \n",
       "1      2003.139571  731266.943346  44.150175 -105.358116  1387.11  1384.64   \n",
       "2      2003.139571  731266.943347  44.148632 -105.358427  1392.83  1383.49   \n",
       "3      2003.139571  731266.943347  44.147087 -105.358738  1384.24  1382.85   \n",
       "4      2003.139571  731266.943347  44.145542 -105.359048  1369.21  1380.24   \n",
       "...            ...            ...        ...         ...      ...      ...   \n",
       "65231  2009.775995  733691.238340  37.896222 -117.044399  1556.16  1556.43   \n",
       "65232  2009.775995  733691.238340  37.897769 -117.044675  1556.02  1556.43   \n",
       "65233  2009.775995  733691.238340  37.899319 -117.044952  1556.19  1556.44   \n",
       "65234  2009.775995  733691.238340  37.900869 -117.045230  1556.18  1556.44   \n",
       "65235  2009.775995  733691.238341  37.902420 -117.045508  1556.32  1556.44   \n",
       "\n",
       "       dem_z_std  lulc  \n",
       "0           0.33    31  \n",
       "1           0.43    31  \n",
       "2           0.28    31  \n",
       "3           0.84    31  \n",
       "4           1.73    31  \n",
       "...          ...   ...  \n",
       "65231       0.00    31  \n",
       "65232       0.00    31  \n",
       "65233       0.00    31  \n",
       "65234       0.00    31  \n",
       "65235       0.00    31  \n",
       "\n",
       "[65236 rows x 8 columns]"
      ]
     },
     "execution_count": 16,
     "metadata": {},
     "output_type": "execute_result"
    }
   ],
   "source": [
    "glas_df"
   ]
  },
  {
   "cell_type": "markdown",
   "metadata": {},
   "source": [
    "### Check data types\n",
    "* Can use the DataFrame `info` method"
   ]
  },
  {
   "cell_type": "code",
   "execution_count": 17,
   "metadata": {
    "tags": [
     "hide_content",
     "hide_output"
    ]
   },
   "outputs": [
    {
     "name": "stdout",
     "output_type": "stream",
     "text": [
      "<class 'pandas.core.frame.DataFrame'>\n",
      "RangeIndex: 65236 entries, 0 to 65235\n",
      "Data columns (total 8 columns):\n",
      " #   Column     Non-Null Count  Dtype  \n",
      "---  ------     --------------  -----  \n",
      " 0   decyear    65236 non-null  float64\n",
      " 1   ordinal    65236 non-null  float64\n",
      " 2   lat        65236 non-null  float64\n",
      " 3   lon        65236 non-null  float64\n",
      " 4   glas_z     65236 non-null  float64\n",
      " 5   dem_z      65236 non-null  float64\n",
      " 6   dem_z_std  65236 non-null  float64\n",
      " 7   lulc       65236 non-null  int64  \n",
      "dtypes: float64(7), int64(1)\n",
      "memory usage: 4.0 MB\n"
     ]
    }
   ],
   "source": []
  },
  {
   "cell_type": "markdown",
   "metadata": {},
   "source": [
    "### Check the column labels\n",
    "* Can use the DataFrame `columns` attribute"
   ]
  },
  {
   "cell_type": "code",
   "execution_count": 18,
   "metadata": {
    "tags": [
     "hide_content",
     "hide_output"
    ]
   },
   "outputs": [
    {
     "data": {
      "text/plain": [
       "Index(['decyear', 'ordinal', 'lat', 'lon', 'glas_z', 'dem_z', 'dem_z_std',\n",
       "       'lulc'],\n",
       "      dtype='object')"
      ]
     },
     "execution_count": 18,
     "metadata": {},
     "output_type": "execute_result"
    }
   ],
   "source": []
  },
  {
   "cell_type": "markdown",
   "metadata": {},
   "source": [
    "If you are new to Python and object-oriented programming, take a moment to consider the difference between the methods and attributes of the DataFrame, and how both are accessed. \n",
    "\n",
    "https://pandas.pydata.org/pandas-docs/stable/reference/api/pandas.DataFrame.html\n",
    "\n",
    "If this is confusing, ask your neighbor or instructor."
   ]
  },
  {
   "cell_type": "markdown",
   "metadata": {},
   "source": [
    "### Preview records using DataFrame `head` and `tail` methods"
   ]
  },
  {
   "cell_type": "code",
   "execution_count": 19,
   "metadata": {
    "tags": [
     "hide_content",
     "hide_output"
    ]
   },
   "outputs": [
    {
     "data": {
      "text/html": [
       "<div>\n",
       "<style scoped>\n",
       "    .dataframe tbody tr th:only-of-type {\n",
       "        vertical-align: middle;\n",
       "    }\n",
       "\n",
       "    .dataframe tbody tr th {\n",
       "        vertical-align: top;\n",
       "    }\n",
       "\n",
       "    .dataframe thead th {\n",
       "        text-align: right;\n",
       "    }\n",
       "</style>\n",
       "<table border=\"1\" class=\"dataframe\">\n",
       "  <thead>\n",
       "    <tr style=\"text-align: right;\">\n",
       "      <th></th>\n",
       "      <th>decyear</th>\n",
       "      <th>ordinal</th>\n",
       "      <th>lat</th>\n",
       "      <th>lon</th>\n",
       "      <th>glas_z</th>\n",
       "      <th>dem_z</th>\n",
       "      <th>dem_z_std</th>\n",
       "      <th>lulc</th>\n",
       "    </tr>\n",
       "  </thead>\n",
       "  <tbody>\n",
       "    <tr>\n",
       "      <th>0</th>\n",
       "      <td>2003.139571</td>\n",
       "      <td>731266.943345</td>\n",
       "      <td>44.157897</td>\n",
       "      <td>-105.356562</td>\n",
       "      <td>1398.51</td>\n",
       "      <td>1400.52</td>\n",
       "      <td>0.33</td>\n",
       "      <td>31</td>\n",
       "    </tr>\n",
       "    <tr>\n",
       "      <th>1</th>\n",
       "      <td>2003.139571</td>\n",
       "      <td>731266.943346</td>\n",
       "      <td>44.150175</td>\n",
       "      <td>-105.358116</td>\n",
       "      <td>1387.11</td>\n",
       "      <td>1384.64</td>\n",
       "      <td>0.43</td>\n",
       "      <td>31</td>\n",
       "    </tr>\n",
       "    <tr>\n",
       "      <th>2</th>\n",
       "      <td>2003.139571</td>\n",
       "      <td>731266.943347</td>\n",
       "      <td>44.148632</td>\n",
       "      <td>-105.358427</td>\n",
       "      <td>1392.83</td>\n",
       "      <td>1383.49</td>\n",
       "      <td>0.28</td>\n",
       "      <td>31</td>\n",
       "    </tr>\n",
       "    <tr>\n",
       "      <th>3</th>\n",
       "      <td>2003.139571</td>\n",
       "      <td>731266.943347</td>\n",
       "      <td>44.147087</td>\n",
       "      <td>-105.358738</td>\n",
       "      <td>1384.24</td>\n",
       "      <td>1382.85</td>\n",
       "      <td>0.84</td>\n",
       "      <td>31</td>\n",
       "    </tr>\n",
       "    <tr>\n",
       "      <th>4</th>\n",
       "      <td>2003.139571</td>\n",
       "      <td>731266.943347</td>\n",
       "      <td>44.145542</td>\n",
       "      <td>-105.359048</td>\n",
       "      <td>1369.21</td>\n",
       "      <td>1380.24</td>\n",
       "      <td>1.73</td>\n",
       "      <td>31</td>\n",
       "    </tr>\n",
       "  </tbody>\n",
       "</table>\n",
       "</div>"
      ],
      "text/plain": [
       "       decyear        ordinal        lat         lon   glas_z    dem_z  \\\n",
       "0  2003.139571  731266.943345  44.157897 -105.356562  1398.51  1400.52   \n",
       "1  2003.139571  731266.943346  44.150175 -105.358116  1387.11  1384.64   \n",
       "2  2003.139571  731266.943347  44.148632 -105.358427  1392.83  1383.49   \n",
       "3  2003.139571  731266.943347  44.147087 -105.358738  1384.24  1382.85   \n",
       "4  2003.139571  731266.943347  44.145542 -105.359048  1369.21  1380.24   \n",
       "\n",
       "   dem_z_std  lulc  \n",
       "0       0.33    31  \n",
       "1       0.43    31  \n",
       "2       0.28    31  \n",
       "3       0.84    31  \n",
       "4       1.73    31  "
      ]
     },
     "execution_count": 19,
     "metadata": {},
     "output_type": "execute_result"
    }
   ],
   "source": []
  },
  {
   "cell_type": "code",
   "execution_count": 20,
   "metadata": {
    "tags": [
     "hide_content",
     "hide_output"
    ]
   },
   "outputs": [
    {
     "data": {
      "text/html": [
       "<div>\n",
       "<style scoped>\n",
       "    .dataframe tbody tr th:only-of-type {\n",
       "        vertical-align: middle;\n",
       "    }\n",
       "\n",
       "    .dataframe tbody tr th {\n",
       "        vertical-align: top;\n",
       "    }\n",
       "\n",
       "    .dataframe thead th {\n",
       "        text-align: right;\n",
       "    }\n",
       "</style>\n",
       "<table border=\"1\" class=\"dataframe\">\n",
       "  <thead>\n",
       "    <tr style=\"text-align: right;\">\n",
       "      <th></th>\n",
       "      <th>decyear</th>\n",
       "      <th>ordinal</th>\n",
       "      <th>lat</th>\n",
       "      <th>lon</th>\n",
       "      <th>glas_z</th>\n",
       "      <th>dem_z</th>\n",
       "      <th>dem_z_std</th>\n",
       "      <th>lulc</th>\n",
       "    </tr>\n",
       "  </thead>\n",
       "  <tbody>\n",
       "    <tr>\n",
       "      <th>65231</th>\n",
       "      <td>2009.775995</td>\n",
       "      <td>733691.238340</td>\n",
       "      <td>37.896222</td>\n",
       "      <td>-117.044399</td>\n",
       "      <td>1556.16</td>\n",
       "      <td>1556.43</td>\n",
       "      <td>0.0</td>\n",
       "      <td>31</td>\n",
       "    </tr>\n",
       "    <tr>\n",
       "      <th>65232</th>\n",
       "      <td>2009.775995</td>\n",
       "      <td>733691.238340</td>\n",
       "      <td>37.897769</td>\n",
       "      <td>-117.044675</td>\n",
       "      <td>1556.02</td>\n",
       "      <td>1556.43</td>\n",
       "      <td>0.0</td>\n",
       "      <td>31</td>\n",
       "    </tr>\n",
       "    <tr>\n",
       "      <th>65233</th>\n",
       "      <td>2009.775995</td>\n",
       "      <td>733691.238340</td>\n",
       "      <td>37.899319</td>\n",
       "      <td>-117.044952</td>\n",
       "      <td>1556.19</td>\n",
       "      <td>1556.44</td>\n",
       "      <td>0.0</td>\n",
       "      <td>31</td>\n",
       "    </tr>\n",
       "    <tr>\n",
       "      <th>65234</th>\n",
       "      <td>2009.775995</td>\n",
       "      <td>733691.238340</td>\n",
       "      <td>37.900869</td>\n",
       "      <td>-117.045230</td>\n",
       "      <td>1556.18</td>\n",
       "      <td>1556.44</td>\n",
       "      <td>0.0</td>\n",
       "      <td>31</td>\n",
       "    </tr>\n",
       "    <tr>\n",
       "      <th>65235</th>\n",
       "      <td>2009.775995</td>\n",
       "      <td>733691.238341</td>\n",
       "      <td>37.902420</td>\n",
       "      <td>-117.045508</td>\n",
       "      <td>1556.32</td>\n",
       "      <td>1556.44</td>\n",
       "      <td>0.0</td>\n",
       "      <td>31</td>\n",
       "    </tr>\n",
       "  </tbody>\n",
       "</table>\n",
       "</div>"
      ],
      "text/plain": [
       "           decyear        ordinal        lat         lon   glas_z    dem_z  \\\n",
       "65231  2009.775995  733691.238340  37.896222 -117.044399  1556.16  1556.43   \n",
       "65232  2009.775995  733691.238340  37.897769 -117.044675  1556.02  1556.43   \n",
       "65233  2009.775995  733691.238340  37.899319 -117.044952  1556.19  1556.44   \n",
       "65234  2009.775995  733691.238340  37.900869 -117.045230  1556.18  1556.44   \n",
       "65235  2009.775995  733691.238341  37.902420 -117.045508  1556.32  1556.44   \n",
       "\n",
       "       dem_z_std  lulc  \n",
       "65231        0.0    31  \n",
       "65232        0.0    31  \n",
       "65233        0.0    31  \n",
       "65234        0.0    31  \n",
       "65235        0.0    31  "
      ]
     },
     "execution_count": 20,
     "metadata": {},
     "output_type": "execute_result"
    }
   ],
   "source": []
  },
  {
   "cell_type": "markdown",
   "metadata": {},
   "source": [
    "### Compute the mean and standard deviation for all values in each column\n",
    "* Don't overthink this, should be simple (no loops!)"
   ]
  },
  {
   "cell_type": "code",
   "execution_count": 21,
   "metadata": {
    "tags": [
     "hide_content"
    ]
   },
   "outputs": [
    {
     "data": {
      "text/plain": [
       "decyear        2005.945322\n",
       "ordinal      732291.890372\n",
       "lat              40.946798\n",
       "lon            -115.040612\n",
       "glas_z         1791.494167\n",
       "dem_z          1792.260964\n",
       "dem_z_std         5.504748\n",
       "lulc             30.339444\n",
       "dtype: float64"
      ]
     },
     "execution_count": 21,
     "metadata": {},
     "output_type": "execute_result"
    }
   ],
   "source": []
  },
  {
   "cell_type": "code",
   "execution_count": 22,
   "metadata": {
    "tags": [
     "hide_content"
    ]
   },
   "outputs": [
    {
     "data": {
      "text/plain": [
       "decyear         1.729573\n",
       "ordinal       631.766682\n",
       "lat             3.590476\n",
       "lon             5.465065\n",
       "glas_z       1037.183482\n",
       "dem_z        1037.925371\n",
       "dem_z_std       7.518558\n",
       "lulc            3.480576\n",
       "dtype: float64"
      ]
     },
     "execution_count": 22,
     "metadata": {},
     "output_type": "execute_result"
    }
   ],
   "source": []
  },
  {
   "cell_type": "markdown",
   "metadata": {
    "tags": []
   },
   "source": [
    "### Apply a custom function to each column\n",
    "* For this example, first define a function to compute the Normalized Median Absolute Deviation (NMAD)\n",
    "    * https://en.wikipedia.org/wiki/Median_absolute_deviation\n",
    "    * Your function should accept an nD array and return an array containing a single NMAD value\n",
    "    * For a normal distribution, this is equivalent to the standard deviation.\n",
    "    * For data containing outliers, it is a more robust representation of variability.\n",
    "* Then use the Pandas `apply` method to compute the NMAD for all values in each column\n",
    "* Take a moment to compare the NMAD values with the standard deviation values above."
   ]
  },
  {
   "cell_type": "code",
   "execution_count": 23,
   "metadata": {},
   "outputs": [],
   "source": [
    "# formula for nmad \n",
    "c = 1.4826\n",
    "a = np.random.rand(50) # example array\n",
    "nmad = np.median(np.fabs(a - np.median(a))) * c\n",
    "\n",
    "# Note: the NMAD function is now distributed with scipy.stats: https://docs.scipy.org/doc/scipy/reference/generated/scipy.stats.median_absolute_deviation.html"
   ]
  },
  {
   "cell_type": "code",
   "execution_count": 24,
   "metadata": {},
   "outputs": [],
   "source": []
  },
  {
   "cell_type": "code",
   "execution_count": 25,
   "metadata": {
    "tags": [
     "hide_content"
    ]
   },
   "outputs": [
    {
     "data": {
      "text/plain": [
       "decyear        2.066488\n",
       "ordinal      755.079010\n",
       "lat            3.885421\n",
       "lon            5.798237\n",
       "glas_z       632.580942\n",
       "dem_z        632.136162\n",
       "dem_z_std      2.001510\n",
       "lulc           0.000000\n",
       "dtype: float64"
      ]
     },
     "execution_count": 25,
     "metadata": {},
     "output_type": "execute_result"
    }
   ],
   "source": []
  },
  {
   "cell_type": "markdown",
   "metadata": {},
   "source": [
    "### Print quick stats for entire DataFrame with the `describe` method"
   ]
  },
  {
   "cell_type": "code",
   "execution_count": 26,
   "metadata": {
    "tags": [
     "hide_content",
     "hide_output"
    ]
   },
   "outputs": [
    {
     "data": {
      "text/html": [
       "<div>\n",
       "<style scoped>\n",
       "    .dataframe tbody tr th:only-of-type {\n",
       "        vertical-align: middle;\n",
       "    }\n",
       "\n",
       "    .dataframe tbody tr th {\n",
       "        vertical-align: top;\n",
       "    }\n",
       "\n",
       "    .dataframe thead th {\n",
       "        text-align: right;\n",
       "    }\n",
       "</style>\n",
       "<table border=\"1\" class=\"dataframe\">\n",
       "  <thead>\n",
       "    <tr style=\"text-align: right;\">\n",
       "      <th></th>\n",
       "      <th>decyear</th>\n",
       "      <th>ordinal</th>\n",
       "      <th>lat</th>\n",
       "      <th>lon</th>\n",
       "      <th>glas_z</th>\n",
       "      <th>dem_z</th>\n",
       "      <th>dem_z_std</th>\n",
       "      <th>lulc</th>\n",
       "    </tr>\n",
       "  </thead>\n",
       "  <tbody>\n",
       "    <tr>\n",
       "      <th>count</th>\n",
       "      <td>65236.000000</td>\n",
       "      <td>65236.000000</td>\n",
       "      <td>65236.000000</td>\n",
       "      <td>65236.000000</td>\n",
       "      <td>65236.000000</td>\n",
       "      <td>65236.000000</td>\n",
       "      <td>65236.000000</td>\n",
       "      <td>65236.000000</td>\n",
       "    </tr>\n",
       "    <tr>\n",
       "      <th>mean</th>\n",
       "      <td>2005.945322</td>\n",
       "      <td>732291.890372</td>\n",
       "      <td>40.946798</td>\n",
       "      <td>-115.040612</td>\n",
       "      <td>1791.494167</td>\n",
       "      <td>1792.260964</td>\n",
       "      <td>5.504748</td>\n",
       "      <td>30.339444</td>\n",
       "    </tr>\n",
       "    <tr>\n",
       "      <th>std</th>\n",
       "      <td>1.729573</td>\n",
       "      <td>631.766682</td>\n",
       "      <td>3.590476</td>\n",
       "      <td>5.465065</td>\n",
       "      <td>1037.183482</td>\n",
       "      <td>1037.925371</td>\n",
       "      <td>7.518558</td>\n",
       "      <td>3.480576</td>\n",
       "    </tr>\n",
       "    <tr>\n",
       "      <th>min</th>\n",
       "      <td>2003.139571</td>\n",
       "      <td>731266.943345</td>\n",
       "      <td>34.999455</td>\n",
       "      <td>-124.482406</td>\n",
       "      <td>-115.550000</td>\n",
       "      <td>-114.570000</td>\n",
       "      <td>0.000000</td>\n",
       "      <td>12.000000</td>\n",
       "    </tr>\n",
       "    <tr>\n",
       "      <th>25%</th>\n",
       "      <td>2004.444817</td>\n",
       "      <td>731743.803182</td>\n",
       "      <td>38.101451</td>\n",
       "      <td>-119.257599</td>\n",
       "      <td>1166.970000</td>\n",
       "      <td>1168.240000</td>\n",
       "      <td>0.070000</td>\n",
       "      <td>31.000000</td>\n",
       "    </tr>\n",
       "    <tr>\n",
       "      <th>50%</th>\n",
       "      <td>2005.846896</td>\n",
       "      <td>732256.116938</td>\n",
       "      <td>39.884541</td>\n",
       "      <td>-115.686241</td>\n",
       "      <td>1555.730000</td>\n",
       "      <td>1556.380000</td>\n",
       "      <td>1.350000</td>\n",
       "      <td>31.000000</td>\n",
       "    </tr>\n",
       "    <tr>\n",
       "      <th>75%</th>\n",
       "      <td>2007.223249</td>\n",
       "      <td>732758.486046</td>\n",
       "      <td>43.453565</td>\n",
       "      <td>-109.816475</td>\n",
       "      <td>2399.355000</td>\n",
       "      <td>2400.072500</td>\n",
       "      <td>9.530000</td>\n",
       "      <td>31.000000</td>\n",
       "    </tr>\n",
       "    <tr>\n",
       "      <th>max</th>\n",
       "      <td>2009.775995</td>\n",
       "      <td>733691.238341</td>\n",
       "      <td>48.999727</td>\n",
       "      <td>-104.052336</td>\n",
       "      <td>4340.310000</td>\n",
       "      <td>4252.940000</td>\n",
       "      <td>49.900000</td>\n",
       "      <td>31.000000</td>\n",
       "    </tr>\n",
       "  </tbody>\n",
       "</table>\n",
       "</div>"
      ],
      "text/plain": [
       "            decyear        ordinal           lat           lon        glas_z  \\\n",
       "count  65236.000000   65236.000000  65236.000000  65236.000000  65236.000000   \n",
       "mean    2005.945322  732291.890372     40.946798   -115.040612   1791.494167   \n",
       "std        1.729573     631.766682      3.590476      5.465065   1037.183482   \n",
       "min     2003.139571  731266.943345     34.999455   -124.482406   -115.550000   \n",
       "25%     2004.444817  731743.803182     38.101451   -119.257599   1166.970000   \n",
       "50%     2005.846896  732256.116938     39.884541   -115.686241   1555.730000   \n",
       "75%     2007.223249  732758.486046     43.453565   -109.816475   2399.355000   \n",
       "max     2009.775995  733691.238341     48.999727   -104.052336   4340.310000   \n",
       "\n",
       "              dem_z     dem_z_std          lulc  \n",
       "count  65236.000000  65236.000000  65236.000000  \n",
       "mean    1792.260964      5.504748     30.339444  \n",
       "std     1037.925371      7.518558      3.480576  \n",
       "min     -114.570000      0.000000     12.000000  \n",
       "25%     1168.240000      0.070000     31.000000  \n",
       "50%     1556.380000      1.350000     31.000000  \n",
       "75%     2400.072500      9.530000     31.000000  \n",
       "max     4252.940000     49.900000     31.000000  "
      ]
     },
     "execution_count": 26,
     "metadata": {},
     "output_type": "execute_result"
    }
   ],
   "source": []
  },
  {
   "cell_type": "markdown",
   "metadata": {},
   "source": [
    "Useful, huh?  Note that the 50% statistic (50th percentile) is the median."
   ]
  },
  {
   "cell_type": "markdown",
   "metadata": {},
   "source": [
    "### Use the Pandas plotting functionality to create a 2D scatterplot of `glas_z` values\n",
    "* https://pandas.pydata.org/pandas-docs/stable/reference/api/pandas.DataFrame.plot.scatter.html\n",
    "* Note that labels and colorbar are automatically plotted!\n",
    "* Adjust the size of the points using the `s=1` keyword\n",
    "* Experiment with different color ramps:\n",
    "    * https://matplotlib.org/examples/color/colormaps_reference.html (I prefer `inferno`)\n",
    "* Note: If your x axis label mysteriously disappears, see: https://uwgda-jupyterbook.readthedocs.io/en/latest/resources/core_packages.html#scatterplot-x-axis-label-and-x-tick-labels-disappear-when-using-colormap"
   ]
  },
  {
   "cell_type": "markdown",
   "metadata": {},
   "source": [
    "#### Color ramps\n",
    "Information on how to choose a good colormap for your data: https://matplotlib.org/3.1.0/tutorials/colors/colormaps.html  \n",
    "Another great resource (Thanks @fperez!): https://matplotlib.org/cmocean/  \n",
    "**TL;DR** Don't use `jet`, use a perceptually uniform colormap for linear variables like elevation. Use a diverging color ramp for values where sign is important."
   ]
  },
  {
   "cell_type": "code",
   "execution_count": null,
   "metadata": {
    "tags": [
     "hide_content"
    ]
   },
   "outputs": [],
   "source": []
  },
  {
   "cell_type": "markdown",
   "metadata": {},
   "source": [
    "![](./imgs/glas_z_elevation_scatter_pandas.png)"
   ]
  },
  {
   "cell_type": "markdown",
   "metadata": {},
   "source": [
    "### Experiment by changing the variable represented with the color ramp\n",
    "* Try `decyear` or other columns to quickly visualize spatial distribution of these values."
   ]
  },
  {
   "cell_type": "code",
   "execution_count": null,
   "metadata": {
    "tags": [
     "hide_content",
     "hide_output"
    ]
   },
   "outputs": [],
   "source": []
  },
  {
   "cell_type": "markdown",
   "metadata": {},
   "source": [
    "![](./imgs/glas_z_decyear_scatter_pandas.png)"
   ]
  },
  {
   "cell_type": "markdown",
   "metadata": {},
   "source": [
    "### Challenge Question: Create a 3D scatterplot\n",
    "See samples here: https://matplotlib.org/mpl_toolkits/mplot3d/tutorial.html\n",
    "\n",
    "Explore with the interactive tools (click and drag to change perspective). Some lag here considering number of points to be rendered, and maybe useful for visualizing small 3D datasets in the future.  There are other 3D plotting packages that are built for performance and efficiency (e.g., `ipyvolume`: https://github.com/maartenbreddels/ipyvolume)"
   ]
  },
  {
   "cell_type": "code",
   "execution_count": null,
   "metadata": {
    "tags": [
     "hide_content",
     "hide_output"
    ]
   },
   "outputs": [],
   "source": []
  },
  {
   "cell_type": "markdown",
   "metadata": {},
   "source": [
    "![](./imgs/glas_z_3d_scatter.png)"
   ]
  },
  {
   "cell_type": "markdown",
   "metadata": {},
   "source": [
    "### Create a histogram that shows the number of points vs time (`decyear`)\n",
    "* Should be simple with built-in method for your `DataFrame` \n",
    "* Make sure that you use enough bins to avoid aliasing.  This could require some trial and error (try 10, 100, 1000, and see if you can find a good compromise)\n",
    "    * Can also consider some of the options (e.g., 'auto') here, though I have found 'auto' doesn't always work well: https://docs.scipy.org/doc/numpy/reference/generated/numpy.histogram_bin_edges.html#numpy.histogram_bin_edges\n",
    "    * I approached this by thinking about the number of bins required for ~weekly resolution over the ~6 year mission\n",
    "* You should be able to resolve the distinct campaigns during the mission (each ~1-2 months long). There is an extra credit problem at the end to group by years and play with clustering for the campaigns."
   ]
  },
  {
   "cell_type": "code",
   "execution_count": null,
   "metadata": {
    "tags": [
     "hide_content"
    ]
   },
   "outputs": [],
   "source": []
  },
  {
   "cell_type": "markdown",
   "metadata": {},
   "source": [
    "![](./imgs/glas_z_decyear_histogram.png)"
   ]
  },
  {
   "cell_type": "markdown",
   "metadata": {},
   "source": [
    "### Create a histogram of all `glas_z` elevation values\n",
    "* What do you note about the distribution?"
   ]
  },
  {
   "cell_type": "code",
   "execution_count": null,
   "metadata": {
    "tags": [
     "hide_content"
    ]
   },
   "outputs": [],
   "source": []
  },
  {
   "cell_type": "markdown",
   "metadata": {},
   "source": [
    "![](./imgs/glas_z_histogram.png)"
   ]
  },
  {
   "cell_type": "markdown",
   "metadata": {},
   "source": [
    "### Create a 2d scatterplot showing the spatial distribution of `glas_z` values above 4000 m \n",
    "- Use indexing\n",
    "- Plot the rest of the points (`glas_z` values below 4000 m) in light gray"
   ]
  },
  {
   "cell_type": "code",
   "execution_count": null,
   "metadata": {},
   "outputs": [],
   "source": []
  },
  {
   "cell_type": "markdown",
   "metadata": {},
   "source": [
    "![](./imgs/glas_z_above4000_scatter.png)"
   ]
  },
  {
   "cell_type": "markdown",
   "metadata": {},
   "source": [
    "## Part 3: Elevation Difference Calculations, Outlier Removal (5 pts)\n",
    "### Compute the elevation difference between ICESat `glas_z` and SRTM `dem_z` values\n",
    "\n",
    "* Earlier, I mentioned that I had sampled the SRTM DEM for each GLAS shot\n",
    "* Compute the difference using Pandas and store in a new column called `glas_srtm_dh`\n",
    "* Remember the order of this calculation (if the difference values are negative, which dataset is higher elevation?)\n",
    "* Check values with `head`"
   ]
  },
  {
   "cell_type": "code",
   "execution_count": 27,
   "metadata": {
    "tags": [
     "hide_content"
    ]
   },
   "outputs": [
    {
     "data": {
      "text/html": [
       "<div>\n",
       "<style scoped>\n",
       "    .dataframe tbody tr th:only-of-type {\n",
       "        vertical-align: middle;\n",
       "    }\n",
       "\n",
       "    .dataframe tbody tr th {\n",
       "        vertical-align: top;\n",
       "    }\n",
       "\n",
       "    .dataframe thead th {\n",
       "        text-align: right;\n",
       "    }\n",
       "</style>\n",
       "<table border=\"1\" class=\"dataframe\">\n",
       "  <thead>\n",
       "    <tr style=\"text-align: right;\">\n",
       "      <th></th>\n",
       "      <th>decyear</th>\n",
       "      <th>ordinal</th>\n",
       "      <th>lat</th>\n",
       "      <th>lon</th>\n",
       "      <th>glas_z</th>\n",
       "      <th>dem_z</th>\n",
       "      <th>dem_z_std</th>\n",
       "      <th>lulc</th>\n",
       "      <th>glas_srtm_dh</th>\n",
       "    </tr>\n",
       "  </thead>\n",
       "  <tbody>\n",
       "    <tr>\n",
       "      <th>0</th>\n",
       "      <td>2003.139571</td>\n",
       "      <td>731266.943345</td>\n",
       "      <td>44.157897</td>\n",
       "      <td>-105.356562</td>\n",
       "      <td>1398.51</td>\n",
       "      <td>1400.52</td>\n",
       "      <td>0.33</td>\n",
       "      <td>31</td>\n",
       "      <td>-2.01</td>\n",
       "    </tr>\n",
       "    <tr>\n",
       "      <th>1</th>\n",
       "      <td>2003.139571</td>\n",
       "      <td>731266.943346</td>\n",
       "      <td>44.150175</td>\n",
       "      <td>-105.358116</td>\n",
       "      <td>1387.11</td>\n",
       "      <td>1384.64</td>\n",
       "      <td>0.43</td>\n",
       "      <td>31</td>\n",
       "      <td>2.47</td>\n",
       "    </tr>\n",
       "    <tr>\n",
       "      <th>2</th>\n",
       "      <td>2003.139571</td>\n",
       "      <td>731266.943347</td>\n",
       "      <td>44.148632</td>\n",
       "      <td>-105.358427</td>\n",
       "      <td>1392.83</td>\n",
       "      <td>1383.49</td>\n",
       "      <td>0.28</td>\n",
       "      <td>31</td>\n",
       "      <td>9.34</td>\n",
       "    </tr>\n",
       "    <tr>\n",
       "      <th>3</th>\n",
       "      <td>2003.139571</td>\n",
       "      <td>731266.943347</td>\n",
       "      <td>44.147087</td>\n",
       "      <td>-105.358738</td>\n",
       "      <td>1384.24</td>\n",
       "      <td>1382.85</td>\n",
       "      <td>0.84</td>\n",
       "      <td>31</td>\n",
       "      <td>1.39</td>\n",
       "    </tr>\n",
       "    <tr>\n",
       "      <th>4</th>\n",
       "      <td>2003.139571</td>\n",
       "      <td>731266.943347</td>\n",
       "      <td>44.145542</td>\n",
       "      <td>-105.359048</td>\n",
       "      <td>1369.21</td>\n",
       "      <td>1380.24</td>\n",
       "      <td>1.73</td>\n",
       "      <td>31</td>\n",
       "      <td>-11.03</td>\n",
       "    </tr>\n",
       "  </tbody>\n",
       "</table>\n",
       "</div>"
      ],
      "text/plain": [
       "       decyear        ordinal        lat         lon   glas_z    dem_z  \\\n",
       "0  2003.139571  731266.943345  44.157897 -105.356562  1398.51  1400.52   \n",
       "1  2003.139571  731266.943346  44.150175 -105.358116  1387.11  1384.64   \n",
       "2  2003.139571  731266.943347  44.148632 -105.358427  1392.83  1383.49   \n",
       "3  2003.139571  731266.943347  44.147087 -105.358738  1384.24  1382.85   \n",
       "4  2003.139571  731266.943347  44.145542 -105.359048  1369.21  1380.24   \n",
       "\n",
       "   dem_z_std  lulc  glas_srtm_dh  \n",
       "0       0.33    31         -2.01  \n",
       "1       0.43    31          2.47  \n",
       "2       0.28    31          9.34  \n",
       "3       0.84    31          1.39  \n",
       "4       1.73    31        -11.03  "
      ]
     },
     "execution_count": 27,
     "metadata": {},
     "output_type": "execute_result"
    }
   ],
   "source": []
  },
  {
   "cell_type": "markdown",
   "metadata": {},
   "source": [
    "### Compute the time difference between each ICESat point timestamp and the SRTM timestamp\n",
    "* \n",
    "* Store in a new column named `glas_srtm_dt`\n",
    "* The SRTM data were collected between February 11-22, 2000\n",
    "    * Can assume a constant decimal year value of 2000.112 for now\n",
    "* Check values with `head`"
   ]
  },
  {
   "cell_type": "code",
   "execution_count": 28,
   "metadata": {
    "tags": [
     "hide_content",
     "hide_output"
    ]
   },
   "outputs": [
    {
     "data": {
      "text/html": [
       "<div>\n",
       "<style scoped>\n",
       "    .dataframe tbody tr th:only-of-type {\n",
       "        vertical-align: middle;\n",
       "    }\n",
       "\n",
       "    .dataframe tbody tr th {\n",
       "        vertical-align: top;\n",
       "    }\n",
       "\n",
       "    .dataframe thead th {\n",
       "        text-align: right;\n",
       "    }\n",
       "</style>\n",
       "<table border=\"1\" class=\"dataframe\">\n",
       "  <thead>\n",
       "    <tr style=\"text-align: right;\">\n",
       "      <th></th>\n",
       "      <th>decyear</th>\n",
       "      <th>ordinal</th>\n",
       "      <th>lat</th>\n",
       "      <th>lon</th>\n",
       "      <th>glas_z</th>\n",
       "      <th>dem_z</th>\n",
       "      <th>dem_z_std</th>\n",
       "      <th>lulc</th>\n",
       "      <th>glas_srtm_dh</th>\n",
       "      <th>glas_srtm_dt</th>\n",
       "    </tr>\n",
       "  </thead>\n",
       "  <tbody>\n",
       "    <tr>\n",
       "      <th>0</th>\n",
       "      <td>2003.139571</td>\n",
       "      <td>731266.943345</td>\n",
       "      <td>44.157897</td>\n",
       "      <td>-105.356562</td>\n",
       "      <td>1398.51</td>\n",
       "      <td>1400.52</td>\n",
       "      <td>0.33</td>\n",
       "      <td>31</td>\n",
       "      <td>-2.01</td>\n",
       "      <td>3.027571</td>\n",
       "    </tr>\n",
       "    <tr>\n",
       "      <th>1</th>\n",
       "      <td>2003.139571</td>\n",
       "      <td>731266.943346</td>\n",
       "      <td>44.150175</td>\n",
       "      <td>-105.358116</td>\n",
       "      <td>1387.11</td>\n",
       "      <td>1384.64</td>\n",
       "      <td>0.43</td>\n",
       "      <td>31</td>\n",
       "      <td>2.47</td>\n",
       "      <td>3.027571</td>\n",
       "    </tr>\n",
       "    <tr>\n",
       "      <th>2</th>\n",
       "      <td>2003.139571</td>\n",
       "      <td>731266.943347</td>\n",
       "      <td>44.148632</td>\n",
       "      <td>-105.358427</td>\n",
       "      <td>1392.83</td>\n",
       "      <td>1383.49</td>\n",
       "      <td>0.28</td>\n",
       "      <td>31</td>\n",
       "      <td>9.34</td>\n",
       "      <td>3.027571</td>\n",
       "    </tr>\n",
       "    <tr>\n",
       "      <th>3</th>\n",
       "      <td>2003.139571</td>\n",
       "      <td>731266.943347</td>\n",
       "      <td>44.147087</td>\n",
       "      <td>-105.358738</td>\n",
       "      <td>1384.24</td>\n",
       "      <td>1382.85</td>\n",
       "      <td>0.84</td>\n",
       "      <td>31</td>\n",
       "      <td>1.39</td>\n",
       "      <td>3.027571</td>\n",
       "    </tr>\n",
       "    <tr>\n",
       "      <th>4</th>\n",
       "      <td>2003.139571</td>\n",
       "      <td>731266.943347</td>\n",
       "      <td>44.145542</td>\n",
       "      <td>-105.359048</td>\n",
       "      <td>1369.21</td>\n",
       "      <td>1380.24</td>\n",
       "      <td>1.73</td>\n",
       "      <td>31</td>\n",
       "      <td>-11.03</td>\n",
       "      <td>3.027571</td>\n",
       "    </tr>\n",
       "  </tbody>\n",
       "</table>\n",
       "</div>"
      ],
      "text/plain": [
       "       decyear        ordinal        lat         lon   glas_z    dem_z  \\\n",
       "0  2003.139571  731266.943345  44.157897 -105.356562  1398.51  1400.52   \n",
       "1  2003.139571  731266.943346  44.150175 -105.358116  1387.11  1384.64   \n",
       "2  2003.139571  731266.943347  44.148632 -105.358427  1392.83  1383.49   \n",
       "3  2003.139571  731266.943347  44.147087 -105.358738  1384.24  1382.85   \n",
       "4  2003.139571  731266.943347  44.145542 -105.359048  1369.21  1380.24   \n",
       "\n",
       "   dem_z_std  lulc  glas_srtm_dh  glas_srtm_dt  \n",
       "0       0.33    31         -2.01      3.027571  \n",
       "1       0.43    31          2.47      3.027571  \n",
       "2       0.28    31          9.34      3.027571  \n",
       "3       0.84    31          1.39      3.027571  \n",
       "4       1.73    31        -11.03      3.027571  "
      ]
     },
     "execution_count": 28,
     "metadata": {},
     "output_type": "execute_result"
    }
   ],
   "source": []
  },
  {
   "cell_type": "markdown",
   "metadata": {},
   "source": [
    "### Compute *apparent* annualized elevation change rates (meters per year) from these new columns\n",
    "* Store in a new column named glas_srtm_dhdt\n",
    "* This will be rate of change between the SRTM timestamp (2000) and each GLAS point timestamp (2003-2009)\n",
    "* This is $\\frac{dh}{dt}$ : a common metric used for elevation change analysis\n",
    "* Check values with `head`"
   ]
  },
  {
   "cell_type": "code",
   "execution_count": 29,
   "metadata": {
    "tags": [
     "hide_content"
    ]
   },
   "outputs": [
    {
     "data": {
      "text/html": [
       "<div>\n",
       "<style scoped>\n",
       "    .dataframe tbody tr th:only-of-type {\n",
       "        vertical-align: middle;\n",
       "    }\n",
       "\n",
       "    .dataframe tbody tr th {\n",
       "        vertical-align: top;\n",
       "    }\n",
       "\n",
       "    .dataframe thead th {\n",
       "        text-align: right;\n",
       "    }\n",
       "</style>\n",
       "<table border=\"1\" class=\"dataframe\">\n",
       "  <thead>\n",
       "    <tr style=\"text-align: right;\">\n",
       "      <th></th>\n",
       "      <th>decyear</th>\n",
       "      <th>ordinal</th>\n",
       "      <th>lat</th>\n",
       "      <th>lon</th>\n",
       "      <th>glas_z</th>\n",
       "      <th>dem_z</th>\n",
       "      <th>dem_z_std</th>\n",
       "      <th>lulc</th>\n",
       "      <th>glas_srtm_dh</th>\n",
       "      <th>glas_srtm_dt</th>\n",
       "      <th>glas_srtm_dhdt</th>\n",
       "    </tr>\n",
       "  </thead>\n",
       "  <tbody>\n",
       "    <tr>\n",
       "      <th>0</th>\n",
       "      <td>2003.139571</td>\n",
       "      <td>731266.943345</td>\n",
       "      <td>44.157897</td>\n",
       "      <td>-105.356562</td>\n",
       "      <td>1398.51</td>\n",
       "      <td>1400.52</td>\n",
       "      <td>0.33</td>\n",
       "      <td>31</td>\n",
       "      <td>-2.01</td>\n",
       "      <td>3.027571</td>\n",
       "      <td>-0.663899</td>\n",
       "    </tr>\n",
       "    <tr>\n",
       "      <th>1</th>\n",
       "      <td>2003.139571</td>\n",
       "      <td>731266.943346</td>\n",
       "      <td>44.150175</td>\n",
       "      <td>-105.358116</td>\n",
       "      <td>1387.11</td>\n",
       "      <td>1384.64</td>\n",
       "      <td>0.43</td>\n",
       "      <td>31</td>\n",
       "      <td>2.47</td>\n",
       "      <td>3.027571</td>\n",
       "      <td>0.815836</td>\n",
       "    </tr>\n",
       "    <tr>\n",
       "      <th>2</th>\n",
       "      <td>2003.139571</td>\n",
       "      <td>731266.943347</td>\n",
       "      <td>44.148632</td>\n",
       "      <td>-105.358427</td>\n",
       "      <td>1392.83</td>\n",
       "      <td>1383.49</td>\n",
       "      <td>0.28</td>\n",
       "      <td>31</td>\n",
       "      <td>9.34</td>\n",
       "      <td>3.027571</td>\n",
       "      <td>3.084982</td>\n",
       "    </tr>\n",
       "    <tr>\n",
       "      <th>3</th>\n",
       "      <td>2003.139571</td>\n",
       "      <td>731266.943347</td>\n",
       "      <td>44.147087</td>\n",
       "      <td>-105.358738</td>\n",
       "      <td>1384.24</td>\n",
       "      <td>1382.85</td>\n",
       "      <td>0.84</td>\n",
       "      <td>31</td>\n",
       "      <td>1.39</td>\n",
       "      <td>3.027571</td>\n",
       "      <td>0.459114</td>\n",
       "    </tr>\n",
       "    <tr>\n",
       "      <th>4</th>\n",
       "      <td>2003.139571</td>\n",
       "      <td>731266.943347</td>\n",
       "      <td>44.145542</td>\n",
       "      <td>-105.359048</td>\n",
       "      <td>1369.21</td>\n",
       "      <td>1380.24</td>\n",
       "      <td>1.73</td>\n",
       "      <td>31</td>\n",
       "      <td>-11.03</td>\n",
       "      <td>3.027571</td>\n",
       "      <td>-3.643185</td>\n",
       "    </tr>\n",
       "  </tbody>\n",
       "</table>\n",
       "</div>"
      ],
      "text/plain": [
       "       decyear        ordinal        lat         lon   glas_z    dem_z  \\\n",
       "0  2003.139571  731266.943345  44.157897 -105.356562  1398.51  1400.52   \n",
       "1  2003.139571  731266.943346  44.150175 -105.358116  1387.11  1384.64   \n",
       "2  2003.139571  731266.943347  44.148632 -105.358427  1392.83  1383.49   \n",
       "3  2003.139571  731266.943347  44.147087 -105.358738  1384.24  1382.85   \n",
       "4  2003.139571  731266.943347  44.145542 -105.359048  1369.21  1380.24   \n",
       "\n",
       "   dem_z_std  lulc  glas_srtm_dh  glas_srtm_dt  glas_srtm_dhdt  \n",
       "0       0.33    31         -2.01      3.027571       -0.663899  \n",
       "1       0.43    31          2.47      3.027571        0.815836  \n",
       "2       0.28    31          9.34      3.027571        3.084982  \n",
       "3       0.84    31          1.39      3.027571        0.459114  \n",
       "4       1.73    31        -11.03      3.027571       -3.643185  "
      ]
     },
     "execution_count": 29,
     "metadata": {},
     "output_type": "execute_result"
    }
   ],
   "source": []
  },
  {
   "cell_type": "markdown",
   "metadata": {},
   "source": [
    "### Create a scatterplot of the rates\n",
    "* Use a `RdBu` (Red to Blue) color ramp\n",
    "* Set the color ramp limits using `vmin` and `vmax` keyword arguments to be symmetrical about 0 \n",
    "    * Generate two plots with different color ramp range to bring out some detail\n",
    "* Do you see outliers (values far outside the expected distribution)?\n",
    "* Do you see any coherent spatial patterns in the difference values?"
   ]
  },
  {
   "cell_type": "code",
   "execution_count": null,
   "metadata": {
    "tags": [
     "hide_content"
    ]
   },
   "outputs": [],
   "source": []
  },
  {
   "cell_type": "markdown",
   "metadata": {},
   "source": [
    "![](./imgs/glas_z_SRTM_dhdt_scatter.png)"
   ]
  },
  {
   "cell_type": "markdown",
   "metadata": {},
   "source": [
    "### Create a histogram of the difference values\n",
    "* Increase the number of bins, and limit the range to bring out detail of the distribution\n",
    "* Optional: add a vertical line for the median difference using [`axvline`](https://matplotlib.org/stable/api/_as_gen/matplotlib.pyplot.axvline.html)"
   ]
  },
  {
   "cell_type": "code",
   "execution_count": null,
   "metadata": {
    "tags": [
     "hide_content"
    ]
   },
   "outputs": [],
   "source": []
  },
  {
   "cell_type": "markdown",
   "metadata": {},
   "source": [
    "![](./imgs/glas_z_SRTM_dhdt_histogram.png)"
   ]
  },
  {
   "cell_type": "markdown",
   "metadata": {},
   "source": [
    "### Compute the mean, median and standard deviation of the differences\n",
    "* Thought question: why might we have a non-zero mean or median difference?"
   ]
  },
  {
   "cell_type": "code",
   "execution_count": 30,
   "metadata": {
    "tags": [
     "hide_content",
     "hide_output"
    ]
   },
   "outputs": [
    {
     "name": "stdout",
     "output_type": "stream",
     "text": [
      "-0.7667968606291014\n",
      "-0.7999999999999545\n",
      "12.36334152209537\n"
     ]
    }
   ],
   "source": []
  },
  {
   "cell_type": "markdown",
   "metadata": {},
   "source": [
    "### Create a scatterplot of elevation difference `glas_srtm_dhdt` values vs elevation values\n",
    "* `glas_srtm_dhdt` should be on the y-axis\n",
    "* `glas_z` values on the x-axis"
   ]
  },
  {
   "cell_type": "code",
   "execution_count": null,
   "metadata": {
    "tags": [
     "hide_content"
    ]
   },
   "outputs": [],
   "source": []
  },
  {
   "cell_type": "markdown",
   "metadata": {},
   "source": [
    "![](./imgs/glas_z_SRTM_dhdt_glas_z_scatter.png)"
   ]
  },
  {
   "cell_type": "markdown",
   "metadata": {},
   "source": [
    "### Challenge Question: Remove outliers\n",
    "The initial filter in `glas_proc.py` removed GLAS points with absolute elevation difference >200 m compared to the SRTM elevations.  We expect most real elevation change signals to be less than this for the given time period.  But clearly some outliers remain.\n",
    "\n",
    "Design and apply a filter that removes outliers.  One option is to define outliers as values outside some absolute threshold. Can set this threshold as some multiple of the standard deviation (e.g., `3*std`) about the mean. This is also known as a Z-score filter. Can also use quantile or percentile values for this threshold.\n",
    "\n",
    "Create new plot(s) to visualize the distribution of outliers and inliers.  I've included my figure as a reference, but please experiment to develop your own, don't just try to reproduce!  Focus on the filtering strategy and create some quick plots to verify that things worked."
   ]
  },
  {
   "cell_type": "code",
   "execution_count": 31,
   "metadata": {
    "tags": [
     "hide_content",
     "hide_output"
    ]
   },
   "outputs": [
    {
     "name": "stdout",
     "output_type": "stream",
     "text": [
      "Mean difference: -0.18059322498268876\n",
      "3.5 * std: 8.896815993659958\n",
      "Number of points before filter: 65236\n",
      "Number of points after filter: 64567\n"
     ]
    }
   ],
   "source": []
  },
  {
   "cell_type": "code",
   "execution_count": null,
   "metadata": {
    "tags": [
     "hide_content"
    ]
   },
   "outputs": [],
   "source": []
  },
  {
   "cell_type": "markdown",
   "metadata": {},
   "source": [
    "![](./imgs/outlier_removal.png)"
   ]
  },
  {
   "cell_type": "markdown",
   "metadata": {
    "jp-MarkdownHeadingCollapsed": true
   },
   "source": [
    "### Active remote sensing confidence check\n",
    "\n",
    "Even after removing outliers, there are still some big differences between the SRTM and GLAS elevation values.  \n",
    "\n",
    "Please consider the following thought questions (discuss with neighbor, maybe jot down some notes in a new cell, but formal responses not required):\n",
    "* Do you see systematic differences between the glas_z and dem_z values?\n",
    "* Any clues from the scatterplot? (e.g., do some tracks (north-south lines of points) display systematic bias?)\n",
    "* Brainstorm some ideas about what might be going on here.  Think about the nature of each sensor:\n",
    "    * ICESat was a Near-IR laser (1064 nm wavelength) with a big ground spot size (~70 m in diameter)\n",
    "        * Timestamps span different seasons between 2003-2009\n",
    "    * SRTM was a C-band radar (5.3 GHz, 5.6 cm wavelength) with approximately 30 m ground sample distance (pixel size)\n",
    "        * Timestamp was February 2000\n",
    "        * Data gaps (e.g., radar shadows, steep slopes) were filled with ASTER GDEM2 composite, which blends DEMs acquired over many years ~2000-2014\n",
    "* Consider different surfaces and how the laser/radar footprint might be affected:\n",
    "    * Flat bedrock surface\n",
    "    * Dry sand dunes\n",
    "    * Steep montain topography like the Front Range in Colorado  \n",
    "    * Dense vegetation of the Hoh Rainforest in Olympic National Park"
   ]
  },
  {
   "cell_type": "markdown",
   "metadata": {},
   "source": [
    "## Part 4: Pandas Groupby (5 pts)"
   ]
  },
  {
   "cell_type": "markdown",
   "metadata": {},
   "source": [
    "### Let's check to see if differences are due to our land-use/land-cover classes\n",
    "* Determine the unique values in the `lulc` column and the total count for each (hint: see the `value_counts` method)\n",
    "* In the introduction, I said that I initially preserved only two classes for these points (12 - snow/ice, 31 - barren land), so this isn't going to help us over forests:\n",
    "    * https://www.mrlc.gov/data/legends/national-land-cover-database-2011-nlcd2011-legend"
   ]
  },
  {
   "cell_type": "code",
   "execution_count": 32,
   "metadata": {
    "tags": [
     "hide_content",
     "hide_output"
    ]
   },
   "outputs": [
    {
     "data": {
      "text/plain": [
       "lulc\n",
       "31    62968\n",
       "12     2268\n",
       "Name: count, dtype: int64"
      ]
     },
     "execution_count": 32,
     "metadata": {},
     "output_type": "execute_result"
    }
   ],
   "source": []
  },
  {
   "cell_type": "markdown",
   "metadata": {},
   "source": [
    "### Use Pandas `groupby` to compute stats for the LULC classes\n",
    "* https://pandas.pydata.org/pandas-docs/stable/user_guide/groupby.html\n",
    "* This is one of the most powerful features in Pandas, efficient grouping and analysis based on some values\n",
    "* Compute mean, std, median, and nmad of the `glas_srtm_dhdt` for each LULC class\n",
    "    * These can be computed individually, or by passing a list to the `agg` function: https://pandas.pydata.org/pandas-docs/stable/user_guide/groupby.html#applying-multiple-functions-at-once"
   ]
  },
  {
   "cell_type": "code",
   "execution_count": 33,
   "metadata": {
    "tags": [
     "hide_content"
    ]
   },
   "outputs": [
    {
     "data": {
      "text/html": [
       "<div>\n",
       "<style scoped>\n",
       "    .dataframe tbody tr th:only-of-type {\n",
       "        vertical-align: middle;\n",
       "    }\n",
       "\n",
       "    .dataframe tbody tr th {\n",
       "        vertical-align: top;\n",
       "    }\n",
       "\n",
       "    .dataframe thead tr th {\n",
       "        text-align: left;\n",
       "    }\n",
       "\n",
       "    .dataframe thead tr:last-of-type th {\n",
       "        text-align: right;\n",
       "    }\n",
       "</style>\n",
       "<table border=\"1\" class=\"dataframe\">\n",
       "  <thead>\n",
       "    <tr>\n",
       "      <th></th>\n",
       "      <th colspan=\"4\" halign=\"left\">glas_srtm_dhdt</th>\n",
       "    </tr>\n",
       "    <tr>\n",
       "      <th></th>\n",
       "      <th>mean</th>\n",
       "      <th>std</th>\n",
       "      <th>median</th>\n",
       "      <th>nmad</th>\n",
       "    </tr>\n",
       "    <tr>\n",
       "      <th>lulc</th>\n",
       "      <th></th>\n",
       "      <th></th>\n",
       "      <th></th>\n",
       "      <th></th>\n",
       "    </tr>\n",
       "  </thead>\n",
       "  <tbody>\n",
       "    <tr>\n",
       "      <th>12</th>\n",
       "      <td>-0.383826</td>\n",
       "      <td>2.912049</td>\n",
       "      <td>-0.162833</td>\n",
       "      <td>1.281189</td>\n",
       "    </tr>\n",
       "    <tr>\n",
       "      <th>31</th>\n",
       "      <td>-0.173273</td>\n",
       "      <td>2.527328</td>\n",
       "      <td>-0.137926</td>\n",
       "      <td>0.421701</td>\n",
       "    </tr>\n",
       "  </tbody>\n",
       "</table>\n",
       "</div>"
      ],
      "text/plain": [
       "     glas_srtm_dhdt                              \n",
       "               mean       std    median      nmad\n",
       "lulc                                             \n",
       "12        -0.383826  2.912049 -0.162833  1.281189\n",
       "31        -0.173273  2.527328 -0.137926  0.421701"
      ]
     },
     "execution_count": 33,
     "metadata": {},
     "output_type": "execute_result"
    }
   ],
   "source": []
  },
  {
   "cell_type": "markdown",
   "metadata": {},
   "source": [
    "### Prepare scatterplots for each LULC class\n",
    "* Remember that LULC 12 is snow/ice and LULC 31 is exposed bare ground"
   ]
  },
  {
   "cell_type": "code",
   "execution_count": null,
   "metadata": {
    "tags": [
     "hide_content"
    ]
   },
   "outputs": [],
   "source": []
  },
  {
   "cell_type": "markdown",
   "metadata": {},
   "source": [
    "![](./imgs/LULC_class_scatter.png)"
   ]
  },
  {
   "cell_type": "markdown",
   "metadata": {},
   "source": [
    "### Interpretation\n",
    "* The data are noisy, but do you see any statistically significant differences and/or coherent spatial patterns for points over ice vs. bare rock?\n",
    "* The answer could be no! See the active remote sensing confidence check above."
   ]
  },
  {
   "cell_type": "code",
   "execution_count": null,
   "metadata": {},
   "outputs": [],
   "source": [
    "# Please write your answer here :)"
   ]
  },
  {
   "cell_type": "markdown",
   "metadata": {},
   "source": [
    "### `groupby` year  \n",
    "* See if you can use Pandas `groupby` to count the number of shots for each year\n",
    "* Multiple ways to accomplish this\n",
    "* One approach might be to create a new column with integer year, then groupby that column\n",
    "    * Can modify the `decyear` values (see `floor`), or parse the Python time ordinals\n",
    "* Create a bar plot showing number of shots in each year"
   ]
  },
  {
   "cell_type": "code",
   "execution_count": null,
   "metadata": {
    "tags": [
     "hide_content",
     "hide_output"
    ]
   },
   "outputs": [],
   "source": []
  },
  {
   "cell_type": "markdown",
   "metadata": {},
   "source": [
    "![](./imgs/glas_z_year_histogram.png)"
   ]
  },
  {
   "cell_type": "markdown",
   "metadata": {},
   "source": [
    "### Challenge Question: Annual scatterplots\n",
    "* Create a figure with multiple subplots showing scatterplots of points for each year"
   ]
  },
  {
   "cell_type": "code",
   "execution_count": null,
   "metadata": {},
   "outputs": [],
   "source": []
  },
  {
   "cell_type": "markdown",
   "metadata": {},
   "source": [
    "![](./imgs/annual_scatter.png)"
   ]
  },
  {
   "cell_type": "markdown",
   "metadata": {},
   "source": [
    "## Submission\n",
    "- Save the completed notebook (make sure to fully run the notebook and check all cell output is visible)\n",
    "- Use the `git add; git commit -m 'message'; git push` workflow to push your work to the remote repository \n",
    "    - ideally you've been using add / commit / push as you make progress on this notebook\n",
    "- Check the remote repository to check all of the files you want to submit have been pushed\n",
    "- When you have completed your last push, submit the url pointing to your Github repository to the corresponding Canvas assignment"
   ]
  },
  {
   "cell_type": "markdown",
   "metadata": {},
   "source": []
  }
 ],
 "metadata": {
  "kernelspec": {
   "display_name": "Python 3 (ipykernel)",
   "language": "python",
   "name": "python3"
  },
  "language_info": {
   "codemirror_mode": {
    "name": "ipython",
    "version": 3
   },
   "file_extension": ".py",
   "mimetype": "text/x-python",
   "name": "python",
   "nbconvert_exporter": "python",
   "pygments_lexer": "ipython3",
   "version": "3.8.16"
  }
 },
 "nbformat": 4,
 "nbformat_minor": 4
}
