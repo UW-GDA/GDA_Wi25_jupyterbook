{
 "cells": [
  {
   "cell_type": "markdown",
   "metadata": {},
   "source": [
    "# Demo: NumPy, Pandas\n",
    "UW Geospatial Data Analysis  \n",
    "CEE467/CEWA567  \n",
    "David Shean\n",
    "\n",
    "modified by Quinn Brencher"
   ]
  },
  {
   "cell_type": "markdown",
   "metadata": {},
   "source": [
    "## Introduction\n",
    "This is a quick demo of some key functionality for these core Python packages, emphasizing topics that will help with lab exercises this week and later in the quarter. It is by no means complete! \n",
    "\n",
    "Please consult the reading assignment and lists of other excellent, more complete online resources."
   ]
  },
  {
   "cell_type": "markdown",
   "metadata": {},
   "source": [
    "## NumPy\n",
    "> NumPy is the fundamental package for scientific computing in Python. It is a Python library that provides a *multidimensional array object*, various derived objects (such as masked arrays and matrices), and an assortment of routines for fast operations on arrays, including mathematical, logical, shape manipulation, sorting, selecting, I/O, discrete Fourier transforms, basic linear algebra, basic statistical operations, random simulation and much more."
   ]
  },
  {
   "cell_type": "markdown",
   "metadata": {},
   "source": [
    "## Pandas\n",
    "> pandas is a fast, powerful, flexible and easy to use open source data analysis and manipulation tool,\n",
    "built on top of the Python programming language. \n",
    "\n",
    "> pandas is a Python package providing fast, flexible, and expressive data structures designed to make working with “relational” or “labeled” data both easy and intuitive. It aims to be the fundamental high-level building block for doing practical, real-world data analysis in Python. Additionally, it has the broader goal of becoming the most powerful and flexible open source data analysis/manipulation tool available in any language. It is already well on its way toward this goal."
   ]
  },
  {
   "cell_type": "markdown",
   "metadata": {},
   "source": [
    "## Matplotlib\n",
    ">Matplotlib is a comprehensive library for creating static, animated, and interactive visualizations in Python.\n",
    "\n",
    ">Matplotlib is a Python 2D plotting library which produces publication quality figures in a variety of hardcopy formats and interactive environments across platforms. Matplotlib can be used in Python scripts, the Python and IPython shells, the Jupyter notebook, web application servers, and four graphical user interface toolkits.\n",
    "\n",
    ">Matplotlib tries to make easy things easy and hard things possible. You can generate plots, histograms, power spectra, bar charts, errorcharts, scatterplots, etc., with just a few lines of code. For examples, see the sample plots and thumbnail gallery.\n",
    "\n",
    ">For simple plotting the pyplot module provides a MATLAB-like interface, particularly when combined with IPython. For the power user, you have full control of line styles, font properties, axes properties, etc, via an object oriented interface or via a set of functions familiar to MATLAB users."
   ]
  },
  {
   "cell_type": "markdown",
   "metadata": {},
   "source": [
    "## Import necessary modules\n",
    "* Use shorthand, so you don't have to type out full module name each time\n",
    "* Note different structure for matplotlib package"
   ]
  },
  {
   "cell_type": "code",
   "execution_count": 1,
   "metadata": {},
   "outputs": [],
   "source": [
    "import numpy as np\n",
    "import pandas as pd\n",
    "import matplotlib.pyplot as plt"
   ]
  },
  {
   "cell_type": "markdown",
   "metadata": {},
   "source": [
    "## NumPy 1D array"
   ]
  },
  {
   "cell_type": "code",
   "execution_count": 2,
   "metadata": {},
   "outputs": [
    {
     "data": {
      "text/plain": [
       "array([4, 3, 3, 6, 3, 6, 5, 2, 3, 9])"
      ]
     },
     "execution_count": 2,
     "metadata": {},
     "output_type": "execute_result"
    }
   ],
   "source": [
    "#Create 1D array of random integers\n",
    "#Note parenthesis and brackets\n",
    "a = np.random.randint(0,10,10)\n",
    "a"
   ]
  },
  {
   "cell_type": "code",
   "execution_count": 3,
   "metadata": {},
   "outputs": [
    {
     "data": {
      "text/plain": [
       "numpy.ndarray"
      ]
     },
     "execution_count": 3,
     "metadata": {},
     "output_type": "execute_result"
    }
   ],
   "source": [
    "type(a)"
   ]
  },
  {
   "cell_type": "code",
   "execution_count": 4,
   "metadata": {},
   "outputs": [],
   "source": [
    "#np.ndarray?"
   ]
  },
  {
   "cell_type": "markdown",
   "metadata": {},
   "source": [
    "## Constructing an array"
   ]
  },
  {
   "cell_type": "code",
   "execution_count": 5,
   "metadata": {},
   "outputs": [],
   "source": [
    "#np.array?"
   ]
  },
  {
   "cell_type": "code",
   "execution_count": 6,
   "metadata": {},
   "outputs": [
    {
     "ename": "TypeError",
     "evalue": "array() takes from 1 to 2 positional arguments but 3 were given",
     "output_type": "error",
     "traceback": [
      "\u001b[0;31m---------------------------------------------------------------------------\u001b[0m",
      "\u001b[0;31mTypeError\u001b[0m                                 Traceback (most recent call last)",
      "Cell \u001b[0;32mIn[6], line 1\u001b[0m\n\u001b[0;32m----> 1\u001b[0m \u001b[43mnp\u001b[49m\u001b[38;5;241;43m.\u001b[39;49m\u001b[43marray\u001b[49m\u001b[43m(\u001b[49m\u001b[38;5;241;43m0\u001b[39;49m\u001b[43m,\u001b[49m\u001b[43m \u001b[49m\u001b[38;5;241;43m1\u001b[39;49m\u001b[43m,\u001b[49m\u001b[43m \u001b[49m\u001b[38;5;241;43m2\u001b[39;49m\u001b[43m)\u001b[49m\n",
      "\u001b[0;31mTypeError\u001b[0m: array() takes from 1 to 2 positional arguments but 3 were given"
     ]
    }
   ],
   "source": [
    "np.array(0, 1, 2)"
   ]
  },
  {
   "cell_type": "code",
   "execution_count": 7,
   "metadata": {},
   "outputs": [
    {
     "data": {
      "text/plain": [
       "array([0, 1, 2])"
      ]
     },
     "execution_count": 7,
     "metadata": {},
     "output_type": "execute_result"
    }
   ],
   "source": [
    "#Pass in an array-like object - need brackets around the numbers\n",
    "np.array([0, 1, 2])"
   ]
  },
  {
   "cell_type": "code",
   "execution_count": 8,
   "metadata": {},
   "outputs": [
    {
     "data": {
      "text/plain": [
       "array([0, 1, 2])"
      ]
     },
     "execution_count": 8,
     "metadata": {},
     "output_type": "execute_result"
    }
   ],
   "source": [
    "mylist = [0, 1, 2]\n",
    "np.array(mylist)"
   ]
  },
  {
   "cell_type": "markdown",
   "metadata": {},
   "source": [
    "## Array properties and datatypes"
   ]
  },
  {
   "cell_type": "code",
   "execution_count": 9,
   "metadata": {},
   "outputs": [
    {
     "data": {
      "text/plain": [
       "array([4, 3, 3, 6, 3, 6, 5, 2, 3, 9])"
      ]
     },
     "execution_count": 9,
     "metadata": {},
     "output_type": "execute_result"
    }
   ],
   "source": [
    "a"
   ]
  },
  {
   "cell_type": "code",
   "execution_count": 10,
   "metadata": {},
   "outputs": [
    {
     "data": {
      "text/plain": [
       "(10,)"
      ]
     },
     "execution_count": 10,
     "metadata": {},
     "output_type": "execute_result"
    }
   ],
   "source": [
    "a.shape"
   ]
  },
  {
   "cell_type": "code",
   "execution_count": 11,
   "metadata": {},
   "outputs": [
    {
     "data": {
      "text/plain": [
       "10"
      ]
     },
     "execution_count": 11,
     "metadata": {},
     "output_type": "execute_result"
    }
   ],
   "source": [
    "a.size"
   ]
  },
  {
   "cell_type": "code",
   "execution_count": 12,
   "metadata": {},
   "outputs": [
    {
     "data": {
      "text/plain": [
       "dtype('int64')"
      ]
     },
     "execution_count": 12,
     "metadata": {},
     "output_type": "execute_result"
    }
   ],
   "source": [
    "a.dtype"
   ]
  },
  {
   "cell_type": "markdown",
   "metadata": {},
   "source": [
    "### What is 'int64'?\n",
    "* Signed integer represented by 64 bits\n",
    "* Each bit can be 0 or 1\n",
    "* 0 = 0000000000000000000000000000000000000000000000000000000000000000\n",
    "* 1 = 0000000000000000000000000000000000000000000000000000000000000001\n",
    "* 2 = 0000000000000000000000000000000000000000000000000000000000000010\n",
    "* ...\n",
    "* https://numpy.org/doc/stable/user/basics.types.html"
   ]
  },
  {
   "cell_type": "code",
   "execution_count": 13,
   "metadata": {},
   "outputs": [
    {
     "data": {
      "text/plain": [
       "18446744073709551616"
      ]
     },
     "execution_count": 13,
     "metadata": {},
     "output_type": "execute_result"
    }
   ],
   "source": [
    "#Possible unique combinations of 64 bits\n",
    "range = 2**64\n",
    "range"
   ]
  },
  {
   "cell_type": "code",
   "execution_count": 14,
   "metadata": {},
   "outputs": [
    {
     "name": "stdout",
     "output_type": "stream",
     "text": [
      "1.84e+19\n"
     ]
    }
   ],
   "source": [
    "print(f\"{range:.2e}\")"
   ]
  },
  {
   "cell_type": "code",
   "execution_count": 15,
   "metadata": {},
   "outputs": [
    {
     "data": {
      "text/plain": [
       "9223372036854775808"
      ]
     },
     "execution_count": 15,
     "metadata": {},
     "output_type": "execute_result"
    }
   ],
   "source": [
    "mm = int((2**64)/2)\n",
    "mm"
   ]
  },
  {
   "cell_type": "code",
   "execution_count": 16,
   "metadata": {},
   "outputs": [
    {
     "data": {
      "text/plain": [
       "'A 64-bit signed integer can store values between -9223372036854775808 and +9223372036854775808'"
      ]
     },
     "execution_count": 16,
     "metadata": {},
     "output_type": "execute_result"
    }
   ],
   "source": [
    "f'A 64-bit signed integer can store values between -{mm} and +{mm}'"
   ]
  },
  {
   "cell_type": "code",
   "execution_count": 17,
   "metadata": {},
   "outputs": [
    {
     "data": {
      "text/plain": [
       "array([4, 3, 3, 6, 3, 6, 5, 2, 3, 9])"
      ]
     },
     "execution_count": 17,
     "metadata": {},
     "output_type": "execute_result"
    }
   ],
   "source": [
    "# Overkill for our single integer values\n",
    "a"
   ]
  },
  {
   "cell_type": "code",
   "execution_count": 18,
   "metadata": {},
   "outputs": [
    {
     "data": {
      "text/plain": [
       "8"
      ]
     },
     "execution_count": 18,
     "metadata": {},
     "output_type": "execute_result"
    }
   ],
   "source": [
    "#Number of bytes (8 bits each) for each element in the array\n",
    "a.itemsize"
   ]
  },
  {
   "cell_type": "code",
   "execution_count": 19,
   "metadata": {},
   "outputs": [
    {
     "data": {
      "text/plain": [
       "80"
      ]
     },
     "execution_count": 19,
     "metadata": {},
     "output_type": "execute_result"
    }
   ],
   "source": [
    "#Total number of bytes for 10 elements\n",
    "a.nbytes"
   ]
  },
  {
   "cell_type": "code",
   "execution_count": 20,
   "metadata": {},
   "outputs": [
    {
     "data": {
      "text/plain": [
       "array([4, 3, 3, 6, 3, 6, 5, 2, 3, 9], dtype=uint8)"
      ]
     },
     "execution_count": 20,
     "metadata": {},
     "output_type": "execute_result"
    }
   ],
   "source": [
    "# Recast to 8-bit unsigned integer (valid range: 0-255)\n",
    "b = a.astype('uint8')\n",
    "b"
   ]
  },
  {
   "cell_type": "code",
   "execution_count": 21,
   "metadata": {},
   "outputs": [
    {
     "data": {
      "text/plain": [
       "dtype('uint8')"
      ]
     },
     "execution_count": 21,
     "metadata": {},
     "output_type": "execute_result"
    }
   ],
   "source": [
    "b.dtype"
   ]
  },
  {
   "cell_type": "code",
   "execution_count": 22,
   "metadata": {},
   "outputs": [
    {
     "data": {
      "text/plain": [
       "256"
      ]
     },
     "execution_count": 22,
     "metadata": {},
     "output_type": "execute_result"
    }
   ],
   "source": [
    "2**8"
   ]
  },
  {
   "cell_type": "code",
   "execution_count": 23,
   "metadata": {},
   "outputs": [
    {
     "data": {
      "text/plain": [
       "array([4, 3, 3, 6, 3, 6, 5, 2, 3, 9], dtype=uint8)"
      ]
     },
     "execution_count": 23,
     "metadata": {},
     "output_type": "execute_result"
    }
   ],
   "source": [
    "b"
   ]
  },
  {
   "cell_type": "code",
   "execution_count": 24,
   "metadata": {},
   "outputs": [
    {
     "data": {
      "text/plain": [
       "10"
      ]
     },
     "execution_count": 24,
     "metadata": {},
     "output_type": "execute_result"
    }
   ],
   "source": [
    "b.nbytes"
   ]
  },
  {
   "cell_type": "code",
   "execution_count": 25,
   "metadata": {},
   "outputs": [
    {
     "data": {
      "text/plain": [
       "array([255,   3,   3,   6,   3,   6,   5,   2,   3,   9], dtype=uint8)"
      ]
     },
     "execution_count": 25,
     "metadata": {},
     "output_type": "execute_result"
    }
   ],
   "source": [
    "#Assign value within valid range\n",
    "b[0] = 255\n",
    "b"
   ]
  },
  {
   "cell_type": "code",
   "execution_count": 26,
   "metadata": {},
   "outputs": [
    {
     "name": "stderr",
     "output_type": "stream",
     "text": [
      "/tmp/ipykernel_802/1809295710.py:3: DeprecationWarning: NumPy will stop allowing conversion of out-of-bound Python integers to integer arrays.  The conversion of 257 to uint8 will fail in the future.\n",
      "For the old behavior, usually:\n",
      "    np.array(value).astype(dtype)`\n",
      "will give the desired result (the cast overflows).\n",
      "  b[0] = 257\n"
     ]
    },
    {
     "data": {
      "text/plain": [
       "array([1, 3, 3, 6, 3, 6, 5, 2, 3, 9], dtype=uint8)"
      ]
     },
     "execution_count": 26,
     "metadata": {},
     "output_type": "execute_result"
    }
   ],
   "source": [
    "#Assign value outside of valid range - overlflow!\n",
    "# https://en.wikipedia.org/wiki/Integer_overflow\n",
    "b[0] = 257\n",
    "b"
   ]
  },
  {
   "cell_type": "markdown",
   "metadata": {},
   "source": [
    "## 2D arrays"
   ]
  },
  {
   "cell_type": "code",
   "execution_count": 27,
   "metadata": {},
   "outputs": [],
   "source": [
    "a2 = np.random.random((10,10))"
   ]
  },
  {
   "cell_type": "code",
   "execution_count": 28,
   "metadata": {},
   "outputs": [
    {
     "data": {
      "text/plain": [
       "array([[1.41204469e-01, 3.89917325e-01, 7.30803440e-01, 2.28727875e-01,\n",
       "        3.05261875e-01, 5.57365149e-01, 3.19747387e-01, 9.76131931e-01,\n",
       "        6.90435916e-01, 7.29483182e-01],\n",
       "       [3.76782504e-01, 9.54623086e-04, 4.96253865e-01, 8.83186872e-01,\n",
       "        7.97195917e-01, 6.37901937e-01, 5.78254274e-01, 5.03462246e-01,\n",
       "        6.37138050e-01, 1.84502898e-02],\n",
       "       [6.05770836e-01, 7.25509385e-01, 2.16041657e-01, 3.50670357e-03,\n",
       "        6.34606720e-01, 9.77455944e-01, 7.18494507e-01, 6.50530622e-01,\n",
       "        5.85406094e-01, 7.57894513e-01],\n",
       "       [6.58903005e-01, 8.07604015e-01, 9.97131444e-01, 6.90749625e-01,\n",
       "        8.11268416e-02, 1.07874063e-01, 4.17861123e-01, 7.23787367e-01,\n",
       "        9.20449637e-02, 4.16555164e-01],\n",
       "       [3.16168125e-01, 6.55887756e-01, 8.20854844e-02, 8.19284438e-02,\n",
       "        2.25303248e-01, 4.16816605e-01, 5.13325213e-01, 5.34474506e-01,\n",
       "        1.73097254e-01, 7.11062044e-01],\n",
       "       [9.22911408e-01, 1.11008058e-01, 1.39258614e-01, 8.76430130e-01,\n",
       "        4.95702854e-01, 7.16097827e-01, 6.36533645e-01, 7.98180948e-01,\n",
       "        9.58087288e-01, 7.77772061e-02],\n",
       "       [7.50955759e-01, 1.28775956e-01, 3.02774126e-01, 5.05208454e-01,\n",
       "        2.43478124e-01, 9.86661911e-02, 7.22968293e-01, 3.39784935e-01,\n",
       "        7.08604837e-01, 1.37895600e-01],\n",
       "       [2.71098182e-01, 8.23604609e-01, 7.39260002e-01, 5.96863088e-01,\n",
       "        6.42867723e-01, 5.57721585e-01, 2.05087063e-01, 3.45959313e-01,\n",
       "        7.13187596e-01, 1.26699262e-01],\n",
       "       [9.75129602e-01, 6.94600553e-01, 1.46673272e-01, 1.61391117e-01,\n",
       "        6.93398224e-01, 7.58123721e-01, 8.01035619e-01, 7.90701972e-01,\n",
       "        7.34414677e-01, 8.80065416e-01],\n",
       "       [4.58111282e-01, 8.55722122e-01, 7.18808961e-01, 3.28407866e-01,\n",
       "        5.75350931e-01, 4.71047838e-01, 1.48364415e-01, 5.68606354e-01,\n",
       "        7.63957334e-02, 4.03262879e-01]])"
      ]
     },
     "execution_count": 28,
     "metadata": {},
     "output_type": "execute_result"
    }
   ],
   "source": [
    "a2"
   ]
  },
  {
   "cell_type": "code",
   "execution_count": 29,
   "metadata": {},
   "outputs": [
    {
     "data": {
      "text/plain": [
       "(10, 10)"
      ]
     },
     "execution_count": 29,
     "metadata": {},
     "output_type": "execute_result"
    }
   ],
   "source": [
    "a2.shape"
   ]
  },
  {
   "cell_type": "code",
   "execution_count": 30,
   "metadata": {},
   "outputs": [
    {
     "data": {
      "text/plain": [
       "100"
      ]
     },
     "execution_count": 30,
     "metadata": {},
     "output_type": "execute_result"
    }
   ],
   "source": [
    "a2.size"
   ]
  },
  {
   "cell_type": "code",
   "execution_count": 31,
   "metadata": {},
   "outputs": [
    {
     "data": {
      "text/plain": [
       "dtype('float64')"
      ]
     },
     "execution_count": 31,
     "metadata": {},
     "output_type": "execute_result"
    }
   ],
   "source": [
    "a2.dtype"
   ]
  },
  {
   "cell_type": "code",
   "execution_count": 32,
   "metadata": {},
   "outputs": [
    {
     "data": {
      "text/plain": [
       "array([0.14120447, 0.38991732, 0.73080344, 0.22872787, 0.30526187,\n",
       "       0.55736515, 0.31974739, 0.97613193, 0.69043592, 0.72948318])"
      ]
     },
     "execution_count": 32,
     "metadata": {},
     "output_type": "execute_result"
    }
   ],
   "source": [
    "#Get first element along first axis\n",
    "#Question is this first row or col?\n",
    "a2[0]"
   ]
  },
  {
   "cell_type": "code",
   "execution_count": 33,
   "metadata": {},
   "outputs": [
    {
     "data": {
      "text/plain": [
       "array([0.14120447, 0.3767825 , 0.60577084, 0.658903  , 0.31616813,\n",
       "       0.92291141, 0.75095576, 0.27109818, 0.9751296 , 0.45811128])"
      ]
     },
     "execution_count": 33,
     "metadata": {},
     "output_type": "execute_result"
    }
   ],
   "source": [
    "#Get first element along second axis\n",
    "a2[:,0]"
   ]
  },
  {
   "cell_type": "code",
   "execution_count": 34,
   "metadata": {},
   "outputs": [
    {
     "data": {
      "text/plain": [
       "0.14120446935395448"
      ]
     },
     "execution_count": 34,
     "metadata": {},
     "output_type": "execute_result"
    }
   ],
   "source": [
    "#Get first element along both axes\n",
    "a2[0,0]"
   ]
  },
  {
   "cell_type": "code",
   "execution_count": 35,
   "metadata": {},
   "outputs": [
    {
     "data": {
      "text/plain": [
       "array([[1.41204469e-01, 3.89917325e-01, 7.30803440e-01, 2.28727875e-01,\n",
       "        3.05261875e-01, 5.57365149e-01, 3.19747387e-01, 9.76131931e-01,\n",
       "        6.90435916e-01, 7.29483182e-01],\n",
       "       [3.76782504e-01, 9.54623086e-04, 4.96253865e-01, 8.83186872e-01,\n",
       "        7.97195917e-01, 6.37901937e-01, 5.78254274e-01, 5.03462246e-01,\n",
       "        6.37138050e-01, 1.84502898e-02],\n",
       "       [6.05770836e-01, 7.25509385e-01, 2.16041657e-01, 3.50670357e-03,\n",
       "        6.34606720e-01, 9.77455944e-01, 7.18494507e-01, 6.50530622e-01,\n",
       "        5.85406094e-01, 7.57894513e-01]])"
      ]
     },
     "execution_count": 35,
     "metadata": {},
     "output_type": "execute_result"
    }
   ],
   "source": [
    "#Get slice along first axis - first 3 rows\n",
    "a2[0:3]"
   ]
  },
  {
   "cell_type": "code",
   "execution_count": 36,
   "metadata": {},
   "outputs": [
    {
     "data": {
      "text/plain": [
       "array([[1.41204469e-01, 3.89917325e-01, 7.30803440e-01],\n",
       "       [3.76782504e-01, 9.54623086e-04, 4.96253865e-01],\n",
       "       [6.05770836e-01, 7.25509385e-01, 2.16041657e-01],\n",
       "       [6.58903005e-01, 8.07604015e-01, 9.97131444e-01],\n",
       "       [3.16168125e-01, 6.55887756e-01, 8.20854844e-02],\n",
       "       [9.22911408e-01, 1.11008058e-01, 1.39258614e-01],\n",
       "       [7.50955759e-01, 1.28775956e-01, 3.02774126e-01],\n",
       "       [2.71098182e-01, 8.23604609e-01, 7.39260002e-01],\n",
       "       [9.75129602e-01, 6.94600553e-01, 1.46673272e-01],\n",
       "       [4.58111282e-01, 8.55722122e-01, 7.18808961e-01]])"
      ]
     },
     "execution_count": 36,
     "metadata": {},
     "output_type": "execute_result"
    }
   ],
   "source": [
    "#Slice along second axis - first 3 cols\n",
    "a2[:,0:3]"
   ]
  },
  {
   "cell_type": "code",
   "execution_count": 37,
   "metadata": {},
   "outputs": [
    {
     "data": {
      "text/plain": [
       "array([[0.14120447, 0.38991732, 0.73080344],\n",
       "       [0.3767825 , 0.00095462, 0.49625387],\n",
       "       [0.60577084, 0.72550939, 0.21604166]])"
      ]
     },
     "execution_count": 37,
     "metadata": {},
     "output_type": "execute_result"
    }
   ],
   "source": [
    "a2[0:3,0:3]"
   ]
  },
  {
   "cell_type": "markdown",
   "metadata": {},
   "source": [
    "## ufunc\n",
    "* Efficiently perform operation element-by-element in \"vectorized\" fashion (different than GIS vector dataset)\n",
    "* **Do not loop over arrays** (unless absolutely necessary)\n",
    "* https://numpy.org/doc/stable/reference/ufuncs.html"
   ]
  },
  {
   "cell_type": "code",
   "execution_count": 38,
   "metadata": {},
   "outputs": [
    {
     "data": {
      "text/plain": [
       "array([[1.41204469e+00, 3.89917325e+00, 7.30803440e+00, 2.28727875e+00,\n",
       "        3.05261875e+00, 5.57365149e+00, 3.19747387e+00, 9.76131931e+00,\n",
       "        6.90435916e+00, 7.29483182e+00],\n",
       "       [3.76782504e+00, 9.54623086e-03, 4.96253865e+00, 8.83186872e+00,\n",
       "        7.97195917e+00, 6.37901937e+00, 5.78254274e+00, 5.03462246e+00,\n",
       "        6.37138050e+00, 1.84502898e-01],\n",
       "       [6.05770836e+00, 7.25509385e+00, 2.16041657e+00, 3.50670357e-02,\n",
       "        6.34606720e+00, 9.77455944e+00, 7.18494507e+00, 6.50530622e+00,\n",
       "        5.85406094e+00, 7.57894513e+00],\n",
       "       [6.58903005e+00, 8.07604015e+00, 9.97131444e+00, 6.90749625e+00,\n",
       "        8.11268416e-01, 1.07874063e+00, 4.17861123e+00, 7.23787367e+00,\n",
       "        9.20449637e-01, 4.16555164e+00],\n",
       "       [3.16168125e+00, 6.55887756e+00, 8.20854844e-01, 8.19284438e-01,\n",
       "        2.25303248e+00, 4.16816605e+00, 5.13325213e+00, 5.34474506e+00,\n",
       "        1.73097254e+00, 7.11062044e+00],\n",
       "       [9.22911408e+00, 1.11008058e+00, 1.39258614e+00, 8.76430130e+00,\n",
       "        4.95702854e+00, 7.16097827e+00, 6.36533645e+00, 7.98180948e+00,\n",
       "        9.58087288e+00, 7.77772061e-01],\n",
       "       [7.50955759e+00, 1.28775956e+00, 3.02774126e+00, 5.05208454e+00,\n",
       "        2.43478124e+00, 9.86661911e-01, 7.22968293e+00, 3.39784935e+00,\n",
       "        7.08604837e+00, 1.37895600e+00],\n",
       "       [2.71098182e+00, 8.23604609e+00, 7.39260002e+00, 5.96863088e+00,\n",
       "        6.42867723e+00, 5.57721585e+00, 2.05087063e+00, 3.45959313e+00,\n",
       "        7.13187596e+00, 1.26699262e+00],\n",
       "       [9.75129602e+00, 6.94600553e+00, 1.46673272e+00, 1.61391117e+00,\n",
       "        6.93398224e+00, 7.58123721e+00, 8.01035619e+00, 7.90701972e+00,\n",
       "        7.34414677e+00, 8.80065416e+00],\n",
       "       [4.58111282e+00, 8.55722122e+00, 7.18808961e+00, 3.28407866e+00,\n",
       "        5.75350931e+00, 4.71047838e+00, 1.48364415e+00, 5.68606354e+00,\n",
       "        7.63957334e-01, 4.03262879e+00]])"
      ]
     },
     "execution_count": 38,
     "metadata": {},
     "output_type": "execute_result"
    }
   ],
   "source": [
    "a2 * 10"
   ]
  },
  {
   "cell_type": "code",
   "execution_count": 39,
   "metadata": {},
   "outputs": [],
   "source": [
    "# Don't do this!\n",
    "#for n, i in enumerate(a2):\n",
    "#    a2[n] = i + 10"
   ]
  },
  {
   "cell_type": "code",
   "execution_count": 40,
   "metadata": {},
   "outputs": [
    {
     "data": {
      "text/plain": [
       "array([[1.99387022e-02, 1.52035520e-01, 5.34073667e-01, 5.23164406e-02,\n",
       "        9.31848122e-02, 3.10655909e-01, 1.02238392e-01, 9.52833548e-01,\n",
       "        4.76701755e-01, 5.32145713e-01],\n",
       "       [1.41965055e-01, 9.11305236e-07, 2.46267899e-01, 7.80019051e-01,\n",
       "        6.35521330e-01, 4.06918882e-01, 3.34378006e-01, 2.53474233e-01,\n",
       "        4.05944895e-01, 3.40413195e-04],\n",
       "       [3.66958306e-01, 5.26363868e-01, 4.66739974e-02, 1.22969699e-05,\n",
       "        4.02725689e-01, 9.55420122e-01, 5.16234356e-01, 4.23190091e-01,\n",
       "        3.42700295e-01, 5.74404092e-01],\n",
       "       [4.34153170e-01, 6.52224244e-01, 9.94271116e-01, 4.77135045e-01,\n",
       "        6.58156443e-03, 1.16368135e-02, 1.74607918e-01, 5.23868153e-01,\n",
       "        8.47227534e-03, 1.73518205e-01],\n",
       "       [9.99622834e-02, 4.30188749e-01, 6.73802675e-03, 6.71226990e-03,\n",
       "        5.07615536e-02, 1.73736082e-01, 2.63502774e-01, 2.85662998e-01,\n",
       "        2.99626595e-02, 5.05609231e-01],\n",
       "       [8.51765467e-01, 1.23227889e-02, 1.93929617e-02, 7.68129773e-01,\n",
       "        2.45721319e-01, 5.12796098e-01, 4.05175081e-01, 6.37092825e-01,\n",
       "        9.17931251e-01, 6.04929379e-03],\n",
       "       [5.63934553e-01, 1.65832469e-02, 9.16721711e-02, 2.55235582e-01,\n",
       "        5.92815967e-02, 9.73501726e-03, 5.22683153e-01, 1.15453802e-01,\n",
       "        5.02120816e-01, 1.90151964e-02],\n",
       "       [7.34942241e-02, 6.78324551e-01, 5.46505351e-01, 3.56245546e-01,\n",
       "        4.13278909e-01, 3.11053366e-01, 4.20607035e-02, 1.19687846e-01,\n",
       "        5.08636547e-01, 1.60527030e-02],\n",
       "       [9.50877740e-01, 4.82469929e-01, 2.15130488e-02, 2.60470928e-02,\n",
       "        4.80801097e-01, 5.74751576e-01, 6.41658063e-01, 6.25209609e-01,\n",
       "        5.39364917e-01, 7.74515137e-01],\n",
       "       [2.09865947e-01, 7.32260350e-01, 5.16686322e-01, 1.07851727e-01,\n",
       "        3.31028694e-01, 2.21886066e-01, 2.20119995e-02, 3.23313185e-01,\n",
       "        5.83630808e-03, 1.62620949e-01]])"
      ]
     },
     "execution_count": 40,
     "metadata": {},
     "output_type": "execute_result"
    }
   ],
   "source": [
    "#np.power(a2, 2)\n",
    "a2**2"
   ]
  },
  {
   "cell_type": "code",
   "execution_count": 41,
   "metadata": {},
   "outputs": [
    {
     "data": {
      "text/plain": [
       "array([[0.37577183, 0.6244336 , 0.85487042, 0.47825503, 0.55250509,\n",
       "        0.74656892, 0.5654621 , 0.98799389, 0.83092474, 0.85409788],\n",
       "       [0.61382612, 0.03089698, 0.70445288, 0.93978023, 0.89285828,\n",
       "        0.79868763, 0.76043032, 0.70955074, 0.79820928, 0.13583184],\n",
       "       [0.77831281, 0.85176839, 0.46480281, 0.05921743, 0.79662207,\n",
       "        0.98866372, 0.84764055, 0.80655479, 0.76511835, 0.87057137],\n",
       "       [0.81172841, 0.89866791, 0.99856469, 0.83111349, 0.28482774,\n",
       "        0.32844187, 0.64642178, 0.85075694, 0.30338913, 0.64541085],\n",
       "       [0.56228829, 0.80986897, 0.28650564, 0.28623145, 0.47466119,\n",
       "        0.64561336, 0.71646717, 0.73107763, 0.41604958, 0.84324495],\n",
       "       [0.96068278, 0.33317872, 0.37317371, 0.93617847, 0.70406168,\n",
       "        0.84622564, 0.79783059, 0.89340973, 0.97881933, 0.27888565],\n",
       "       [0.86657704, 0.35885367, 0.55024915, 0.71078017, 0.49343502,\n",
       "        0.31411175, 0.85027542, 0.58291074, 0.84178669, 0.37134297],\n",
       "       [0.5206709 , 0.90752664, 0.8598023 , 0.77256915, 0.80179032,\n",
       "        0.7468076 , 0.45286539, 0.58818306, 0.84450435, 0.3559484 ],\n",
       "       [0.98748651, 0.83342699, 0.38297947, 0.40173513, 0.83270536,\n",
       "        0.870703  , 0.89500593, 0.88921424, 0.85697997, 0.93811802],\n",
       "       [0.67683918, 0.9250525 , 0.84782602, 0.57306881, 0.75851891,\n",
       "        0.68632925, 0.38518102, 0.75405991, 0.27639778, 0.63502983]])"
      ]
     },
     "execution_count": 41,
     "metadata": {},
     "output_type": "execute_result"
    }
   ],
   "source": [
    "#a2**0.5\n",
    "np.sqrt(a2)"
   ]
  },
  {
   "cell_type": "markdown",
   "metadata": {},
   "source": [
    "## Built-in functions\n",
    "* Operate over entire array, specified axes, or slice\n",
    "* Very fast/efficient"
   ]
  },
  {
   "cell_type": "code",
   "execution_count": 42,
   "metadata": {},
   "outputs": [
    {
     "data": {
      "text/plain": [
       "0.5051072363137312"
      ]
     },
     "execution_count": 42,
     "metadata": {},
     "output_type": "execute_result"
    }
   ],
   "source": [
    "a2.mean()"
   ]
  },
  {
   "cell_type": "code",
   "execution_count": 43,
   "metadata": {},
   "outputs": [
    {
     "data": {
      "text/plain": [
       "0.2780218131440386"
      ]
     },
     "execution_count": 43,
     "metadata": {},
     "output_type": "execute_result"
    }
   ],
   "source": [
    "a2.std()"
   ]
  },
  {
   "cell_type": "code",
   "execution_count": 44,
   "metadata": {},
   "outputs": [
    {
     "data": {
      "text/plain": [
       "0.0009546230860033589"
      ]
     },
     "execution_count": 44,
     "metadata": {},
     "output_type": "execute_result"
    }
   ],
   "source": [
    "a2.min()"
   ]
  },
  {
   "cell_type": "code",
   "execution_count": 45,
   "metadata": {},
   "outputs": [
    {
     "data": {
      "text/plain": [
       "array([[1.41204469e-01, 3.89917325e-01, 7.30803440e-01, 2.28727875e-01,\n",
       "        3.05261875e-01, 5.57365149e-01, 3.19747387e-01, 9.76131931e-01,\n",
       "        6.90435916e-01, 7.29483182e-01],\n",
       "       [3.76782504e-01, 9.54623086e-04, 4.96253865e-01, 8.83186872e-01,\n",
       "        7.97195917e-01, 6.37901937e-01, 5.78254274e-01, 5.03462246e-01,\n",
       "        6.37138050e-01, 1.84502898e-02],\n",
       "       [6.05770836e-01, 7.25509385e-01, 2.16041657e-01, 3.50670357e-03,\n",
       "        6.34606720e-01, 9.77455944e-01, 7.18494507e-01, 6.50530622e-01,\n",
       "        5.85406094e-01, 7.57894513e-01],\n",
       "       [6.58903005e-01, 8.07604015e-01, 9.97131444e-01, 6.90749625e-01,\n",
       "        8.11268416e-02, 1.07874063e-01, 4.17861123e-01, 7.23787367e-01,\n",
       "        9.20449637e-02, 4.16555164e-01],\n",
       "       [3.16168125e-01, 6.55887756e-01, 8.20854844e-02, 8.19284438e-02,\n",
       "        2.25303248e-01, 4.16816605e-01, 5.13325213e-01, 5.34474506e-01,\n",
       "        1.73097254e-01, 7.11062044e-01],\n",
       "       [9.22911408e-01, 1.11008058e-01, 1.39258614e-01, 8.76430130e-01,\n",
       "        4.95702854e-01, 7.16097827e-01, 6.36533645e-01, 7.98180948e-01,\n",
       "        9.58087288e-01, 7.77772061e-02],\n",
       "       [7.50955759e-01, 1.28775956e-01, 3.02774126e-01, 5.05208454e-01,\n",
       "        2.43478124e-01, 9.86661911e-02, 7.22968293e-01, 3.39784935e-01,\n",
       "        7.08604837e-01, 1.37895600e-01],\n",
       "       [2.71098182e-01, 8.23604609e-01, 7.39260002e-01, 5.96863088e-01,\n",
       "        6.42867723e-01, 5.57721585e-01, 2.05087063e-01, 3.45959313e-01,\n",
       "        7.13187596e-01, 1.26699262e-01],\n",
       "       [9.75129602e-01, 6.94600553e-01, 1.46673272e-01, 1.61391117e-01,\n",
       "        6.93398224e-01, 7.58123721e-01, 8.01035619e-01, 7.90701972e-01,\n",
       "        7.34414677e-01, 8.80065416e-01],\n",
       "       [4.58111282e-01, 8.55722122e-01, 7.18808961e-01, 3.28407866e-01,\n",
       "        5.75350931e-01, 4.71047838e-01, 1.48364415e-01, 5.68606354e-01,\n",
       "        7.63957334e-02, 4.03262879e-01]])"
      ]
     },
     "execution_count": 45,
     "metadata": {},
     "output_type": "execute_result"
    }
   ],
   "source": [
    "a2"
   ]
  },
  {
   "cell_type": "markdown",
   "metadata": {},
   "source": [
    "### Note on axis order\n",
    "* When indexing, first axis (0) will extract rows, second axis (1) will extract cols\n",
    "* When aggregating (e.g., computing mean along an axis), you are specifing the dimension of the array that will be collapsed, not the dimension that will be returned\n",
    "    * So axis=0 will aggregate values across all rows for each column in a 2D array"
   ]
  },
  {
   "cell_type": "code",
   "execution_count": 46,
   "metadata": {},
   "outputs": [
    {
     "data": {
      "text/plain": [
       "array([[0.14120447, 0.38991732, 0.73080344],\n",
       "       [0.3767825 , 0.00095462, 0.49625387],\n",
       "       [0.60577084, 0.72550939, 0.21604166]])"
      ]
     },
     "execution_count": 46,
     "metadata": {},
     "output_type": "execute_result"
    }
   ],
   "source": [
    "a2[0:3,0:3]"
   ]
  },
  {
   "cell_type": "code",
   "execution_count": 47,
   "metadata": {},
   "outputs": [
    {
     "data": {
      "text/plain": [
       "array([0.14120447, 0.00095462, 0.21604166])"
      ]
     },
     "execution_count": 47,
     "metadata": {},
     "output_type": "execute_result"
    }
   ],
   "source": [
    "a2[0:3,0:3].min(axis=0)"
   ]
  },
  {
   "cell_type": "code",
   "execution_count": 48,
   "metadata": {},
   "outputs": [
    {
     "data": {
      "text/plain": [
       "array([0.14120447, 0.00095462, 0.21604166])"
      ]
     },
     "execution_count": 48,
     "metadata": {},
     "output_type": "execute_result"
    }
   ],
   "source": [
    "a2[0:3,0:3].min(axis=1)"
   ]
  },
  {
   "cell_type": "markdown",
   "metadata": {},
   "source": [
    "## nD arrays"
   ]
  },
  {
   "cell_type": "code",
   "execution_count": 49,
   "metadata": {},
   "outputs": [
    {
     "ename": "TypeError",
     "evalue": "'int' object is not callable",
     "output_type": "error",
     "traceback": [
      "\u001b[0;31m---------------------------------------------------------------------------\u001b[0m",
      "\u001b[0;31mTypeError\u001b[0m                                 Traceback (most recent call last)",
      "Cell \u001b[0;32mIn[49], line 4\u001b[0m\n\u001b[1;32m      1\u001b[0m \u001b[38;5;66;03m# how many dimensions can a numpy array have?\u001b[39;00m\n\u001b[1;32m      2\u001b[0m \u001b[38;5;66;03m# let's try creating arrays with increasingly more dimensions\u001b[39;00m\n\u001b[1;32m      3\u001b[0m shape \u001b[38;5;241m=\u001b[39m []\n\u001b[0;32m----> 4\u001b[0m \u001b[38;5;28;01mfor\u001b[39;00m i \u001b[38;5;129;01min\u001b[39;00m \u001b[38;5;28;43mrange\u001b[39;49m\u001b[43m(\u001b[49m\u001b[38;5;241;43m100\u001b[39;49m\u001b[43m)\u001b[49m: \n\u001b[1;32m      5\u001b[0m     shape\u001b[38;5;241m.\u001b[39mappend(\u001b[38;5;241m1\u001b[39m) \u001b[38;5;66;03m# add a new dimension of size 1 to the array shape\u001b[39;00m\n\u001b[1;32m      6\u001b[0m     an \u001b[38;5;241m=\u001b[39m np\u001b[38;5;241m.\u001b[39mrandom\u001b[38;5;241m.\u001b[39mrandom(shape) \u001b[38;5;66;03m# create a random array with the given shape\u001b[39;00m\n",
      "\u001b[0;31mTypeError\u001b[0m: 'int' object is not callable"
     ]
    }
   ],
   "source": [
    "# how many dimensions can a numpy array have?\n",
    "# let's try creating arrays with increasingly more dimensions\n",
    "shape = []\n",
    "for i in range(100): \n",
    "    shape.append(1) # add a new dimension of size 1 to the array shape\n",
    "    an = np.random.random(shape) # create a random array with the given shape"
   ]
  },
  {
   "cell_type": "markdown",
   "metadata": {},
   "source": [
    "## Basic array plotting and visualization"
   ]
  },
  {
   "cell_type": "code",
   "execution_count": 50,
   "metadata": {},
   "outputs": [
    {
     "data": {
      "text/plain": [
       "array([4, 3, 3, 6, 3, 6, 5, 2, 3, 9])"
      ]
     },
     "execution_count": 50,
     "metadata": {},
     "output_type": "execute_result"
    }
   ],
   "source": [
    "a"
   ]
  },
  {
   "cell_type": "code",
   "execution_count": 51,
   "metadata": {},
   "outputs": [
    {
     "data": {
      "text/plain": [
       "[<matplotlib.lines.Line2D at 0x7f309773c850>]"
      ]
     },
     "execution_count": 51,
     "metadata": {},
     "output_type": "execute_result"
    },
    {
     "data": {
      "image/png": "[encoded data removed]",
      "text/plain": [
       "<Figure size 640x480 with 1 Axes>"
      ]
     },
     "metadata": {},
     "output_type": "display_data"
    }
   ],
   "source": [
    "plt.plot(a)"
   ]
  },
  {
   "cell_type": "code",
   "execution_count": 52,
   "metadata": {},
   "outputs": [
    {
     "data": {
      "text/plain": [
       "array([[1.41204469e-01, 3.89917325e-01, 7.30803440e-01, 2.28727875e-01,\n",
       "        3.05261875e-01, 5.57365149e-01, 3.19747387e-01, 9.76131931e-01,\n",
       "        6.90435916e-01, 7.29483182e-01],\n",
       "       [3.76782504e-01, 9.54623086e-04, 4.96253865e-01, 8.83186872e-01,\n",
       "        7.97195917e-01, 6.37901937e-01, 5.78254274e-01, 5.03462246e-01,\n",
       "        6.37138050e-01, 1.84502898e-02],\n",
       "       [6.05770836e-01, 7.25509385e-01, 2.16041657e-01, 3.50670357e-03,\n",
       "        6.34606720e-01, 9.77455944e-01, 7.18494507e-01, 6.50530622e-01,\n",
       "        5.85406094e-01, 7.57894513e-01],\n",
       "       [6.58903005e-01, 8.07604015e-01, 9.97131444e-01, 6.90749625e-01,\n",
       "        8.11268416e-02, 1.07874063e-01, 4.17861123e-01, 7.23787367e-01,\n",
       "        9.20449637e-02, 4.16555164e-01],\n",
       "       [3.16168125e-01, 6.55887756e-01, 8.20854844e-02, 8.19284438e-02,\n",
       "        2.25303248e-01, 4.16816605e-01, 5.13325213e-01, 5.34474506e-01,\n",
       "        1.73097254e-01, 7.11062044e-01],\n",
       "       [9.22911408e-01, 1.11008058e-01, 1.39258614e-01, 8.76430130e-01,\n",
       "        4.95702854e-01, 7.16097827e-01, 6.36533645e-01, 7.98180948e-01,\n",
       "        9.58087288e-01, 7.77772061e-02],\n",
       "       [7.50955759e-01, 1.28775956e-01, 3.02774126e-01, 5.05208454e-01,\n",
       "        2.43478124e-01, 9.86661911e-02, 7.22968293e-01, 3.39784935e-01,\n",
       "        7.08604837e-01, 1.37895600e-01],\n",
       "       [2.71098182e-01, 8.23604609e-01, 7.39260002e-01, 5.96863088e-01,\n",
       "        6.42867723e-01, 5.57721585e-01, 2.05087063e-01, 3.45959313e-01,\n",
       "        7.13187596e-01, 1.26699262e-01],\n",
       "       [9.75129602e-01, 6.94600553e-01, 1.46673272e-01, 1.61391117e-01,\n",
       "        6.93398224e-01, 7.58123721e-01, 8.01035619e-01, 7.90701972e-01,\n",
       "        7.34414677e-01, 8.80065416e-01],\n",
       "       [4.58111282e-01, 8.55722122e-01, 7.18808961e-01, 3.28407866e-01,\n",
       "        5.75350931e-01, 4.71047838e-01, 1.48364415e-01, 5.68606354e-01,\n",
       "        7.63957334e-02, 4.03262879e-01]])"
      ]
     },
     "execution_count": 52,
     "metadata": {},
     "output_type": "execute_result"
    }
   ],
   "source": [
    "a2"
   ]
  },
  {
   "cell_type": "code",
   "execution_count": 53,
   "metadata": {},
   "outputs": [
    {
     "data": {
      "text/plain": [
       "[<matplotlib.lines.Line2D at 0x7f308f4f3d60>,\n",
       " <matplotlib.lines.Line2D at 0x7f308f4f3dc0>,\n",
       " <matplotlib.lines.Line2D at 0x7f308f4f3df0>,\n",
       " <matplotlib.lines.Line2D at 0x7f308f4f3ee0>,\n",
       " <matplotlib.lines.Line2D at 0x7f308f4f3fd0>,\n",
       " <matplotlib.lines.Line2D at 0x7f308f481100>,\n",
       " <matplotlib.lines.Line2D at 0x7f308f4811f0>,\n",
       " <matplotlib.lines.Line2D at 0x7f308f4812e0>,\n",
       " <matplotlib.lines.Line2D at 0x7f308f4813d0>,\n",
       " <matplotlib.lines.Line2D at 0x7f308f4814c0>]"
      ]
     },
     "execution_count": 53,
     "metadata": {},
     "output_type": "execute_result"
    },
    {
     "data": {
      "image/png": "[encoded data removed]",
      "text/plain": [
       "<Figure size 640x480 with 1 Axes>"
      ]
     },
     "metadata": {},
     "output_type": "display_data"
    }
   ],
   "source": [
    "plt.plot(a2)"
   ]
  },
  {
   "cell_type": "code",
   "execution_count": 54,
   "metadata": {},
   "outputs": [
    {
     "data": {
      "text/plain": [
       "[<matplotlib.lines.Line2D at 0x7f308dc00c70>]"
      ]
     },
     "execution_count": 54,
     "metadata": {},
     "output_type": "execute_result"
    },
    {
     "data": {
      "image/png": "[encoded data removed]",
      "text/plain": [
       "<Figure size 640x480 with 1 Axes>"
      ]
     },
     "metadata": {},
     "output_type": "display_data"
    }
   ],
   "source": [
    "plt.plot(a2[0])"
   ]
  },
  {
   "cell_type": "code",
   "execution_count": 55,
   "metadata": {},
   "outputs": [
    {
     "data": {
      "text/plain": [
       "<matplotlib.colorbar.Colorbar at 0x7f308f44d3a0>"
      ]
     },
     "execution_count": 55,
     "metadata": {},
     "output_type": "execute_result"
    },
    {
     "data": {
      "image/png": "[encoded data removed]",
      "text/plain": [
       "<Figure size 640x480 with 2 Axes>"
      ]
     },
     "metadata": {},
     "output_type": "display_data"
    }
   ],
   "source": [
    "#2D array visualization\n",
    "plt.imshow(a2, cmap='gray')\n",
    "plt.colorbar()"
   ]
  },
  {
   "cell_type": "code",
   "execution_count": 56,
   "metadata": {},
   "outputs": [
    {
     "data": {
      "text/plain": [
       "(array([12., 14.,  8., 10., 12., 25., 10.,  9.]),\n",
       " array([9.54623086e-04, 1.25476726e-01, 2.49998828e-01, 3.74520931e-01,\n",
       "        4.99043033e-01, 6.23565136e-01, 7.48087239e-01, 8.72609341e-01,\n",
       "        9.97131444e-01]),\n",
       " <BarContainer object of 8 artists>)"
      ]
     },
     "execution_count": 56,
     "metadata": {},
     "output_type": "execute_result"
    },
    {
     "data": {
      "image/png": "[encoded data removed]",
      "text/plain": [
       "<Figure size 640x480 with 1 Axes>"
      ]
     },
     "metadata": {},
     "output_type": "display_data"
    }
   ],
   "source": [
    "plt.hist(a2.ravel(), bins='auto')"
   ]
  },
  {
   "cell_type": "markdown",
   "metadata": {},
   "source": [
    "## Boolean arrays and fancy indexing"
   ]
  },
  {
   "cell_type": "code",
   "execution_count": 57,
   "metadata": {},
   "outputs": [
    {
     "data": {
      "text/plain": [
       "array([[1.41204469e-01, 3.89917325e-01, 7.30803440e-01, 2.28727875e-01,\n",
       "        3.05261875e-01, 5.57365149e-01, 3.19747387e-01, 9.76131931e-01,\n",
       "        6.90435916e-01, 7.29483182e-01],\n",
       "       [3.76782504e-01, 9.54623086e-04, 4.96253865e-01, 8.83186872e-01,\n",
       "        7.97195917e-01, 6.37901937e-01, 5.78254274e-01, 5.03462246e-01,\n",
       "        6.37138050e-01, 1.84502898e-02],\n",
       "       [6.05770836e-01, 7.25509385e-01, 2.16041657e-01, 3.50670357e-03,\n",
       "        6.34606720e-01, 9.77455944e-01, 7.18494507e-01, 6.50530622e-01,\n",
       "        5.85406094e-01, 7.57894513e-01],\n",
       "       [6.58903005e-01, 8.07604015e-01, 9.97131444e-01, 6.90749625e-01,\n",
       "        8.11268416e-02, 1.07874063e-01, 4.17861123e-01, 7.23787367e-01,\n",
       "        9.20449637e-02, 4.16555164e-01],\n",
       "       [3.16168125e-01, 6.55887756e-01, 8.20854844e-02, 8.19284438e-02,\n",
       "        2.25303248e-01, 4.16816605e-01, 5.13325213e-01, 5.34474506e-01,\n",
       "        1.73097254e-01, 7.11062044e-01],\n",
       "       [9.22911408e-01, 1.11008058e-01, 1.39258614e-01, 8.76430130e-01,\n",
       "        4.95702854e-01, 7.16097827e-01, 6.36533645e-01, 7.98180948e-01,\n",
       "        9.58087288e-01, 7.77772061e-02],\n",
       "       [7.50955759e-01, 1.28775956e-01, 3.02774126e-01, 5.05208454e-01,\n",
       "        2.43478124e-01, 9.86661911e-02, 7.22968293e-01, 3.39784935e-01,\n",
       "        7.08604837e-01, 1.37895600e-01],\n",
       "       [2.71098182e-01, 8.23604609e-01, 7.39260002e-01, 5.96863088e-01,\n",
       "        6.42867723e-01, 5.57721585e-01, 2.05087063e-01, 3.45959313e-01,\n",
       "        7.13187596e-01, 1.26699262e-01],\n",
       "       [9.75129602e-01, 6.94600553e-01, 1.46673272e-01, 1.61391117e-01,\n",
       "        6.93398224e-01, 7.58123721e-01, 8.01035619e-01, 7.90701972e-01,\n",
       "        7.34414677e-01, 8.80065416e-01],\n",
       "       [4.58111282e-01, 8.55722122e-01, 7.18808961e-01, 3.28407866e-01,\n",
       "        5.75350931e-01, 4.71047838e-01, 1.48364415e-01, 5.68606354e-01,\n",
       "        7.63957334e-02, 4.03262879e-01]])"
      ]
     },
     "execution_count": 57,
     "metadata": {},
     "output_type": "execute_result"
    }
   ],
   "source": [
    "a2"
   ]
  },
  {
   "cell_type": "code",
   "execution_count": 58,
   "metadata": {},
   "outputs": [
    {
     "data": {
      "text/plain": [
       "array([[False, False,  True, False, False,  True, False,  True,  True,\n",
       "         True],\n",
       "       [False, False, False,  True,  True,  True,  True,  True,  True,\n",
       "        False],\n",
       "       [ True,  True, False, False,  True,  True,  True,  True,  True,\n",
       "         True],\n",
       "       [ True,  True,  True,  True, False, False, False,  True, False,\n",
       "        False],\n",
       "       [False,  True, False, False, False, False,  True,  True, False,\n",
       "         True],\n",
       "       [ True, False, False,  True, False,  True,  True,  True,  True,\n",
       "        False],\n",
       "       [ True, False, False,  True, False, False,  True, False,  True,\n",
       "        False],\n",
       "       [False,  True,  True,  True,  True,  True, False, False,  True,\n",
       "        False],\n",
       "       [ True,  True, False, False,  True,  True,  True,  True,  True,\n",
       "         True],\n",
       "       [False,  True,  True, False,  True, False, False,  True, False,\n",
       "        False]])"
      ]
     },
     "execution_count": 58,
     "metadata": {},
     "output_type": "execute_result"
    }
   ],
   "source": [
    "a2 > 0.5"
   ]
  },
  {
   "cell_type": "code",
   "execution_count": 59,
   "metadata": {},
   "outputs": [],
   "source": [
    "idx = (a2 > 0.5)"
   ]
  },
  {
   "cell_type": "code",
   "execution_count": 60,
   "metadata": {},
   "outputs": [
    {
     "data": {
      "text/plain": [
       "array([[False, False,  True, False, False,  True, False,  True,  True,\n",
       "         True],\n",
       "       [False, False, False,  True,  True,  True,  True,  True,  True,\n",
       "        False],\n",
       "       [ True,  True, False, False,  True,  True,  True,  True,  True,\n",
       "         True],\n",
       "       [ True,  True,  True,  True, False, False, False,  True, False,\n",
       "        False],\n",
       "       [False,  True, False, False, False, False,  True,  True, False,\n",
       "         True],\n",
       "       [ True, False, False,  True, False,  True,  True,  True,  True,\n",
       "        False],\n",
       "       [ True, False, False,  True, False, False,  True, False,  True,\n",
       "        False],\n",
       "       [False,  True,  True,  True,  True,  True, False, False,  True,\n",
       "        False],\n",
       "       [ True,  True, False, False,  True,  True,  True,  True,  True,\n",
       "         True],\n",
       "       [False,  True,  True, False,  True, False, False,  True, False,\n",
       "        False]])"
      ]
     },
     "execution_count": 60,
     "metadata": {},
     "output_type": "execute_result"
    }
   ],
   "source": [
    "idx"
   ]
  },
  {
   "cell_type": "code",
   "execution_count": 61,
   "metadata": {},
   "outputs": [
    {
     "data": {
      "text/plain": [
       "<matplotlib.colorbar.Colorbar at 0x7f308da5a370>"
      ]
     },
     "execution_count": 61,
     "metadata": {},
     "output_type": "execute_result"
    },
    {
     "data": {
      "image/png": "[encoded data removed]",
      "text/plain": [
       "<Figure size 640x480 with 2 Axes>"
      ]
     },
     "metadata": {},
     "output_type": "display_data"
    }
   ],
   "source": [
    "# Quick visualization, True = yellow (1)\n",
    "plt.imshow(idx)\n",
    "plt.colorbar()"
   ]
  },
  {
   "cell_type": "code",
   "execution_count": 62,
   "metadata": {},
   "outputs": [
    {
     "data": {
      "text/plain": [
       "array([0.73080344, 0.55736515, 0.97613193, 0.69043592, 0.72948318,\n",
       "       0.88318687, 0.79719592, 0.63790194, 0.57825427, 0.50346225,\n",
       "       0.63713805, 0.60577084, 0.72550939, 0.63460672, 0.97745594,\n",
       "       0.71849451, 0.65053062, 0.58540609, 0.75789451, 0.658903  ,\n",
       "       0.80760401, 0.99713144, 0.69074963, 0.72378737, 0.65588776,\n",
       "       0.51332521, 0.53447451, 0.71106204, 0.92291141, 0.87643013,\n",
       "       0.71609783, 0.63653364, 0.79818095, 0.95808729, 0.75095576,\n",
       "       0.50520845, 0.72296829, 0.70860484, 0.82360461, 0.73926   ,\n",
       "       0.59686309, 0.64286772, 0.55772158, 0.7131876 , 0.9751296 ,\n",
       "       0.69460055, 0.69339822, 0.75812372, 0.80103562, 0.79070197,\n",
       "       0.73441468, 0.88006542, 0.85572212, 0.71880896, 0.57535093,\n",
       "       0.56860635])"
      ]
     },
     "execution_count": 62,
     "metadata": {},
     "output_type": "execute_result"
    }
   ],
   "source": [
    "# Return only elements where condition is True\n",
    "a2[idx]"
   ]
  },
  {
   "cell_type": "code",
   "execution_count": 63,
   "metadata": {},
   "outputs": [
    {
     "data": {
      "text/plain": [
       "(10, 10)"
      ]
     },
     "execution_count": 63,
     "metadata": {},
     "output_type": "execute_result"
    }
   ],
   "source": [
    "# Original shape\n",
    "a2.shape"
   ]
  },
  {
   "cell_type": "code",
   "execution_count": 64,
   "metadata": {},
   "outputs": [
    {
     "data": {
      "text/plain": [
       "(56,)"
      ]
     },
     "execution_count": 64,
     "metadata": {},
     "output_type": "execute_result"
    }
   ],
   "source": [
    "# Selected shape\n",
    "a2[idx].shape\n",
    "#idx.nonzero()[0].size"
   ]
  },
  {
   "cell_type": "code",
   "execution_count": 65,
   "metadata": {},
   "outputs": [],
   "source": [
    "#Can also be used for assignment\n",
    "#a2[idx] = 0"
   ]
  },
  {
   "cell_type": "code",
   "execution_count": 66,
   "metadata": {},
   "outputs": [],
   "source": [
    "### Bitwise operators, combining boolean arrays"
   ]
  },
  {
   "cell_type": "code",
   "execution_count": 67,
   "metadata": {},
   "outputs": [
    {
     "data": {
      "text/plain": [
       "array([[False, False,  True, False, False,  True, False,  True,  True,\n",
       "         True],\n",
       "       [False, False, False,  True,  True,  True,  True,  True,  True,\n",
       "        False],\n",
       "       [ True,  True, False, False,  True,  True,  True,  True,  True,\n",
       "         True],\n",
       "       [ True,  True,  True,  True, False, False, False,  True, False,\n",
       "        False],\n",
       "       [False,  True, False, False, False, False,  True,  True, False,\n",
       "         True],\n",
       "       [ True, False, False,  True, False,  True,  True,  True,  True,\n",
       "        False],\n",
       "       [ True, False, False,  True, False, False,  True, False,  True,\n",
       "        False],\n",
       "       [False,  True,  True,  True,  True,  True, False, False,  True,\n",
       "        False],\n",
       "       [ True,  True, False, False,  True,  True,  True,  True,  True,\n",
       "         True],\n",
       "       [False,  True,  True, False,  True, False, False,  True, False,\n",
       "        False]])"
      ]
     },
     "execution_count": 67,
     "metadata": {},
     "output_type": "execute_result"
    }
   ],
   "source": [
    "(a2 > 0.5)"
   ]
  },
  {
   "cell_type": "code",
   "execution_count": 68,
   "metadata": {},
   "outputs": [
    {
     "data": {
      "text/plain": [
       "array([[ True,  True, False,  True,  True,  True,  True, False,  True,\n",
       "        False],\n",
       "       [ True,  True,  True, False, False,  True,  True,  True,  True,\n",
       "         True],\n",
       "       [ True, False,  True,  True,  True, False, False,  True,  True,\n",
       "        False],\n",
       "       [ True, False, False,  True,  True,  True,  True, False,  True,\n",
       "         True],\n",
       "       [ True,  True,  True,  True,  True,  True,  True,  True,  True,\n",
       "        False],\n",
       "       [False,  True,  True, False,  True, False,  True, False, False,\n",
       "         True],\n",
       "       [False,  True,  True,  True,  True,  True, False,  True, False,\n",
       "         True],\n",
       "       [ True, False, False,  True,  True,  True,  True,  True, False,\n",
       "         True],\n",
       "       [False,  True,  True,  True,  True, False, False, False, False,\n",
       "        False],\n",
       "       [ True, False, False,  True,  True,  True,  True,  True,  True,\n",
       "         True]])"
      ]
     },
     "execution_count": 68,
     "metadata": {},
     "output_type": "execute_result"
    }
   ],
   "source": [
    "(a2 < 0.7)"
   ]
  },
  {
   "cell_type": "code",
   "execution_count": 69,
   "metadata": {},
   "outputs": [],
   "source": [
    "#Bitwise and - True if both are True\n",
    "idx = (a2 > 0.5) & (a2 < 0.7)\n",
    "#Bitwise or - True if either is True\n",
    "#idx = (a < 0.5) | (a > 0.9)"
   ]
  },
  {
   "cell_type": "code",
   "execution_count": 70,
   "metadata": {},
   "outputs": [
    {
     "data": {
      "text/plain": [
       "array([[False, False, False, False, False,  True, False, False,  True,\n",
       "        False],\n",
       "       [False, False, False, False, False,  True,  True,  True,  True,\n",
       "        False],\n",
       "       [ True, False, False, False,  True, False, False,  True,  True,\n",
       "        False],\n",
       "       [ True, False, False,  True, False, False, False, False, False,\n",
       "        False],\n",
       "       [False,  True, False, False, False, False,  True,  True, False,\n",
       "        False],\n",
       "       [False, False, False, False, False, False,  True, False, False,\n",
       "        False],\n",
       "       [False, False, False,  True, False, False, False, False, False,\n",
       "        False],\n",
       "       [False, False, False,  True,  True,  True, False, False, False,\n",
       "        False],\n",
       "       [False,  True, False, False,  True, False, False, False, False,\n",
       "        False],\n",
       "       [False, False, False, False,  True, False, False,  True, False,\n",
       "        False]])"
      ]
     },
     "execution_count": 70,
     "metadata": {},
     "output_type": "execute_result"
    }
   ],
   "source": [
    "idx"
   ]
  },
  {
   "cell_type": "code",
   "execution_count": 71,
   "metadata": {},
   "outputs": [
    {
     "data": {
      "text/plain": [
       "<matplotlib.image.AxesImage at 0x7f308d9f2430>"
      ]
     },
     "execution_count": 71,
     "metadata": {},
     "output_type": "execute_result"
    },
    {
     "data": {
      "image/png": "[encoded data removed]",
      "text/plain": [
       "<Figure size 640x480 with 1 Axes>"
      ]
     },
     "metadata": {},
     "output_type": "display_data"
    }
   ],
   "source": [
    "plt.imshow(idx)"
   ]
  },
  {
   "cell_type": "code",
   "execution_count": 72,
   "metadata": {},
   "outputs": [
    {
     "data": {
      "text/plain": [
       "array([0.55736515, 0.69043592, 0.63790194, 0.57825427, 0.50346225,\n",
       "       0.63713805, 0.60577084, 0.63460672, 0.65053062, 0.58540609,\n",
       "       0.658903  , 0.69074963, 0.65588776, 0.51332521, 0.53447451,\n",
       "       0.63653364, 0.50520845, 0.59686309, 0.64286772, 0.55772158,\n",
       "       0.69460055, 0.69339822, 0.57535093, 0.56860635])"
      ]
     },
     "execution_count": 72,
     "metadata": {},
     "output_type": "execute_result"
    }
   ],
   "source": [
    "a2[idx]"
   ]
  },
  {
   "cell_type": "code",
   "execution_count": 73,
   "metadata": {},
   "outputs": [
    {
     "data": {
      "text/plain": [
       "(24,)"
      ]
     },
     "execution_count": 73,
     "metadata": {},
     "output_type": "execute_result"
    }
   ],
   "source": [
    "a2[idx].shape"
   ]
  },
  {
   "cell_type": "code",
   "execution_count": 74,
   "metadata": {},
   "outputs": [
    {
     "data": {
      "text/plain": [
       "array([[ True,  True,  True,  True,  True, False,  True,  True, False,\n",
       "         True],\n",
       "       [ True,  True,  True,  True,  True, False, False, False, False,\n",
       "         True],\n",
       "       [False,  True,  True,  True, False,  True,  True, False, False,\n",
       "         True],\n",
       "       [False,  True,  True, False,  True,  True,  True,  True,  True,\n",
       "         True],\n",
       "       [ True, False,  True,  True,  True,  True, False, False,  True,\n",
       "         True],\n",
       "       [ True,  True,  True,  True,  True,  True, False,  True,  True,\n",
       "         True],\n",
       "       [ True,  True,  True, False,  True,  True,  True,  True,  True,\n",
       "         True],\n",
       "       [ True,  True,  True, False, False, False,  True,  True,  True,\n",
       "         True],\n",
       "       [ True, False,  True,  True, False,  True,  True,  True,  True,\n",
       "         True],\n",
       "       [ True,  True,  True,  True, False,  True,  True, False,  True,\n",
       "         True]])"
      ]
     },
     "execution_count": 74,
     "metadata": {},
     "output_type": "execute_result"
    }
   ],
   "source": [
    "#Invert the boolean array\n",
    "~idx"
   ]
  },
  {
   "cell_type": "code",
   "execution_count": 75,
   "metadata": {},
   "outputs": [
    {
     "data": {
      "text/plain": [
       "<matplotlib.image.AxesImage at 0x7f309773acd0>"
      ]
     },
     "execution_count": 75,
     "metadata": {},
     "output_type": "execute_result"
    },
    {
     "data": {
      "image/png": "[encoded data removed]",
      "text/plain": [
       "<Figure size 640x480 with 1 Axes>"
      ]
     },
     "metadata": {},
     "output_type": "display_data"
    }
   ],
   "source": [
    "plt.imshow(idx)"
   ]
  },
  {
   "cell_type": "code",
   "execution_count": 76,
   "metadata": {},
   "outputs": [
    {
     "data": {
      "text/plain": [
       "<matplotlib.image.AxesImage at 0x7f308d916c10>"
      ]
     },
     "execution_count": 76,
     "metadata": {},
     "output_type": "execute_result"
    },
    {
     "data": {
      "image/png": "[encoded data removed]",
      "text/plain": [
       "<Figure size 640x480 with 1 Axes>"
      ]
     },
     "metadata": {},
     "output_type": "display_data"
    }
   ],
   "source": [
    "plt.imshow(~idx)"
   ]
  },
  {
   "cell_type": "code",
   "execution_count": 77,
   "metadata": {},
   "outputs": [
    {
     "data": {
      "text/plain": [
       "(76,)"
      ]
     },
     "execution_count": 77,
     "metadata": {},
     "output_type": "execute_result"
    }
   ],
   "source": [
    "a2[~idx].shape"
   ]
  },
  {
   "cell_type": "markdown",
   "metadata": {},
   "source": [
    "## Pandas!"
   ]
  },
  {
   "cell_type": "code",
   "execution_count": 78,
   "metadata": {
    "tags": []
   },
   "outputs": [],
   "source": [
    "#pd.DataFrame?"
   ]
  },
  {
   "cell_type": "code",
   "execution_count": 79,
   "metadata": {},
   "outputs": [],
   "source": [
    "df = pd.DataFrame(a2)"
   ]
  },
  {
   "cell_type": "code",
   "execution_count": 80,
   "metadata": {},
   "outputs": [
    {
     "data": {
      "text/html": [
       "<div>\n",
       "<style scoped>\n",
       "    .dataframe tbody tr th:only-of-type {\n",
       "        vertical-align: middle;\n",
       "    }\n",
       "\n",
       "    .dataframe tbody tr th {\n",
       "        vertical-align: top;\n",
       "    }\n",
       "\n",
       "    .dataframe thead th {\n",
       "        text-align: right;\n",
       "    }\n",
       "</style>\n",
       "<table border=\"1\" class=\"dataframe\">\n",
       "  <thead>\n",
       "    <tr style=\"text-align: right;\">\n",
       "      <th></th>\n",
       "      <th>0</th>\n",
       "      <th>1</th>\n",
       "      <th>2</th>\n",
       "      <th>3</th>\n",
       "      <th>4</th>\n",
       "      <th>5</th>\n",
       "      <th>6</th>\n",
       "      <th>7</th>\n",
       "      <th>8</th>\n",
       "      <th>9</th>\n",
       "    </tr>\n",
       "  </thead>\n",
       "  <tbody>\n",
       "    <tr>\n",
       "      <th>0</th>\n",
       "      <td>0.141204</td>\n",
       "      <td>0.389917</td>\n",
       "      <td>0.730803</td>\n",
       "      <td>0.228728</td>\n",
       "      <td>0.305262</td>\n",
       "      <td>0.557365</td>\n",
       "      <td>0.319747</td>\n",
       "      <td>0.976132</td>\n",
       "      <td>0.690436</td>\n",
       "      <td>0.729483</td>\n",
       "    </tr>\n",
       "    <tr>\n",
       "      <th>1</th>\n",
       "      <td>0.376783</td>\n",
       "      <td>0.000955</td>\n",
       "      <td>0.496254</td>\n",
       "      <td>0.883187</td>\n",
       "      <td>0.797196</td>\n",
       "      <td>0.637902</td>\n",
       "      <td>0.578254</td>\n",
       "      <td>0.503462</td>\n",
       "      <td>0.637138</td>\n",
       "      <td>0.018450</td>\n",
       "    </tr>\n",
       "    <tr>\n",
       "      <th>2</th>\n",
       "      <td>0.605771</td>\n",
       "      <td>0.725509</td>\n",
       "      <td>0.216042</td>\n",
       "      <td>0.003507</td>\n",
       "      <td>0.634607</td>\n",
       "      <td>0.977456</td>\n",
       "      <td>0.718495</td>\n",
       "      <td>0.650531</td>\n",
       "      <td>0.585406</td>\n",
       "      <td>0.757895</td>\n",
       "    </tr>\n",
       "    <tr>\n",
       "      <th>3</th>\n",
       "      <td>0.658903</td>\n",
       "      <td>0.807604</td>\n",
       "      <td>0.997131</td>\n",
       "      <td>0.690750</td>\n",
       "      <td>0.081127</td>\n",
       "      <td>0.107874</td>\n",
       "      <td>0.417861</td>\n",
       "      <td>0.723787</td>\n",
       "      <td>0.092045</td>\n",
       "      <td>0.416555</td>\n",
       "    </tr>\n",
       "    <tr>\n",
       "      <th>4</th>\n",
       "      <td>0.316168</td>\n",
       "      <td>0.655888</td>\n",
       "      <td>0.082085</td>\n",
       "      <td>0.081928</td>\n",
       "      <td>0.225303</td>\n",
       "      <td>0.416817</td>\n",
       "      <td>0.513325</td>\n",
       "      <td>0.534475</td>\n",
       "      <td>0.173097</td>\n",
       "      <td>0.711062</td>\n",
       "    </tr>\n",
       "    <tr>\n",
       "      <th>5</th>\n",
       "      <td>0.922911</td>\n",
       "      <td>0.111008</td>\n",
       "      <td>0.139259</td>\n",
       "      <td>0.876430</td>\n",
       "      <td>0.495703</td>\n",
       "      <td>0.716098</td>\n",
       "      <td>0.636534</td>\n",
       "      <td>0.798181</td>\n",
       "      <td>0.958087</td>\n",
       "      <td>0.077777</td>\n",
       "    </tr>\n",
       "    <tr>\n",
       "      <th>6</th>\n",
       "      <td>0.750956</td>\n",
       "      <td>0.128776</td>\n",
       "      <td>0.302774</td>\n",
       "      <td>0.505208</td>\n",
       "      <td>0.243478</td>\n",
       "      <td>0.098666</td>\n",
       "      <td>0.722968</td>\n",
       "      <td>0.339785</td>\n",
       "      <td>0.708605</td>\n",
       "      <td>0.137896</td>\n",
       "    </tr>\n",
       "    <tr>\n",
       "      <th>7</th>\n",
       "      <td>0.271098</td>\n",
       "      <td>0.823605</td>\n",
       "      <td>0.739260</td>\n",
       "      <td>0.596863</td>\n",
       "      <td>0.642868</td>\n",
       "      <td>0.557722</td>\n",
       "      <td>0.205087</td>\n",
       "      <td>0.345959</td>\n",
       "      <td>0.713188</td>\n",
       "      <td>0.126699</td>\n",
       "    </tr>\n",
       "    <tr>\n",
       "      <th>8</th>\n",
       "      <td>0.975130</td>\n",
       "      <td>0.694601</td>\n",
       "      <td>0.146673</td>\n",
       "      <td>0.161391</td>\n",
       "      <td>0.693398</td>\n",
       "      <td>0.758124</td>\n",
       "      <td>0.801036</td>\n",
       "      <td>0.790702</td>\n",
       "      <td>0.734415</td>\n",
       "      <td>0.880065</td>\n",
       "    </tr>\n",
       "    <tr>\n",
       "      <th>9</th>\n",
       "      <td>0.458111</td>\n",
       "      <td>0.855722</td>\n",
       "      <td>0.718809</td>\n",
       "      <td>0.328408</td>\n",
       "      <td>0.575351</td>\n",
       "      <td>0.471048</td>\n",
       "      <td>0.148364</td>\n",
       "      <td>0.568606</td>\n",
       "      <td>0.076396</td>\n",
       "      <td>0.403263</td>\n",
       "    </tr>\n",
       "  </tbody>\n",
       "</table>\n",
       "</div>"
      ],
      "text/plain": [
       "          0         1         2         3         4         5         6  \\\n",
       "0  0.141204  0.389917  0.730803  0.228728  0.305262  0.557365  0.319747   \n",
       "1  0.376783  0.000955  0.496254  0.883187  0.797196  0.637902  0.578254   \n",
       "2  0.605771  0.725509  0.216042  0.003507  0.634607  0.977456  0.718495   \n",
       "3  0.658903  0.807604  0.997131  0.690750  0.081127  0.107874  0.417861   \n",
       "4  0.316168  0.655888  0.082085  0.081928  0.225303  0.416817  0.513325   \n",
       "5  0.922911  0.111008  0.139259  0.876430  0.495703  0.716098  0.636534   \n",
       "6  0.750956  0.128776  0.302774  0.505208  0.243478  0.098666  0.722968   \n",
       "7  0.271098  0.823605  0.739260  0.596863  0.642868  0.557722  0.205087   \n",
       "8  0.975130  0.694601  0.146673  0.161391  0.693398  0.758124  0.801036   \n",
       "9  0.458111  0.855722  0.718809  0.328408  0.575351  0.471048  0.148364   \n",
       "\n",
       "          7         8         9  \n",
       "0  0.976132  0.690436  0.729483  \n",
       "1  0.503462  0.637138  0.018450  \n",
       "2  0.650531  0.585406  0.757895  \n",
       "3  0.723787  0.092045  0.416555  \n",
       "4  0.534475  0.173097  0.711062  \n",
       "5  0.798181  0.958087  0.077777  \n",
       "6  0.339785  0.708605  0.137896  \n",
       "7  0.345959  0.713188  0.126699  \n",
       "8  0.790702  0.734415  0.880065  \n",
       "9  0.568606  0.076396  0.403263  "
      ]
     },
     "execution_count": 80,
     "metadata": {},
     "output_type": "execute_result"
    }
   ],
   "source": [
    "df"
   ]
  },
  {
   "cell_type": "markdown",
   "metadata": {},
   "source": [
    "Wow! Now we have labels for our Numpy array. This will make it much easier to keep track of. "
   ]
  },
  {
   "cell_type": "code",
   "execution_count": 81,
   "metadata": {},
   "outputs": [],
   "source": [
    "df.index = ['a','b','c','d','e','f','g','h','i','j']"
   ]
  },
  {
   "cell_type": "code",
   "execution_count": 82,
   "metadata": {},
   "outputs": [
    {
     "data": {
      "text/html": [
       "<div>\n",
       "<style scoped>\n",
       "    .dataframe tbody tr th:only-of-type {\n",
       "        vertical-align: middle;\n",
       "    }\n",
       "\n",
       "    .dataframe tbody tr th {\n",
       "        vertical-align: top;\n",
       "    }\n",
       "\n",
       "    .dataframe thead th {\n",
       "        text-align: right;\n",
       "    }\n",
       "</style>\n",
       "<table border=\"1\" class=\"dataframe\">\n",
       "  <thead>\n",
       "    <tr style=\"text-align: right;\">\n",
       "      <th></th>\n",
       "      <th>0</th>\n",
       "      <th>1</th>\n",
       "      <th>2</th>\n",
       "      <th>3</th>\n",
       "      <th>4</th>\n",
       "      <th>5</th>\n",
       "      <th>6</th>\n",
       "      <th>7</th>\n",
       "      <th>8</th>\n",
       "      <th>9</th>\n",
       "    </tr>\n",
       "  </thead>\n",
       "  <tbody>\n",
       "    <tr>\n",
       "      <th>a</th>\n",
       "      <td>0.141204</td>\n",
       "      <td>0.389917</td>\n",
       "      <td>0.730803</td>\n",
       "      <td>0.228728</td>\n",
       "      <td>0.305262</td>\n",
       "      <td>0.557365</td>\n",
       "      <td>0.319747</td>\n",
       "      <td>0.976132</td>\n",
       "      <td>0.690436</td>\n",
       "      <td>0.729483</td>\n",
       "    </tr>\n",
       "    <tr>\n",
       "      <th>b</th>\n",
       "      <td>0.376783</td>\n",
       "      <td>0.000955</td>\n",
       "      <td>0.496254</td>\n",
       "      <td>0.883187</td>\n",
       "      <td>0.797196</td>\n",
       "      <td>0.637902</td>\n",
       "      <td>0.578254</td>\n",
       "      <td>0.503462</td>\n",
       "      <td>0.637138</td>\n",
       "      <td>0.018450</td>\n",
       "    </tr>\n",
       "    <tr>\n",
       "      <th>c</th>\n",
       "      <td>0.605771</td>\n",
       "      <td>0.725509</td>\n",
       "      <td>0.216042</td>\n",
       "      <td>0.003507</td>\n",
       "      <td>0.634607</td>\n",
       "      <td>0.977456</td>\n",
       "      <td>0.718495</td>\n",
       "      <td>0.650531</td>\n",
       "      <td>0.585406</td>\n",
       "      <td>0.757895</td>\n",
       "    </tr>\n",
       "    <tr>\n",
       "      <th>d</th>\n",
       "      <td>0.658903</td>\n",
       "      <td>0.807604</td>\n",
       "      <td>0.997131</td>\n",
       "      <td>0.690750</td>\n",
       "      <td>0.081127</td>\n",
       "      <td>0.107874</td>\n",
       "      <td>0.417861</td>\n",
       "      <td>0.723787</td>\n",
       "      <td>0.092045</td>\n",
       "      <td>0.416555</td>\n",
       "    </tr>\n",
       "    <tr>\n",
       "      <th>e</th>\n",
       "      <td>0.316168</td>\n",
       "      <td>0.655888</td>\n",
       "      <td>0.082085</td>\n",
       "      <td>0.081928</td>\n",
       "      <td>0.225303</td>\n",
       "      <td>0.416817</td>\n",
       "      <td>0.513325</td>\n",
       "      <td>0.534475</td>\n",
       "      <td>0.173097</td>\n",
       "      <td>0.711062</td>\n",
       "    </tr>\n",
       "    <tr>\n",
       "      <th>f</th>\n",
       "      <td>0.922911</td>\n",
       "      <td>0.111008</td>\n",
       "      <td>0.139259</td>\n",
       "      <td>0.876430</td>\n",
       "      <td>0.495703</td>\n",
       "      <td>0.716098</td>\n",
       "      <td>0.636534</td>\n",
       "      <td>0.798181</td>\n",
       "      <td>0.958087</td>\n",
       "      <td>0.077777</td>\n",
       "    </tr>\n",
       "    <tr>\n",
       "      <th>g</th>\n",
       "      <td>0.750956</td>\n",
       "      <td>0.128776</td>\n",
       "      <td>0.302774</td>\n",
       "      <td>0.505208</td>\n",
       "      <td>0.243478</td>\n",
       "      <td>0.098666</td>\n",
       "      <td>0.722968</td>\n",
       "      <td>0.339785</td>\n",
       "      <td>0.708605</td>\n",
       "      <td>0.137896</td>\n",
       "    </tr>\n",
       "    <tr>\n",
       "      <th>h</th>\n",
       "      <td>0.271098</td>\n",
       "      <td>0.823605</td>\n",
       "      <td>0.739260</td>\n",
       "      <td>0.596863</td>\n",
       "      <td>0.642868</td>\n",
       "      <td>0.557722</td>\n",
       "      <td>0.205087</td>\n",
       "      <td>0.345959</td>\n",
       "      <td>0.713188</td>\n",
       "      <td>0.126699</td>\n",
       "    </tr>\n",
       "    <tr>\n",
       "      <th>i</th>\n",
       "      <td>0.975130</td>\n",
       "      <td>0.694601</td>\n",
       "      <td>0.146673</td>\n",
       "      <td>0.161391</td>\n",
       "      <td>0.693398</td>\n",
       "      <td>0.758124</td>\n",
       "      <td>0.801036</td>\n",
       "      <td>0.790702</td>\n",
       "      <td>0.734415</td>\n",
       "      <td>0.880065</td>\n",
       "    </tr>\n",
       "    <tr>\n",
       "      <th>j</th>\n",
       "      <td>0.458111</td>\n",
       "      <td>0.855722</td>\n",
       "      <td>0.718809</td>\n",
       "      <td>0.328408</td>\n",
       "      <td>0.575351</td>\n",
       "      <td>0.471048</td>\n",
       "      <td>0.148364</td>\n",
       "      <td>0.568606</td>\n",
       "      <td>0.076396</td>\n",
       "      <td>0.403263</td>\n",
       "    </tr>\n",
       "  </tbody>\n",
       "</table>\n",
       "</div>"
      ],
      "text/plain": [
       "          0         1         2         3         4         5         6  \\\n",
       "a  0.141204  0.389917  0.730803  0.228728  0.305262  0.557365  0.319747   \n",
       "b  0.376783  0.000955  0.496254  0.883187  0.797196  0.637902  0.578254   \n",
       "c  0.605771  0.725509  0.216042  0.003507  0.634607  0.977456  0.718495   \n",
       "d  0.658903  0.807604  0.997131  0.690750  0.081127  0.107874  0.417861   \n",
       "e  0.316168  0.655888  0.082085  0.081928  0.225303  0.416817  0.513325   \n",
       "f  0.922911  0.111008  0.139259  0.876430  0.495703  0.716098  0.636534   \n",
       "g  0.750956  0.128776  0.302774  0.505208  0.243478  0.098666  0.722968   \n",
       "h  0.271098  0.823605  0.739260  0.596863  0.642868  0.557722  0.205087   \n",
       "i  0.975130  0.694601  0.146673  0.161391  0.693398  0.758124  0.801036   \n",
       "j  0.458111  0.855722  0.718809  0.328408  0.575351  0.471048  0.148364   \n",
       "\n",
       "          7         8         9  \n",
       "a  0.976132  0.690436  0.729483  \n",
       "b  0.503462  0.637138  0.018450  \n",
       "c  0.650531  0.585406  0.757895  \n",
       "d  0.723787  0.092045  0.416555  \n",
       "e  0.534475  0.173097  0.711062  \n",
       "f  0.798181  0.958087  0.077777  \n",
       "g  0.339785  0.708605  0.137896  \n",
       "h  0.345959  0.713188  0.126699  \n",
       "i  0.790702  0.734415  0.880065  \n",
       "j  0.568606  0.076396  0.403263  "
      ]
     },
     "execution_count": 82,
     "metadata": {},
     "output_type": "execute_result"
    }
   ],
   "source": [
    "df"
   ]
  },
  {
   "cell_type": "code",
   "execution_count": 83,
   "metadata": {},
   "outputs": [
    {
     "data": {
      "text/plain": [
       "array([[1.41204469e-01, 3.89917325e-01, 7.30803440e-01, 2.28727875e-01,\n",
       "        3.05261875e-01, 5.57365149e-01, 3.19747387e-01, 9.76131931e-01,\n",
       "        6.90435916e-01, 7.29483182e-01],\n",
       "       [3.76782504e-01, 9.54623086e-04, 4.96253865e-01, 8.83186872e-01,\n",
       "        7.97195917e-01, 6.37901937e-01, 5.78254274e-01, 5.03462246e-01,\n",
       "        6.37138050e-01, 1.84502898e-02],\n",
       "       [6.05770836e-01, 7.25509385e-01, 2.16041657e-01, 3.50670357e-03,\n",
       "        6.34606720e-01, 9.77455944e-01, 7.18494507e-01, 6.50530622e-01,\n",
       "        5.85406094e-01, 7.57894513e-01],\n",
       "       [6.58903005e-01, 8.07604015e-01, 9.97131444e-01, 6.90749625e-01,\n",
       "        8.11268416e-02, 1.07874063e-01, 4.17861123e-01, 7.23787367e-01,\n",
       "        9.20449637e-02, 4.16555164e-01],\n",
       "       [3.16168125e-01, 6.55887756e-01, 8.20854844e-02, 8.19284438e-02,\n",
       "        2.25303248e-01, 4.16816605e-01, 5.13325213e-01, 5.34474506e-01,\n",
       "        1.73097254e-01, 7.11062044e-01],\n",
       "       [9.22911408e-01, 1.11008058e-01, 1.39258614e-01, 8.76430130e-01,\n",
       "        4.95702854e-01, 7.16097827e-01, 6.36533645e-01, 7.98180948e-01,\n",
       "        9.58087288e-01, 7.77772061e-02],\n",
       "       [7.50955759e-01, 1.28775956e-01, 3.02774126e-01, 5.05208454e-01,\n",
       "        2.43478124e-01, 9.86661911e-02, 7.22968293e-01, 3.39784935e-01,\n",
       "        7.08604837e-01, 1.37895600e-01],\n",
       "       [2.71098182e-01, 8.23604609e-01, 7.39260002e-01, 5.96863088e-01,\n",
       "        6.42867723e-01, 5.57721585e-01, 2.05087063e-01, 3.45959313e-01,\n",
       "        7.13187596e-01, 1.26699262e-01],\n",
       "       [9.75129602e-01, 6.94600553e-01, 1.46673272e-01, 1.61391117e-01,\n",
       "        6.93398224e-01, 7.58123721e-01, 8.01035619e-01, 7.90701972e-01,\n",
       "        7.34414677e-01, 8.80065416e-01],\n",
       "       [4.58111282e-01, 8.55722122e-01, 7.18808961e-01, 3.28407866e-01,\n",
       "        5.75350931e-01, 4.71047838e-01, 1.48364415e-01, 5.68606354e-01,\n",
       "        7.63957334e-02, 4.03262879e-01]])"
      ]
     },
     "execution_count": 83,
     "metadata": {},
     "output_type": "execute_result"
    }
   ],
   "source": [
    "# Still just NumPy array under the hood\n",
    "df.values"
   ]
  },
  {
   "cell_type": "code",
   "execution_count": 84,
   "metadata": {},
   "outputs": [
    {
     "data": {
      "text/plain": [
       "array(['a', 'b', 'c', 'd', 'e', 'f', 'g', 'h', 'i', 'j'], dtype=object)"
      ]
     },
     "execution_count": 84,
     "metadata": {},
     "output_type": "execute_result"
    }
   ],
   "source": [
    "df.index.values"
   ]
  },
  {
   "cell_type": "code",
   "execution_count": 85,
   "metadata": {},
   "outputs": [
    {
     "data": {
      "text/plain": [
       "0    0.547704\n",
       "1    0.519358\n",
       "2    0.456909\n",
       "3    0.435640\n",
       "4    0.469429\n",
       "5    0.529907\n",
       "6    0.506167\n",
       "7    0.623162\n",
       "8    0.536881\n",
       "9    0.425915\n",
       "dtype: float64"
      ]
     },
     "execution_count": 85,
     "metadata": {},
     "output_type": "execute_result"
    }
   ],
   "source": [
    "# Mean of each column\n",
    "df.mean()"
   ]
  },
  {
   "cell_type": "code",
   "execution_count": 86,
   "metadata": {},
   "outputs": [
    {
     "data": {
      "text/plain": [
       "a    0.506908\n",
       "b    0.492958\n",
       "c    0.587522\n",
       "d    0.499364\n",
       "e    0.371015\n",
       "f    0.573199\n",
       "g    0.393911\n",
       "h    0.502235\n",
       "i    0.663553\n",
       "j    0.460408\n",
       "dtype: float64"
      ]
     },
     "execution_count": 86,
     "metadata": {},
     "output_type": "execute_result"
    }
   ],
   "source": [
    "# Mean of each row\n",
    "df.mean(axis=1)"
   ]
  },
  {
   "cell_type": "markdown",
   "metadata": {},
   "source": [
    "### Reading files with Pandas\n",
    "Most of the time, you will read in tabular data and let Pandas do the work"
   ]
  },
  {
   "cell_type": "code",
   "execution_count": 87,
   "metadata": {},
   "outputs": [],
   "source": [
    "# Path to csv file\n",
    "csv_fn = './data/GLAH14_tllz_conus_lulcfilt_demfilt.csv'"
   ]
  },
  {
   "cell_type": "code",
   "execution_count": 88,
   "metadata": {},
   "outputs": [
    {
     "data": {
      "text/html": [
       "<div>\n",
       "<style scoped>\n",
       "    .dataframe tbody tr th:only-of-type {\n",
       "        vertical-align: middle;\n",
       "    }\n",
       "\n",
       "    .dataframe tbody tr th {\n",
       "        vertical-align: top;\n",
       "    }\n",
       "\n",
       "    .dataframe thead th {\n",
       "        text-align: right;\n",
       "    }\n",
       "</style>\n",
       "<table border=\"1\" class=\"dataframe\">\n",
       "  <thead>\n",
       "    <tr style=\"text-align: right;\">\n",
       "      <th></th>\n",
       "      <th>decyear</th>\n",
       "      <th>ordinal</th>\n",
       "      <th>lat</th>\n",
       "      <th>lon</th>\n",
       "      <th>glas_z</th>\n",
       "      <th>dem_z</th>\n",
       "      <th>dem_z_std</th>\n",
       "      <th>lulc</th>\n",
       "    </tr>\n",
       "  </thead>\n",
       "  <tbody>\n",
       "    <tr>\n",
       "      <th>0</th>\n",
       "      <td>2003.139571</td>\n",
       "      <td>731266.943345</td>\n",
       "      <td>44.157897</td>\n",
       "      <td>-105.356562</td>\n",
       "      <td>1398.51</td>\n",
       "      <td>1400.52</td>\n",
       "      <td>0.33</td>\n",
       "      <td>31</td>\n",
       "    </tr>\n",
       "    <tr>\n",
       "      <th>1</th>\n",
       "      <td>2003.139571</td>\n",
       "      <td>731266.943346</td>\n",
       "      <td>44.150175</td>\n",
       "      <td>-105.358116</td>\n",
       "      <td>1387.11</td>\n",
       "      <td>1384.64</td>\n",
       "      <td>0.43</td>\n",
       "      <td>31</td>\n",
       "    </tr>\n",
       "    <tr>\n",
       "      <th>2</th>\n",
       "      <td>2003.139571</td>\n",
       "      <td>731266.943347</td>\n",
       "      <td>44.148632</td>\n",
       "      <td>-105.358427</td>\n",
       "      <td>1392.83</td>\n",
       "      <td>1383.49</td>\n",
       "      <td>0.28</td>\n",
       "      <td>31</td>\n",
       "    </tr>\n",
       "    <tr>\n",
       "      <th>3</th>\n",
       "      <td>2003.139571</td>\n",
       "      <td>731266.943347</td>\n",
       "      <td>44.147087</td>\n",
       "      <td>-105.358738</td>\n",
       "      <td>1384.24</td>\n",
       "      <td>1382.85</td>\n",
       "      <td>0.84</td>\n",
       "      <td>31</td>\n",
       "    </tr>\n",
       "    <tr>\n",
       "      <th>4</th>\n",
       "      <td>2003.139571</td>\n",
       "      <td>731266.943347</td>\n",
       "      <td>44.145542</td>\n",
       "      <td>-105.359048</td>\n",
       "      <td>1369.21</td>\n",
       "      <td>1380.24</td>\n",
       "      <td>1.73</td>\n",
       "      <td>31</td>\n",
       "    </tr>\n",
       "    <tr>\n",
       "      <th>...</th>\n",
       "      <td>...</td>\n",
       "      <td>...</td>\n",
       "      <td>...</td>\n",
       "      <td>...</td>\n",
       "      <td>...</td>\n",
       "      <td>...</td>\n",
       "      <td>...</td>\n",
       "      <td>...</td>\n",
       "    </tr>\n",
       "    <tr>\n",
       "      <th>65231</th>\n",
       "      <td>2009.775995</td>\n",
       "      <td>733691.238340</td>\n",
       "      <td>37.896222</td>\n",
       "      <td>-117.044399</td>\n",
       "      <td>1556.16</td>\n",
       "      <td>1556.43</td>\n",
       "      <td>0.00</td>\n",
       "      <td>31</td>\n",
       "    </tr>\n",
       "    <tr>\n",
       "      <th>65232</th>\n",
       "      <td>2009.775995</td>\n",
       "      <td>733691.238340</td>\n",
       "      <td>37.897769</td>\n",
       "      <td>-117.044675</td>\n",
       "      <td>1556.02</td>\n",
       "      <td>1556.43</td>\n",
       "      <td>0.00</td>\n",
       "      <td>31</td>\n",
       "    </tr>\n",
       "    <tr>\n",
       "      <th>65233</th>\n",
       "      <td>2009.775995</td>\n",
       "      <td>733691.238340</td>\n",
       "      <td>37.899319</td>\n",
       "      <td>-117.044952</td>\n",
       "      <td>1556.19</td>\n",
       "      <td>1556.44</td>\n",
       "      <td>0.00</td>\n",
       "      <td>31</td>\n",
       "    </tr>\n",
       "    <tr>\n",
       "      <th>65234</th>\n",
       "      <td>2009.775995</td>\n",
       "      <td>733691.238340</td>\n",
       "      <td>37.900869</td>\n",
       "      <td>-117.045230</td>\n",
       "      <td>1556.18</td>\n",
       "      <td>1556.44</td>\n",
       "      <td>0.00</td>\n",
       "      <td>31</td>\n",
       "    </tr>\n",
       "    <tr>\n",
       "      <th>65235</th>\n",
       "      <td>2009.775995</td>\n",
       "      <td>733691.238341</td>\n",
       "      <td>37.902420</td>\n",
       "      <td>-117.045508</td>\n",
       "      <td>1556.32</td>\n",
       "      <td>1556.44</td>\n",
       "      <td>0.00</td>\n",
       "      <td>31</td>\n",
       "    </tr>\n",
       "  </tbody>\n",
       "</table>\n",
       "<p>65236 rows × 8 columns</p>\n",
       "</div>"
      ],
      "text/plain": [
       "           decyear        ordinal        lat         lon   glas_z    dem_z  \\\n",
       "0      2003.139571  731266.943345  44.157897 -105.356562  1398.51  1400.52   \n",
       "1      2003.139571  731266.943346  44.150175 -105.358116  1387.11  1384.64   \n",
       "2      2003.139571  731266.943347  44.148632 -105.358427  1392.83  1383.49   \n",
       "3      2003.139571  731266.943347  44.147087 -105.358738  1384.24  1382.85   \n",
       "4      2003.139571  731266.943347  44.145542 -105.359048  1369.21  1380.24   \n",
       "...            ...            ...        ...         ...      ...      ...   \n",
       "65231  2009.775995  733691.238340  37.896222 -117.044399  1556.16  1556.43   \n",
       "65232  2009.775995  733691.238340  37.897769 -117.044675  1556.02  1556.43   \n",
       "65233  2009.775995  733691.238340  37.899319 -117.044952  1556.19  1556.44   \n",
       "65234  2009.775995  733691.238340  37.900869 -117.045230  1556.18  1556.44   \n",
       "65235  2009.775995  733691.238341  37.902420 -117.045508  1556.32  1556.44   \n",
       "\n",
       "       dem_z_std  lulc  \n",
       "0           0.33    31  \n",
       "1           0.43    31  \n",
       "2           0.28    31  \n",
       "3           0.84    31  \n",
       "4           1.73    31  \n",
       "...          ...   ...  \n",
       "65231       0.00    31  \n",
       "65232       0.00    31  \n",
       "65233       0.00    31  \n",
       "65234       0.00    31  \n",
       "65235       0.00    31  \n",
       "\n",
       "[65236 rows x 8 columns]"
      ]
     },
     "execution_count": 88,
     "metadata": {},
     "output_type": "execute_result"
    }
   ],
   "source": [
    "pd.read_csv(csv_fn)"
   ]
  },
  {
   "cell_type": "code",
   "execution_count": 89,
   "metadata": {},
   "outputs": [
    {
     "data": {
      "text/html": [
       "<div>\n",
       "<style scoped>\n",
       "    .dataframe tbody tr th:only-of-type {\n",
       "        vertical-align: middle;\n",
       "    }\n",
       "\n",
       "    .dataframe tbody tr th {\n",
       "        vertical-align: top;\n",
       "    }\n",
       "\n",
       "    .dataframe thead th {\n",
       "        text-align: right;\n",
       "    }\n",
       "</style>\n",
       "<table border=\"1\" class=\"dataframe\">\n",
       "  <thead>\n",
       "    <tr style=\"text-align: right;\">\n",
       "      <th></th>\n",
       "      <th>decyear</th>\n",
       "      <th>ordinal</th>\n",
       "      <th>lat</th>\n",
       "      <th>lon</th>\n",
       "      <th>glas_z</th>\n",
       "      <th>dem_z</th>\n",
       "      <th>dem_z_std</th>\n",
       "      <th>lulc</th>\n",
       "    </tr>\n",
       "  </thead>\n",
       "  <tbody>\n",
       "    <tr>\n",
       "      <th>0</th>\n",
       "      <td>2003.139571</td>\n",
       "      <td>731266.943345</td>\n",
       "      <td>44.157897</td>\n",
       "      <td>-105.356562</td>\n",
       "      <td>1398.51</td>\n",
       "      <td>1400.52</td>\n",
       "      <td>0.33</td>\n",
       "      <td>31</td>\n",
       "    </tr>\n",
       "    <tr>\n",
       "      <th>1</th>\n",
       "      <td>2003.139571</td>\n",
       "      <td>731266.943346</td>\n",
       "      <td>44.150175</td>\n",
       "      <td>-105.358116</td>\n",
       "      <td>1387.11</td>\n",
       "      <td>1384.64</td>\n",
       "      <td>0.43</td>\n",
       "      <td>31</td>\n",
       "    </tr>\n",
       "    <tr>\n",
       "      <th>2</th>\n",
       "      <td>2003.139571</td>\n",
       "      <td>731266.943347</td>\n",
       "      <td>44.148632</td>\n",
       "      <td>-105.358427</td>\n",
       "      <td>1392.83</td>\n",
       "      <td>1383.49</td>\n",
       "      <td>0.28</td>\n",
       "      <td>31</td>\n",
       "    </tr>\n",
       "    <tr>\n",
       "      <th>3</th>\n",
       "      <td>2003.139571</td>\n",
       "      <td>731266.943347</td>\n",
       "      <td>44.147087</td>\n",
       "      <td>-105.358738</td>\n",
       "      <td>1384.24</td>\n",
       "      <td>1382.85</td>\n",
       "      <td>0.84</td>\n",
       "      <td>31</td>\n",
       "    </tr>\n",
       "    <tr>\n",
       "      <th>4</th>\n",
       "      <td>2003.139571</td>\n",
       "      <td>731266.943347</td>\n",
       "      <td>44.145542</td>\n",
       "      <td>-105.359048</td>\n",
       "      <td>1369.21</td>\n",
       "      <td>1380.24</td>\n",
       "      <td>1.73</td>\n",
       "      <td>31</td>\n",
       "    </tr>\n",
       "    <tr>\n",
       "      <th>...</th>\n",
       "      <td>...</td>\n",
       "      <td>...</td>\n",
       "      <td>...</td>\n",
       "      <td>...</td>\n",
       "      <td>...</td>\n",
       "      <td>...</td>\n",
       "      <td>...</td>\n",
       "      <td>...</td>\n",
       "    </tr>\n",
       "    <tr>\n",
       "      <th>65231</th>\n",
       "      <td>2009.775995</td>\n",
       "      <td>733691.238340</td>\n",
       "      <td>37.896222</td>\n",
       "      <td>-117.044399</td>\n",
       "      <td>1556.16</td>\n",
       "      <td>1556.43</td>\n",
       "      <td>0.00</td>\n",
       "      <td>31</td>\n",
       "    </tr>\n",
       "    <tr>\n",
       "      <th>65232</th>\n",
       "      <td>2009.775995</td>\n",
       "      <td>733691.238340</td>\n",
       "      <td>37.897769</td>\n",
       "      <td>-117.044675</td>\n",
       "      <td>1556.02</td>\n",
       "      <td>1556.43</td>\n",
       "      <td>0.00</td>\n",
       "      <td>31</td>\n",
       "    </tr>\n",
       "    <tr>\n",
       "      <th>65233</th>\n",
       "      <td>2009.775995</td>\n",
       "      <td>733691.238340</td>\n",
       "      <td>37.899319</td>\n",
       "      <td>-117.044952</td>\n",
       "      <td>1556.19</td>\n",
       "      <td>1556.44</td>\n",
       "      <td>0.00</td>\n",
       "      <td>31</td>\n",
       "    </tr>\n",
       "    <tr>\n",
       "      <th>65234</th>\n",
       "      <td>2009.775995</td>\n",
       "      <td>733691.238340</td>\n",
       "      <td>37.900869</td>\n",
       "      <td>-117.045230</td>\n",
       "      <td>1556.18</td>\n",
       "      <td>1556.44</td>\n",
       "      <td>0.00</td>\n",
       "      <td>31</td>\n",
       "    </tr>\n",
       "    <tr>\n",
       "      <th>65235</th>\n",
       "      <td>2009.775995</td>\n",
       "      <td>733691.238341</td>\n",
       "      <td>37.902420</td>\n",
       "      <td>-117.045508</td>\n",
       "      <td>1556.32</td>\n",
       "      <td>1556.44</td>\n",
       "      <td>0.00</td>\n",
       "      <td>31</td>\n",
       "    </tr>\n",
       "  </tbody>\n",
       "</table>\n",
       "<p>65236 rows × 8 columns</p>\n",
       "</div>"
      ],
      "text/plain": [
       "           decyear        ordinal        lat         lon   glas_z    dem_z  \\\n",
       "0      2003.139571  731266.943345  44.157897 -105.356562  1398.51  1400.52   \n",
       "1      2003.139571  731266.943346  44.150175 -105.358116  1387.11  1384.64   \n",
       "2      2003.139571  731266.943347  44.148632 -105.358427  1392.83  1383.49   \n",
       "3      2003.139571  731266.943347  44.147087 -105.358738  1384.24  1382.85   \n",
       "4      2003.139571  731266.943347  44.145542 -105.359048  1369.21  1380.24   \n",
       "...            ...            ...        ...         ...      ...      ...   \n",
       "65231  2009.775995  733691.238340  37.896222 -117.044399  1556.16  1556.43   \n",
       "65232  2009.775995  733691.238340  37.897769 -117.044675  1556.02  1556.43   \n",
       "65233  2009.775995  733691.238340  37.899319 -117.044952  1556.19  1556.44   \n",
       "65234  2009.775995  733691.238340  37.900869 -117.045230  1556.18  1556.44   \n",
       "65235  2009.775995  733691.238341  37.902420 -117.045508  1556.32  1556.44   \n",
       "\n",
       "       dem_z_std  lulc  \n",
       "0           0.33    31  \n",
       "1           0.43    31  \n",
       "2           0.28    31  \n",
       "3           0.84    31  \n",
       "4           1.73    31  \n",
       "...          ...   ...  \n",
       "65231       0.00    31  \n",
       "65232       0.00    31  \n",
       "65233       0.00    31  \n",
       "65234       0.00    31  \n",
       "65235       0.00    31  \n",
       "\n",
       "[65236 rows x 8 columns]"
      ]
     },
     "execution_count": 89,
     "metadata": {},
     "output_type": "execute_result"
    }
   ],
   "source": [
    "# Store output as a new Pandas DataFrame\n",
    "glas_df = pd.read_csv(csv_fn)\n",
    "glas_df"
   ]
  },
  {
   "cell_type": "code",
   "execution_count": 90,
   "metadata": {},
   "outputs": [
    {
     "data": {
      "text/plain": [
       "pandas.core.frame.DataFrame"
      ]
     },
     "execution_count": 90,
     "metadata": {},
     "output_type": "execute_result"
    }
   ],
   "source": [
    "type(glas_df)"
   ]
  },
  {
   "cell_type": "code",
   "execution_count": 91,
   "metadata": {},
   "outputs": [
    {
     "data": {
      "text/html": [
       "<div>\n",
       "<style scoped>\n",
       "    .dataframe tbody tr th:only-of-type {\n",
       "        vertical-align: middle;\n",
       "    }\n",
       "\n",
       "    .dataframe tbody tr th {\n",
       "        vertical-align: top;\n",
       "    }\n",
       "\n",
       "    .dataframe thead th {\n",
       "        text-align: right;\n",
       "    }\n",
       "</style>\n",
       "<table border=\"1\" class=\"dataframe\">\n",
       "  <thead>\n",
       "    <tr style=\"text-align: right;\">\n",
       "      <th></th>\n",
       "      <th>decyear</th>\n",
       "      <th>ordinal</th>\n",
       "      <th>lat</th>\n",
       "      <th>lon</th>\n",
       "      <th>glas_z</th>\n",
       "      <th>dem_z</th>\n",
       "      <th>dem_z_std</th>\n",
       "      <th>lulc</th>\n",
       "    </tr>\n",
       "  </thead>\n",
       "  <tbody>\n",
       "    <tr>\n",
       "      <th>1</th>\n",
       "      <td>2003.139571</td>\n",
       "      <td>731266.943345</td>\n",
       "      <td>44.157897</td>\n",
       "      <td>-105.356562</td>\n",
       "      <td>1398.51</td>\n",
       "      <td>1400.52</td>\n",
       "      <td>0.33</td>\n",
       "      <td>31</td>\n",
       "    </tr>\n",
       "    <tr>\n",
       "      <th>11</th>\n",
       "      <td>2003.139571</td>\n",
       "      <td>731266.943346</td>\n",
       "      <td>44.150175</td>\n",
       "      <td>-105.358116</td>\n",
       "      <td>1387.11</td>\n",
       "      <td>1384.64</td>\n",
       "      <td>0.43</td>\n",
       "      <td>31</td>\n",
       "    </tr>\n",
       "    <tr>\n",
       "      <th>21</th>\n",
       "      <td>2003.139571</td>\n",
       "      <td>731266.943347</td>\n",
       "      <td>44.148632</td>\n",
       "      <td>-105.358427</td>\n",
       "      <td>1392.83</td>\n",
       "      <td>1383.49</td>\n",
       "      <td>0.28</td>\n",
       "      <td>31</td>\n",
       "    </tr>\n",
       "    <tr>\n",
       "      <th>31</th>\n",
       "      <td>2003.139571</td>\n",
       "      <td>731266.943347</td>\n",
       "      <td>44.147087</td>\n",
       "      <td>-105.358738</td>\n",
       "      <td>1384.24</td>\n",
       "      <td>1382.85</td>\n",
       "      <td>0.84</td>\n",
       "      <td>31</td>\n",
       "    </tr>\n",
       "    <tr>\n",
       "      <th>41</th>\n",
       "      <td>2003.139571</td>\n",
       "      <td>731266.943347</td>\n",
       "      <td>44.145542</td>\n",
       "      <td>-105.359048</td>\n",
       "      <td>1369.21</td>\n",
       "      <td>1380.24</td>\n",
       "      <td>1.73</td>\n",
       "      <td>31</td>\n",
       "    </tr>\n",
       "    <tr>\n",
       "      <th>...</th>\n",
       "      <td>...</td>\n",
       "      <td>...</td>\n",
       "      <td>...</td>\n",
       "      <td>...</td>\n",
       "      <td>...</td>\n",
       "      <td>...</td>\n",
       "      <td>...</td>\n",
       "      <td>...</td>\n",
       "    </tr>\n",
       "    <tr>\n",
       "      <th>652311</th>\n",
       "      <td>2009.775995</td>\n",
       "      <td>733691.238340</td>\n",
       "      <td>37.896222</td>\n",
       "      <td>-117.044399</td>\n",
       "      <td>1556.16</td>\n",
       "      <td>1556.43</td>\n",
       "      <td>0.00</td>\n",
       "      <td>31</td>\n",
       "    </tr>\n",
       "    <tr>\n",
       "      <th>652321</th>\n",
       "      <td>2009.775995</td>\n",
       "      <td>733691.238340</td>\n",
       "      <td>37.897769</td>\n",
       "      <td>-117.044675</td>\n",
       "      <td>1556.02</td>\n",
       "      <td>1556.43</td>\n",
       "      <td>0.00</td>\n",
       "      <td>31</td>\n",
       "    </tr>\n",
       "    <tr>\n",
       "      <th>652331</th>\n",
       "      <td>2009.775995</td>\n",
       "      <td>733691.238340</td>\n",
       "      <td>37.899319</td>\n",
       "      <td>-117.044952</td>\n",
       "      <td>1556.19</td>\n",
       "      <td>1556.44</td>\n",
       "      <td>0.00</td>\n",
       "      <td>31</td>\n",
       "    </tr>\n",
       "    <tr>\n",
       "      <th>652341</th>\n",
       "      <td>2009.775995</td>\n",
       "      <td>733691.238340</td>\n",
       "      <td>37.900869</td>\n",
       "      <td>-117.045230</td>\n",
       "      <td>1556.18</td>\n",
       "      <td>1556.44</td>\n",
       "      <td>0.00</td>\n",
       "      <td>31</td>\n",
       "    </tr>\n",
       "    <tr>\n",
       "      <th>652351</th>\n",
       "      <td>2009.775995</td>\n",
       "      <td>733691.238341</td>\n",
       "      <td>37.902420</td>\n",
       "      <td>-117.045508</td>\n",
       "      <td>1556.32</td>\n",
       "      <td>1556.44</td>\n",
       "      <td>0.00</td>\n",
       "      <td>31</td>\n",
       "    </tr>\n",
       "  </tbody>\n",
       "</table>\n",
       "<p>65236 rows × 8 columns</p>\n",
       "</div>"
      ],
      "text/plain": [
       "            decyear        ordinal        lat         lon   glas_z    dem_z  \\\n",
       "1       2003.139571  731266.943345  44.157897 -105.356562  1398.51  1400.52   \n",
       "11      2003.139571  731266.943346  44.150175 -105.358116  1387.11  1384.64   \n",
       "21      2003.139571  731266.943347  44.148632 -105.358427  1392.83  1383.49   \n",
       "31      2003.139571  731266.943347  44.147087 -105.358738  1384.24  1382.85   \n",
       "41      2003.139571  731266.943347  44.145542 -105.359048  1369.21  1380.24   \n",
       "...             ...            ...        ...         ...      ...      ...   \n",
       "652311  2009.775995  733691.238340  37.896222 -117.044399  1556.16  1556.43   \n",
       "652321  2009.775995  733691.238340  37.897769 -117.044675  1556.02  1556.43   \n",
       "652331  2009.775995  733691.238340  37.899319 -117.044952  1556.19  1556.44   \n",
       "652341  2009.775995  733691.238340  37.900869 -117.045230  1556.18  1556.44   \n",
       "652351  2009.775995  733691.238341  37.902420 -117.045508  1556.32  1556.44   \n",
       "\n",
       "        dem_z_std  lulc  \n",
       "1            0.33    31  \n",
       "11           0.43    31  \n",
       "21           0.28    31  \n",
       "31           0.84    31  \n",
       "41           1.73    31  \n",
       "...           ...   ...  \n",
       "652311       0.00    31  \n",
       "652321       0.00    31  \n",
       "652331       0.00    31  \n",
       "652341       0.00    31  \n",
       "652351       0.00    31  \n",
       "\n",
       "[65236 rows x 8 columns]"
      ]
     },
     "execution_count": 91,
     "metadata": {},
     "output_type": "execute_result"
    }
   ],
   "source": [
    "# For demonstration purpuoses - multiply index to illustrate difference between loc and iloc\n",
    "glas_df.set_index(glas_df.index*10+1, inplace=True)\n",
    "glas_df"
   ]
  },
  {
   "cell_type": "code",
   "execution_count": 92,
   "metadata": {},
   "outputs": [
    {
     "data": {
      "text/html": [
       "<div>\n",
       "<style scoped>\n",
       "    .dataframe tbody tr th:only-of-type {\n",
       "        vertical-align: middle;\n",
       "    }\n",
       "\n",
       "    .dataframe tbody tr th {\n",
       "        vertical-align: top;\n",
       "    }\n",
       "\n",
       "    .dataframe thead th {\n",
       "        text-align: right;\n",
       "    }\n",
       "</style>\n",
       "<table border=\"1\" class=\"dataframe\">\n",
       "  <thead>\n",
       "    <tr style=\"text-align: right;\">\n",
       "      <th></th>\n",
       "      <th>decyear</th>\n",
       "      <th>ordinal</th>\n",
       "      <th>lat</th>\n",
       "      <th>lon</th>\n",
       "      <th>glas_z</th>\n",
       "      <th>dem_z</th>\n",
       "      <th>dem_z_std</th>\n",
       "      <th>lulc</th>\n",
       "    </tr>\n",
       "  </thead>\n",
       "  <tbody>\n",
       "    <tr>\n",
       "      <th>count</th>\n",
       "      <td>65236.000000</td>\n",
       "      <td>65236.000000</td>\n",
       "      <td>65236.000000</td>\n",
       "      <td>65236.000000</td>\n",
       "      <td>65236.000000</td>\n",
       "      <td>65236.000000</td>\n",
       "      <td>65236.000000</td>\n",
       "      <td>65236.000000</td>\n",
       "    </tr>\n",
       "    <tr>\n",
       "      <th>mean</th>\n",
       "      <td>2005.945322</td>\n",
       "      <td>732291.890372</td>\n",
       "      <td>40.946798</td>\n",
       "      <td>-115.040612</td>\n",
       "      <td>1791.494167</td>\n",
       "      <td>1792.260964</td>\n",
       "      <td>5.504748</td>\n",
       "      <td>30.339444</td>\n",
       "    </tr>\n",
       "    <tr>\n",
       "      <th>std</th>\n",
       "      <td>1.729573</td>\n",
       "      <td>631.766682</td>\n",
       "      <td>3.590476</td>\n",
       "      <td>5.465065</td>\n",
       "      <td>1037.183482</td>\n",
       "      <td>1037.925371</td>\n",
       "      <td>7.518558</td>\n",
       "      <td>3.480576</td>\n",
       "    </tr>\n",
       "    <tr>\n",
       "      <th>min</th>\n",
       "      <td>2003.139571</td>\n",
       "      <td>731266.943345</td>\n",
       "      <td>34.999455</td>\n",
       "      <td>-124.482406</td>\n",
       "      <td>-115.550000</td>\n",
       "      <td>-114.570000</td>\n",
       "      <td>0.000000</td>\n",
       "      <td>12.000000</td>\n",
       "    </tr>\n",
       "    <tr>\n",
       "      <th>25%</th>\n",
       "      <td>2004.444817</td>\n",
       "      <td>731743.803182</td>\n",
       "      <td>38.101451</td>\n",
       "      <td>-119.257599</td>\n",
       "      <td>1166.970000</td>\n",
       "      <td>1168.240000</td>\n",
       "      <td>0.070000</td>\n",
       "      <td>31.000000</td>\n",
       "    </tr>\n",
       "    <tr>\n",
       "      <th>50%</th>\n",
       "      <td>2005.846896</td>\n",
       "      <td>732256.116938</td>\n",
       "      <td>39.884541</td>\n",
       "      <td>-115.686241</td>\n",
       "      <td>1555.730000</td>\n",
       "      <td>1556.380000</td>\n",
       "      <td>1.350000</td>\n",
       "      <td>31.000000</td>\n",
       "    </tr>\n",
       "    <tr>\n",
       "      <th>75%</th>\n",
       "      <td>2007.223249</td>\n",
       "      <td>732758.486046</td>\n",
       "      <td>43.453565</td>\n",
       "      <td>-109.816475</td>\n",
       "      <td>2399.355000</td>\n",
       "      <td>2400.072500</td>\n",
       "      <td>9.530000</td>\n",
       "      <td>31.000000</td>\n",
       "    </tr>\n",
       "    <tr>\n",
       "      <th>max</th>\n",
       "      <td>2009.775995</td>\n",
       "      <td>733691.238341</td>\n",
       "      <td>48.999727</td>\n",
       "      <td>-104.052336</td>\n",
       "      <td>4340.310000</td>\n",
       "      <td>4252.940000</td>\n",
       "      <td>49.900000</td>\n",
       "      <td>31.000000</td>\n",
       "    </tr>\n",
       "  </tbody>\n",
       "</table>\n",
       "</div>"
      ],
      "text/plain": [
       "            decyear        ordinal           lat           lon        glas_z  \\\n",
       "count  65236.000000   65236.000000  65236.000000  65236.000000  65236.000000   \n",
       "mean    2005.945322  732291.890372     40.946798   -115.040612   1791.494167   \n",
       "std        1.729573     631.766682      3.590476      5.465065   1037.183482   \n",
       "min     2003.139571  731266.943345     34.999455   -124.482406   -115.550000   \n",
       "25%     2004.444817  731743.803182     38.101451   -119.257599   1166.970000   \n",
       "50%     2005.846896  732256.116938     39.884541   -115.686241   1555.730000   \n",
       "75%     2007.223249  732758.486046     43.453565   -109.816475   2399.355000   \n",
       "max     2009.775995  733691.238341     48.999727   -104.052336   4340.310000   \n",
       "\n",
       "              dem_z     dem_z_std          lulc  \n",
       "count  65236.000000  65236.000000  65236.000000  \n",
       "mean    1792.260964      5.504748     30.339444  \n",
       "std     1037.925371      7.518558      3.480576  \n",
       "min     -114.570000      0.000000     12.000000  \n",
       "25%     1168.240000      0.070000     31.000000  \n",
       "50%     1556.380000      1.350000     31.000000  \n",
       "75%     2400.072500      9.530000     31.000000  \n",
       "max     4252.940000     49.900000     31.000000  "
      ]
     },
     "execution_count": 92,
     "metadata": {},
     "output_type": "execute_result"
    }
   ],
   "source": [
    "# Awesome descriptive statistics for each column\n",
    "glas_df.describe()"
   ]
  },
  {
   "cell_type": "markdown",
   "metadata": {},
   "source": [
    "### Indexing and selecting\n",
    "* https://pandas.pydata.org/pandas-docs/stable/user_guide/indexing.html#different-choices-for-indexing"
   ]
  },
  {
   "cell_type": "code",
   "execution_count": 93,
   "metadata": {},
   "outputs": [
    {
     "data": {
      "text/plain": [
       "decyear        2003.139571\n",
       "ordinal      731266.943347\n",
       "lat              44.148632\n",
       "lon            -105.358427\n",
       "glas_z         1392.830000\n",
       "dem_z          1383.490000\n",
       "dem_z_std         0.280000\n",
       "lulc             31.000000\n",
       "Name: 21, dtype: float64"
      ]
     },
     "execution_count": 93,
     "metadata": {},
     "output_type": "execute_result"
    }
   ],
   "source": [
    "# Integer indexing like NumPy\n",
    "glas_df.iloc[2]"
   ]
  },
  {
   "cell_type": "code",
   "execution_count": 94,
   "metadata": {},
   "outputs": [
    {
     "data": {
      "text/html": [
       "<div>\n",
       "<style scoped>\n",
       "    .dataframe tbody tr th:only-of-type {\n",
       "        vertical-align: middle;\n",
       "    }\n",
       "\n",
       "    .dataframe tbody tr th {\n",
       "        vertical-align: top;\n",
       "    }\n",
       "\n",
       "    .dataframe thead th {\n",
       "        text-align: right;\n",
       "    }\n",
       "</style>\n",
       "<table border=\"1\" class=\"dataframe\">\n",
       "  <thead>\n",
       "    <tr style=\"text-align: right;\">\n",
       "      <th></th>\n",
       "      <th>decyear</th>\n",
       "      <th>ordinal</th>\n",
       "      <th>lat</th>\n",
       "      <th>lon</th>\n",
       "      <th>glas_z</th>\n",
       "      <th>dem_z</th>\n",
       "      <th>dem_z_std</th>\n",
       "      <th>lulc</th>\n",
       "    </tr>\n",
       "  </thead>\n",
       "  <tbody>\n",
       "    <tr>\n",
       "      <th>1</th>\n",
       "      <td>2003.139571</td>\n",
       "      <td>731266.943345</td>\n",
       "      <td>44.157897</td>\n",
       "      <td>-105.356562</td>\n",
       "      <td>1398.51</td>\n",
       "      <td>1400.52</td>\n",
       "      <td>0.33</td>\n",
       "      <td>31</td>\n",
       "    </tr>\n",
       "    <tr>\n",
       "      <th>11</th>\n",
       "      <td>2003.139571</td>\n",
       "      <td>731266.943346</td>\n",
       "      <td>44.150175</td>\n",
       "      <td>-105.358116</td>\n",
       "      <td>1387.11</td>\n",
       "      <td>1384.64</td>\n",
       "      <td>0.43</td>\n",
       "      <td>31</td>\n",
       "    </tr>\n",
       "    <tr>\n",
       "      <th>21</th>\n",
       "      <td>2003.139571</td>\n",
       "      <td>731266.943347</td>\n",
       "      <td>44.148632</td>\n",
       "      <td>-105.358427</td>\n",
       "      <td>1392.83</td>\n",
       "      <td>1383.49</td>\n",
       "      <td>0.28</td>\n",
       "      <td>31</td>\n",
       "    </tr>\n",
       "  </tbody>\n",
       "</table>\n",
       "</div>"
      ],
      "text/plain": [
       "        decyear        ordinal        lat         lon   glas_z    dem_z  \\\n",
       "1   2003.139571  731266.943345  44.157897 -105.356562  1398.51  1400.52   \n",
       "11  2003.139571  731266.943346  44.150175 -105.358116  1387.11  1384.64   \n",
       "21  2003.139571  731266.943347  44.148632 -105.358427  1392.83  1383.49   \n",
       "\n",
       "    dem_z_std  lulc  \n",
       "1        0.33    31  \n",
       "11       0.43    31  \n",
       "21       0.28    31  "
      ]
     },
     "execution_count": 94,
     "metadata": {},
     "output_type": "execute_result"
    }
   ],
   "source": [
    "glas_df.iloc[0:3]"
   ]
  },
  {
   "cell_type": "code",
   "execution_count": 95,
   "metadata": {},
   "outputs": [
    {
     "data": {
      "text/plain": [
       "decyear        2003.139571\n",
       "ordinal      731266.943347\n",
       "lat              44.148632\n",
       "lon            -105.358427\n",
       "glas_z         1392.830000\n",
       "dem_z          1383.490000\n",
       "dem_z_std         0.280000\n",
       "lulc             31.000000\n",
       "Name: 21, dtype: float64"
      ]
     },
     "execution_count": 95,
     "metadata": {},
     "output_type": "execute_result"
    }
   ],
   "source": [
    "glas_df.loc[21]"
   ]
  },
  {
   "cell_type": "code",
   "execution_count": 96,
   "metadata": {},
   "outputs": [
    {
     "data": {
      "text/html": [
       "<div>\n",
       "<style scoped>\n",
       "    .dataframe tbody tr th:only-of-type {\n",
       "        vertical-align: middle;\n",
       "    }\n",
       "\n",
       "    .dataframe tbody tr th {\n",
       "        vertical-align: top;\n",
       "    }\n",
       "\n",
       "    .dataframe thead th {\n",
       "        text-align: right;\n",
       "    }\n",
       "</style>\n",
       "<table border=\"1\" class=\"dataframe\">\n",
       "  <thead>\n",
       "    <tr style=\"text-align: right;\">\n",
       "      <th></th>\n",
       "      <th>decyear</th>\n",
       "      <th>ordinal</th>\n",
       "      <th>lat</th>\n",
       "      <th>lon</th>\n",
       "      <th>glas_z</th>\n",
       "      <th>dem_z</th>\n",
       "      <th>dem_z_std</th>\n",
       "      <th>lulc</th>\n",
       "    </tr>\n",
       "  </thead>\n",
       "  <tbody>\n",
       "    <tr>\n",
       "      <th>1</th>\n",
       "      <td>2003.139571</td>\n",
       "      <td>731266.943345</td>\n",
       "      <td>44.157897</td>\n",
       "      <td>-105.356562</td>\n",
       "      <td>1398.51</td>\n",
       "      <td>1400.52</td>\n",
       "      <td>0.33</td>\n",
       "      <td>31</td>\n",
       "    </tr>\n",
       "    <tr>\n",
       "      <th>11</th>\n",
       "      <td>2003.139571</td>\n",
       "      <td>731266.943346</td>\n",
       "      <td>44.150175</td>\n",
       "      <td>-105.358116</td>\n",
       "      <td>1387.11</td>\n",
       "      <td>1384.64</td>\n",
       "      <td>0.43</td>\n",
       "      <td>31</td>\n",
       "    </tr>\n",
       "  </tbody>\n",
       "</table>\n",
       "</div>"
      ],
      "text/plain": [
       "        decyear        ordinal        lat         lon   glas_z    dem_z  \\\n",
       "1   2003.139571  731266.943345  44.157897 -105.356562  1398.51  1400.52   \n",
       "11  2003.139571  731266.943346  44.150175 -105.358116  1387.11  1384.64   \n",
       "\n",
       "    dem_z_std  lulc  \n",
       "1        0.33    31  \n",
       "11       0.43    31  "
      ]
     },
     "execution_count": 96,
     "metadata": {},
     "output_type": "execute_result"
    }
   ],
   "source": [
    "# Get labeled indices between 0 and 20\n",
    "glas_df.loc[0:20]"
   ]
  },
  {
   "cell_type": "code",
   "execution_count": 97,
   "metadata": {},
   "outputs": [
    {
     "data": {
      "text/html": [
       "<div>\n",
       "<style scoped>\n",
       "    .dataframe tbody tr th:only-of-type {\n",
       "        vertical-align: middle;\n",
       "    }\n",
       "\n",
       "    .dataframe tbody tr th {\n",
       "        vertical-align: top;\n",
       "    }\n",
       "\n",
       "    .dataframe thead th {\n",
       "        text-align: right;\n",
       "    }\n",
       "</style>\n",
       "<table border=\"1\" class=\"dataframe\">\n",
       "  <thead>\n",
       "    <tr style=\"text-align: right;\">\n",
       "      <th></th>\n",
       "      <th>decyear</th>\n",
       "      <th>ordinal</th>\n",
       "      <th>lat</th>\n",
       "      <th>lon</th>\n",
       "      <th>glas_z</th>\n",
       "      <th>dem_z</th>\n",
       "      <th>dem_z_std</th>\n",
       "      <th>lulc</th>\n",
       "    </tr>\n",
       "  </thead>\n",
       "  <tbody>\n",
       "    <tr>\n",
       "      <th>1</th>\n",
       "      <td>2003.139571</td>\n",
       "      <td>731266.943345</td>\n",
       "      <td>44.157897</td>\n",
       "      <td>-105.356562</td>\n",
       "      <td>1398.51</td>\n",
       "      <td>1400.52</td>\n",
       "      <td>0.33</td>\n",
       "      <td>31</td>\n",
       "    </tr>\n",
       "    <tr>\n",
       "      <th>11</th>\n",
       "      <td>2003.139571</td>\n",
       "      <td>731266.943346</td>\n",
       "      <td>44.150175</td>\n",
       "      <td>-105.358116</td>\n",
       "      <td>1387.11</td>\n",
       "      <td>1384.64</td>\n",
       "      <td>0.43</td>\n",
       "      <td>31</td>\n",
       "    </tr>\n",
       "    <tr>\n",
       "      <th>21</th>\n",
       "      <td>2003.139571</td>\n",
       "      <td>731266.943347</td>\n",
       "      <td>44.148632</td>\n",
       "      <td>-105.358427</td>\n",
       "      <td>1392.83</td>\n",
       "      <td>1383.49</td>\n",
       "      <td>0.28</td>\n",
       "      <td>31</td>\n",
       "    </tr>\n",
       "    <tr>\n",
       "      <th>31</th>\n",
       "      <td>2003.139571</td>\n",
       "      <td>731266.943347</td>\n",
       "      <td>44.147087</td>\n",
       "      <td>-105.358738</td>\n",
       "      <td>1384.24</td>\n",
       "      <td>1382.85</td>\n",
       "      <td>0.84</td>\n",
       "      <td>31</td>\n",
       "    </tr>\n",
       "    <tr>\n",
       "      <th>41</th>\n",
       "      <td>2003.139571</td>\n",
       "      <td>731266.943347</td>\n",
       "      <td>44.145542</td>\n",
       "      <td>-105.359048</td>\n",
       "      <td>1369.21</td>\n",
       "      <td>1380.24</td>\n",
       "      <td>1.73</td>\n",
       "      <td>31</td>\n",
       "    </tr>\n",
       "    <tr>\n",
       "      <th>51</th>\n",
       "      <td>2003.139571</td>\n",
       "      <td>731266.943347</td>\n",
       "      <td>44.143996</td>\n",
       "      <td>-105.359359</td>\n",
       "      <td>1366.60</td>\n",
       "      <td>1375.23</td>\n",
       "      <td>1.60</td>\n",
       "      <td>31</td>\n",
       "    </tr>\n",
       "    <tr>\n",
       "      <th>61</th>\n",
       "      <td>2003.139571</td>\n",
       "      <td>731266.943351</td>\n",
       "      <td>44.126969</td>\n",
       "      <td>-105.362876</td>\n",
       "      <td>1355.14</td>\n",
       "      <td>1379.38</td>\n",
       "      <td>2.17</td>\n",
       "      <td>31</td>\n",
       "    </tr>\n",
       "    <tr>\n",
       "      <th>71</th>\n",
       "      <td>2003.139571</td>\n",
       "      <td>731266.943360</td>\n",
       "      <td>44.074358</td>\n",
       "      <td>-105.373549</td>\n",
       "      <td>1369.53</td>\n",
       "      <td>1391.71</td>\n",
       "      <td>2.88</td>\n",
       "      <td>31</td>\n",
       "    </tr>\n",
       "    <tr>\n",
       "      <th>81</th>\n",
       "      <td>2003.139571</td>\n",
       "      <td>731266.943361</td>\n",
       "      <td>44.072806</td>\n",
       "      <td>-105.373864</td>\n",
       "      <td>1380.02</td>\n",
       "      <td>1387.79</td>\n",
       "      <td>0.45</td>\n",
       "      <td>31</td>\n",
       "    </tr>\n",
       "    <tr>\n",
       "      <th>91</th>\n",
       "      <td>2003.139571</td>\n",
       "      <td>731266.943361</td>\n",
       "      <td>44.071256</td>\n",
       "      <td>-105.374177</td>\n",
       "      <td>1391.47</td>\n",
       "      <td>1396.90</td>\n",
       "      <td>1.56</td>\n",
       "      <td>31</td>\n",
       "    </tr>\n",
       "    <tr>\n",
       "      <th>101</th>\n",
       "      <td>2003.139571</td>\n",
       "      <td>731266.943362</td>\n",
       "      <td>44.063515</td>\n",
       "      <td>-105.375712</td>\n",
       "      <td>1388.58</td>\n",
       "      <td>1408.54</td>\n",
       "      <td>0.24</td>\n",
       "      <td>31</td>\n",
       "    </tr>\n",
       "    <tr>\n",
       "      <th>111</th>\n",
       "      <td>2003.139571</td>\n",
       "      <td>731266.943363</td>\n",
       "      <td>44.061967</td>\n",
       "      <td>-105.376015</td>\n",
       "      <td>1372.55</td>\n",
       "      <td>1406.21</td>\n",
       "      <td>0.17</td>\n",
       "      <td>31</td>\n",
       "    </tr>\n",
       "    <tr>\n",
       "      <th>121</th>\n",
       "      <td>2003.139571</td>\n",
       "      <td>731266.943364</td>\n",
       "      <td>44.057328</td>\n",
       "      <td>-105.376934</td>\n",
       "      <td>1402.38</td>\n",
       "      <td>1406.23</td>\n",
       "      <td>0.33</td>\n",
       "      <td>31</td>\n",
       "    </tr>\n",
       "    <tr>\n",
       "      <th>131</th>\n",
       "      <td>2003.139571</td>\n",
       "      <td>731266.943364</td>\n",
       "      <td>44.055780</td>\n",
       "      <td>-105.377243</td>\n",
       "      <td>1401.82</td>\n",
       "      <td>1405.75</td>\n",
       "      <td>0.35</td>\n",
       "      <td>31</td>\n",
       "    </tr>\n",
       "    <tr>\n",
       "      <th>141</th>\n",
       "      <td>2003.139571</td>\n",
       "      <td>731266.943364</td>\n",
       "      <td>44.054231</td>\n",
       "      <td>-105.377553</td>\n",
       "      <td>1399.31</td>\n",
       "      <td>1406.05</td>\n",
       "      <td>0.68</td>\n",
       "      <td>31</td>\n",
       "    </tr>\n",
       "    <tr>\n",
       "      <th>151</th>\n",
       "      <td>2003.139571</td>\n",
       "      <td>731266.943366</td>\n",
       "      <td>44.046487</td>\n",
       "      <td>-105.379115</td>\n",
       "      <td>1394.22</td>\n",
       "      <td>1398.14</td>\n",
       "      <td>0.27</td>\n",
       "      <td>31</td>\n",
       "    </tr>\n",
       "    <tr>\n",
       "      <th>161</th>\n",
       "      <td>2003.139571</td>\n",
       "      <td>731266.943366</td>\n",
       "      <td>44.044941</td>\n",
       "      <td>-105.379430</td>\n",
       "      <td>1394.94</td>\n",
       "      <td>1400.58</td>\n",
       "      <td>0.17</td>\n",
       "      <td>31</td>\n",
       "    </tr>\n",
       "    <tr>\n",
       "      <th>171</th>\n",
       "      <td>2003.139571</td>\n",
       "      <td>731266.943367</td>\n",
       "      <td>44.041850</td>\n",
       "      <td>-105.380064</td>\n",
       "      <td>1386.00</td>\n",
       "      <td>1389.69</td>\n",
       "      <td>0.57</td>\n",
       "      <td>31</td>\n",
       "    </tr>\n",
       "    <tr>\n",
       "      <th>181</th>\n",
       "      <td>2003.139571</td>\n",
       "      <td>731266.943424</td>\n",
       "      <td>43.737000</td>\n",
       "      <td>-105.441568</td>\n",
       "      <td>1496.53</td>\n",
       "      <td>1498.16</td>\n",
       "      <td>1.52</td>\n",
       "      <td>31</td>\n",
       "    </tr>\n",
       "    <tr>\n",
       "      <th>191</th>\n",
       "      <td>2003.139571</td>\n",
       "      <td>731266.943429</td>\n",
       "      <td>43.706060</td>\n",
       "      <td>-105.447754</td>\n",
       "      <td>1459.99</td>\n",
       "      <td>1460.90</td>\n",
       "      <td>0.08</td>\n",
       "      <td>31</td>\n",
       "    </tr>\n",
       "  </tbody>\n",
       "</table>\n",
       "</div>"
      ],
      "text/plain": [
       "         decyear        ordinal        lat         lon   glas_z    dem_z  \\\n",
       "1    2003.139571  731266.943345  44.157897 -105.356562  1398.51  1400.52   \n",
       "11   2003.139571  731266.943346  44.150175 -105.358116  1387.11  1384.64   \n",
       "21   2003.139571  731266.943347  44.148632 -105.358427  1392.83  1383.49   \n",
       "31   2003.139571  731266.943347  44.147087 -105.358738  1384.24  1382.85   \n",
       "41   2003.139571  731266.943347  44.145542 -105.359048  1369.21  1380.24   \n",
       "51   2003.139571  731266.943347  44.143996 -105.359359  1366.60  1375.23   \n",
       "61   2003.139571  731266.943351  44.126969 -105.362876  1355.14  1379.38   \n",
       "71   2003.139571  731266.943360  44.074358 -105.373549  1369.53  1391.71   \n",
       "81   2003.139571  731266.943361  44.072806 -105.373864  1380.02  1387.79   \n",
       "91   2003.139571  731266.943361  44.071256 -105.374177  1391.47  1396.90   \n",
       "101  2003.139571  731266.943362  44.063515 -105.375712  1388.58  1408.54   \n",
       "111  2003.139571  731266.943363  44.061967 -105.376015  1372.55  1406.21   \n",
       "121  2003.139571  731266.943364  44.057328 -105.376934  1402.38  1406.23   \n",
       "131  2003.139571  731266.943364  44.055780 -105.377243  1401.82  1405.75   \n",
       "141  2003.139571  731266.943364  44.054231 -105.377553  1399.31  1406.05   \n",
       "151  2003.139571  731266.943366  44.046487 -105.379115  1394.22  1398.14   \n",
       "161  2003.139571  731266.943366  44.044941 -105.379430  1394.94  1400.58   \n",
       "171  2003.139571  731266.943367  44.041850 -105.380064  1386.00  1389.69   \n",
       "181  2003.139571  731266.943424  43.737000 -105.441568  1496.53  1498.16   \n",
       "191  2003.139571  731266.943429  43.706060 -105.447754  1459.99  1460.90   \n",
       "\n",
       "     dem_z_std  lulc  \n",
       "1         0.33    31  \n",
       "11        0.43    31  \n",
       "21        0.28    31  \n",
       "31        0.84    31  \n",
       "41        1.73    31  \n",
       "51        1.60    31  \n",
       "61        2.17    31  \n",
       "71        2.88    31  \n",
       "81        0.45    31  \n",
       "91        1.56    31  \n",
       "101       0.24    31  \n",
       "111       0.17    31  \n",
       "121       0.33    31  \n",
       "131       0.35    31  \n",
       "141       0.68    31  \n",
       "151       0.27    31  \n",
       "161       0.17    31  \n",
       "171       0.57    31  \n",
       "181       1.52    31  \n",
       "191       0.08    31  "
      ]
     },
     "execution_count": 97,
     "metadata": {},
     "output_type": "execute_result"
    }
   ],
   "source": [
    "# Get integer indices between 0 and 20\n",
    "glas_df.iloc[0:20]"
   ]
  },
  {
   "cell_type": "markdown",
   "metadata": {},
   "source": [
    "### Selecting columns"
   ]
  },
  {
   "cell_type": "code",
   "execution_count": 98,
   "metadata": {},
   "outputs": [
    {
     "data": {
      "text/plain": [
       "Index(['decyear', 'ordinal', 'lat', 'lon', 'glas_z', 'dem_z', 'dem_z_std',\n",
       "       'lulc'],\n",
       "      dtype='object')"
      ]
     },
     "execution_count": 98,
     "metadata": {},
     "output_type": "execute_result"
    }
   ],
   "source": [
    "glas_df.columns"
   ]
  },
  {
   "cell_type": "code",
   "execution_count": 99,
   "metadata": {},
   "outputs": [
    {
     "data": {
      "text/plain": [
       "1         1398.51\n",
       "11        1387.11\n",
       "21        1392.83\n",
       "31        1384.24\n",
       "41        1369.21\n",
       "           ...   \n",
       "652311    1556.16\n",
       "652321    1556.02\n",
       "652331    1556.19\n",
       "652341    1556.18\n",
       "652351    1556.32\n",
       "Name: glas_z, Length: 65236, dtype: float64"
      ]
     },
     "execution_count": 99,
     "metadata": {},
     "output_type": "execute_result"
    }
   ],
   "source": [
    "glas_df['glas_z']"
   ]
  },
  {
   "cell_type": "code",
   "execution_count": 100,
   "metadata": {},
   "outputs": [
    {
     "data": {
      "text/plain": [
       "1         1398.51\n",
       "11        1387.11\n",
       "21        1392.83\n",
       "31        1384.24\n",
       "41        1369.21\n",
       "           ...   \n",
       "652311    1556.16\n",
       "652321    1556.02\n",
       "652331    1556.19\n",
       "652341    1556.18\n",
       "652351    1556.32\n",
       "Name: glas_z, Length: 65236, dtype: float64"
      ]
     },
     "execution_count": 100,
     "metadata": {},
     "output_type": "execute_result"
    }
   ],
   "source": [
    "glas_df.glas_z"
   ]
  },
  {
   "cell_type": "code",
   "execution_count": 101,
   "metadata": {},
   "outputs": [
    {
     "data": {
      "text/plain": [
       "1         1398.51\n",
       "11        1387.11\n",
       "21        1392.83\n",
       "31        1384.24\n",
       "41        1369.21\n",
       "           ...   \n",
       "652311    1556.16\n",
       "652321    1556.02\n",
       "652331    1556.19\n",
       "652341    1556.18\n",
       "652351    1556.32\n",
       "Name: glas_z, Length: 65236, dtype: float64"
      ]
     },
     "execution_count": 101,
     "metadata": {},
     "output_type": "execute_result"
    }
   ],
   "source": [
    "glas_df.iloc[:,4]"
   ]
  },
  {
   "cell_type": "code",
   "execution_count": 102,
   "metadata": {},
   "outputs": [
    {
     "data": {
      "text/plain": [
       "1         1398.51\n",
       "11        1387.11\n",
       "21        1392.83\n",
       "31        1384.24\n",
       "41        1369.21\n",
       "           ...   \n",
       "652311    1556.16\n",
       "652321    1556.02\n",
       "652331    1556.19\n",
       "652341    1556.18\n",
       "652351    1556.32\n",
       "Name: glas_z, Length: 65236, dtype: float64"
      ]
     },
     "execution_count": 102,
     "metadata": {},
     "output_type": "execute_result"
    }
   ],
   "source": [
    "glas_df.loc[:,'glas_z']"
   ]
  },
  {
   "cell_type": "code",
   "execution_count": 103,
   "metadata": {},
   "outputs": [
    {
     "ename": "KeyError",
     "evalue": "('glas_z', 'dem_z')",
     "output_type": "error",
     "traceback": [
      "\u001b[0;31m---------------------------------------------------------------------------\u001b[0m",
      "\u001b[0;31mKeyError\u001b[0m                                  Traceback (most recent call last)",
      "File \u001b[0;32m~/sw/miniconda3/envs/gda/lib/python3.8/site-packages/pandas/core/indexes/base.py:3652\u001b[0m, in \u001b[0;36mIndex.get_loc\u001b[0;34m(self, key)\u001b[0m\n\u001b[1;32m   3651\u001b[0m \u001b[38;5;28;01mtry\u001b[39;00m:\n\u001b[0;32m-> 3652\u001b[0m     \u001b[38;5;28;01mreturn\u001b[39;00m \u001b[38;5;28;43mself\u001b[39;49m\u001b[38;5;241;43m.\u001b[39;49m\u001b[43m_engine\u001b[49m\u001b[38;5;241;43m.\u001b[39;49m\u001b[43mget_loc\u001b[49m\u001b[43m(\u001b[49m\u001b[43mcasted_key\u001b[49m\u001b[43m)\u001b[49m\n\u001b[1;32m   3653\u001b[0m \u001b[38;5;28;01mexcept\u001b[39;00m \u001b[38;5;167;01mKeyError\u001b[39;00m \u001b[38;5;28;01mas\u001b[39;00m err:\n",
      "File \u001b[0;32m~/sw/miniconda3/envs/gda/lib/python3.8/site-packages/pandas/_libs/index.pyx:147\u001b[0m, in \u001b[0;36mpandas._libs.index.IndexEngine.get_loc\u001b[0;34m()\u001b[0m\n",
      "File \u001b[0;32m~/sw/miniconda3/envs/gda/lib/python3.8/site-packages/pandas/_libs/index.pyx:176\u001b[0m, in \u001b[0;36mpandas._libs.index.IndexEngine.get_loc\u001b[0;34m()\u001b[0m\n",
      "File \u001b[0;32mpandas/_libs/hashtable_class_helper.pxi:7080\u001b[0m, in \u001b[0;36mpandas._libs.hashtable.PyObjectHashTable.get_item\u001b[0;34m()\u001b[0m\n",
      "File \u001b[0;32mpandas/_libs/hashtable_class_helper.pxi:7088\u001b[0m, in \u001b[0;36mpandas._libs.hashtable.PyObjectHashTable.get_item\u001b[0;34m()\u001b[0m\n",
      "\u001b[0;31mKeyError\u001b[0m: ('glas_z', 'dem_z')",
      "\nThe above exception was the direct cause of the following exception:\n",
      "\u001b[0;31mKeyError\u001b[0m                                  Traceback (most recent call last)",
      "Cell \u001b[0;32mIn[103], line 2\u001b[0m\n\u001b[1;32m      1\u001b[0m \u001b[38;5;66;03m#Multiple columns\u001b[39;00m\n\u001b[0;32m----> 2\u001b[0m \u001b[43mglas_df\u001b[49m\u001b[43m[\u001b[49m\u001b[38;5;124;43m'\u001b[39;49m\u001b[38;5;124;43mglas_z\u001b[39;49m\u001b[38;5;124;43m'\u001b[39;49m\u001b[43m,\u001b[49m\u001b[43m \u001b[49m\u001b[38;5;124;43m'\u001b[39;49m\u001b[38;5;124;43mdem_z\u001b[39;49m\u001b[38;5;124;43m'\u001b[39;49m\u001b[43m]\u001b[49m\n",
      "File \u001b[0;32m~/sw/miniconda3/envs/gda/lib/python3.8/site-packages/pandas/core/frame.py:3761\u001b[0m, in \u001b[0;36mDataFrame.__getitem__\u001b[0;34m(self, key)\u001b[0m\n\u001b[1;32m   3759\u001b[0m \u001b[38;5;28;01mif\u001b[39;00m \u001b[38;5;28mself\u001b[39m\u001b[38;5;241m.\u001b[39mcolumns\u001b[38;5;241m.\u001b[39mnlevels \u001b[38;5;241m>\u001b[39m \u001b[38;5;241m1\u001b[39m:\n\u001b[1;32m   3760\u001b[0m     \u001b[38;5;28;01mreturn\u001b[39;00m \u001b[38;5;28mself\u001b[39m\u001b[38;5;241m.\u001b[39m_getitem_multilevel(key)\n\u001b[0;32m-> 3761\u001b[0m indexer \u001b[38;5;241m=\u001b[39m \u001b[38;5;28;43mself\u001b[39;49m\u001b[38;5;241;43m.\u001b[39;49m\u001b[43mcolumns\u001b[49m\u001b[38;5;241;43m.\u001b[39;49m\u001b[43mget_loc\u001b[49m\u001b[43m(\u001b[49m\u001b[43mkey\u001b[49m\u001b[43m)\u001b[49m\n\u001b[1;32m   3762\u001b[0m \u001b[38;5;28;01mif\u001b[39;00m is_integer(indexer):\n\u001b[1;32m   3763\u001b[0m     indexer \u001b[38;5;241m=\u001b[39m [indexer]\n",
      "File \u001b[0;32m~/sw/miniconda3/envs/gda/lib/python3.8/site-packages/pandas/core/indexes/base.py:3654\u001b[0m, in \u001b[0;36mIndex.get_loc\u001b[0;34m(self, key)\u001b[0m\n\u001b[1;32m   3652\u001b[0m     \u001b[38;5;28;01mreturn\u001b[39;00m \u001b[38;5;28mself\u001b[39m\u001b[38;5;241m.\u001b[39m_engine\u001b[38;5;241m.\u001b[39mget_loc(casted_key)\n\u001b[1;32m   3653\u001b[0m \u001b[38;5;28;01mexcept\u001b[39;00m \u001b[38;5;167;01mKeyError\u001b[39;00m \u001b[38;5;28;01mas\u001b[39;00m err:\n\u001b[0;32m-> 3654\u001b[0m     \u001b[38;5;28;01mraise\u001b[39;00m \u001b[38;5;167;01mKeyError\u001b[39;00m(key) \u001b[38;5;28;01mfrom\u001b[39;00m \u001b[38;5;21;01merr\u001b[39;00m\n\u001b[1;32m   3655\u001b[0m \u001b[38;5;28;01mexcept\u001b[39;00m \u001b[38;5;167;01mTypeError\u001b[39;00m:\n\u001b[1;32m   3656\u001b[0m     \u001b[38;5;66;03m# If we have a listlike key, _check_indexing_error will raise\u001b[39;00m\n\u001b[1;32m   3657\u001b[0m     \u001b[38;5;66;03m#  InvalidIndexError. Otherwise we fall through and re-raise\u001b[39;00m\n\u001b[1;32m   3658\u001b[0m     \u001b[38;5;66;03m#  the TypeError.\u001b[39;00m\n\u001b[1;32m   3659\u001b[0m     \u001b[38;5;28mself\u001b[39m\u001b[38;5;241m.\u001b[39m_check_indexing_error(key)\n",
      "\u001b[0;31mKeyError\u001b[0m: ('glas_z', 'dem_z')"
     ]
    }
   ],
   "source": [
    "#Multiple columns\n",
    "glas_df['glas_z', 'dem_z']"
   ]
  },
  {
   "cell_type": "code",
   "execution_count": 104,
   "metadata": {},
   "outputs": [
    {
     "data": {
      "text/html": [
       "<div>\n",
       "<style scoped>\n",
       "    .dataframe tbody tr th:only-of-type {\n",
       "        vertical-align: middle;\n",
       "    }\n",
       "\n",
       "    .dataframe tbody tr th {\n",
       "        vertical-align: top;\n",
       "    }\n",
       "\n",
       "    .dataframe thead th {\n",
       "        text-align: right;\n",
       "    }\n",
       "</style>\n",
       "<table border=\"1\" class=\"dataframe\">\n",
       "  <thead>\n",
       "    <tr style=\"text-align: right;\">\n",
       "      <th></th>\n",
       "      <th>glas_z</th>\n",
       "      <th>dem_z</th>\n",
       "    </tr>\n",
       "  </thead>\n",
       "  <tbody>\n",
       "    <tr>\n",
       "      <th>1</th>\n",
       "      <td>1398.51</td>\n",
       "      <td>1400.52</td>\n",
       "    </tr>\n",
       "    <tr>\n",
       "      <th>11</th>\n",
       "      <td>1387.11</td>\n",
       "      <td>1384.64</td>\n",
       "    </tr>\n",
       "    <tr>\n",
       "      <th>21</th>\n",
       "      <td>1392.83</td>\n",
       "      <td>1383.49</td>\n",
       "    </tr>\n",
       "    <tr>\n",
       "      <th>31</th>\n",
       "      <td>1384.24</td>\n",
       "      <td>1382.85</td>\n",
       "    </tr>\n",
       "    <tr>\n",
       "      <th>41</th>\n",
       "      <td>1369.21</td>\n",
       "      <td>1380.24</td>\n",
       "    </tr>\n",
       "    <tr>\n",
       "      <th>...</th>\n",
       "      <td>...</td>\n",
       "      <td>...</td>\n",
       "    </tr>\n",
       "    <tr>\n",
       "      <th>652311</th>\n",
       "      <td>1556.16</td>\n",
       "      <td>1556.43</td>\n",
       "    </tr>\n",
       "    <tr>\n",
       "      <th>652321</th>\n",
       "      <td>1556.02</td>\n",
       "      <td>1556.43</td>\n",
       "    </tr>\n",
       "    <tr>\n",
       "      <th>652331</th>\n",
       "      <td>1556.19</td>\n",
       "      <td>1556.44</td>\n",
       "    </tr>\n",
       "    <tr>\n",
       "      <th>652341</th>\n",
       "      <td>1556.18</td>\n",
       "      <td>1556.44</td>\n",
       "    </tr>\n",
       "    <tr>\n",
       "      <th>652351</th>\n",
       "      <td>1556.32</td>\n",
       "      <td>1556.44</td>\n",
       "    </tr>\n",
       "  </tbody>\n",
       "</table>\n",
       "<p>65236 rows × 2 columns</p>\n",
       "</div>"
      ],
      "text/plain": [
       "         glas_z    dem_z\n",
       "1       1398.51  1400.52\n",
       "11      1387.11  1384.64\n",
       "21      1392.83  1383.49\n",
       "31      1384.24  1382.85\n",
       "41      1369.21  1380.24\n",
       "...         ...      ...\n",
       "652311  1556.16  1556.43\n",
       "652321  1556.02  1556.43\n",
       "652331  1556.19  1556.44\n",
       "652341  1556.18  1556.44\n",
       "652351  1556.32  1556.44\n",
       "\n",
       "[65236 rows x 2 columns]"
      ]
     },
     "execution_count": 104,
     "metadata": {},
     "output_type": "execute_result"
    }
   ],
   "source": [
    "# Need to pass in a list of column names\n",
    "glas_df[['glas_z', 'dem_z']]"
   ]
  },
  {
   "cell_type": "code",
   "execution_count": 105,
   "metadata": {},
   "outputs": [
    {
     "data": {
      "text/html": [
       "<div>\n",
       "<style scoped>\n",
       "    .dataframe tbody tr th:only-of-type {\n",
       "        vertical-align: middle;\n",
       "    }\n",
       "\n",
       "    .dataframe tbody tr th {\n",
       "        vertical-align: top;\n",
       "    }\n",
       "\n",
       "    .dataframe thead th {\n",
       "        text-align: right;\n",
       "    }\n",
       "</style>\n",
       "<table border=\"1\" class=\"dataframe\">\n",
       "  <thead>\n",
       "    <tr style=\"text-align: right;\">\n",
       "      <th></th>\n",
       "      <th>glas_z</th>\n",
       "      <th>dem_z</th>\n",
       "    </tr>\n",
       "  </thead>\n",
       "  <tbody>\n",
       "    <tr>\n",
       "      <th>1</th>\n",
       "      <td>1398.51</td>\n",
       "      <td>1400.52</td>\n",
       "    </tr>\n",
       "    <tr>\n",
       "      <th>11</th>\n",
       "      <td>1387.11</td>\n",
       "      <td>1384.64</td>\n",
       "    </tr>\n",
       "    <tr>\n",
       "      <th>21</th>\n",
       "      <td>1392.83</td>\n",
       "      <td>1383.49</td>\n",
       "    </tr>\n",
       "    <tr>\n",
       "      <th>31</th>\n",
       "      <td>1384.24</td>\n",
       "      <td>1382.85</td>\n",
       "    </tr>\n",
       "    <tr>\n",
       "      <th>41</th>\n",
       "      <td>1369.21</td>\n",
       "      <td>1380.24</td>\n",
       "    </tr>\n",
       "    <tr>\n",
       "      <th>...</th>\n",
       "      <td>...</td>\n",
       "      <td>...</td>\n",
       "    </tr>\n",
       "    <tr>\n",
       "      <th>652311</th>\n",
       "      <td>1556.16</td>\n",
       "      <td>1556.43</td>\n",
       "    </tr>\n",
       "    <tr>\n",
       "      <th>652321</th>\n",
       "      <td>1556.02</td>\n",
       "      <td>1556.43</td>\n",
       "    </tr>\n",
       "    <tr>\n",
       "      <th>652331</th>\n",
       "      <td>1556.19</td>\n",
       "      <td>1556.44</td>\n",
       "    </tr>\n",
       "    <tr>\n",
       "      <th>652341</th>\n",
       "      <td>1556.18</td>\n",
       "      <td>1556.44</td>\n",
       "    </tr>\n",
       "    <tr>\n",
       "      <th>652351</th>\n",
       "      <td>1556.32</td>\n",
       "      <td>1556.44</td>\n",
       "    </tr>\n",
       "  </tbody>\n",
       "</table>\n",
       "<p>65236 rows × 2 columns</p>\n",
       "</div>"
      ],
      "text/plain": [
       "         glas_z    dem_z\n",
       "1       1398.51  1400.52\n",
       "11      1387.11  1384.64\n",
       "21      1392.83  1383.49\n",
       "31      1384.24  1382.85\n",
       "41      1369.21  1380.24\n",
       "...         ...      ...\n",
       "652311  1556.16  1556.43\n",
       "652321  1556.02  1556.43\n",
       "652331  1556.19  1556.44\n",
       "652341  1556.18  1556.44\n",
       "652351  1556.32  1556.44\n",
       "\n",
       "[65236 rows x 2 columns]"
      ]
     },
     "execution_count": 105,
     "metadata": {},
     "output_type": "execute_result"
    }
   ],
   "source": [
    "glas_df.loc[:,['glas_z', 'dem_z']]"
   ]
  },
  {
   "cell_type": "markdown",
   "metadata": {},
   "source": [
    "### Boolean indexing"
   ]
  },
  {
   "cell_type": "code",
   "execution_count": 106,
   "metadata": {},
   "outputs": [
    {
     "data": {
      "text/plain": [
       "1         31\n",
       "11        31\n",
       "21        31\n",
       "31        31\n",
       "41        31\n",
       "          ..\n",
       "652311    31\n",
       "652321    31\n",
       "652331    31\n",
       "652341    31\n",
       "652351    31\n",
       "Name: lulc, Length: 65236, dtype: int64"
      ]
     },
     "execution_count": 106,
     "metadata": {},
     "output_type": "execute_result"
    }
   ],
   "source": [
    "glas_df['lulc']"
   ]
  },
  {
   "cell_type": "code",
   "execution_count": 107,
   "metadata": {},
   "outputs": [
    {
     "data": {
      "text/plain": [
       "lulc\n",
       "31    62968\n",
       "12     2268\n",
       "Name: count, dtype: int64"
      ]
     },
     "execution_count": 107,
     "metadata": {},
     "output_type": "execute_result"
    }
   ],
   "source": [
    "glas_df['lulc'].value_counts()"
   ]
  },
  {
   "cell_type": "code",
   "execution_count": 108,
   "metadata": {},
   "outputs": [
    {
     "data": {
      "text/plain": [
       "1         False\n",
       "11        False\n",
       "21        False\n",
       "31        False\n",
       "41        False\n",
       "          ...  \n",
       "652311    False\n",
       "652321    False\n",
       "652331    False\n",
       "652341    False\n",
       "652351    False\n",
       "Name: lulc, Length: 65236, dtype: bool"
      ]
     },
     "execution_count": 108,
     "metadata": {},
     "output_type": "execute_result"
    }
   ],
   "source": [
    "glas_df['lulc'] == 12"
   ]
  },
  {
   "cell_type": "code",
   "execution_count": 109,
   "metadata": {},
   "outputs": [],
   "source": [
    "# Boolean Series (index and single column) will be True for records with 'lulc' == 12\n",
    "idx2 = glas_df['lulc'] == 12"
   ]
  },
  {
   "cell_type": "code",
   "execution_count": 110,
   "metadata": {},
   "outputs": [
    {
     "data": {
      "text/plain": [
       "pandas.core.series.Series"
      ]
     },
     "execution_count": 110,
     "metadata": {},
     "output_type": "execute_result"
    }
   ],
   "source": [
    "type(idx2)"
   ]
  },
  {
   "cell_type": "code",
   "execution_count": 111,
   "metadata": {},
   "outputs": [
    {
     "data": {
      "text/plain": [
       "(65236,)"
      ]
     },
     "execution_count": 111,
     "metadata": {},
     "output_type": "execute_result"
    }
   ],
   "source": [
    "idx2.shape"
   ]
  },
  {
   "cell_type": "code",
   "execution_count": 112,
   "metadata": {},
   "outputs": [
    {
     "data": {
      "text/plain": [
       "(65236, 8)"
      ]
     },
     "execution_count": 112,
     "metadata": {},
     "output_type": "execute_result"
    }
   ],
   "source": [
    "glas_df.shape"
   ]
  },
  {
   "cell_type": "code",
   "execution_count": 113,
   "metadata": {},
   "outputs": [
    {
     "data": {
      "text/html": [
       "<div>\n",
       "<style scoped>\n",
       "    .dataframe tbody tr th:only-of-type {\n",
       "        vertical-align: middle;\n",
       "    }\n",
       "\n",
       "    .dataframe tbody tr th {\n",
       "        vertical-align: top;\n",
       "    }\n",
       "\n",
       "    .dataframe thead th {\n",
       "        text-align: right;\n",
       "    }\n",
       "</style>\n",
       "<table border=\"1\" class=\"dataframe\">\n",
       "  <thead>\n",
       "    <tr style=\"text-align: right;\">\n",
       "      <th></th>\n",
       "      <th>decyear</th>\n",
       "      <th>ordinal</th>\n",
       "      <th>lat</th>\n",
       "      <th>lon</th>\n",
       "      <th>glas_z</th>\n",
       "      <th>dem_z</th>\n",
       "      <th>dem_z_std</th>\n",
       "      <th>lulc</th>\n",
       "    </tr>\n",
       "  </thead>\n",
       "  <tbody>\n",
       "    <tr>\n",
       "      <th>231</th>\n",
       "      <td>2003.139573</td>\n",
       "      <td>731266.944184</td>\n",
       "      <td>39.669291</td>\n",
       "      <td>-106.225142</td>\n",
       "      <td>3505.12</td>\n",
       "      <td>3508.25</td>\n",
       "      <td>5.74</td>\n",
       "      <td>12</td>\n",
       "    </tr>\n",
       "    <tr>\n",
       "      <th>301</th>\n",
       "      <td>2003.139573</td>\n",
       "      <td>731266.944316</td>\n",
       "      <td>38.961190</td>\n",
       "      <td>-106.355153</td>\n",
       "      <td>4046.47</td>\n",
       "      <td>4047.25</td>\n",
       "      <td>7.14</td>\n",
       "      <td>12</td>\n",
       "    </tr>\n",
       "    <tr>\n",
       "      <th>4891</th>\n",
       "      <td>2003.147846</td>\n",
       "      <td>731269.963718</td>\n",
       "      <td>48.587233</td>\n",
       "      <td>-113.484046</td>\n",
       "      <td>2135.76</td>\n",
       "      <td>2123.37</td>\n",
       "      <td>1.18</td>\n",
       "      <td>12</td>\n",
       "    </tr>\n",
       "    <tr>\n",
       "      <th>4921</th>\n",
       "      <td>2003.147846</td>\n",
       "      <td>731269.963811</td>\n",
       "      <td>48.091352</td>\n",
       "      <td>-113.595790</td>\n",
       "      <td>1632.52</td>\n",
       "      <td>1615.77</td>\n",
       "      <td>11.43</td>\n",
       "      <td>12</td>\n",
       "    </tr>\n",
       "    <tr>\n",
       "      <th>7561</th>\n",
       "      <td>2003.157366</td>\n",
       "      <td>731273.438572</td>\n",
       "      <td>43.897412</td>\n",
       "      <td>-114.457131</td>\n",
       "      <td>2886.39</td>\n",
       "      <td>2889.82</td>\n",
       "      <td>20.31</td>\n",
       "      <td>12</td>\n",
       "    </tr>\n",
       "    <tr>\n",
       "      <th>...</th>\n",
       "      <td>...</td>\n",
       "      <td>...</td>\n",
       "      <td>...</td>\n",
       "      <td>...</td>\n",
       "      <td>...</td>\n",
       "      <td>...</td>\n",
       "      <td>...</td>\n",
       "      <td>...</td>\n",
       "    </tr>\n",
       "    <tr>\n",
       "      <th>647241</th>\n",
       "      <td>2009.764964</td>\n",
       "      <td>733687.211708</td>\n",
       "      <td>40.689722</td>\n",
       "      <td>-105.918309</td>\n",
       "      <td>3267.33</td>\n",
       "      <td>3267.62</td>\n",
       "      <td>1.83</td>\n",
       "      <td>12</td>\n",
       "    </tr>\n",
       "    <tr>\n",
       "      <th>647251</th>\n",
       "      <td>2009.764964</td>\n",
       "      <td>733687.211709</td>\n",
       "      <td>40.694371</td>\n",
       "      <td>-105.919164</td>\n",
       "      <td>3235.77</td>\n",
       "      <td>3238.94</td>\n",
       "      <td>3.78</td>\n",
       "      <td>12</td>\n",
       "    </tr>\n",
       "    <tr>\n",
       "      <th>649831</th>\n",
       "      <td>2009.771998</td>\n",
       "      <td>733689.779258</td>\n",
       "      <td>47.910365</td>\n",
       "      <td>-123.628017</td>\n",
       "      <td>1671.86</td>\n",
       "      <td>1711.73</td>\n",
       "      <td>8.44</td>\n",
       "      <td>12</td>\n",
       "    </tr>\n",
       "    <tr>\n",
       "      <th>649841</th>\n",
       "      <td>2009.771998</td>\n",
       "      <td>733689.779258</td>\n",
       "      <td>47.908820</td>\n",
       "      <td>-123.628357</td>\n",
       "      <td>1737.70</td>\n",
       "      <td>1776.17</td>\n",
       "      <td>7.70</td>\n",
       "      <td>12</td>\n",
       "    </tr>\n",
       "    <tr>\n",
       "      <th>649851</th>\n",
       "      <td>2009.771998</td>\n",
       "      <td>733689.779258</td>\n",
       "      <td>47.907275</td>\n",
       "      <td>-123.628697</td>\n",
       "      <td>1782.52</td>\n",
       "      <td>1828.93</td>\n",
       "      <td>4.41</td>\n",
       "      <td>12</td>\n",
       "    </tr>\n",
       "  </tbody>\n",
       "</table>\n",
       "<p>2268 rows × 8 columns</p>\n",
       "</div>"
      ],
      "text/plain": [
       "            decyear        ordinal        lat         lon   glas_z    dem_z  \\\n",
       "231     2003.139573  731266.944184  39.669291 -106.225142  3505.12  3508.25   \n",
       "301     2003.139573  731266.944316  38.961190 -106.355153  4046.47  4047.25   \n",
       "4891    2003.147846  731269.963718  48.587233 -113.484046  2135.76  2123.37   \n",
       "4921    2003.147846  731269.963811  48.091352 -113.595790  1632.52  1615.77   \n",
       "7561    2003.157366  731273.438572  43.897412 -114.457131  2886.39  2889.82   \n",
       "...             ...            ...        ...         ...      ...      ...   \n",
       "647241  2009.764964  733687.211708  40.689722 -105.918309  3267.33  3267.62   \n",
       "647251  2009.764964  733687.211709  40.694371 -105.919164  3235.77  3238.94   \n",
       "649831  2009.771998  733689.779258  47.910365 -123.628017  1671.86  1711.73   \n",
       "649841  2009.771998  733689.779258  47.908820 -123.628357  1737.70  1776.17   \n",
       "649851  2009.771998  733689.779258  47.907275 -123.628697  1782.52  1828.93   \n",
       "\n",
       "        dem_z_std  lulc  \n",
       "231          5.74    12  \n",
       "301          7.14    12  \n",
       "4891         1.18    12  \n",
       "4921        11.43    12  \n",
       "7561        20.31    12  \n",
       "...           ...   ...  \n",
       "647241       1.83    12  \n",
       "647251       3.78    12  \n",
       "649831       8.44    12  \n",
       "649841       7.70    12  \n",
       "649851       4.41    12  \n",
       "\n",
       "[2268 rows x 8 columns]"
      ]
     },
     "execution_count": 113,
     "metadata": {},
     "output_type": "execute_result"
    }
   ],
   "source": [
    "# Use to select corresponding rows, returns a new DataFrame with all columns\n",
    "glas_df[idx2]"
   ]
  },
  {
   "cell_type": "code",
   "execution_count": 114,
   "metadata": {},
   "outputs": [
    {
     "data": {
      "text/plain": [
       "(2268, 8)"
      ]
     },
     "execution_count": 114,
     "metadata": {},
     "output_type": "execute_result"
    }
   ],
   "source": [
    "glas_df[idx2].shape"
   ]
  },
  {
   "cell_type": "code",
   "execution_count": 115,
   "metadata": {},
   "outputs": [
    {
     "data": {
      "text/plain": [
       "decyear        2006.008627\n",
       "ordinal      732315.035881\n",
       "lat              43.065223\n",
       "lon            -112.936499\n",
       "glas_z         2918.746261\n",
       "dem_z          2920.785754\n",
       "dem_z_std         9.719951\n",
       "lulc             12.000000\n",
       "dtype: float64"
      ]
     },
     "execution_count": 115,
     "metadata": {},
     "output_type": "execute_result"
    }
   ],
   "source": [
    "glas_df[idx2].mean()"
   ]
  },
  {
   "cell_type": "markdown",
   "metadata": {},
   "source": [
    "### Groupby\n",
    "* Let's consider statistics for groups of rows that share the same column attribute"
   ]
  },
  {
   "cell_type": "code",
   "execution_count": 116,
   "metadata": {},
   "outputs": [
    {
     "data": {
      "text/plain": [
       "<pandas.core.groupby.generic.DataFrameGroupBy object at 0x7f308da5a040>"
      ]
     },
     "execution_count": 116,
     "metadata": {},
     "output_type": "execute_result"
    }
   ],
   "source": [
    "glas_df.groupby('lulc')"
   ]
  },
  {
   "cell_type": "code",
   "execution_count": 117,
   "metadata": {},
   "outputs": [
    {
     "data": {
      "text/html": [
       "<div>\n",
       "<style scoped>\n",
       "    .dataframe tbody tr th:only-of-type {\n",
       "        vertical-align: middle;\n",
       "    }\n",
       "\n",
       "    .dataframe tbody tr th {\n",
       "        vertical-align: top;\n",
       "    }\n",
       "\n",
       "    .dataframe thead th {\n",
       "        text-align: right;\n",
       "    }\n",
       "</style>\n",
       "<table border=\"1\" class=\"dataframe\">\n",
       "  <thead>\n",
       "    <tr style=\"text-align: right;\">\n",
       "      <th></th>\n",
       "      <th>decyear</th>\n",
       "      <th>ordinal</th>\n",
       "      <th>lat</th>\n",
       "      <th>lon</th>\n",
       "      <th>glas_z</th>\n",
       "      <th>dem_z</th>\n",
       "      <th>dem_z_std</th>\n",
       "    </tr>\n",
       "    <tr>\n",
       "      <th>lulc</th>\n",
       "      <th></th>\n",
       "      <th></th>\n",
       "      <th></th>\n",
       "      <th></th>\n",
       "      <th></th>\n",
       "      <th></th>\n",
       "      <th></th>\n",
       "    </tr>\n",
       "  </thead>\n",
       "  <tbody>\n",
       "    <tr>\n",
       "      <th>12</th>\n",
       "      <td>2268</td>\n",
       "      <td>2268</td>\n",
       "      <td>2268</td>\n",
       "      <td>2268</td>\n",
       "      <td>2268</td>\n",
       "      <td>2268</td>\n",
       "      <td>2268</td>\n",
       "    </tr>\n",
       "    <tr>\n",
       "      <th>31</th>\n",
       "      <td>62968</td>\n",
       "      <td>62968</td>\n",
       "      <td>62968</td>\n",
       "      <td>62968</td>\n",
       "      <td>62968</td>\n",
       "      <td>62968</td>\n",
       "      <td>62968</td>\n",
       "    </tr>\n",
       "  </tbody>\n",
       "</table>\n",
       "</div>"
      ],
      "text/plain": [
       "      decyear  ordinal    lat    lon  glas_z  dem_z  dem_z_std\n",
       "lulc                                                          \n",
       "12       2268     2268   2268   2268    2268   2268       2268\n",
       "31      62968    62968  62968  62968   62968  62968      62968"
      ]
     },
     "execution_count": 117,
     "metadata": {},
     "output_type": "execute_result"
    }
   ],
   "source": [
    "glas_df.groupby('lulc').count()"
   ]
  },
  {
   "cell_type": "code",
   "execution_count": 118,
   "metadata": {},
   "outputs": [
    {
     "data": {
      "text/html": [
       "<div>\n",
       "<style scoped>\n",
       "    .dataframe tbody tr th:only-of-type {\n",
       "        vertical-align: middle;\n",
       "    }\n",
       "\n",
       "    .dataframe tbody tr th {\n",
       "        vertical-align: top;\n",
       "    }\n",
       "\n",
       "    .dataframe thead th {\n",
       "        text-align: right;\n",
       "    }\n",
       "</style>\n",
       "<table border=\"1\" class=\"dataframe\">\n",
       "  <thead>\n",
       "    <tr style=\"text-align: right;\">\n",
       "      <th></th>\n",
       "      <th>decyear</th>\n",
       "      <th>ordinal</th>\n",
       "      <th>lat</th>\n",
       "      <th>lon</th>\n",
       "      <th>glas_z</th>\n",
       "      <th>dem_z</th>\n",
       "      <th>dem_z_std</th>\n",
       "    </tr>\n",
       "    <tr>\n",
       "      <th>lulc</th>\n",
       "      <th></th>\n",
       "      <th></th>\n",
       "      <th></th>\n",
       "      <th></th>\n",
       "      <th></th>\n",
       "      <th></th>\n",
       "      <th></th>\n",
       "    </tr>\n",
       "  </thead>\n",
       "  <tbody>\n",
       "    <tr>\n",
       "      <th>12</th>\n",
       "      <td>2006.008627</td>\n",
       "      <td>732315.035881</td>\n",
       "      <td>43.065223</td>\n",
       "      <td>-112.936499</td>\n",
       "      <td>2918.746261</td>\n",
       "      <td>2920.785754</td>\n",
       "      <td>9.719951</td>\n",
       "    </tr>\n",
       "    <tr>\n",
       "      <th>31</th>\n",
       "      <td>2005.943042</td>\n",
       "      <td>732291.056710</td>\n",
       "      <td>40.870496</td>\n",
       "      <td>-115.116398</td>\n",
       "      <td>1750.892469</td>\n",
       "      <td>1751.613426</td>\n",
       "      <td>5.352924</td>\n",
       "    </tr>\n",
       "  </tbody>\n",
       "</table>\n",
       "</div>"
      ],
      "text/plain": [
       "          decyear        ordinal        lat         lon       glas_z  \\\n",
       "lulc                                                                   \n",
       "12    2006.008627  732315.035881  43.065223 -112.936499  2918.746261   \n",
       "31    2005.943042  732291.056710  40.870496 -115.116398  1750.892469   \n",
       "\n",
       "            dem_z  dem_z_std  \n",
       "lulc                          \n",
       "12    2920.785754   9.719951  \n",
       "31    1751.613426   5.352924  "
      ]
     },
     "execution_count": 118,
     "metadata": {},
     "output_type": "execute_result"
    }
   ],
   "source": [
    "glas_df.groupby('lulc').mean()"
   ]
  },
  {
   "cell_type": "code",
   "execution_count": 119,
   "metadata": {},
   "outputs": [
    {
     "data": {
      "text/html": [
       "<div>\n",
       "<style scoped>\n",
       "    .dataframe tbody tr th:only-of-type {\n",
       "        vertical-align: middle;\n",
       "    }\n",
       "\n",
       "    .dataframe tbody tr th {\n",
       "        vertical-align: top;\n",
       "    }\n",
       "\n",
       "    .dataframe thead tr th {\n",
       "        text-align: left;\n",
       "    }\n",
       "\n",
       "    .dataframe thead tr:last-of-type th {\n",
       "        text-align: right;\n",
       "    }\n",
       "</style>\n",
       "<table border=\"1\" class=\"dataframe\">\n",
       "  <thead>\n",
       "    <tr>\n",
       "      <th></th>\n",
       "      <th colspan=\"2\" halign=\"left\">decyear</th>\n",
       "      <th colspan=\"2\" halign=\"left\">ordinal</th>\n",
       "      <th colspan=\"2\" halign=\"left\">lat</th>\n",
       "      <th colspan=\"2\" halign=\"left\">lon</th>\n",
       "      <th colspan=\"2\" halign=\"left\">glas_z</th>\n",
       "      <th colspan=\"2\" halign=\"left\">dem_z</th>\n",
       "      <th colspan=\"2\" halign=\"left\">dem_z_std</th>\n",
       "    </tr>\n",
       "    <tr>\n",
       "      <th></th>\n",
       "      <th>mean</th>\n",
       "      <th>std</th>\n",
       "      <th>mean</th>\n",
       "      <th>std</th>\n",
       "      <th>mean</th>\n",
       "      <th>std</th>\n",
       "      <th>mean</th>\n",
       "      <th>std</th>\n",
       "      <th>mean</th>\n",
       "      <th>std</th>\n",
       "      <th>mean</th>\n",
       "      <th>std</th>\n",
       "      <th>mean</th>\n",
       "      <th>std</th>\n",
       "    </tr>\n",
       "    <tr>\n",
       "      <th>lulc</th>\n",
       "      <th></th>\n",
       "      <th></th>\n",
       "      <th></th>\n",
       "      <th></th>\n",
       "      <th></th>\n",
       "      <th></th>\n",
       "      <th></th>\n",
       "      <th></th>\n",
       "      <th></th>\n",
       "      <th></th>\n",
       "      <th></th>\n",
       "      <th></th>\n",
       "      <th></th>\n",
       "      <th></th>\n",
       "    </tr>\n",
       "  </thead>\n",
       "  <tbody>\n",
       "    <tr>\n",
       "      <th>12</th>\n",
       "      <td>2006.008627</td>\n",
       "      <td>1.498488</td>\n",
       "      <td>732315.035881</td>\n",
       "      <td>547.316709</td>\n",
       "      <td>43.065223</td>\n",
       "      <td>3.569772</td>\n",
       "      <td>-112.936499</td>\n",
       "      <td>7.610318</td>\n",
       "      <td>2918.746261</td>\n",
       "      <td>772.429857</td>\n",
       "      <td>2920.785754</td>\n",
       "      <td>769.897983</td>\n",
       "      <td>9.719951</td>\n",
       "      <td>5.805685</td>\n",
       "    </tr>\n",
       "    <tr>\n",
       "      <th>31</th>\n",
       "      <td>2005.943042</td>\n",
       "      <td>1.737290</td>\n",
       "      <td>732291.056710</td>\n",
       "      <td>634.586821</td>\n",
       "      <td>40.870496</td>\n",
       "      <td>3.567855</td>\n",
       "      <td>-115.116398</td>\n",
       "      <td>5.356521</td>\n",
       "      <td>1750.892469</td>\n",
       "      <td>1022.544938</td>\n",
       "      <td>1751.613426</td>\n",
       "      <td>1023.340882</td>\n",
       "      <td>5.352924</td>\n",
       "      <td>7.529161</td>\n",
       "    </tr>\n",
       "  </tbody>\n",
       "</table>\n",
       "</div>"
      ],
      "text/plain": [
       "          decyear                  ordinal                    lat            \\\n",
       "             mean       std           mean         std       mean       std   \n",
       "lulc                                                                          \n",
       "12    2006.008627  1.498488  732315.035881  547.316709  43.065223  3.569772   \n",
       "31    2005.943042  1.737290  732291.056710  634.586821  40.870496  3.567855   \n",
       "\n",
       "             lon                 glas_z                     dem_z  \\\n",
       "            mean       std         mean          std         mean   \n",
       "lulc                                                                \n",
       "12   -112.936499  7.610318  2918.746261   772.429857  2920.785754   \n",
       "31   -115.116398  5.356521  1750.892469  1022.544938  1751.613426   \n",
       "\n",
       "                  dem_z_std            \n",
       "              std      mean       std  \n",
       "lulc                                   \n",
       "12     769.897983  9.719951  5.805685  \n",
       "31    1023.340882  5.352924  7.529161  "
      ]
     },
     "execution_count": 119,
     "metadata": {},
     "output_type": "execute_result"
    }
   ],
   "source": [
    "glas_df.groupby('lulc').agg(['mean', 'std'])"
   ]
  }
 ],
 "metadata": {
  "kernelspec": {
   "display_name": "Python 3 (ipykernel)",
   "language": "python",
   "name": "python3"
  },
  "language_info": {
   "codemirror_mode": {
    "name": "ipython",
    "version": 3
   },
   "file_extension": ".py",
   "mimetype": "text/x-python",
   "name": "python",
   "nbconvert_exporter": "python",
   "pygments_lexer": "ipython3",
   "version": "3.8.16"
  }
 },
 "nbformat": 4,
 "nbformat_minor": 4
}
