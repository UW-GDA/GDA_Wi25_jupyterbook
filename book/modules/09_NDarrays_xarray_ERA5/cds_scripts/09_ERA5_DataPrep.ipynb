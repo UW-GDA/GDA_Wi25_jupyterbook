{
 "cells": [
  {
   "cell_type": "markdown",
   "id": "91d70b21-3d01-497f-a067-1ecb6ed03a65",
   "metadata": {},
   "source": [
    "# 09 ERA5 Pre-processing\n",
    "UW Geospatial Data Analysis  \n",
    "CEE467/CEWA567  \n",
    "David Shean  "
   ]
  },
  {
   "cell_type": "markdown",
   "id": "8f392a10-a9ec-4c83-92b0-2c6cdd66dbd6",
   "metadata": {},
   "source": [
    "## Install necessary packages to open GRIB files (default ERA5 format) with xarray\n",
    "\n",
    "https://github.com/ecmwf/cfgrib\n",
    "\n",
    "While you wait, open a terminal and inspect the contents of the era5 directory, and review this information\n",
    "* http://xarray.pydata.org/en/stable/io.html#grib-format-via-cfgrib"
   ]
  },
  {
   "cell_type": "code",
   "execution_count": null,
   "id": "03c78a26-a51f-44f2-9321-41a7cb9e7a02",
   "metadata": {
    "tags": []
   },
   "outputs": [],
   "source": [
    "!mamba install -y -c conda-forge cfgrib"
   ]
  },
  {
   "cell_type": "markdown",
   "id": "72fefeca-4510-4d97-ae97-a34afbacd043",
   "metadata": {},
   "source": [
    "* I downloaded some sample ERA5 datasets, created zip files, staged and shared on Google Drive (accessible to anyone with link)\n",
    "    * https://drive.google.com/open?id=1gomQR_lvhuww_xyR6wcUiziS12x1yCSx\n",
    "* We can use the `drivanon` convenience package to easily download anonymously without authentication"
   ]
  },
  {
   "cell_type": "code",
   "execution_count": null,
   "id": "4df2c490-77ea-459f-9030-fbbb0cc05fbb",
   "metadata": {},
   "outputs": [],
   "source": [
    "#Install directly from github repo main branch\n",
    "#%pip install git+https://github.com/friedrichknuth/driveanon.git"
   ]
  },
  {
   "cell_type": "code",
   "execution_count": null,
   "id": "7edd389c-ce4b-444d-aee1-101b86ddccf3",
   "metadata": {},
   "outputs": [],
   "source": [
    "#import driveanon as da"
   ]
  },
  {
   "cell_type": "code",
   "execution_count": null,
   "id": "496ae2c7-5268-4417-b714-20f6f8670c4c",
   "metadata": {},
   "outputs": [],
   "source": [
    "import zipfile"
   ]
  },
  {
   "cell_type": "code",
   "execution_count": null,
   "id": "c71d4353-64e2-4c86-8fe8-9bc0b1a591de",
   "metadata": {},
   "outputs": [],
   "source": [
    "outdir = 'era5_data'"
   ]
  },
  {
   "cell_type": "code",
   "execution_count": null,
   "id": "d9d01722-2377-4b89-95ad-ebbc2af77744",
   "metadata": {},
   "outputs": [],
   "source": [
    "if not os.path.exists(outdir):\n",
    "    os.makedirs(outdir)"
   ]
  },
  {
   "cell_type": "markdown",
   "id": "94adea35-cabc-460d-a03f-5019c9b058f1",
   "metadata": {
    "tags": []
   },
   "source": [
    "## Function to load and combine grib files into a single xarray DataSet\n",
    "* Also creates a new, compressed netcdf (nc) file to store the data for future use\n",
    "* See relevant doc on opening and writing files: http://xarray.pydata.org/en/stable/io.html"
   ]
  },
  {
   "cell_type": "code",
   "execution_count": null,
   "id": "69ca77fb-086c-4d86-aa66-c436be1cded3",
   "metadata": {},
   "outputs": [],
   "source": [
    "import os\n",
    "from glob import glob\n",
    "import xarray as xr"
   ]
  },
  {
   "cell_type": "code",
   "execution_count": null,
   "id": "17946eec-c37a-4f8a-b51f-524e3768b3da",
   "metadata": {},
   "outputs": [],
   "source": [
    "%cd $outdir"
   ]
  },
  {
   "cell_type": "code",
   "execution_count": null,
   "id": "f1b1ad0f-a060-4775-a010-65e936334c02",
   "metadata": {},
   "outputs": [],
   "source": [
    "#blob_id = '1Gwkg21LPKxvZsjwMrwVESGi2ZaVLQP58'\n",
    "#out_fn = f'{outdir}/ecv-for-climate-change_t2m_monthlymean.zip'\n",
    "zip_fn_list = ['ecv-for-climate-change_t2m_climatology.zip', \\\n",
    "               'ecv-for-climate-change_t2m_anomaly.zip', \\\n",
    "               'ecv-for-climate-change_t2m_monthlymean.zip']\n",
    "for zip_fn in zip_fn_list:\n",
    "    download(zip_fn)"
   ]
  },
  {
   "cell_type": "code",
   "execution_count": null,
   "id": "e70b6d4a-5c1d-4459-ba4b-dfeda98ae2d6",
   "metadata": {},
   "outputs": [],
   "source": [
    "datadir = os.path.splitext(out_fn)[0]"
   ]
  },
  {
   "cell_type": "code",
   "execution_count": null,
   "id": "5ad30c8f-9467-42a0-8122-4e2cd1c33e13",
   "metadata": {},
   "outputs": [],
   "source": [
    "%cd $datadir"
   ]
  },
  {
   "cell_type": "code",
   "execution_count": null,
   "id": "2913eb53-9aa0-4507-b5a5-f24deb559edb",
   "metadata": {},
   "outputs": [],
   "source": [
    "out_fn_list = ['climatology_0.25g_ea_2t.nc', \\\n",
    "               '1month_anomaly_Global_ea_2t.nc', \\\n",
    "               '1month_mean_Global_ea_2t.nc']"
   ]
  },
  {
   "cell_type": "code",
   "execution_count": null,
   "id": "1f7bfb7a-cd69-4274-b3b8-0f9da50796c7",
   "metadata": {},
   "outputs": [],
   "source": [
    "def zip2nc(zip_fn, v='2t', parallel=True, writeout=True, compress=False):\n",
    "    datadir = os.path.splitext(zip_fn)[0]\n",
    "    if not os.path.exists(datadir):\n",
    "        with zipfile.ZipFile(zip_fn, 'r') as zip_ref:\n",
    "            zip_ref.extractall(datadir)\n",
    "    #Get all grib filenames in the directory\n",
    "    paths = sorted(glob(os.path.join(datadir, '*.grib')))\n",
    "    out_fn = paths[0].split(v)[0]+f'{v}.nc'\n",
    "    print(out_fn)\n",
    "    if not os.path.exists(out_fn):\n",
    "        #Generate xarray dataset list, opening with cfgrib engine\n",
    "        print(f\"Opening {len(paths)} grib datasets\")\n",
    "        #if parallel:\n",
    "        combined = xr.open_mfdataset(paths, engine='cfgrib', combine=\"nested\", \\\n",
    "                                     concat_dim=\"time\", parallel=parallel)\n",
    "        #else:\n",
    "        #    datasets = [xr.open_dataset(p, engine='cfgrib') for p in paths]\n",
    "        #    #Concatenate all datasets along the time axis\n",
    "        #    print(\"Concatenating along time dimension\")\n",
    "        #    combined = xr.concat(datasets, dim='time')       \n",
    "        #Drop unnecessary coordinates\n",
    "        combined = combined.drop(['number', 'surface', 'step', 'valid_time'])\n",
    "        if writeout:\n",
    "            encoding = {}\n",
    "            if compress:\n",
    "                #Set up encoding parameters to use compression when writing netcdf file\n",
    "                comp = dict(zlib=True, complevel=9)\n",
    "                encoding = {var: comp for var in combined.data_vars}\n",
    "            #Write out\n",
    "            print(f\"Writing out: {out_fn}\")\n",
    "            combined.to_netcdf(out_fn, encoding=encoding)"
   ]
  },
  {
   "cell_type": "code",
   "execution_count": null,
   "id": "df6dd2cd-bcd0-400f-8eda-2b86293c3b65",
   "metadata": {},
   "outputs": [],
   "source": [
    "for zip_fn in zip_fn_list:\n",
    "    %time zip2nc(zip_fn)"
   ]
  },
  {
   "cell_type": "code",
   "execution_count": null,
   "id": "1e9c3520-2dbc-47df-996d-cb9f805428fe",
   "metadata": {},
   "outputs": [],
   "source": [
    "blob_id = '1nWjcjlqzkSqi-3u2vXt-5ya4VRSKS7v5'\n",
    "out_fn = f'{outdir}/era5_WA_1979-2021_6hr.zip'\n",
    "download_unzip(out_fn)"
   ]
  },
  {
   "cell_type": "code",
   "execution_count": null,
   "id": "f54d8f88-9273-48b6-9f0c-96c8e20a0e90",
   "metadata": {},
   "outputs": [],
   "source": [
    "datadir = os.path.splitext(out_fn)[0]"
   ]
  },
  {
   "cell_type": "code",
   "execution_count": null,
   "id": "1dac43cd-97b4-4d9c-8c1a-85d8396f91d3",
   "metadata": {},
   "outputs": [],
   "source": [
    "%cd $datadir"
   ]
  },
  {
   "cell_type": "code",
   "execution_count": null,
   "id": "abb17fa8-fa98-46a0-9211-a2e105d0b651",
   "metadata": {},
   "outputs": [],
   "source": [
    "fn_list = ['era5_WA_1979-2021_6hr_2m_temperature.nc', \\\n",
    "           'era5_WA_1979-2021_6hr_total_precipitation.nc', \n",
    "           'era5_WA_1979-2021_6hr_snow_depth.nc']"
   ]
  },
  {
   "cell_type": "code",
   "execution_count": null,
   "id": "5d6c5065-d8cb-410f-b9be-b34a181058ec",
   "metadata": {},
   "outputs": [],
   "source": [
    "fn_list = ['era5_data/WA_ERA5-Land_hourly_1950-2022_0000.nc', \\\n",
    "           'era5_data/WA_ERA5-Land_hourly_1950-2022_0600.nc', \\\n",
    "           'era5_data/WA_ERA5-Land_hourly_1950-2022_1200.nc', \\\n",
    "           'era5_data/WA_ERA5-Land_hourly_1950-2022_1800.nc']"
   ]
  },
  {
   "cell_type": "markdown",
   "id": "f5288f2c-2f53-40e7-8182-1611c8fdd99a",
   "metadata": {},
   "source": [
    "#### Use open_mfdataset to merge when opening\n",
    "* Could have used `open_dataset` on each nc, then combined\n",
    "* http://xarray.pydata.org/en/stable/generated/xarray.open_mfdataset.html\n",
    "* See more details on merge/combine in xarray: http://xarray.pydata.org/en/stable/combining.html"
   ]
  },
  {
   "cell_type": "code",
   "execution_count": null,
   "id": "c2cb80fe-b723-425b-a6a9-88750ed7d837",
   "metadata": {},
   "outputs": [],
   "source": [
    "test = xr.open_dataset(fn_list[0])"
   ]
  },
  {
   "cell_type": "code",
   "execution_count": null,
   "id": "685f107f-4aeb-4ca1-bf61-8d9b1151147d",
   "metadata": {},
   "outputs": [],
   "source": [
    "test"
   ]
  },
  {
   "cell_type": "code",
   "execution_count": null,
   "id": "25609c21-70c8-41bc-a30d-ec35180ed83b",
   "metadata": {},
   "outputs": [],
   "source": [
    "wa_merge = xr.open_mfdataset(fn_list,t_mean_ds"
   ]
  },
  {
   "cell_type": "code",
   "execution_count": null,
   "id": "e71540d5-9a5d-4785-b55a-f9e5303e195a",
   "metadata": {},
   "outputs": [],
   "source": [
    "merge_fn = os.path.join(outdir, 'WA_ERA5-Land_hourly_1950-2022_6hr.nc')"
   ]
  },
  {
   "cell_type": "code",
   "execution_count": null,
   "id": "0d4b4984-063a-4b07-b8a4-69d99b7e8897",
   "metadata": {},
   "outputs": [],
   "source": [
    "#Expensive time sort and save out to new netcdf\n",
    "wa_merge.sortby('time').to_netcdf(merge_fn)"
   ]
  }
 ],
 "metadata": {
  "kernelspec": {
   "display_name": "Python 3 (ipykernel)",
   "language": "python",
   "name": "python3"
  },
  "language_info": {
   "codemirror_mode": {
    "name": "ipython",
    "version": 3
   },
   "file_extension": ".py",
   "mimetype": "text/x-python",
   "name": "python",
   "nbconvert_exporter": "python",
   "pygments_lexer": "ipython3",
   "version": "3.9.7"
  }
 },
 "nbformat": 4,
 "nbformat_minor": 5
}
