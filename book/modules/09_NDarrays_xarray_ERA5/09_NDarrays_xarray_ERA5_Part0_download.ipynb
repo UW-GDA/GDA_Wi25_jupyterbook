{
 "cells": [
  {
   "cell_type": "markdown",
   "metadata": {},
   "source": [
    "# 09 Exercises 0: ERA5 Data Download\n",
    "\n",
    "UW Geospatial Data Analysis  \n",
    "CEE467/CEWA567  \n",
    "David Shean  "
   ]
  },
  {
   "cell_type": "markdown",
   "metadata": {},
   "source": [
    "## Climate reanalysis\n",
    "Nice introduction: https://climate.copernicus.eu/climate-reanalysis\n",
    ">\"Climate reanalyses combine past observations with models to generate consistent time series of multiple climate variables. Reanalyses are among the most-used datasets in the geophysical sciences. They provide a comprehensive description of the observed climate as it has evolved during recent decades, on 3D grids at sub-daily intervals. \"\n",
    "\n",
    "## ERA5\n",
    "\n",
    "ERA5 = \"ECMWF ReAnalysis 5\"  \n",
    "ECMWF = \"European Centre for Medium-Range Weather Forecasts\"\n",
    "\n",
    "https://www.ecmwf.int/en/forecasts/dataset/ecmwf-reanalysis-v5\n",
    "\n",
    "\"ERA5 provides hourly estimates of a large number of atmospheric, land and oceanic climate variables. The data cover the Earth on a 30km grid and resolve the atmosphere using 137 levels from the surface up to a height of 80km.\"\n",
    "\n",
    "\"ERA5 combines vast amounts of historical observations into global estimates using advanced modelling and data assimilation systems.\"\n",
    "\n",
    "### Variables\n",
    "Hundreds of output variables for each hourly timestep. See a list of all of the available variables:\n",
    "* https://apps.ecmwf.int/codes/grib/param-db\n",
    "\n",
    "### Resolution\n",
    "The ERA5 HRES (High Resolution) data have a native resolution of 0.28125 degrees (31km)\n",
    "* https://confluence.ecmwf.int/display/CKB/ERA5%3A+What+is+the+spatial+reference\n",
    "\n",
    "The ERA5-Land data have a native resolution of 9 km (~0.08°)\n",
    "* https://confluence.ecmwf.int/display/CKB/ERA5-Land%3A+data+documentation"
   ]
  },
  {
   "cell_type": "markdown",
   "metadata": {},
   "source": [
    "### How many grid cells are required to store one variable (like temperature) for full 72 year record at hourly resolution?"
   ]
  },
  {
   "cell_type": "code",
   "execution_count": null,
   "metadata": {},
   "outputs": [
    {
     "data": {
      "text/plain": [
       "142041600"
      ]
     },
     "execution_count": null,
     "metadata": {},
     "output_type": "execute_result"
    }
   ],
   "source": [
    "#Space\n",
    "s = 360*180*4*4*137\n",
    "s"
   ]
  },
  {
   "cell_type": "code",
   "execution_count": null,
   "metadata": {},
   "outputs": [
    {
     "data": {
      "text/plain": [
       "631152.0"
      ]
     },
     "execution_count": null,
     "metadata": {},
     "output_type": "execute_result"
    }
   ],
   "source": [
    "#Time\n",
    "t = 72*365.25*24\n",
    "t"
   ]
  },
  {
   "cell_type": "code",
   "execution_count": null,
   "metadata": {},
   "outputs": [
    {
     "data": {
      "text/plain": [
       "89649839923200.0"
      ]
     },
     "execution_count": null,
     "metadata": {},
     "output_type": "execute_result"
    }
   ],
   "source": [
    "s*t"
   ]
  },
  {
   "cell_type": "code",
   "execution_count": null,
   "metadata": {},
   "outputs": [
    {
     "data": {
      "text/plain": [
       "'8.964984e+13'"
      ]
     },
     "execution_count": null,
     "metadata": {},
     "output_type": "execute_result"
    }
   ],
   "source": [
    "f'{s*t:e}'"
   ]
  },
  {
   "cell_type": "markdown",
   "metadata": {
    "tags": []
   },
   "source": [
    "## Data Availability\n",
    "\n",
    "### From CDS (Climate Data Store)\n",
    "For future reference, you can access the ERA5 data directly!  The CDS API allows you to request subsets of ERA5 products for desired spatial extent, time periods, time intervals, etc.:\n",
    "* https://cds.climate.copernicus.eu/api-how-to\n",
    "* https://confluence.ecmwf.int/display/CKB/How+to+download+ERA5\n",
    "\n",
    "### Some commonly used products are also available on Amazon S3\n",
    "* https://registry.opendata.aws/ecmwf-era5/\n",
    "\n",
    "### Shortcut: download sample datasets\n",
    "We could submit requests directly from the CDS API, but you will need to create an account and use a unique API key. The server-side processing and download will require at least 5-40 minutes per dataset.\n",
    "\n",
    "For this lab, I submitted some requests to prepare sample ERA5 datasets. I then processed \n",
    "**Please run the `09_NDarrays_xarray_ERA5_Part0_download.ipynb` notebook to download and prepare these files!**."
   ]
  },
  {
   "cell_type": "markdown",
   "metadata": {
    "tags": []
   },
   "source": [
    "## Zenodo\n",
    "Zenodo is a great, free, permanent data archiving solution: https://about.zenodo.org/\n",
    "\n",
    "## Lab09 Zenodo record\n",
    "* https://zenodo.org/record/6302343\n",
    "* Three main files needed for the Lab09 notebooks. Original datasets from CDS are also archived.\n",
    "    * Notebook 1: 'climatology_0.25g_ea_2t.nc', '1month_anomaly_Global_ea_2t.nc'\n",
    "    * Notebook 2: 'WA_ERA5-Land_hourly_1950-2022_6hr.nc'"
   ]
  },
  {
   "cell_type": "markdown",
   "metadata": {},
   "source": [
    "## Check disk space!\n",
    "* Before running, open a terminal on the hub and run the following command `df -h ~`.  Should report something like this:\n",
    "```\n",
    "Filesystem      Size  Used Avail Use% Mounted on\n",
    "/dev/sdf         50G   41G  9.7G  81% /home/jovyan\n",
    "```\n",
    "* You will need ~4.5 GB available for these data products\n",
    "* If you don't have that, you can go back and delete some of the products from previous labs that are no longer needed, or can be easily downloaded again"
   ]
  },
  {
   "cell_type": "code",
   "execution_count": null,
   "metadata": {},
   "outputs": [
    {
     "name": "stdout",
     "output_type": "stream",
     "text": [
      "Filesystem      Size  Used Avail Use% Mounted on\n",
      "/dev/sdf         50G   37G   14G  74% /home/jovyan\n"
     ]
    }
   ],
   "source": [
    "!df -h ~"
   ]
  },
  {
   "cell_type": "code",
   "execution_count": null,
   "metadata": {},
   "outputs": [],
   "source": [
    "import os"
   ]
  },
  {
   "cell_type": "code",
   "execution_count": null,
   "metadata": {},
   "outputs": [],
   "source": [
    "outdir = 'era5_data'"
   ]
  },
  {
   "cell_type": "code",
   "execution_count": null,
   "metadata": {},
   "outputs": [],
   "source": [
    "if not os.path.exists(outdir):\n",
    "    os.makedirs(outdir)"
   ]
  },
  {
   "cell_type": "code",
   "execution_count": null,
   "metadata": {},
   "outputs": [],
   "source": [
    "base_url = 'https://zenodo.org/record/6302343/files/'"
   ]
  },
  {
   "cell_type": "code",
   "execution_count": null,
   "metadata": {},
   "outputs": [],
   "source": [
    "fn_list = ['climatology_0.25g_ea_2t.nc', '1month_anomaly_Global_ea_2t.nc', 'WA_ERA5-Land_hourly_1950-2022_6hr.nc']"
   ]
  },
  {
   "cell_type": "code",
   "execution_count": null,
   "metadata": {},
   "outputs": [],
   "source": [
    "url_list = [base_url+fn for fn in fn_list]\n",
    "#For parallel download from command line:\n",
    "#url_list_str = ' '.join(url_list)\n",
    "url_list"
   ]
  },
  {
   "cell_type": "code",
   "execution_count": null,
   "metadata": {},
   "outputs": [],
   "source": [
    "for url in url_list:\n",
    "    !wget -nc -P {outdir} {url}"
   ]
  }
 ],
 "metadata": {
  "kernelspec": {
   "display_name": "Python 3 (ipykernel)",
   "language": "python",
   "name": "python3"
  },
  "language_info": {
   "codemirror_mode": {
    "name": "ipython",
    "version": 3
   },
   "file_extension": ".py",
   "mimetype": "text/x-python",
   "name": "python",
   "nbconvert_exporter": "python",
   "pygments_lexer": "ipython3",
   "version": "3.9.7"
  }
 },
 "nbformat": 4,
 "nbformat_minor": 4
}
