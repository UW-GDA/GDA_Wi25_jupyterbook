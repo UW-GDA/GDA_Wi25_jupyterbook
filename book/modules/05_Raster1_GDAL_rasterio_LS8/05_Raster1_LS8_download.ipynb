{
 "cells": [
  {
   "cell_type": "markdown",
   "id": "dcd5fd82-c6ae-473a-b732-13bdb094fa77",
   "metadata": {},
   "source": [
    "# Demo: Landsat and Dynamic Data Access\n",
    "UW Geospatial Data Analysis  \n",
    "CEE467/CEWA567  \n",
    "David Shean  "
   ]
  },
  {
   "cell_type": "markdown",
   "id": "1b2bae57-2955-4023-8f6c-653327a925a4",
   "metadata": {},
   "source": [
    "## Introduction\n",
    "* Hopefully you've all seen or used Landsat imagery at some point in the past\n",
    "* Take a few minutes to refresh your memory: https://www.usgs.gov/land-resources/nli/landsat\n",
    "* There is a huge amount of information out there on the Landsat missions, data products, science results\n",
    "* USGS and NASA partnership"
   ]
  },
  {
   "cell_type": "markdown",
   "id": "ee5f9f05-4845-4284-b012-d433366467ee",
   "metadata": {
    "tags": []
   },
   "source": [
    "## Landsat-8\n",
    "* Landsat-8 is the mission (a satellite)\n",
    "    * Operational Land Imager (OLI) is an instrument (a camera)\n",
    "    * Thermal Infrared Sensor (TIRS) is an insitrument (also a camera, but measures thermal infrared radiation, surface temperature)\n",
    "\n",
    "Take a look at useful info here: \n",
    "* https://landsat.gsfc.nasa.gov/landsat-8/landsat-8-overview\n",
    "* https://www.usgs.gov/land-resources/nli/landsat/landsat-8"
   ]
  },
  {
   "cell_type": "markdown",
   "id": "c6957e08-84f3-4011-b9bf-3ebd97c977e6",
   "metadata": {},
   "source": [
    "### Orbit and Data collection\n",
    "Landsat 8 orbits the the Earth in a sun-synchronous, near-polar orbit, at an altitude of 705 km (438 mi), inclined at 98.2 degrees, and completes one Earth orbit every 99 minutes.  The satellite has a 16-day repeat cycle with an equatorial crossing time: 10:00 a.m. +/- 15 minutes.  \n",
    "\n",
    "Landsat 8 aquires about 740 scenes a day on the Worldwide Reference System-2 (WRS-2) path/row system, with a swath overlap (or sidelap) varying from 7 percent at the equator to a maximum of approximately 85 percent at extreme latitudes. A Landsat 8 scene size is 185 km x 180 km (114 mi x 112 mi). "
   ]
  },
  {
   "cell_type": "markdown",
   "id": "d8e2bfa0-d8dc-4c43-9e6c-a2c29f36c6af",
   "metadata": {},
   "source": [
    "### Instruments and Bands \n",
    "![LS8 band table](https://prd-wret.s3-us-west-2.amazonaws.com/assets/palladium/production/s3fs-public/styles/full_width/public/thumbnails/image/Landsat%208%20band%20designations.jpg)\n",
    "\n",
    "So, Landsat-8 sensor is the top row of colored bands in the following figure (lower rows are for older Landsat sensors):\n",
    "\n",
    "![LS8 bands](https://landsat.usgs.gov/sites/default/files/images/MSS-thru-L9-wavelengths.jpg)\n",
    "\n",
    "For comparison with previous Landsat missions: https://www.usgs.gov/faqs/what-are-band-designations-landsat-satellites?qt-news_science_products=0#qt-news_science_products"
   ]
  },
  {
   "cell_type": "markdown",
   "id": "f0ca0602-1e06-488c-bbe8-8e3dffbca9c9",
   "metadata": {},
   "source": [
    "### Dynamic Range\n",
    "* LS8 OLI provides 12-bit dynamic range, which improves signal to noise ratio.\n",
    "    * Remember, each bit is a 0 or 1.  We have 12 of them, so we have 2^12 (or 4096) unique combinations to represent brightness in the image.\n",
    "* Most data types on a computer are in multiples of bytes, which have 8 bits. For example, a typical RGB image of a cat face contains three 8-bit channels for red, green and blue values. \n",
    "* LS8 offers a considerable improvement over for the 8-bit dynamic range of Landsat 1-7. Improved signal to noise performance enables improved characterization of land cover state and condition.\n",
    "* We don't have a convenient mechanism to store 12-bit data, so the LS8 images are stored as 16-bit unsigned integers (2^16 possible values, 0-65535)\n",
    "    * The initial values (spanning 0-4095) are scaled across 55000 of the total 65535 brightness levels in the 16-bit images"
   ]
  },
  {
   "cell_type": "markdown",
   "id": "7670e143-4726-49d8-8706-64eae60e1961",
   "metadata": {},
   "source": [
    "### Image Resolution - Ground Sample Distance (GSD)\n",
    "* Panchromatic (PAN) band (band number 8) has 15 m ground sample distance (GSD)\n",
    "* Multispectral (MS) bands are 30 m GSD\n",
    "* Thermal IR are 100 m GSD, but are often oversampled to match MS bands"
   ]
  },
  {
   "cell_type": "markdown",
   "id": "a0057d55-7c85-4410-8d0d-4c7cceb654e5",
   "metadata": {},
   "source": [
    "## Landsat-8 Data Products\n",
    "The standard data products are \"Level 1\" images: they radiometrically corrected and orthorectified (terrain corrected) in the approprate UTM projection: https://www.usgs.gov/core-science-systems/nli/landsat/landsat-level-1-processing-details\n",
    "\n",
    "For more sophisticated analysis, you typically want to use higher-level, calibrated/corrected products (\"level 2\" like surface reflectance values), often considered \"Analysis Ready Data (ARD)\": https://www.usgs.gov/land-resources/nli/landsat/landsat-science-products\n",
    "\n",
    "Information about Digital Number (DN), top of atmosphere (TOA) and surface reflectance (SR): https://www.l3harrisgeospatial.com/Learn/Blogs/Blog-Details/ArtMID/10198/ArticleID/16278/Digital-Number-Radiance-and-Reflectance\n",
    "* Top of Atmosphere reflectance\n",
    "    * Formulas for conversion of DN to TOA: https://www.usgs.gov/landsat-missions/using-usgs-landsat-level-1-data-product\n",
    "* \"Surface reflectance is the amount of light reflected by the surface of the Earth. It is a ratio of surface radiance to surface irradiance, and as such is unitless, with values between 0 and 1.\"\n",
    "    * \"Surface reflectance (SR) improves comparison between multiple images over the same region by accounting for atmospheric effects such as aerosol scattering and thin clouds, which can help in the detection and characterization of Earth surface change. \"\n",
    "    * \"Landsat 8 OLI Collection 1 Surface Reflectance are generated using the Land Surface Reflectance Code (LaSRC) (version 1.4.1), which makes use of the coastal aerosol band to perform aerosol inversion tests, uses auxiliary climate data from MODIS, and uses a unique radiative transfer model.  (Vermote et al., 2016).\""
   ]
  },
  {
   "cell_type": "markdown",
   "id": "edb72ba6-921e-44bd-bcd0-1b330590e1c8",
   "metadata": {},
   "source": [
    "### Path/Row system\n",
    "* https://landsat.gsfc.nasa.gov/the-worldwide-reference-system/\n",
    "* Use descending for daytime imagery\n",
    "* Seattle and Mt. Rainier: path 46, row 27"
   ]
  },
  {
   "cell_type": "markdown",
   "id": "2bc3e202-603d-40b9-a4f3-45a4049d4db3",
   "metadata": {},
   "source": [
    "### LS8 Data availability\n",
    "USGS/NASA hosts the official Landsat products:\n",
    "* https://earthexplorer.usgs.gov/\n",
    "\n",
    "This option is great for one-off interactive data searches, but can be clunky and requires a lot of manual steps. Both Google and Amazon mirror the entire USGS archive, and provide a much more efficient API (application programming interface) to access the data.  This is especially important when you need to access 100s-1000s of images.\n",
    "\n",
    "Google:\n",
    "* https://cloud.google.com/storage/docs/public-datasets/landsat\n",
    "\n",
    "Amazon Web Services (AWS): \n",
    "* https://docs.opendata.aws/landsat-pds/readme.html\n",
    "* https://registry.opendata.aws/landsat-8/"
   ]
  },
  {
   "cell_type": "markdown",
   "id": "cc2085bb-b87b-46a1-9951-0cd896a0c218",
   "metadata": {
    "tags": []
   },
   "source": [
    "## Finding cloud-free imagery\n",
    "The process of identifying and downloading data has evolved considerably throughout the Landsat missions, and modern approaches use on-demand access to cloud-hosted archives, often without local downloads.\n",
    "* Interactive, manual approach: use EarthExplorer for visual queries: https://earthexplorer.usgs.gov/\n",
    "    * Get the image ID\n",
    "    * Can also directly download products from EarthExplorer, but pretty inefficient\n",
    "* Automated, programmatic approach: query archives from Python API or command-line, using SpatioTemporal Asset Catalog (STAC): https://landsat.stac.cloud\n",
    "* Other approaches: https://www.usgs.gov/landsat-missions/landsat-data-access\n",
    "* For now, let's use some code to download some pre-identified images for WA state to the hub.  Note that we could do all of this on the fly, but for experimentation and development, having a local copy of sample images will speed up reading."
   ]
  },
  {
   "cell_type": "code",
   "execution_count": null,
   "id": "8b58dc63-b45f-4851-8169-1248b9ed6486",
   "metadata": {},
   "outputs": [],
   "source": [
    "import os\n",
    "import urllib\n",
    "import rasterio as rio\n",
    "import rasterio.plot"
   ]
  },
  {
   "cell_type": "markdown",
   "id": "bfac18a0-6f34-409d-8a13-360f5fee5314",
   "metadata": {},
   "source": [
    "## Note that we can open an image directly from a url\n",
    "(look Ma, no downloads!)  \n",
    "Let's use the last url from our earlier download as a test"
   ]
  },
  {
   "cell_type": "code",
   "execution_count": null,
   "id": "b7c58950-8fc7-4927-8103-6ce9b22821ae",
   "metadata": {},
   "outputs": [],
   "source": [
    "image_url = 'https://storage.googleapis.com/gcp-public-data-landsat/LC08/01/046/027/LC08_L1TP_046027_20180818_20180829_01_T1/LC08_L1TP_046027_20180818_20180829_01_T1_B10.TIF'"
   ]
  },
  {
   "cell_type": "code",
   "execution_count": null,
   "id": "e904292f-7422-4946-931d-615ae9ea5c9d",
   "metadata": {},
   "outputs": [],
   "source": [
    "print(image_url)"
   ]
  },
  {
   "cell_type": "code",
   "execution_count": null,
   "id": "2052844f-8c73-426a-82ab-38b9551fd03a",
   "metadata": {},
   "outputs": [],
   "source": [
    "with rio.open(image_url) as src:\n",
    "    print(src.profile)"
   ]
  },
  {
   "cell_type": "code",
   "execution_count": null,
   "id": "ddbd02ac-252d-4046-88ac-b3c5dd85ce63",
   "metadata": {
    "tags": []
   },
   "outputs": [],
   "source": [
    "#Note that the dataset does not remain open!\n",
    "src"
   ]
  },
  {
   "cell_type": "code",
   "execution_count": null,
   "id": "40a6cb1f-08d7-430b-bd40-91f21d8231da",
   "metadata": {},
   "outputs": [],
   "source": [
    "with rio.open(image_url) as src:\n",
    "    rio.plot.show(src)"
   ]
  },
  {
   "cell_type": "markdown",
   "id": "9d5867a5-bea0-41e6-80c6-898171f3b10c",
   "metadata": {},
   "source": [
    "## Download Collection 1 Level 1 products (L1TP)\n",
    "* Terrain Precision Correction (L1TP) products\n",
    "    * \"Radiometrically calibrated and orthorectified using ground control points (GCPs) and digital elevation model (DEM) data to correct for relief displacement.\"\n",
    "    * \"scaled and calibrated digital numbers (DN). The DN’s can be scaled to absolutely calibrated radiance or reflectance values using metadata which are distributed with the product. Formulas and information on converting Level-1 data to Top-of-Atmosphere radiance, reflectance, or brightness temperature can be found on the Using the USGS Landsat Level-1 Data Product page.\"\n",
    "* See \"Landsat Level-1 Processing Levels\" https://www.usgs.gov/landsat-missions/landsat-collection-1\n",
    "* Hosted in Google Cloud with no costs for access: https://cloud.google.com/storage/docs/public-datasets/landsat\n",
    "    * Transfer rates from Google Cloud should be excellent, as we're running this Jupyterhub on a Google Cloud Platform (GCP) server\n",
    "* Notes about LS filenames: https://gisgeography.com/landsat-file-naming-convention/"
   ]
  },
  {
   "cell_type": "code",
   "execution_count": null,
   "id": "8f312464-00c5-4005-9086-f6cf4fac43b9",
   "metadata": {},
   "outputs": [],
   "source": [
    "#Create local directory to store images\n",
    "imgdir = 'LS8_sample'\n",
    "if not os.path.exists(imgdir):\n",
    "    os.makedirs(imgdir)"
   ]
  },
  {
   "cell_type": "code",
   "execution_count": null,
   "id": "db39d5cd-245f-40b4-993f-47a5dfc3079b",
   "metadata": {},
   "outputs": [],
   "source": [
    "#Use Google Cloud archive\n",
    "base_url = 'https://storage.googleapis.com/gcp-public-data-landsat/LC08/01'\n",
    "\n",
    "#Define Landsat path/row for Western Washington\n",
    "path = 46\n",
    "row = 27\n",
    "\n",
    "#Pre-identified cloud-free Image IDs for this path/row \n",
    "#Summer 2018\n",
    "img_id1 = 'LC08_L1TP_046027_20180818_20180829_01_T1'\n",
    "#Winter 2018\n",
    "img_id2 = 'LC08_L1TP_046027_20181224_20190129_01_T1'\n",
    "\n",
    "img_list = (img_id2, img_id1)\n",
    "#img_list = (img_id1,)"
   ]
  },
  {
   "cell_type": "code",
   "execution_count": null,
   "id": "e20da253-9c0f-49b3-ad7a-2f684f5f14cb",
   "metadata": {},
   "outputs": [],
   "source": [
    "#Loop through all selected images and all bands\n",
    "for img in img_list:\n",
    "    for b in range(1,12):\n",
    "        #Generate the appropriate URL for the images we identified\n",
    "        image_url =  '{0}/{1:03d}/{2:03d}/{3}/{3}_B{4}.TIF'.format(base_url, path, row, img, b)\n",
    "        print(image_url)\n",
    "        #Local filename\n",
    "        out_fn = os.path.join(imgdir, os.path.split(image_url)[-1])\n",
    "        #Check to see if file already exists\n",
    "        if not os.path.exists(out_fn):\n",
    "            print(\"Saving:\", out_fn)\n",
    "            #Download the file\n",
    "            urllib.request.urlretrieve(image_url, out_fn)"
   ]
  },
  {
   "cell_type": "markdown",
   "id": "676e7c1e-87a0-47bb-b06f-b3180e0083f1",
   "metadata": {},
   "source": [
    "## Download Collection 2 (L2) products for Surface Reflectance and Surface Temperature"
   ]
  },
  {
   "cell_type": "code",
   "execution_count": null,
   "id": "1228191e-fe43-4c43-b526-15caf8daa062",
   "metadata": {},
   "outputs": [],
   "source": [
    "#Install necessary packages\n",
    "#https://jakevdp.github.io/blog/2017/12/05/installing-python-packages-from-jupyter/\n",
    "!pip install pystac planetary_computer"
   ]
  },
  {
   "cell_type": "code",
   "execution_count": null,
   "id": "c2ada74c-6d2d-4c43-8fcc-d0d6d85d0ba3",
   "metadata": {},
   "outputs": [],
   "source": [
    "# Landsat-8 collection 2 from planetary computer\n",
    "# https://planetarycomputer.microsoft.com/dataset/landsat-8-c2-l2#Example-Notebook\n",
    "\n",
    "import pystac\n",
    "from pystac_client import Client\n",
    "import planetary_computer as pc"
   ]
  },
  {
   "cell_type": "code",
   "execution_count": null,
   "id": "1788d6c3-6906-4034-ac7e-a458ddf3d996",
   "metadata": {},
   "outputs": [],
   "source": [
    "#Subset of relevant assets available for L2 surface reflectance products\n",
    "asset_id_list = ['SR_B1', 'SR_B2', 'SR_B3', 'SR_B4', 'SR_B5', 'SR_B6', 'SR_B7', 'ST_B10', 'reduced_resolution_browse']"
   ]
  },
  {
   "cell_type": "markdown",
   "id": "65ed9dc6-f157-4b0d-b55c-c368952a5c05",
   "metadata": {},
   "source": [
    "### Catalog search with STAC\n",
    "* This should be used when you don't know image IDs up front\n",
    "* Can search with spatial and temporal limits\n",
    "* Set cell type as raw for now, since we know Image IDs"
   ]
  },
  {
   "cell_type": "raw",
   "id": "391e6685-0fdf-4c2c-bff0-031b7a349dd0",
   "metadata": {},
   "source": [
    "catalog = Client.open(\"https://planetarycomputer.microsoft.com/api/stac/v1\")\n",
    "\n",
    "bbox = [-121.8,46.8,-121.6,46.9]\n",
    "dt = '2018-08-18/2018-08-18'\n",
    "dt = '2018-12-24'\n",
    "results = catalog.search(collections=['landsat-8-c2-l2'], bbox=bbox, datetime=dt)\n",
    "\n",
    "# Check how many items were returned\n",
    "items = list(results.get_items())\n",
    "print(f\"Returned {len(items)} Items\")\n",
    "\n",
    "#This is Row 27\n",
    "item = items[1]\n",
    "#items.assets\n",
    "\n",
    "for asset_id in asset_id_list:\n",
    "    asset = item.assets[asset_id]\n",
    "    print(asset.href)\n",
    "    # NOTE: must 'sign' asset URLs before you can access them\n",
    "    signed_asset = pc.sign_asset(asset)\n",
    "    #print(signed_asset.href)\n",
    "    #Local filename\n",
    "    out_fn = os.path.join(imgdir, os.path.split(asset.href)[-1])\n",
    "    #Check to see if file already exists\n",
    "    if not os.path.exists(out_fn):\n",
    "        print(\"Saving:\", out_fn)\n",
    "        #Download the file\n",
    "        urllib.request.urlretrieve(signed_asset.href, out_fn)"
   ]
  },
  {
   "cell_type": "code",
   "execution_count": null,
   "id": "7585827a-9b7f-4f1a-8c4c-8f62280be26b",
   "metadata": {},
   "outputs": [],
   "source": [
    "#Open image on the fly\n",
    "#with rasterio.open(signed_asset.href) as src:\n",
    "#    print(src.profile)"
   ]
  },
  {
   "cell_type": "markdown",
   "id": "744ecc16-e2ea-4319-84d5-a42d2f4e4976",
   "metadata": {},
   "source": [
    "### Download assets for specific images\n",
    "* Construct url using known information\n",
    "* Using Microsoft Planetary Computer archive of Collection 2 Level 2 images\n",
    "* Requires a bit of a hack to \"sign\" urls without requiring login credentials - normally would authenticate with platform credentials (e.g., AWS) to access"
   ]
  },
  {
   "cell_type": "code",
   "execution_count": null,
   "id": "18c6ead9-bfca-4e86-8f3b-c6c2d48e8cfc",
   "metadata": {},
   "outputs": [],
   "source": [
    "#Using \n",
    "base_url = 'https://landsateuwest.blob.core.windows.net/landsat-c2/level-2/standard/oli-tirs'\n",
    "year = 2018\n",
    "path = 46\n",
    "row = 27\n",
    "img_list = ['LC08_L2SP_046027_20180818_20200831_02_T1', 'LC08_L2SP_046027_20181224_20200829_02_T1']\n",
    "\n",
    "#Quick test for evaluation of SR_B1 product\n",
    "#img = img_list[0]\n",
    "#b = 1\n",
    "#t = 'SR'\n",
    "#if b == 10:\n",
    "#    t = 'ST'\n",
    "#image_url =  f'{base_url}/{year}/{path:03d}/{row:03d}/{img}/{img}_{t}_B{b}.TIF'\n",
    "#signed_asset = pc.sign_asset(pystac.asset.Asset(image_url))\n",
    "\n",
    "#2021/045/031/LC08_L2SP_045031_20210107_20210307_02_T1/LC08_L2SP_045031_20210107_20210307_02_T1_SR_B2.TIF"
   ]
  },
  {
   "cell_type": "code",
   "execution_count": null,
   "id": "1561eda1-7e6f-4449-b627-0cd15be1f499",
   "metadata": {},
   "outputs": [],
   "source": [
    "#Loop through all selected images and all bands\n",
    "for img in img_list:\n",
    "    for asset_id in asset_id_list:\n",
    "        #Generate the appropriate URL for the images we identified\n",
    "        if asset_id == 'reduced_resolution_browse':\n",
    "            image_url =  f'{base_url}/{year}/{path:03d}/{row:03d}/{img}/{img}_thumb_large.jpeg'\n",
    "        else:\n",
    "            image_url =  f'{base_url}/{year}/{path:03d}/{row:03d}/{img}/{img}_{asset_id}.TIF'\n",
    "        print(image_url)\n",
    "        #Local filename\n",
    "        out_fn = os.path.join(imgdir, os.path.split(image_url)[-1])\n",
    "        #Check to see if file already exists\n",
    "        if not os.path.exists(out_fn):\n",
    "            signed_asset = pc.sign_asset(pystac.asset.Asset(image_url))\n",
    "            print(\"Saving:\", out_fn)\n",
    "            #Download the file\n",
    "            urllib.request.urlretrieve(signed_asset.href, out_fn)"
   ]
  },
  {
   "cell_type": "markdown",
   "id": "51480bbf-1068-4bbb-94c5-c356bd8e75f1",
   "metadata": {},
   "source": [
    "## Do a quick `ls -lh` on the local image directory\n",
    "* Note relative file sizes for the different bands of each image\n",
    "    * B8 vs B3 vs. B10\n",
    "    * Revisit the chart above - does this make sense for resolution of these bands?"
   ]
  },
  {
   "cell_type": "code",
   "execution_count": null,
   "id": "fa060c2a-0cfd-4549-9141-8e5f8c23cbb0",
   "metadata": {},
   "outputs": [],
   "source": [
    "!ls -lh $imgdir"
   ]
  },
  {
   "cell_type": "markdown",
   "id": "63905f8c-e9c1-4812-9a5d-2c039a544412",
   "metadata": {},
   "source": [
    "## Use `gdalinfo` command to get some basic information about one of the files\n",
    "* Review output with your neighbor/group\n",
    "    * 🤔 Talk about what each line means, if there is something you don't understand, ask!  Or look it up together!"
   ]
  },
  {
   "cell_type": "code",
   "execution_count": null,
   "id": "c9b9565a-f3de-451b-973e-ce8f4261b515",
   "metadata": {},
   "outputs": [],
   "source": [
    "sample_fn = os.path.join(imgdir, img+'_ST_B10.TIF')\n",
    "print(sample_fn)"
   ]
  },
  {
   "cell_type": "code",
   "execution_count": null,
   "id": "76cda9fb-4402-4057-a197-228a61738616",
   "metadata": {},
   "outputs": [],
   "source": [
    "!gdalinfo $sample_fn"
   ]
  }
 ],
 "metadata": {
  "kernelspec": {
   "display_name": "Python 3 (ipykernel)",
   "language": "python",
   "name": "python3"
  },
  "language_info": {
   "codemirror_mode": {
    "name": "ipython",
    "version": 3
   },
   "file_extension": ".py",
   "mimetype": "text/x-python",
   "name": "python",
   "nbconvert_exporter": "python",
   "pygments_lexer": "ipython3",
   "version": "3.9.7"
  }
 },
 "nbformat": 4,
 "nbformat_minor": 5
}
