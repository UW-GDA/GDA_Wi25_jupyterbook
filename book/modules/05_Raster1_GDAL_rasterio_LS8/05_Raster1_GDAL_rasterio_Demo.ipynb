{
 "cells": [
  {
   "cell_type": "markdown",
   "metadata": {},
   "source": [
    "# Demo: Raster fundamentals, Rasterio, Band Math with Arrays\n",
    "UW Geospatial Data Analysis  \n",
    "CEE467/CEWA567  \n",
    "David Shean  "
   ]
  },
  {
   "cell_type": "markdown",
   "metadata": {},
   "source": [
    "## Introduction\n",
    "See reading assignment [05_Raster1_GDAL_rasterio_LS8_prep](./05_Raster1_GDAL_rasterio_LS8_prep.md)"
   ]
  },
  {
   "cell_type": "markdown",
   "metadata": {},
   "source": [
    "## What is a raster?\n",
    "\n",
    "## Raster data sources\n",
    "* Satellite imagery\n",
    "* Gridded model output\n",
    "* Interpolated vector data"
   ]
  },
  {
   "cell_type": "markdown",
   "metadata": {},
   "source": [
    "## Raster fundamentals\n",
    "Interactive discussion during demo\n",
    "\n",
    "### Dimensions (width [columns] and height [rows] in pixels)\n",
    "### CRS (coordinate system)\n",
    "### Extent (bounds)\n",
    "### Resolution (pixel size)\n",
    "### Data type (bit depth)\n",
    "### Number of bands\n",
    "### NoData values"
   ]
  },
  {
   "cell_type": "markdown",
   "metadata": {},
   "source": [
    "## GDAL (Geospatial Data Abstraction Library) and Rasterio\n",
    "GDAL is a powerful and mature library for reading, writing and warping raster datasets, written in C++ with bindings to other languages. There are a variety of geospatial libraries available on the python package index, and almost all of them depend on GDAL. One such python library developed and supported by Mapbox, rasterio, builds on top of GDAL’s many features, but provides a more pythonic interface and supports many of the features and formats that GDAL supports. Both GDAL and rasterio are constantly being updated and improved."
   ]
  },
  {
   "cell_type": "markdown",
   "metadata": {},
   "source": [
    "## Raster formats\n",
    "* GeoTiff is most common\n",
    "* GDAL is the foundation - drivers for hundreds of formats"
   ]
  },
  {
   "cell_type": "markdown",
   "metadata": {},
   "source": [
    "## CRS and Projections\n",
    "* Most often UTM\n",
    "* PROJ is the foundation (as with GeoPandas)"
   ]
  },
  {
   "cell_type": "markdown",
   "metadata": {},
   "source": [
    "## Raster transformations\n",
    "\n",
    "### Sensor to raster image\n",
    "* Simple example of a 2D CCD/CMOS detector in a simple camera (e.g., Planet Dove)\n",
    "* Snapshot of the Earth\n",
    "* Sensor model allows you to relate each pixel in the image to a geographic location on the ground\n",
    "* Existing DEM to produce an orthorectified image in some projected coordinate system\n",
    "* That's where we start\n",
    "\n",
    "### Raster image (lines, samples) to projected coordinates\n",
    "* Need a way to relate from pixel coordinates (2D rectangular image on your screen) to real-world coordinates (projected)\n",
    "    * Pixel coordinates: image width, height in units of pixels, starting at (0,0)\n",
    "    * Real-world coordiantes: projected coordinate system (e.g., UTM 10N), units of meters\n",
    "* Origin is usually upper left corner of upper left pixel\n",
    "    * Careful about this - you will definitely run into this problem at some point\n",
    "    * Often your grid may be shifted by a half a pixel in x and y\n",
    "* Negative y cell size - what's up with that?\n",
    "\n",
    "### GDAL/ESRI affine\n",
    "\n",
    "### rasterio affine\n",
    "* Multiply affine by raster indices to get projected coordinates\n",
    "* Rasterio dataset `xy` and `index` methods"
   ]
  },
  {
   "cell_type": "markdown",
   "metadata": {
    "tags": []
   },
   "source": [
    "## Basic raster structure\n",
    "* Dataset\n",
    "* Bands\n",
    "    * Often just 1 band, sometimes multiple bands (new axis)\n",
    "* Read band to get underlying 2D array data\n",
    "    * Handling missing data (nodata) - masked arrays vs. np.nan"
   ]
  },
  {
   "cell_type": "markdown",
   "metadata": {},
   "source": [
    "### Overviews"
   ]
  },
  {
   "cell_type": "markdown",
   "metadata": {},
   "source": [
    "## 3D array to create composites from multispectral bands\n",
    "* Can dstack 2D arrays"
   ]
  },
  {
   "cell_type": "markdown",
   "metadata": {},
   "source": [
    "## Misc\n",
    "* Be careful with large rasters, esp float - don't load into memory\n",
    "* Read in a window or every nth pixel when prototyping. Only read in full res when ready.\n",
    "* Try to avoid creating many copies of arrays"
   ]
  },
  {
   "cell_type": "markdown",
   "metadata": {},
   "source": [
    "## GDAL command line utilities\n",
    "\n",
    "* Learn these: https://gdal.org/programs/index.html\n",
    "    * gdalinfo\n",
    "    * gdal_translate\n",
    "    * gdalwarp\n",
    "    * gdaladdo\n",
    "* Items to discuss\n",
    "    * Use standard creation options (co)\n",
    "        * TILED=YES\n",
    "        * COMPRESS=LZW\n",
    "        * BIGTIFF=IF_SAFER\n",
    "    * Resampling algorithms\n",
    "        * Default is nearest\n",
    "        * Often bilinear or bicubic is a better choice for reprojecting, upsampling, downsampling\n",
    "\n",
    "https://medium.com/planet-stories/a-gentle-introduction-to-gdal-part-4-working-with-satellite-data-d3835b5e2971"
   ]
  },
  {
   "cell_type": "markdown",
   "metadata": {},
   "source": [
    "# Demo"
   ]
  },
  {
   "cell_type": "markdown",
   "metadata": {},
   "source": [
    "https://automating-gis-processes.github.io/site/notebooks/Raster/reading-raster.html"
   ]
  },
  {
   "cell_type": "code",
   "execution_count": null,
   "metadata": {},
   "outputs": [],
   "source": [
    "pwd"
   ]
  },
  {
   "cell_type": "code",
   "execution_count": null,
   "metadata": {},
   "outputs": [],
   "source": [
    "import os\n",
    "import numpy as np\n",
    "import matplotlib.pyplot as plt\n",
    "\n",
    "import rasterio as rio\n",
    "import rasterio.plot\n",
    "from osgeo import gdal\n",
    "\n",
    "#Useful package to add dynamic scalebar to matplotlib images\n",
    "from matplotlib_scalebar.scalebar import ScaleBar"
   ]
  },
  {
   "cell_type": "code",
   "execution_count": null,
   "metadata": {},
   "outputs": [],
   "source": [
    "#We want to use interactive plotting for zoom/pan and live coordinate display\n",
    "#matplotlib widget\n",
    "%matplotlib inline"
   ]
  },
  {
   "cell_type": "code",
   "execution_count": null,
   "metadata": {},
   "outputs": [],
   "source": [
    "#Create local directory to store images\n",
    "imgdir = 'LS8_sample'\n",
    "\n",
    "#Pre-identified cloud-free Image IDs used for the lab\n",
    "#Summer 2018\n",
    "img_id1 = 'LC08_L2SP_046027_20180818_20200831_02_T1'\n",
    "#Winter 2018\n",
    "img_id2 = 'LC08_L2SP_046027_20181224_20200829_02_T1'\n",
    "\n",
    "img = img_id1"
   ]
  },
  {
   "cell_type": "markdown",
   "metadata": {},
   "source": [
    "## Specify filenames for specific bands used for later examples"
   ]
  },
  {
   "cell_type": "code",
   "execution_count": null,
   "metadata": {},
   "outputs": [],
   "source": [
    "#Specify filenames for different bands we will need for the lab\n",
    "#Check table from background section to see wavelengths of each band number\n",
    "\n",
    "#Red\n",
    "r_fn = os.path.join(imgdir, img+'_SR_B4.TIF')\n",
    "#Green\n",
    "g_fn = os.path.join(imgdir, img+'_SR_B3.TIF')\n",
    "#Blue\n",
    "b_fn = os.path.join(imgdir, img+'_SR_B2.TIF')\n",
    "#Near-Infrared\n",
    "nir_fn = os.path.join(imgdir, img+'_SR_B5.TIF')\n",
    "#Shortwave-Infrared\n",
    "swir_fn = os.path.join(imgdir, img+'_SR_B6.TIF')\n",
    "#Panchromatic\n",
    "p_fn = os.path.join(imgdir, img+'_SR_B8.TIF')"
   ]
  },
  {
   "cell_type": "code",
   "execution_count": null,
   "metadata": {},
   "outputs": [],
   "source": [
    "#Specify filenames for different bands we will need for the lab\n",
    "#Check table from background section to see wavelengths of each band number\n",
    "tir_fn = os.path.join(imgdir, img+'_ST_B10.TIF')\n",
    "print(tir_fn)"
   ]
  },
  {
   "cell_type": "code",
   "execution_count": null,
   "metadata": {},
   "outputs": [],
   "source": [
    "!gdalinfo $tir_fn"
   ]
  },
  {
   "cell_type": "markdown",
   "metadata": {},
   "source": [
    "# Rasterio basics\n",
    "* We'll stick with rasterio for most of our Python raster analysis \n",
    "* https://rasterio.readthedocs.io/en/stable/quickstart.html"
   ]
  },
  {
   "cell_type": "markdown",
   "metadata": {},
   "source": [
    "## Use a Python `with` construct to cleanly open, inspect, and close the file directly from the url\n",
    "* The Python `with` construct may be new, or maybe you used it during Lab02 when opening a text file for reading/writing.\n",
    "* It is \"used in exception handling to make the code cleaner and much more readable. It simplifies the management of common resources like file streams.\"\n",
    "    * Enables more elegant file opening/closing and handling errors (like missing files)\n",
    "* Let's use the `with rio.open()` approach to print out the rasterio dataset profile, without actually reading the underlying image data\n",
    "    * We will temporarily store the rasterio dataset with variable name `src` (short for \"source\")"
   ]
  },
  {
   "cell_type": "code",
   "execution_count": null,
   "metadata": {},
   "outputs": [],
   "source": [
    "with rio.open(tir_fn) as src:\n",
    "    print(src.profile)"
   ]
  },
  {
   "cell_type": "markdown",
   "metadata": {},
   "source": [
    "## Can also open dataset with rasterio for persistence and interactive access\n",
    "* This is likely a better option as you're learning, as you can access the opened dataset and arrays you've already read in other cells\n",
    "* Remember to close the rasterio dataset when no longer needed!"
   ]
  },
  {
   "cell_type": "code",
   "execution_count": null,
   "metadata": {},
   "outputs": [],
   "source": [
    "src = rio.open(tir_fn)"
   ]
  },
  {
   "cell_type": "code",
   "execution_count": null,
   "metadata": {},
   "outputs": [],
   "source": [
    "#Notes on attemting to apply scale and offset dynamically\n",
    "#mode='r+', scales=(st_scale,), offsets=(st_offset,), mask_and_scale=True\n",
    "#src.scales = (st_scale,)\n",
    "#src.offsets = (st_offset,)\n",
    "#src.scales, src.offsets"
   ]
  },
  {
   "cell_type": "code",
   "execution_count": null,
   "metadata": {},
   "outputs": [],
   "source": [
    "type(src)"
   ]
  },
  {
   "cell_type": "code",
   "execution_count": null,
   "metadata": {},
   "outputs": [],
   "source": [
    "src.profile"
   ]
  },
  {
   "cell_type": "code",
   "execution_count": null,
   "metadata": {},
   "outputs": [],
   "source": [
    "src.meta"
   ]
  },
  {
   "cell_type": "code",
   "execution_count": null,
   "metadata": {},
   "outputs": [],
   "source": [
    "src.crs"
   ]
  },
  {
   "cell_type": "markdown",
   "metadata": {
    "tags": []
   },
   "source": [
    "### Plot using rasterio `show()` function\n",
    "* Note axes tick labels"
   ]
  },
  {
   "cell_type": "code",
   "execution_count": null,
   "metadata": {},
   "outputs": [],
   "source": [
    "rio.plot.show(src);"
   ]
  },
  {
   "cell_type": "markdown",
   "metadata": {},
   "source": [
    "### Read the array"
   ]
  },
  {
   "cell_type": "code",
   "execution_count": null,
   "metadata": {
    "tags": []
   },
   "outputs": [],
   "source": [
    "#src.read?"
   ]
  },
  {
   "cell_type": "code",
   "execution_count": null,
   "metadata": {},
   "outputs": [],
   "source": [
    "#Note memory usage before and after reading\n",
    "%time\n",
    "a = src.read(1)"
   ]
  },
  {
   "cell_type": "code",
   "execution_count": null,
   "metadata": {},
   "outputs": [],
   "source": [
    "a"
   ]
  },
  {
   "cell_type": "markdown",
   "metadata": {},
   "source": [
    "### Plot using Matplotlib `imshow`\n",
    "* Note axes tick labels"
   ]
  },
  {
   "cell_type": "code",
   "execution_count": null,
   "metadata": {},
   "outputs": [],
   "source": [
    "f,ax = plt.subplots()\n",
    "ax.imshow(a);"
   ]
  },
  {
   "cell_type": "markdown",
   "metadata": {},
   "source": [
    "## Inspect the array"
   ]
  },
  {
   "cell_type": "code",
   "execution_count": null,
   "metadata": {},
   "outputs": [],
   "source": [
    "a.shape"
   ]
  },
  {
   "cell_type": "code",
   "execution_count": null,
   "metadata": {},
   "outputs": [],
   "source": [
    "a.size"
   ]
  },
  {
   "cell_type": "code",
   "execution_count": null,
   "metadata": {},
   "outputs": [],
   "source": [
    "a.dtype"
   ]
  },
  {
   "cell_type": "code",
   "execution_count": null,
   "metadata": {},
   "outputs": [],
   "source": [
    "a.min()"
   ]
  },
  {
   "cell_type": "code",
   "execution_count": null,
   "metadata": {},
   "outputs": [],
   "source": [
    "a.max()"
   ]
  },
  {
   "cell_type": "code",
   "execution_count": null,
   "metadata": {},
   "outputs": [],
   "source": [
    "2**16"
   ]
  },
  {
   "cell_type": "code",
   "execution_count": null,
   "metadata": {},
   "outputs": [],
   "source": [
    "a"
   ]
  },
  {
   "cell_type": "code",
   "execution_count": null,
   "metadata": {},
   "outputs": [],
   "source": [
    "a.ravel()"
   ]
  },
  {
   "cell_type": "code",
   "execution_count": null,
   "metadata": {},
   "outputs": [],
   "source": [
    "f, ax = plt.subplots()\n",
    "plt.hist(a.ravel(), bins=128);"
   ]
  },
  {
   "cell_type": "markdown",
   "metadata": {},
   "source": [
    "## Image bit depth\n",
    "Number of possible intensity values"
   ]
  },
  {
   "cell_type": "code",
   "execution_count": null,
   "metadata": {},
   "outputs": [],
   "source": [
    "#Landsat-8 OLI is 12-bit sensor\n",
    "2**12"
   ]
  },
  {
   "cell_type": "code",
   "execution_count": null,
   "metadata": {},
   "outputs": [],
   "source": [
    "2**16"
   ]
  },
  {
   "cell_type": "markdown",
   "metadata": {},
   "source": [
    "## Use a masked array to handle nodata"
   ]
  },
  {
   "cell_type": "code",
   "execution_count": null,
   "metadata": {},
   "outputs": [],
   "source": [
    "src.nodata"
   ]
  },
  {
   "cell_type": "code",
   "execution_count": null,
   "metadata": {},
   "outputs": [],
   "source": [
    "src.nodatavals"
   ]
  },
  {
   "cell_type": "code",
   "execution_count": null,
   "metadata": {},
   "outputs": [],
   "source": [
    "#If nodata is defined, rasterio can created masked array on the fly\n",
    "a = src.read(1, masked=True)"
   ]
  },
  {
   "cell_type": "code",
   "execution_count": null,
   "metadata": {},
   "outputs": [],
   "source": [
    "a"
   ]
  },
  {
   "cell_type": "code",
   "execution_count": null,
   "metadata": {},
   "outputs": [],
   "source": [
    "np.ma.masked_equal?"
   ]
  },
  {
   "cell_type": "code",
   "execution_count": null,
   "metadata": {},
   "outputs": [],
   "source": [
    "np.ma.masked_equal(a, 0)"
   ]
  },
  {
   "cell_type": "code",
   "execution_count": null,
   "metadata": {},
   "outputs": [],
   "source": [
    "a = np.ma.masked_equal(a, 0)"
   ]
  },
  {
   "cell_type": "code",
   "execution_count": null,
   "metadata": {},
   "outputs": [],
   "source": [
    "f, ax = plt.subplots()\n",
    "plt.imshow(a);"
   ]
  },
  {
   "cell_type": "code",
   "execution_count": null,
   "metadata": {},
   "outputs": [],
   "source": [
    "f, ax = plt.subplots()\n",
    "plt.hist(a.ravel(), bins=128);"
   ]
  },
  {
   "cell_type": "markdown",
   "metadata": {},
   "source": [
    "## Scaling 16-bit values to surface reflectance/temperature\n",
    "* See conversion factors here: https://www.usgs.gov/landsat-missions/landsat-collection-2-level-2-science-products\n",
    "* https://www.usgs.gov/faqs/how-do-i-use-scale-factor-landsat-level-2-science-products\n",
    "\n",
    "### Surface reflectance values from 0.0 to 1.0\n",
    "### Surface temperature values in Kelvin"
   ]
  },
  {
   "cell_type": "code",
   "execution_count": null,
   "metadata": {},
   "outputs": [],
   "source": [
    "#SR 0.0000275 + -0.2\n",
    "sr_scale = 0.0000275\n",
    "sr_offset = -0.2\n",
    "#ST 0.00341802 + 149.0\n",
    "st_scale = 0.00341802\n",
    "st_offset = 149.0"
   ]
  },
  {
   "cell_type": "code",
   "execution_count": null,
   "metadata": {},
   "outputs": [],
   "source": [
    "a_st = a * st_scale + st_offset"
   ]
  },
  {
   "cell_type": "code",
   "execution_count": null,
   "metadata": {},
   "outputs": [],
   "source": [
    "a_st.dtype"
   ]
  },
  {
   "cell_type": "code",
   "execution_count": null,
   "metadata": {},
   "outputs": [],
   "source": [
    "#Float16 should provide enough precision for these data\n",
    "a_st.astype('float16')"
   ]
  },
  {
   "cell_type": "code",
   "execution_count": null,
   "metadata": {},
   "outputs": [],
   "source": [
    "f, ax = plt.subplots()\n",
    "plt.hist(a_st.ravel(), bins=128);"
   ]
  },
  {
   "cell_type": "code",
   "execution_count": null,
   "metadata": {},
   "outputs": [],
   "source": [
    "a_st -= 273"
   ]
  },
  {
   "cell_type": "code",
   "execution_count": null,
   "metadata": {},
   "outputs": [],
   "source": [
    "f, ax = plt.subplots()\n",
    "plt.hist(a_st.compressed(), bins=128);"
   ]
  },
  {
   "cell_type": "markdown",
   "metadata": {},
   "source": [
    "### Bounds and extent"
   ]
  },
  {
   "cell_type": "code",
   "execution_count": null,
   "metadata": {},
   "outputs": [],
   "source": [
    "#This is rasterio bounds object - note labels like dictionary keys and values\n",
    "src.bounds"
   ]
  },
  {
   "cell_type": "code",
   "execution_count": null,
   "metadata": {},
   "outputs": [],
   "source": [
    "#This is matplotlib extent\n",
    "full_extent = [src.bounds.left, src.bounds.right, src.bounds.bottom, src.bounds.top]\n",
    "print(full_extent)"
   ]
  },
  {
   "cell_type": "code",
   "execution_count": null,
   "metadata": {},
   "outputs": [],
   "source": [
    "#rasterio convenience function\n",
    "full_extent = rio.plot.plotting_extent(src)\n",
    "print(full_extent)"
   ]
  },
  {
   "cell_type": "markdown",
   "metadata": {},
   "source": [
    "### Plot the image with `imshow`, but now pass in this `extent` as an argument\n",
    "* Note how the axes coordinates change\n",
    "    * These should now be meters in the UTM 10N coordinate system of the projected image!"
   ]
  },
  {
   "cell_type": "code",
   "execution_count": null,
   "metadata": {},
   "outputs": [],
   "source": [
    "f, axa = plt.subplots(1,2, figsize=(10,6))\n",
    "axa[0].imshow(a, cmap='gray') #vmin=0, vmax=1\n",
    "axa[0].set_title(\"Array coordinates\")\n",
    "axa[1].imshow(a, extent=full_extent, cmap='gray') #vmin=0, vmax=1\n",
    "axa[1].set_title(\"Projected coordinates\")\n",
    "plt.tight_layout()"
   ]
  },
  {
   "cell_type": "markdown",
   "metadata": {},
   "source": [
    "## Raster transform\n",
    "* How does rasterio know the bounds of the array?\n",
    "* Inspect the dataset `transform` attribute\n",
    "* You may have encountered an ESRI \"world file\" or GDAL geotransform before. This is the same idea, but Rasterio's model uses traditional affine transform.\n",
    "* Review this: https://rasterio.readthedocs.io/en/stable/topics/georeferencing.html?highlight=affine#coordinate-transformation"
   ]
  },
  {
   "cell_type": "code",
   "execution_count": null,
   "metadata": {},
   "outputs": [],
   "source": [
    "src.transform"
   ]
  },
  {
   "cell_type": "code",
   "execution_count": null,
   "metadata": {},
   "outputs": [],
   "source": [
    "#These are (x,y) for corners in pixel space\n",
    "#A bit confusing due to (row,col) of shape, which is (y,x)\n",
    "\n",
    "#Upper left\n",
    "ul = (0, 0)\n",
    "#Lower right\n",
    "lr = (a_st.shape[1], a_st.shape[0])"
   ]
  },
  {
   "cell_type": "code",
   "execution_count": null,
   "metadata": {},
   "outputs": [],
   "source": [
    "#Transform upper left corner\n",
    "ul_proj = src.transform * ul\n",
    "ul_proj"
   ]
  },
  {
   "cell_type": "code",
   "execution_count": null,
   "metadata": {},
   "outputs": [],
   "source": [
    "#Transform lower right corner\n",
    "lr_proj = src.transform * lr\n",
    "lr_proj"
   ]
  },
  {
   "cell_type": "code",
   "execution_count": null,
   "metadata": {},
   "outputs": [],
   "source": [
    "wh_km = np.abs(np.array(ul_proj) - np.array(lr_proj))/1000\n",
    "wh_km\n",
    "print('Total width: %0.2f km\\nTotal height: %0.2f km' % (wh_km[0], wh_km[1]))"
   ]
  },
  {
   "cell_type": "markdown",
   "metadata": {},
   "source": [
    "## Raster and array sampling\n",
    "* Use helper functions `xy` and `sample`"
   ]
  },
  {
   "cell_type": "code",
   "execution_count": null,
   "metadata": {},
   "outputs": [],
   "source": [
    "#Array coordinates\n",
    "c = (3512, 3512)"
   ]
  },
  {
   "cell_type": "code",
   "execution_count": null,
   "metadata": {},
   "outputs": [],
   "source": [
    "a_st[3000,3000]"
   ]
  },
  {
   "cell_type": "code",
   "execution_count": null,
   "metadata": {},
   "outputs": [],
   "source": [
    "#Get value at coordinates using array indexing\n",
    "a_st[c[0], c[1]]"
   ]
  },
  {
   "cell_type": "code",
   "execution_count": null,
   "metadata": {},
   "outputs": [],
   "source": [
    "#src.xy?"
   ]
  },
  {
   "cell_type": "code",
   "execution_count": null,
   "metadata": {},
   "outputs": [],
   "source": [
    "#Note use of argument expansion here (*c) so we don't have to pass individual c[0] and c[1] values\n",
    "x,y = src.xy(*c)\n",
    "print(x,y)"
   ]
  },
  {
   "cell_type": "code",
   "execution_count": null,
   "metadata": {},
   "outputs": [],
   "source": [
    "#src.sample?"
   ]
  },
  {
   "cell_type": "code",
   "execution_count": null,
   "metadata": {},
   "outputs": [],
   "source": [
    "src.sample(x, y)"
   ]
  },
  {
   "cell_type": "code",
   "execution_count": null,
   "metadata": {},
   "outputs": [],
   "source": [
    "#Doesn't work\n",
    "#list(src.sample(x, y))"
   ]
  },
  {
   "cell_type": "code",
   "execution_count": null,
   "metadata": {},
   "outputs": [],
   "source": [
    "src.sample([(x, y),])"
   ]
  },
  {
   "cell_type": "code",
   "execution_count": null,
   "metadata": {},
   "outputs": [],
   "source": [
    "#Pass in a list, and evaluate the generator\n",
    "list(src.sample([(x, y),]))"
   ]
  },
  {
   "cell_type": "markdown",
   "metadata": {},
   "source": [
    "## Windowing and indexing"
   ]
  },
  {
   "cell_type": "code",
   "execution_count": null,
   "metadata": {},
   "outputs": [],
   "source": [
    "chunk = a_st[3000:4024,3000:4024]\n",
    "chunk"
   ]
  },
  {
   "cell_type": "code",
   "execution_count": null,
   "metadata": {},
   "outputs": [],
   "source": [
    "f, ax = plt.subplots()\n",
    "plt.imshow(chunk)"
   ]
  },
  {
   "cell_type": "markdown",
   "metadata": {},
   "source": [
    "### Store a reduced resolution view (1 pixel for every 100 original pixels)"
   ]
  },
  {
   "cell_type": "code",
   "execution_count": null,
   "metadata": {},
   "outputs": [],
   "source": [
    "asub = a_st[::10, ::10]\n",
    "asub"
   ]
  },
  {
   "cell_type": "code",
   "execution_count": null,
   "metadata": {},
   "outputs": [],
   "source": [
    "asub.shape"
   ]
  },
  {
   "cell_type": "code",
   "execution_count": null,
   "metadata": {},
   "outputs": [],
   "source": [
    "#Every 10th pixel - great strategy for quick visualization during development/exploration\n",
    "f, ax = plt.subplots()\n",
    "plt.imshow(asub);"
   ]
  },
  {
   "cell_type": "markdown",
   "metadata": {},
   "source": [
    "## Raster math"
   ]
  },
  {
   "cell_type": "code",
   "execution_count": null,
   "metadata": {},
   "outputs": [],
   "source": [
    "#%matplotlib widget"
   ]
  },
  {
   "cell_type": "code",
   "execution_count": null,
   "metadata": {},
   "outputs": [],
   "source": [
    "#Remember to use compressed for historgrams with 2D masked arrays\n",
    "f, ax = plt.subplots()\n",
    "plt.hist(asub.compressed(), bins=128);"
   ]
  },
  {
   "cell_type": "code",
   "execution_count": null,
   "metadata": {},
   "outputs": [],
   "source": [
    "t_thresh = 18"
   ]
  },
  {
   "cell_type": "code",
   "execution_count": null,
   "metadata": {},
   "outputs": [],
   "source": [
    "asub < t_thresh"
   ]
  },
  {
   "cell_type": "code",
   "execution_count": null,
   "metadata": {},
   "outputs": [],
   "source": [
    "f, ax = plt.subplots()\n",
    "plt.imshow(asub <= t_thresh);"
   ]
  },
  {
   "cell_type": "code",
   "execution_count": null,
   "metadata": {},
   "outputs": [],
   "source": [
    "plt.imshow(asub <= t_thresh, interpolation='none');"
   ]
  },
  {
   "cell_type": "markdown",
   "metadata": {},
   "source": [
    "## Calculating area"
   ]
  },
  {
   "cell_type": "code",
   "execution_count": null,
   "metadata": {},
   "outputs": [],
   "source": [
    "(asub <= t_thresh).sum()"
   ]
  },
  {
   "cell_type": "code",
   "execution_count": null,
   "metadata": {},
   "outputs": [],
   "source": [
    "src.res"
   ]
  },
  {
   "cell_type": "markdown",
   "metadata": {},
   "source": [
    "## Cleanup and memory management"
   ]
  },
  {
   "cell_type": "code",
   "execution_count": null,
   "metadata": {},
   "outputs": [],
   "source": [
    "#Delete array from memory\n",
    "asub = None\n",
    "a = None\n",
    "a_st = None\n",
    "#Close the rasterio dataset\n",
    "src.close()"
   ]
  },
  {
   "cell_type": "markdown",
   "metadata": {},
   "source": [
    "## GDAL Python API basics\n",
    "* I'm including this for reference\n",
    "    * It's not that complicated, even though rasterio is the more popular option for Python these days (partly because of much better documentation)\n",
    "* https://gdal.org/user/raster_data_model.html\n",
    "* https://github.com/OSGeo/gdal/tree/master/gdal/swig/python/samples\n",
    "* https://pcjericks.github.io/py-gdalogr-cookbook/index.html"
   ]
  },
  {
   "cell_type": "code",
   "execution_count": null,
   "metadata": {},
   "outputs": [],
   "source": [
    "#Open the green band GeoTiff as GDAL Dataset object\n",
    "ds = gdal.Open(tir_fn)"
   ]
  },
  {
   "cell_type": "code",
   "execution_count": null,
   "metadata": {},
   "outputs": [],
   "source": [
    "#Get the raster band\n",
    "gdal_b = ds.GetRasterBand(1)\n",
    "#Read into array\n",
    "a = gdal_b.ReadAsArray()"
   ]
  },
  {
   "cell_type": "code",
   "execution_count": null,
   "metadata": {},
   "outputs": [],
   "source": [
    "#Inspect the array\n",
    "a"
   ]
  },
  {
   "cell_type": "code",
   "execution_count": null,
   "metadata": {},
   "outputs": [],
   "source": [
    "#View the array\n",
    "f, ax = plt.subplots()\n",
    "ax.imshow(a);"
   ]
  },
  {
   "cell_type": "code",
   "execution_count": null,
   "metadata": {},
   "outputs": [],
   "source": [
    "#Set array to None (frees up RAM) and close GDAL dataset\n",
    "a = None\n",
    "ds = None"
   ]
  }
 ],
 "metadata": {
  "kernelspec": {
   "display_name": "Python 3 (ipykernel)",
   "language": "python",
   "name": "python3"
  },
  "language_info": {
   "codemirror_mode": {
    "name": "ipython",
    "version": 3
   },
   "file_extension": ".py",
   "mimetype": "text/x-python",
   "name": "python",
   "nbconvert_exporter": "python",
   "pygments_lexer": "ipython3",
   "version": "3.10.8"
  }
 },
 "nbformat": 4,
 "nbformat_minor": 4
}
